{
  "nbformat": 4,
  "nbformat_minor": 0,
  "metadata": {
    "colab": {
      "provenance": [],
      "collapsed_sections": [
        "T0y38bjmOOw-",
        "kjG3M7NvUcxK",
        "nMD3iv5t9zcz",
        "dkdFSLAYbBno",
        "w4lvABlhbITv",
        "9Upc8UHn0S9A",
        "8yoS4zoooCOB",
        "p3jsJxqZfYOE",
        "_JrGMBciaVjj",
        "NRCHVv-A0F9L",
        "aW6eaX76whlo",
        "IH10fC1T2yeL"
      ],
      "gpuType": "T4",
      "authorship_tag": "ABX9TyP2r8/PcjZ6bejxl9bTN8uB",
      "include_colab_link": true
    },
    "kernelspec": {
      "name": "python3",
      "display_name": "Python 3"
    },
    "language_info": {
      "name": "python"
    },
    "accelerator": "GPU",
    "widgets": {
      "application/vnd.jupyter.widget-state+json": {
        "db69f300244f43aeb4127beff10013f3": {
          "model_module": "@jupyter-widgets/controls",
          "model_name": "HBoxModel",
          "model_module_version": "1.5.0",
          "state": {
            "_dom_classes": [],
            "_model_module": "@jupyter-widgets/controls",
            "_model_module_version": "1.5.0",
            "_model_name": "HBoxModel",
            "_view_count": null,
            "_view_module": "@jupyter-widgets/controls",
            "_view_module_version": "1.5.0",
            "_view_name": "HBoxView",
            "box_style": "",
            "children": [
              "IPY_MODEL_a8f3ec165a43420f832ad3a3a2d2144d",
              "IPY_MODEL_2baac1fc5a674edb93ef6d6e4ccb5945",
              "IPY_MODEL_4d13e19574e9432f915b729497f18391"
            ],
            "layout": "IPY_MODEL_8b7687ca45514c0fb3d7f236048ff59b"
          }
        },
        "a8f3ec165a43420f832ad3a3a2d2144d": {
          "model_module": "@jupyter-widgets/controls",
          "model_name": "HTMLModel",
          "model_module_version": "1.5.0",
          "state": {
            "_dom_classes": [],
            "_model_module": "@jupyter-widgets/controls",
            "_model_module_version": "1.5.0",
            "_model_name": "HTMLModel",
            "_view_count": null,
            "_view_module": "@jupyter-widgets/controls",
            "_view_module_version": "1.5.0",
            "_view_name": "HTMLView",
            "description": "",
            "description_tooltip": null,
            "layout": "IPY_MODEL_66af552f270d414ebf3808dac8f516b2",
            "placeholder": "​",
            "style": "IPY_MODEL_53bfd735e93b4eb0a90b57aec6d0bc50",
            "value": "Dl Completed...: 100%"
          }
        },
        "2baac1fc5a674edb93ef6d6e4ccb5945": {
          "model_module": "@jupyter-widgets/controls",
          "model_name": "FloatProgressModel",
          "model_module_version": "1.5.0",
          "state": {
            "_dom_classes": [],
            "_model_module": "@jupyter-widgets/controls",
            "_model_module_version": "1.5.0",
            "_model_name": "FloatProgressModel",
            "_view_count": null,
            "_view_module": "@jupyter-widgets/controls",
            "_view_module_version": "1.5.0",
            "_view_name": "ProgressView",
            "bar_style": "success",
            "description": "",
            "description_tooltip": null,
            "layout": "IPY_MODEL_3b72d8564edd411b98e89bfd9aa428eb",
            "max": 1,
            "min": 0,
            "orientation": "horizontal",
            "style": "IPY_MODEL_4a47636f8ed344f8b1a039be111df274",
            "value": 1
          }
        },
        "4d13e19574e9432f915b729497f18391": {
          "model_module": "@jupyter-widgets/controls",
          "model_name": "HTMLModel",
          "model_module_version": "1.5.0",
          "state": {
            "_dom_classes": [],
            "_model_module": "@jupyter-widgets/controls",
            "_model_module_version": "1.5.0",
            "_model_name": "HTMLModel",
            "_view_count": null,
            "_view_module": "@jupyter-widgets/controls",
            "_view_module_version": "1.5.0",
            "_view_name": "HTMLView",
            "description": "",
            "description_tooltip": null,
            "layout": "IPY_MODEL_0bf6e5ccc3d94740b643c24929544b9e",
            "placeholder": "​",
            "style": "IPY_MODEL_1fa09fe7399e4c0181c9b4a05a189e05",
            "value": " 4/4 [00:03&lt;00:00,  1.15 url/s]"
          }
        },
        "8b7687ca45514c0fb3d7f236048ff59b": {
          "model_module": "@jupyter-widgets/base",
          "model_name": "LayoutModel",
          "model_module_version": "1.2.0",
          "state": {
            "_model_module": "@jupyter-widgets/base",
            "_model_module_version": "1.2.0",
            "_model_name": "LayoutModel",
            "_view_count": null,
            "_view_module": "@jupyter-widgets/base",
            "_view_module_version": "1.2.0",
            "_view_name": "LayoutView",
            "align_content": null,
            "align_items": null,
            "align_self": null,
            "border": null,
            "bottom": null,
            "display": null,
            "flex": null,
            "flex_flow": null,
            "grid_area": null,
            "grid_auto_columns": null,
            "grid_auto_flow": null,
            "grid_auto_rows": null,
            "grid_column": null,
            "grid_gap": null,
            "grid_row": null,
            "grid_template_areas": null,
            "grid_template_columns": null,
            "grid_template_rows": null,
            "height": null,
            "justify_content": null,
            "justify_items": null,
            "left": null,
            "margin": null,
            "max_height": null,
            "max_width": null,
            "min_height": null,
            "min_width": null,
            "object_fit": null,
            "object_position": null,
            "order": null,
            "overflow": null,
            "overflow_x": null,
            "overflow_y": null,
            "padding": null,
            "right": null,
            "top": null,
            "visibility": null,
            "width": null
          }
        },
        "66af552f270d414ebf3808dac8f516b2": {
          "model_module": "@jupyter-widgets/base",
          "model_name": "LayoutModel",
          "model_module_version": "1.2.0",
          "state": {
            "_model_module": "@jupyter-widgets/base",
            "_model_module_version": "1.2.0",
            "_model_name": "LayoutModel",
            "_view_count": null,
            "_view_module": "@jupyter-widgets/base",
            "_view_module_version": "1.2.0",
            "_view_name": "LayoutView",
            "align_content": null,
            "align_items": null,
            "align_self": null,
            "border": null,
            "bottom": null,
            "display": null,
            "flex": null,
            "flex_flow": null,
            "grid_area": null,
            "grid_auto_columns": null,
            "grid_auto_flow": null,
            "grid_auto_rows": null,
            "grid_column": null,
            "grid_gap": null,
            "grid_row": null,
            "grid_template_areas": null,
            "grid_template_columns": null,
            "grid_template_rows": null,
            "height": null,
            "justify_content": null,
            "justify_items": null,
            "left": null,
            "margin": null,
            "max_height": null,
            "max_width": null,
            "min_height": null,
            "min_width": null,
            "object_fit": null,
            "object_position": null,
            "order": null,
            "overflow": null,
            "overflow_x": null,
            "overflow_y": null,
            "padding": null,
            "right": null,
            "top": null,
            "visibility": null,
            "width": null
          }
        },
        "53bfd735e93b4eb0a90b57aec6d0bc50": {
          "model_module": "@jupyter-widgets/controls",
          "model_name": "DescriptionStyleModel",
          "model_module_version": "1.5.0",
          "state": {
            "_model_module": "@jupyter-widgets/controls",
            "_model_module_version": "1.5.0",
            "_model_name": "DescriptionStyleModel",
            "_view_count": null,
            "_view_module": "@jupyter-widgets/base",
            "_view_module_version": "1.2.0",
            "_view_name": "StyleView",
            "description_width": ""
          }
        },
        "3b72d8564edd411b98e89bfd9aa428eb": {
          "model_module": "@jupyter-widgets/base",
          "model_name": "LayoutModel",
          "model_module_version": "1.2.0",
          "state": {
            "_model_module": "@jupyter-widgets/base",
            "_model_module_version": "1.2.0",
            "_model_name": "LayoutModel",
            "_view_count": null,
            "_view_module": "@jupyter-widgets/base",
            "_view_module_version": "1.2.0",
            "_view_name": "LayoutView",
            "align_content": null,
            "align_items": null,
            "align_self": null,
            "border": null,
            "bottom": null,
            "display": null,
            "flex": null,
            "flex_flow": null,
            "grid_area": null,
            "grid_auto_columns": null,
            "grid_auto_flow": null,
            "grid_auto_rows": null,
            "grid_column": null,
            "grid_gap": null,
            "grid_row": null,
            "grid_template_areas": null,
            "grid_template_columns": null,
            "grid_template_rows": null,
            "height": null,
            "justify_content": null,
            "justify_items": null,
            "left": null,
            "margin": null,
            "max_height": null,
            "max_width": null,
            "min_height": null,
            "min_width": null,
            "object_fit": null,
            "object_position": null,
            "order": null,
            "overflow": null,
            "overflow_x": null,
            "overflow_y": null,
            "padding": null,
            "right": null,
            "top": null,
            "visibility": null,
            "width": "20px"
          }
        },
        "4a47636f8ed344f8b1a039be111df274": {
          "model_module": "@jupyter-widgets/controls",
          "model_name": "ProgressStyleModel",
          "model_module_version": "1.5.0",
          "state": {
            "_model_module": "@jupyter-widgets/controls",
            "_model_module_version": "1.5.0",
            "_model_name": "ProgressStyleModel",
            "_view_count": null,
            "_view_module": "@jupyter-widgets/base",
            "_view_module_version": "1.2.0",
            "_view_name": "StyleView",
            "bar_color": null,
            "description_width": ""
          }
        },
        "0bf6e5ccc3d94740b643c24929544b9e": {
          "model_module": "@jupyter-widgets/base",
          "model_name": "LayoutModel",
          "model_module_version": "1.2.0",
          "state": {
            "_model_module": "@jupyter-widgets/base",
            "_model_module_version": "1.2.0",
            "_model_name": "LayoutModel",
            "_view_count": null,
            "_view_module": "@jupyter-widgets/base",
            "_view_module_version": "1.2.0",
            "_view_name": "LayoutView",
            "align_content": null,
            "align_items": null,
            "align_self": null,
            "border": null,
            "bottom": null,
            "display": null,
            "flex": null,
            "flex_flow": null,
            "grid_area": null,
            "grid_auto_columns": null,
            "grid_auto_flow": null,
            "grid_auto_rows": null,
            "grid_column": null,
            "grid_gap": null,
            "grid_row": null,
            "grid_template_areas": null,
            "grid_template_columns": null,
            "grid_template_rows": null,
            "height": null,
            "justify_content": null,
            "justify_items": null,
            "left": null,
            "margin": null,
            "max_height": null,
            "max_width": null,
            "min_height": null,
            "min_width": null,
            "object_fit": null,
            "object_position": null,
            "order": null,
            "overflow": null,
            "overflow_x": null,
            "overflow_y": null,
            "padding": null,
            "right": null,
            "top": null,
            "visibility": null,
            "width": null
          }
        },
        "1fa09fe7399e4c0181c9b4a05a189e05": {
          "model_module": "@jupyter-widgets/controls",
          "model_name": "DescriptionStyleModel",
          "model_module_version": "1.5.0",
          "state": {
            "_model_module": "@jupyter-widgets/controls",
            "_model_module_version": "1.5.0",
            "_model_name": "DescriptionStyleModel",
            "_view_count": null,
            "_view_module": "@jupyter-widgets/base",
            "_view_module_version": "1.2.0",
            "_view_name": "StyleView",
            "description_width": ""
          }
        },
        "145a7cce7cfd4f71ab3d1d2c64461695": {
          "model_module": "@jupyter-widgets/controls",
          "model_name": "HBoxModel",
          "model_module_version": "1.5.0",
          "state": {
            "_dom_classes": [],
            "_model_module": "@jupyter-widgets/controls",
            "_model_module_version": "1.5.0",
            "_model_name": "HBoxModel",
            "_view_count": null,
            "_view_module": "@jupyter-widgets/controls",
            "_view_module_version": "1.5.0",
            "_view_name": "HBoxView",
            "box_style": "",
            "children": [
              "IPY_MODEL_c46bbaf8a8654184b4dd3a344b18fe46",
              "IPY_MODEL_2ffceaee6c9a4f32bf732124d6976958",
              "IPY_MODEL_ebafed2cca914070b0643a34829e9c20"
            ],
            "layout": "IPY_MODEL_e2de280ad37743d2836c0dd404490d06"
          }
        },
        "c46bbaf8a8654184b4dd3a344b18fe46": {
          "model_module": "@jupyter-widgets/controls",
          "model_name": "HTMLModel",
          "model_module_version": "1.5.0",
          "state": {
            "_dom_classes": [],
            "_model_module": "@jupyter-widgets/controls",
            "_model_module_version": "1.5.0",
            "_model_name": "HTMLModel",
            "_view_count": null,
            "_view_module": "@jupyter-widgets/controls",
            "_view_module_version": "1.5.0",
            "_view_name": "HTMLView",
            "description": "",
            "description_tooltip": null,
            "layout": "IPY_MODEL_f80984be83fe46969c5c6f3ce1dc5d6f",
            "placeholder": "​",
            "style": "IPY_MODEL_eecb828423184e8aa3bd1188e2a6bd65",
            "value": "Dl Size...: 100%"
          }
        },
        "2ffceaee6c9a4f32bf732124d6976958": {
          "model_module": "@jupyter-widgets/controls",
          "model_name": "FloatProgressModel",
          "model_module_version": "1.5.0",
          "state": {
            "_dom_classes": [],
            "_model_module": "@jupyter-widgets/controls",
            "_model_module_version": "1.5.0",
            "_model_name": "FloatProgressModel",
            "_view_count": null,
            "_view_module": "@jupyter-widgets/controls",
            "_view_module_version": "1.5.0",
            "_view_name": "ProgressView",
            "bar_style": "success",
            "description": "",
            "description_tooltip": null,
            "layout": "IPY_MODEL_2aa322ad39404570bec7f7d4bf5b82c6",
            "max": 1,
            "min": 0,
            "orientation": "horizontal",
            "style": "IPY_MODEL_e1058198ea3f421f8b9b8f2ab281d1fc",
            "value": 1
          }
        },
        "ebafed2cca914070b0643a34829e9c20": {
          "model_module": "@jupyter-widgets/controls",
          "model_name": "HTMLModel",
          "model_module_version": "1.5.0",
          "state": {
            "_dom_classes": [],
            "_model_module": "@jupyter-widgets/controls",
            "_model_module_version": "1.5.0",
            "_model_name": "HTMLModel",
            "_view_count": null,
            "_view_module": "@jupyter-widgets/controls",
            "_view_module_version": "1.5.0",
            "_view_name": "HTMLView",
            "description": "",
            "description_tooltip": null,
            "layout": "IPY_MODEL_320c272aff8245e3b6ec87710b0096e6",
            "placeholder": "​",
            "style": "IPY_MODEL_345ca1de79d64a9ba46ddf4979d1cdad",
            "value": " 29/29 [00:03&lt;00:00, 16.59 MiB/s]"
          }
        },
        "e2de280ad37743d2836c0dd404490d06": {
          "model_module": "@jupyter-widgets/base",
          "model_name": "LayoutModel",
          "model_module_version": "1.2.0",
          "state": {
            "_model_module": "@jupyter-widgets/base",
            "_model_module_version": "1.2.0",
            "_model_name": "LayoutModel",
            "_view_count": null,
            "_view_module": "@jupyter-widgets/base",
            "_view_module_version": "1.2.0",
            "_view_name": "LayoutView",
            "align_content": null,
            "align_items": null,
            "align_self": null,
            "border": null,
            "bottom": null,
            "display": null,
            "flex": null,
            "flex_flow": null,
            "grid_area": null,
            "grid_auto_columns": null,
            "grid_auto_flow": null,
            "grid_auto_rows": null,
            "grid_column": null,
            "grid_gap": null,
            "grid_row": null,
            "grid_template_areas": null,
            "grid_template_columns": null,
            "grid_template_rows": null,
            "height": null,
            "justify_content": null,
            "justify_items": null,
            "left": null,
            "margin": null,
            "max_height": null,
            "max_width": null,
            "min_height": null,
            "min_width": null,
            "object_fit": null,
            "object_position": null,
            "order": null,
            "overflow": null,
            "overflow_x": null,
            "overflow_y": null,
            "padding": null,
            "right": null,
            "top": null,
            "visibility": null,
            "width": null
          }
        },
        "f80984be83fe46969c5c6f3ce1dc5d6f": {
          "model_module": "@jupyter-widgets/base",
          "model_name": "LayoutModel",
          "model_module_version": "1.2.0",
          "state": {
            "_model_module": "@jupyter-widgets/base",
            "_model_module_version": "1.2.0",
            "_model_name": "LayoutModel",
            "_view_count": null,
            "_view_module": "@jupyter-widgets/base",
            "_view_module_version": "1.2.0",
            "_view_name": "LayoutView",
            "align_content": null,
            "align_items": null,
            "align_self": null,
            "border": null,
            "bottom": null,
            "display": null,
            "flex": null,
            "flex_flow": null,
            "grid_area": null,
            "grid_auto_columns": null,
            "grid_auto_flow": null,
            "grid_auto_rows": null,
            "grid_column": null,
            "grid_gap": null,
            "grid_row": null,
            "grid_template_areas": null,
            "grid_template_columns": null,
            "grid_template_rows": null,
            "height": null,
            "justify_content": null,
            "justify_items": null,
            "left": null,
            "margin": null,
            "max_height": null,
            "max_width": null,
            "min_height": null,
            "min_width": null,
            "object_fit": null,
            "object_position": null,
            "order": null,
            "overflow": null,
            "overflow_x": null,
            "overflow_y": null,
            "padding": null,
            "right": null,
            "top": null,
            "visibility": null,
            "width": null
          }
        },
        "eecb828423184e8aa3bd1188e2a6bd65": {
          "model_module": "@jupyter-widgets/controls",
          "model_name": "DescriptionStyleModel",
          "model_module_version": "1.5.0",
          "state": {
            "_model_module": "@jupyter-widgets/controls",
            "_model_module_version": "1.5.0",
            "_model_name": "DescriptionStyleModel",
            "_view_count": null,
            "_view_module": "@jupyter-widgets/base",
            "_view_module_version": "1.2.0",
            "_view_name": "StyleView",
            "description_width": ""
          }
        },
        "2aa322ad39404570bec7f7d4bf5b82c6": {
          "model_module": "@jupyter-widgets/base",
          "model_name": "LayoutModel",
          "model_module_version": "1.2.0",
          "state": {
            "_model_module": "@jupyter-widgets/base",
            "_model_module_version": "1.2.0",
            "_model_name": "LayoutModel",
            "_view_count": null,
            "_view_module": "@jupyter-widgets/base",
            "_view_module_version": "1.2.0",
            "_view_name": "LayoutView",
            "align_content": null,
            "align_items": null,
            "align_self": null,
            "border": null,
            "bottom": null,
            "display": null,
            "flex": null,
            "flex_flow": null,
            "grid_area": null,
            "grid_auto_columns": null,
            "grid_auto_flow": null,
            "grid_auto_rows": null,
            "grid_column": null,
            "grid_gap": null,
            "grid_row": null,
            "grid_template_areas": null,
            "grid_template_columns": null,
            "grid_template_rows": null,
            "height": null,
            "justify_content": null,
            "justify_items": null,
            "left": null,
            "margin": null,
            "max_height": null,
            "max_width": null,
            "min_height": null,
            "min_width": null,
            "object_fit": null,
            "object_position": null,
            "order": null,
            "overflow": null,
            "overflow_x": null,
            "overflow_y": null,
            "padding": null,
            "right": null,
            "top": null,
            "visibility": null,
            "width": "20px"
          }
        },
        "e1058198ea3f421f8b9b8f2ab281d1fc": {
          "model_module": "@jupyter-widgets/controls",
          "model_name": "ProgressStyleModel",
          "model_module_version": "1.5.0",
          "state": {
            "_model_module": "@jupyter-widgets/controls",
            "_model_module_version": "1.5.0",
            "_model_name": "ProgressStyleModel",
            "_view_count": null,
            "_view_module": "@jupyter-widgets/base",
            "_view_module_version": "1.2.0",
            "_view_name": "StyleView",
            "bar_color": null,
            "description_width": ""
          }
        },
        "320c272aff8245e3b6ec87710b0096e6": {
          "model_module": "@jupyter-widgets/base",
          "model_name": "LayoutModel",
          "model_module_version": "1.2.0",
          "state": {
            "_model_module": "@jupyter-widgets/base",
            "_model_module_version": "1.2.0",
            "_model_name": "LayoutModel",
            "_view_count": null,
            "_view_module": "@jupyter-widgets/base",
            "_view_module_version": "1.2.0",
            "_view_name": "LayoutView",
            "align_content": null,
            "align_items": null,
            "align_self": null,
            "border": null,
            "bottom": null,
            "display": null,
            "flex": null,
            "flex_flow": null,
            "grid_area": null,
            "grid_auto_columns": null,
            "grid_auto_flow": null,
            "grid_auto_rows": null,
            "grid_column": null,
            "grid_gap": null,
            "grid_row": null,
            "grid_template_areas": null,
            "grid_template_columns": null,
            "grid_template_rows": null,
            "height": null,
            "justify_content": null,
            "justify_items": null,
            "left": null,
            "margin": null,
            "max_height": null,
            "max_width": null,
            "min_height": null,
            "min_width": null,
            "object_fit": null,
            "object_position": null,
            "order": null,
            "overflow": null,
            "overflow_x": null,
            "overflow_y": null,
            "padding": null,
            "right": null,
            "top": null,
            "visibility": null,
            "width": null
          }
        },
        "345ca1de79d64a9ba46ddf4979d1cdad": {
          "model_module": "@jupyter-widgets/controls",
          "model_name": "DescriptionStyleModel",
          "model_module_version": "1.5.0",
          "state": {
            "_model_module": "@jupyter-widgets/controls",
            "_model_module_version": "1.5.0",
            "_model_name": "DescriptionStyleModel",
            "_view_count": null,
            "_view_module": "@jupyter-widgets/base",
            "_view_module_version": "1.2.0",
            "_view_name": "StyleView",
            "description_width": ""
          }
        },
        "5b70becdadf14a1f9f0293ad3fe6408a": {
          "model_module": "@jupyter-widgets/controls",
          "model_name": "HBoxModel",
          "model_module_version": "1.5.0",
          "state": {
            "_dom_classes": [],
            "_model_module": "@jupyter-widgets/controls",
            "_model_module_version": "1.5.0",
            "_model_name": "HBoxModel",
            "_view_count": null,
            "_view_module": "@jupyter-widgets/controls",
            "_view_module_version": "1.5.0",
            "_view_name": "HBoxView",
            "box_style": "",
            "children": [
              "IPY_MODEL_e59d5a73b3004aa79ebcd7ff31b357b1",
              "IPY_MODEL_4373aa785994454e8d248a6222b0b757",
              "IPY_MODEL_52955a89a2344a538e5f7f7983aff468"
            ],
            "layout": "IPY_MODEL_c2952e2881ac4ad7af97898b6e4a8fed"
          }
        },
        "e59d5a73b3004aa79ebcd7ff31b357b1": {
          "model_module": "@jupyter-widgets/controls",
          "model_name": "HTMLModel",
          "model_module_version": "1.5.0",
          "state": {
            "_dom_classes": [],
            "_model_module": "@jupyter-widgets/controls",
            "_model_module_version": "1.5.0",
            "_model_name": "HTMLModel",
            "_view_count": null,
            "_view_module": "@jupyter-widgets/controls",
            "_view_module_version": "1.5.0",
            "_view_name": "HTMLView",
            "description": "",
            "description_tooltip": null,
            "layout": "IPY_MODEL_bb40549c5905422ba9830ac849d721f3",
            "placeholder": "​",
            "style": "IPY_MODEL_1e9776edf51844ef8b2b3e9edcd4e47f",
            "value": "Extraction completed...: 100%"
          }
        },
        "4373aa785994454e8d248a6222b0b757": {
          "model_module": "@jupyter-widgets/controls",
          "model_name": "FloatProgressModel",
          "model_module_version": "1.5.0",
          "state": {
            "_dom_classes": [],
            "_model_module": "@jupyter-widgets/controls",
            "_model_module_version": "1.5.0",
            "_model_name": "FloatProgressModel",
            "_view_count": null,
            "_view_module": "@jupyter-widgets/controls",
            "_view_module_version": "1.5.0",
            "_view_name": "ProgressView",
            "bar_style": "success",
            "description": "",
            "description_tooltip": null,
            "layout": "IPY_MODEL_7b9377fafe6345cc93506586ad3de3f7",
            "max": 1,
            "min": 0,
            "orientation": "horizontal",
            "style": "IPY_MODEL_1276f9e29e7449ec81adeecbcc113b4c",
            "value": 1
          }
        },
        "52955a89a2344a538e5f7f7983aff468": {
          "model_module": "@jupyter-widgets/controls",
          "model_name": "HTMLModel",
          "model_module_version": "1.5.0",
          "state": {
            "_dom_classes": [],
            "_model_module": "@jupyter-widgets/controls",
            "_model_module_version": "1.5.0",
            "_model_name": "HTMLModel",
            "_view_count": null,
            "_view_module": "@jupyter-widgets/controls",
            "_view_module_version": "1.5.0",
            "_view_name": "HTMLView",
            "description": "",
            "description_tooltip": null,
            "layout": "IPY_MODEL_293ae1ad09aa4302b4810081f70a4f36",
            "placeholder": "​",
            "style": "IPY_MODEL_d5894c05af4f49ea8b5f821f3902ea35",
            "value": " 4/4 [00:03&lt;00:00,  1.03s/ file]"
          }
        },
        "c2952e2881ac4ad7af97898b6e4a8fed": {
          "model_module": "@jupyter-widgets/base",
          "model_name": "LayoutModel",
          "model_module_version": "1.2.0",
          "state": {
            "_model_module": "@jupyter-widgets/base",
            "_model_module_version": "1.2.0",
            "_model_name": "LayoutModel",
            "_view_count": null,
            "_view_module": "@jupyter-widgets/base",
            "_view_module_version": "1.2.0",
            "_view_name": "LayoutView",
            "align_content": null,
            "align_items": null,
            "align_self": null,
            "border": null,
            "bottom": null,
            "display": null,
            "flex": null,
            "flex_flow": null,
            "grid_area": null,
            "grid_auto_columns": null,
            "grid_auto_flow": null,
            "grid_auto_rows": null,
            "grid_column": null,
            "grid_gap": null,
            "grid_row": null,
            "grid_template_areas": null,
            "grid_template_columns": null,
            "grid_template_rows": null,
            "height": null,
            "justify_content": null,
            "justify_items": null,
            "left": null,
            "margin": null,
            "max_height": null,
            "max_width": null,
            "min_height": null,
            "min_width": null,
            "object_fit": null,
            "object_position": null,
            "order": null,
            "overflow": null,
            "overflow_x": null,
            "overflow_y": null,
            "padding": null,
            "right": null,
            "top": null,
            "visibility": null,
            "width": null
          }
        },
        "bb40549c5905422ba9830ac849d721f3": {
          "model_module": "@jupyter-widgets/base",
          "model_name": "LayoutModel",
          "model_module_version": "1.2.0",
          "state": {
            "_model_module": "@jupyter-widgets/base",
            "_model_module_version": "1.2.0",
            "_model_name": "LayoutModel",
            "_view_count": null,
            "_view_module": "@jupyter-widgets/base",
            "_view_module_version": "1.2.0",
            "_view_name": "LayoutView",
            "align_content": null,
            "align_items": null,
            "align_self": null,
            "border": null,
            "bottom": null,
            "display": null,
            "flex": null,
            "flex_flow": null,
            "grid_area": null,
            "grid_auto_columns": null,
            "grid_auto_flow": null,
            "grid_auto_rows": null,
            "grid_column": null,
            "grid_gap": null,
            "grid_row": null,
            "grid_template_areas": null,
            "grid_template_columns": null,
            "grid_template_rows": null,
            "height": null,
            "justify_content": null,
            "justify_items": null,
            "left": null,
            "margin": null,
            "max_height": null,
            "max_width": null,
            "min_height": null,
            "min_width": null,
            "object_fit": null,
            "object_position": null,
            "order": null,
            "overflow": null,
            "overflow_x": null,
            "overflow_y": null,
            "padding": null,
            "right": null,
            "top": null,
            "visibility": null,
            "width": null
          }
        },
        "1e9776edf51844ef8b2b3e9edcd4e47f": {
          "model_module": "@jupyter-widgets/controls",
          "model_name": "DescriptionStyleModel",
          "model_module_version": "1.5.0",
          "state": {
            "_model_module": "@jupyter-widgets/controls",
            "_model_module_version": "1.5.0",
            "_model_name": "DescriptionStyleModel",
            "_view_count": null,
            "_view_module": "@jupyter-widgets/base",
            "_view_module_version": "1.2.0",
            "_view_name": "StyleView",
            "description_width": ""
          }
        },
        "7b9377fafe6345cc93506586ad3de3f7": {
          "model_module": "@jupyter-widgets/base",
          "model_name": "LayoutModel",
          "model_module_version": "1.2.0",
          "state": {
            "_model_module": "@jupyter-widgets/base",
            "_model_module_version": "1.2.0",
            "_model_name": "LayoutModel",
            "_view_count": null,
            "_view_module": "@jupyter-widgets/base",
            "_view_module_version": "1.2.0",
            "_view_name": "LayoutView",
            "align_content": null,
            "align_items": null,
            "align_self": null,
            "border": null,
            "bottom": null,
            "display": null,
            "flex": null,
            "flex_flow": null,
            "grid_area": null,
            "grid_auto_columns": null,
            "grid_auto_flow": null,
            "grid_auto_rows": null,
            "grid_column": null,
            "grid_gap": null,
            "grid_row": null,
            "grid_template_areas": null,
            "grid_template_columns": null,
            "grid_template_rows": null,
            "height": null,
            "justify_content": null,
            "justify_items": null,
            "left": null,
            "margin": null,
            "max_height": null,
            "max_width": null,
            "min_height": null,
            "min_width": null,
            "object_fit": null,
            "object_position": null,
            "order": null,
            "overflow": null,
            "overflow_x": null,
            "overflow_y": null,
            "padding": null,
            "right": null,
            "top": null,
            "visibility": null,
            "width": "20px"
          }
        },
        "1276f9e29e7449ec81adeecbcc113b4c": {
          "model_module": "@jupyter-widgets/controls",
          "model_name": "ProgressStyleModel",
          "model_module_version": "1.5.0",
          "state": {
            "_model_module": "@jupyter-widgets/controls",
            "_model_module_version": "1.5.0",
            "_model_name": "ProgressStyleModel",
            "_view_count": null,
            "_view_module": "@jupyter-widgets/base",
            "_view_module_version": "1.2.0",
            "_view_name": "StyleView",
            "bar_color": null,
            "description_width": ""
          }
        },
        "293ae1ad09aa4302b4810081f70a4f36": {
          "model_module": "@jupyter-widgets/base",
          "model_name": "LayoutModel",
          "model_module_version": "1.2.0",
          "state": {
            "_model_module": "@jupyter-widgets/base",
            "_model_module_version": "1.2.0",
            "_model_name": "LayoutModel",
            "_view_count": null,
            "_view_module": "@jupyter-widgets/base",
            "_view_module_version": "1.2.0",
            "_view_name": "LayoutView",
            "align_content": null,
            "align_items": null,
            "align_self": null,
            "border": null,
            "bottom": null,
            "display": null,
            "flex": null,
            "flex_flow": null,
            "grid_area": null,
            "grid_auto_columns": null,
            "grid_auto_flow": null,
            "grid_auto_rows": null,
            "grid_column": null,
            "grid_gap": null,
            "grid_row": null,
            "grid_template_areas": null,
            "grid_template_columns": null,
            "grid_template_rows": null,
            "height": null,
            "justify_content": null,
            "justify_items": null,
            "left": null,
            "margin": null,
            "max_height": null,
            "max_width": null,
            "min_height": null,
            "min_width": null,
            "object_fit": null,
            "object_position": null,
            "order": null,
            "overflow": null,
            "overflow_x": null,
            "overflow_y": null,
            "padding": null,
            "right": null,
            "top": null,
            "visibility": null,
            "width": null
          }
        },
        "d5894c05af4f49ea8b5f821f3902ea35": {
          "model_module": "@jupyter-widgets/controls",
          "model_name": "DescriptionStyleModel",
          "model_module_version": "1.5.0",
          "state": {
            "_model_module": "@jupyter-widgets/controls",
            "_model_module_version": "1.5.0",
            "_model_name": "DescriptionStyleModel",
            "_view_count": null,
            "_view_module": "@jupyter-widgets/base",
            "_view_module_version": "1.2.0",
            "_view_name": "StyleView",
            "description_width": ""
          }
        },
        "98f1ee16c62c419d8d6d1925778c8968": {
          "model_module": "@jupyter-widgets/controls",
          "model_name": "HBoxModel",
          "model_module_version": "1.5.0",
          "state": {
            "_dom_classes": [],
            "_model_module": "@jupyter-widgets/controls",
            "_model_module_version": "1.5.0",
            "_model_name": "HBoxModel",
            "_view_count": null,
            "_view_module": "@jupyter-widgets/controls",
            "_view_module_version": "1.5.0",
            "_view_name": "HBoxView",
            "box_style": "",
            "children": [
              "IPY_MODEL_4c52420e594a4735a34c3b7f4bb43204",
              "IPY_MODEL_83e46db4933049eaa7a946dd65269246",
              "IPY_MODEL_4617fd5474b248aca84aeab0476d8e4f"
            ],
            "layout": "IPY_MODEL_c74be43cdaba47d9a8188b6ce997f3d6"
          }
        },
        "4c52420e594a4735a34c3b7f4bb43204": {
          "model_module": "@jupyter-widgets/controls",
          "model_name": "HTMLModel",
          "model_module_version": "1.5.0",
          "state": {
            "_dom_classes": [],
            "_model_module": "@jupyter-widgets/controls",
            "_model_module_version": "1.5.0",
            "_model_name": "HTMLModel",
            "_view_count": null,
            "_view_module": "@jupyter-widgets/controls",
            "_view_module_version": "1.5.0",
            "_view_name": "HTMLView",
            "description": "",
            "description_tooltip": null,
            "layout": "IPY_MODEL_5a662e2853694511afd158f2b8a732e0",
            "placeholder": "​",
            "style": "IPY_MODEL_475912b6a40c470f854b55557b4cd8a3",
            "value": "Generating splits...: 100%"
          }
        },
        "83e46db4933049eaa7a946dd65269246": {
          "model_module": "@jupyter-widgets/controls",
          "model_name": "FloatProgressModel",
          "model_module_version": "1.5.0",
          "state": {
            "_dom_classes": [],
            "_model_module": "@jupyter-widgets/controls",
            "_model_module_version": "1.5.0",
            "_model_name": "FloatProgressModel",
            "_view_count": null,
            "_view_module": "@jupyter-widgets/controls",
            "_view_module_version": "1.5.0",
            "_view_name": "ProgressView",
            "bar_style": "",
            "description": "",
            "description_tooltip": null,
            "layout": "IPY_MODEL_b926ec5010684e6c95aa3b2d4e25c33d",
            "max": 2,
            "min": 0,
            "orientation": "horizontal",
            "style": "IPY_MODEL_91b7a88902b34c938bdccdcc93455c09",
            "value": 2
          }
        },
        "4617fd5474b248aca84aeab0476d8e4f": {
          "model_module": "@jupyter-widgets/controls",
          "model_name": "HTMLModel",
          "model_module_version": "1.5.0",
          "state": {
            "_dom_classes": [],
            "_model_module": "@jupyter-widgets/controls",
            "_model_module_version": "1.5.0",
            "_model_name": "HTMLModel",
            "_view_count": null,
            "_view_module": "@jupyter-widgets/controls",
            "_view_module_version": "1.5.0",
            "_view_name": "HTMLView",
            "description": "",
            "description_tooltip": null,
            "layout": "IPY_MODEL_e66c068316a44830a1e1a548578f556c",
            "placeholder": "​",
            "style": "IPY_MODEL_6ea4d9cee80e44ef95f0975a47426095",
            "value": " 2/2 [00:56&lt;00:00, 24.17s/ splits]"
          }
        },
        "c74be43cdaba47d9a8188b6ce997f3d6": {
          "model_module": "@jupyter-widgets/base",
          "model_name": "LayoutModel",
          "model_module_version": "1.2.0",
          "state": {
            "_model_module": "@jupyter-widgets/base",
            "_model_module_version": "1.2.0",
            "_model_name": "LayoutModel",
            "_view_count": null,
            "_view_module": "@jupyter-widgets/base",
            "_view_module_version": "1.2.0",
            "_view_name": "LayoutView",
            "align_content": null,
            "align_items": null,
            "align_self": null,
            "border": null,
            "bottom": null,
            "display": null,
            "flex": null,
            "flex_flow": null,
            "grid_area": null,
            "grid_auto_columns": null,
            "grid_auto_flow": null,
            "grid_auto_rows": null,
            "grid_column": null,
            "grid_gap": null,
            "grid_row": null,
            "grid_template_areas": null,
            "grid_template_columns": null,
            "grid_template_rows": null,
            "height": null,
            "justify_content": null,
            "justify_items": null,
            "left": null,
            "margin": null,
            "max_height": null,
            "max_width": null,
            "min_height": null,
            "min_width": null,
            "object_fit": null,
            "object_position": null,
            "order": null,
            "overflow": null,
            "overflow_x": null,
            "overflow_y": null,
            "padding": null,
            "right": null,
            "top": null,
            "visibility": "hidden",
            "width": null
          }
        },
        "5a662e2853694511afd158f2b8a732e0": {
          "model_module": "@jupyter-widgets/base",
          "model_name": "LayoutModel",
          "model_module_version": "1.2.0",
          "state": {
            "_model_module": "@jupyter-widgets/base",
            "_model_module_version": "1.2.0",
            "_model_name": "LayoutModel",
            "_view_count": null,
            "_view_module": "@jupyter-widgets/base",
            "_view_module_version": "1.2.0",
            "_view_name": "LayoutView",
            "align_content": null,
            "align_items": null,
            "align_self": null,
            "border": null,
            "bottom": null,
            "display": null,
            "flex": null,
            "flex_flow": null,
            "grid_area": null,
            "grid_auto_columns": null,
            "grid_auto_flow": null,
            "grid_auto_rows": null,
            "grid_column": null,
            "grid_gap": null,
            "grid_row": null,
            "grid_template_areas": null,
            "grid_template_columns": null,
            "grid_template_rows": null,
            "height": null,
            "justify_content": null,
            "justify_items": null,
            "left": null,
            "margin": null,
            "max_height": null,
            "max_width": null,
            "min_height": null,
            "min_width": null,
            "object_fit": null,
            "object_position": null,
            "order": null,
            "overflow": null,
            "overflow_x": null,
            "overflow_y": null,
            "padding": null,
            "right": null,
            "top": null,
            "visibility": null,
            "width": null
          }
        },
        "475912b6a40c470f854b55557b4cd8a3": {
          "model_module": "@jupyter-widgets/controls",
          "model_name": "DescriptionStyleModel",
          "model_module_version": "1.5.0",
          "state": {
            "_model_module": "@jupyter-widgets/controls",
            "_model_module_version": "1.5.0",
            "_model_name": "DescriptionStyleModel",
            "_view_count": null,
            "_view_module": "@jupyter-widgets/base",
            "_view_module_version": "1.2.0",
            "_view_name": "StyleView",
            "description_width": ""
          }
        },
        "b926ec5010684e6c95aa3b2d4e25c33d": {
          "model_module": "@jupyter-widgets/base",
          "model_name": "LayoutModel",
          "model_module_version": "1.2.0",
          "state": {
            "_model_module": "@jupyter-widgets/base",
            "_model_module_version": "1.2.0",
            "_model_name": "LayoutModel",
            "_view_count": null,
            "_view_module": "@jupyter-widgets/base",
            "_view_module_version": "1.2.0",
            "_view_name": "LayoutView",
            "align_content": null,
            "align_items": null,
            "align_self": null,
            "border": null,
            "bottom": null,
            "display": null,
            "flex": null,
            "flex_flow": null,
            "grid_area": null,
            "grid_auto_columns": null,
            "grid_auto_flow": null,
            "grid_auto_rows": null,
            "grid_column": null,
            "grid_gap": null,
            "grid_row": null,
            "grid_template_areas": null,
            "grid_template_columns": null,
            "grid_template_rows": null,
            "height": null,
            "justify_content": null,
            "justify_items": null,
            "left": null,
            "margin": null,
            "max_height": null,
            "max_width": null,
            "min_height": null,
            "min_width": null,
            "object_fit": null,
            "object_position": null,
            "order": null,
            "overflow": null,
            "overflow_x": null,
            "overflow_y": null,
            "padding": null,
            "right": null,
            "top": null,
            "visibility": null,
            "width": null
          }
        },
        "91b7a88902b34c938bdccdcc93455c09": {
          "model_module": "@jupyter-widgets/controls",
          "model_name": "ProgressStyleModel",
          "model_module_version": "1.5.0",
          "state": {
            "_model_module": "@jupyter-widgets/controls",
            "_model_module_version": "1.5.0",
            "_model_name": "ProgressStyleModel",
            "_view_count": null,
            "_view_module": "@jupyter-widgets/base",
            "_view_module_version": "1.2.0",
            "_view_name": "StyleView",
            "bar_color": null,
            "description_width": ""
          }
        },
        "e66c068316a44830a1e1a548578f556c": {
          "model_module": "@jupyter-widgets/base",
          "model_name": "LayoutModel",
          "model_module_version": "1.2.0",
          "state": {
            "_model_module": "@jupyter-widgets/base",
            "_model_module_version": "1.2.0",
            "_model_name": "LayoutModel",
            "_view_count": null,
            "_view_module": "@jupyter-widgets/base",
            "_view_module_version": "1.2.0",
            "_view_name": "LayoutView",
            "align_content": null,
            "align_items": null,
            "align_self": null,
            "border": null,
            "bottom": null,
            "display": null,
            "flex": null,
            "flex_flow": null,
            "grid_area": null,
            "grid_auto_columns": null,
            "grid_auto_flow": null,
            "grid_auto_rows": null,
            "grid_column": null,
            "grid_gap": null,
            "grid_row": null,
            "grid_template_areas": null,
            "grid_template_columns": null,
            "grid_template_rows": null,
            "height": null,
            "justify_content": null,
            "justify_items": null,
            "left": null,
            "margin": null,
            "max_height": null,
            "max_width": null,
            "min_height": null,
            "min_width": null,
            "object_fit": null,
            "object_position": null,
            "order": null,
            "overflow": null,
            "overflow_x": null,
            "overflow_y": null,
            "padding": null,
            "right": null,
            "top": null,
            "visibility": null,
            "width": null
          }
        },
        "6ea4d9cee80e44ef95f0975a47426095": {
          "model_module": "@jupyter-widgets/controls",
          "model_name": "DescriptionStyleModel",
          "model_module_version": "1.5.0",
          "state": {
            "_model_module": "@jupyter-widgets/controls",
            "_model_module_version": "1.5.0",
            "_model_name": "DescriptionStyleModel",
            "_view_count": null,
            "_view_module": "@jupyter-widgets/base",
            "_view_module_version": "1.2.0",
            "_view_name": "StyleView",
            "description_width": ""
          }
        },
        "1aebb917352148dfadb85a0b9ef43bc4": {
          "model_module": "@jupyter-widgets/controls",
          "model_name": "HBoxModel",
          "model_module_version": "1.5.0",
          "state": {
            "_dom_classes": [],
            "_model_module": "@jupyter-widgets/controls",
            "_model_module_version": "1.5.0",
            "_model_name": "HBoxModel",
            "_view_count": null,
            "_view_module": "@jupyter-widgets/controls",
            "_view_module_version": "1.5.0",
            "_view_name": "HBoxView",
            "box_style": "",
            "children": [
              "IPY_MODEL_5771bb5000f44a928a4f5f8c2c3b1fbc",
              "IPY_MODEL_d5ff967955504f5389b666befc79076f",
              "IPY_MODEL_eeea190ce31044459aac2904ebcbeee6"
            ],
            "layout": "IPY_MODEL_97c78f7dcf054a6d86f93ebbcefe6b46"
          }
        },
        "5771bb5000f44a928a4f5f8c2c3b1fbc": {
          "model_module": "@jupyter-widgets/controls",
          "model_name": "HTMLModel",
          "model_module_version": "1.5.0",
          "state": {
            "_dom_classes": [],
            "_model_module": "@jupyter-widgets/controls",
            "_model_module_version": "1.5.0",
            "_model_name": "HTMLModel",
            "_view_count": null,
            "_view_module": "@jupyter-widgets/controls",
            "_view_module_version": "1.5.0",
            "_view_name": "HTMLView",
            "description": "",
            "description_tooltip": null,
            "layout": "IPY_MODEL_f419e669522643cc8cf5834d10b37f91",
            "placeholder": "​",
            "style": "IPY_MODEL_a58d611e32e34102a7cfef122d44d8aa",
            "value": "Generating train examples...: 100%"
          }
        },
        "d5ff967955504f5389b666befc79076f": {
          "model_module": "@jupyter-widgets/controls",
          "model_name": "FloatProgressModel",
          "model_module_version": "1.5.0",
          "state": {
            "_dom_classes": [],
            "_model_module": "@jupyter-widgets/controls",
            "_model_module_version": "1.5.0",
            "_model_name": "FloatProgressModel",
            "_view_count": null,
            "_view_module": "@jupyter-widgets/controls",
            "_view_module_version": "1.5.0",
            "_view_name": "ProgressView",
            "bar_style": "",
            "description": "",
            "description_tooltip": null,
            "layout": "IPY_MODEL_5c25a7541b4a4346ba63d72b31719122",
            "max": 60000,
            "min": 0,
            "orientation": "horizontal",
            "style": "IPY_MODEL_02421c62ac3a4959a3f833181a956a57",
            "value": 60000
          }
        },
        "eeea190ce31044459aac2904ebcbeee6": {
          "model_module": "@jupyter-widgets/controls",
          "model_name": "HTMLModel",
          "model_module_version": "1.5.0",
          "state": {
            "_dom_classes": [],
            "_model_module": "@jupyter-widgets/controls",
            "_model_module_version": "1.5.0",
            "_model_name": "HTMLModel",
            "_view_count": null,
            "_view_module": "@jupyter-widgets/controls",
            "_view_module_version": "1.5.0",
            "_view_name": "HTMLView",
            "description": "",
            "description_tooltip": null,
            "layout": "IPY_MODEL_1c58976f612b49459e20ca58bfe0b210",
            "placeholder": "​",
            "style": "IPY_MODEL_dc9c268d1baa4c54880dd0729e56d164",
            "value": " 59819/60000 [00:51&lt;00:00, 2361.06 examples/s]"
          }
        },
        "97c78f7dcf054a6d86f93ebbcefe6b46": {
          "model_module": "@jupyter-widgets/base",
          "model_name": "LayoutModel",
          "model_module_version": "1.2.0",
          "state": {
            "_model_module": "@jupyter-widgets/base",
            "_model_module_version": "1.2.0",
            "_model_name": "LayoutModel",
            "_view_count": null,
            "_view_module": "@jupyter-widgets/base",
            "_view_module_version": "1.2.0",
            "_view_name": "LayoutView",
            "align_content": null,
            "align_items": null,
            "align_self": null,
            "border": null,
            "bottom": null,
            "display": null,
            "flex": null,
            "flex_flow": null,
            "grid_area": null,
            "grid_auto_columns": null,
            "grid_auto_flow": null,
            "grid_auto_rows": null,
            "grid_column": null,
            "grid_gap": null,
            "grid_row": null,
            "grid_template_areas": null,
            "grid_template_columns": null,
            "grid_template_rows": null,
            "height": null,
            "justify_content": null,
            "justify_items": null,
            "left": null,
            "margin": null,
            "max_height": null,
            "max_width": null,
            "min_height": null,
            "min_width": null,
            "object_fit": null,
            "object_position": null,
            "order": null,
            "overflow": null,
            "overflow_x": null,
            "overflow_y": null,
            "padding": null,
            "right": null,
            "top": null,
            "visibility": "hidden",
            "width": null
          }
        },
        "f419e669522643cc8cf5834d10b37f91": {
          "model_module": "@jupyter-widgets/base",
          "model_name": "LayoutModel",
          "model_module_version": "1.2.0",
          "state": {
            "_model_module": "@jupyter-widgets/base",
            "_model_module_version": "1.2.0",
            "_model_name": "LayoutModel",
            "_view_count": null,
            "_view_module": "@jupyter-widgets/base",
            "_view_module_version": "1.2.0",
            "_view_name": "LayoutView",
            "align_content": null,
            "align_items": null,
            "align_self": null,
            "border": null,
            "bottom": null,
            "display": null,
            "flex": null,
            "flex_flow": null,
            "grid_area": null,
            "grid_auto_columns": null,
            "grid_auto_flow": null,
            "grid_auto_rows": null,
            "grid_column": null,
            "grid_gap": null,
            "grid_row": null,
            "grid_template_areas": null,
            "grid_template_columns": null,
            "grid_template_rows": null,
            "height": null,
            "justify_content": null,
            "justify_items": null,
            "left": null,
            "margin": null,
            "max_height": null,
            "max_width": null,
            "min_height": null,
            "min_width": null,
            "object_fit": null,
            "object_position": null,
            "order": null,
            "overflow": null,
            "overflow_x": null,
            "overflow_y": null,
            "padding": null,
            "right": null,
            "top": null,
            "visibility": null,
            "width": null
          }
        },
        "a58d611e32e34102a7cfef122d44d8aa": {
          "model_module": "@jupyter-widgets/controls",
          "model_name": "DescriptionStyleModel",
          "model_module_version": "1.5.0",
          "state": {
            "_model_module": "@jupyter-widgets/controls",
            "_model_module_version": "1.5.0",
            "_model_name": "DescriptionStyleModel",
            "_view_count": null,
            "_view_module": "@jupyter-widgets/base",
            "_view_module_version": "1.2.0",
            "_view_name": "StyleView",
            "description_width": ""
          }
        },
        "5c25a7541b4a4346ba63d72b31719122": {
          "model_module": "@jupyter-widgets/base",
          "model_name": "LayoutModel",
          "model_module_version": "1.2.0",
          "state": {
            "_model_module": "@jupyter-widgets/base",
            "_model_module_version": "1.2.0",
            "_model_name": "LayoutModel",
            "_view_count": null,
            "_view_module": "@jupyter-widgets/base",
            "_view_module_version": "1.2.0",
            "_view_name": "LayoutView",
            "align_content": null,
            "align_items": null,
            "align_self": null,
            "border": null,
            "bottom": null,
            "display": null,
            "flex": null,
            "flex_flow": null,
            "grid_area": null,
            "grid_auto_columns": null,
            "grid_auto_flow": null,
            "grid_auto_rows": null,
            "grid_column": null,
            "grid_gap": null,
            "grid_row": null,
            "grid_template_areas": null,
            "grid_template_columns": null,
            "grid_template_rows": null,
            "height": null,
            "justify_content": null,
            "justify_items": null,
            "left": null,
            "margin": null,
            "max_height": null,
            "max_width": null,
            "min_height": null,
            "min_width": null,
            "object_fit": null,
            "object_position": null,
            "order": null,
            "overflow": null,
            "overflow_x": null,
            "overflow_y": null,
            "padding": null,
            "right": null,
            "top": null,
            "visibility": null,
            "width": null
          }
        },
        "02421c62ac3a4959a3f833181a956a57": {
          "model_module": "@jupyter-widgets/controls",
          "model_name": "ProgressStyleModel",
          "model_module_version": "1.5.0",
          "state": {
            "_model_module": "@jupyter-widgets/controls",
            "_model_module_version": "1.5.0",
            "_model_name": "ProgressStyleModel",
            "_view_count": null,
            "_view_module": "@jupyter-widgets/base",
            "_view_module_version": "1.2.0",
            "_view_name": "StyleView",
            "bar_color": null,
            "description_width": ""
          }
        },
        "1c58976f612b49459e20ca58bfe0b210": {
          "model_module": "@jupyter-widgets/base",
          "model_name": "LayoutModel",
          "model_module_version": "1.2.0",
          "state": {
            "_model_module": "@jupyter-widgets/base",
            "_model_module_version": "1.2.0",
            "_model_name": "LayoutModel",
            "_view_count": null,
            "_view_module": "@jupyter-widgets/base",
            "_view_module_version": "1.2.0",
            "_view_name": "LayoutView",
            "align_content": null,
            "align_items": null,
            "align_self": null,
            "border": null,
            "bottom": null,
            "display": null,
            "flex": null,
            "flex_flow": null,
            "grid_area": null,
            "grid_auto_columns": null,
            "grid_auto_flow": null,
            "grid_auto_rows": null,
            "grid_column": null,
            "grid_gap": null,
            "grid_row": null,
            "grid_template_areas": null,
            "grid_template_columns": null,
            "grid_template_rows": null,
            "height": null,
            "justify_content": null,
            "justify_items": null,
            "left": null,
            "margin": null,
            "max_height": null,
            "max_width": null,
            "min_height": null,
            "min_width": null,
            "object_fit": null,
            "object_position": null,
            "order": null,
            "overflow": null,
            "overflow_x": null,
            "overflow_y": null,
            "padding": null,
            "right": null,
            "top": null,
            "visibility": null,
            "width": null
          }
        },
        "dc9c268d1baa4c54880dd0729e56d164": {
          "model_module": "@jupyter-widgets/controls",
          "model_name": "DescriptionStyleModel",
          "model_module_version": "1.5.0",
          "state": {
            "_model_module": "@jupyter-widgets/controls",
            "_model_module_version": "1.5.0",
            "_model_name": "DescriptionStyleModel",
            "_view_count": null,
            "_view_module": "@jupyter-widgets/base",
            "_view_module_version": "1.2.0",
            "_view_name": "StyleView",
            "description_width": ""
          }
        },
        "66d13c019a70493283e60ddea1a7fb26": {
          "model_module": "@jupyter-widgets/controls",
          "model_name": "HBoxModel",
          "model_module_version": "1.5.0",
          "state": {
            "_dom_classes": [],
            "_model_module": "@jupyter-widgets/controls",
            "_model_module_version": "1.5.0",
            "_model_name": "HBoxModel",
            "_view_count": null,
            "_view_module": "@jupyter-widgets/controls",
            "_view_module_version": "1.5.0",
            "_view_name": "HBoxView",
            "box_style": "",
            "children": [
              "IPY_MODEL_af9233a5d2394035bad79ec00598c27b",
              "IPY_MODEL_c90e608c36344729bfa48be13b748d40",
              "IPY_MODEL_683401848d3b4899932df0b72eb9679a"
            ],
            "layout": "IPY_MODEL_5c356c2c4691444aaa67bc153230a27a"
          }
        },
        "af9233a5d2394035bad79ec00598c27b": {
          "model_module": "@jupyter-widgets/controls",
          "model_name": "HTMLModel",
          "model_module_version": "1.5.0",
          "state": {
            "_dom_classes": [],
            "_model_module": "@jupyter-widgets/controls",
            "_model_module_version": "1.5.0",
            "_model_name": "HTMLModel",
            "_view_count": null,
            "_view_module": "@jupyter-widgets/controls",
            "_view_module_version": "1.5.0",
            "_view_name": "HTMLView",
            "description": "",
            "description_tooltip": null,
            "layout": "IPY_MODEL_8c05150275814096ae0afc2f1fee79e6",
            "placeholder": "​",
            "style": "IPY_MODEL_ad06555875b34885abc888efd1097c41",
            "value": "Shuffling /root/tensorflow_datasets/fashion_mnist/3.0.1.incompletePVRGRI/fashion_mnist-train.tfrecord*...:  59%"
          }
        },
        "c90e608c36344729bfa48be13b748d40": {
          "model_module": "@jupyter-widgets/controls",
          "model_name": "FloatProgressModel",
          "model_module_version": "1.5.0",
          "state": {
            "_dom_classes": [],
            "_model_module": "@jupyter-widgets/controls",
            "_model_module_version": "1.5.0",
            "_model_name": "FloatProgressModel",
            "_view_count": null,
            "_view_module": "@jupyter-widgets/controls",
            "_view_module_version": "1.5.0",
            "_view_name": "ProgressView",
            "bar_style": "",
            "description": "",
            "description_tooltip": null,
            "layout": "IPY_MODEL_8146098ffaac4cf59e7da68dc2e5611b",
            "max": 60000,
            "min": 0,
            "orientation": "horizontal",
            "style": "IPY_MODEL_f120cdfd794840ef97c927b88b29fdd2",
            "value": 60000
          }
        },
        "683401848d3b4899932df0b72eb9679a": {
          "model_module": "@jupyter-widgets/controls",
          "model_name": "HTMLModel",
          "model_module_version": "1.5.0",
          "state": {
            "_dom_classes": [],
            "_model_module": "@jupyter-widgets/controls",
            "_model_module_version": "1.5.0",
            "_model_name": "HTMLModel",
            "_view_count": null,
            "_view_module": "@jupyter-widgets/controls",
            "_view_module_version": "1.5.0",
            "_view_name": "HTMLView",
            "description": "",
            "description_tooltip": null,
            "layout": "IPY_MODEL_69d77cc632284ee1a57fc165f3ee3179",
            "placeholder": "​",
            "style": "IPY_MODEL_d01a99703abd4bf2bbdd8bc0b12d9f67",
            "value": " 35326/60000 [00:00&lt;00:00, 202632.07 examples/s]"
          }
        },
        "5c356c2c4691444aaa67bc153230a27a": {
          "model_module": "@jupyter-widgets/base",
          "model_name": "LayoutModel",
          "model_module_version": "1.2.0",
          "state": {
            "_model_module": "@jupyter-widgets/base",
            "_model_module_version": "1.2.0",
            "_model_name": "LayoutModel",
            "_view_count": null,
            "_view_module": "@jupyter-widgets/base",
            "_view_module_version": "1.2.0",
            "_view_name": "LayoutView",
            "align_content": null,
            "align_items": null,
            "align_self": null,
            "border": null,
            "bottom": null,
            "display": null,
            "flex": null,
            "flex_flow": null,
            "grid_area": null,
            "grid_auto_columns": null,
            "grid_auto_flow": null,
            "grid_auto_rows": null,
            "grid_column": null,
            "grid_gap": null,
            "grid_row": null,
            "grid_template_areas": null,
            "grid_template_columns": null,
            "grid_template_rows": null,
            "height": null,
            "justify_content": null,
            "justify_items": null,
            "left": null,
            "margin": null,
            "max_height": null,
            "max_width": null,
            "min_height": null,
            "min_width": null,
            "object_fit": null,
            "object_position": null,
            "order": null,
            "overflow": null,
            "overflow_x": null,
            "overflow_y": null,
            "padding": null,
            "right": null,
            "top": null,
            "visibility": "hidden",
            "width": null
          }
        },
        "8c05150275814096ae0afc2f1fee79e6": {
          "model_module": "@jupyter-widgets/base",
          "model_name": "LayoutModel",
          "model_module_version": "1.2.0",
          "state": {
            "_model_module": "@jupyter-widgets/base",
            "_model_module_version": "1.2.0",
            "_model_name": "LayoutModel",
            "_view_count": null,
            "_view_module": "@jupyter-widgets/base",
            "_view_module_version": "1.2.0",
            "_view_name": "LayoutView",
            "align_content": null,
            "align_items": null,
            "align_self": null,
            "border": null,
            "bottom": null,
            "display": null,
            "flex": null,
            "flex_flow": null,
            "grid_area": null,
            "grid_auto_columns": null,
            "grid_auto_flow": null,
            "grid_auto_rows": null,
            "grid_column": null,
            "grid_gap": null,
            "grid_row": null,
            "grid_template_areas": null,
            "grid_template_columns": null,
            "grid_template_rows": null,
            "height": null,
            "justify_content": null,
            "justify_items": null,
            "left": null,
            "margin": null,
            "max_height": null,
            "max_width": null,
            "min_height": null,
            "min_width": null,
            "object_fit": null,
            "object_position": null,
            "order": null,
            "overflow": null,
            "overflow_x": null,
            "overflow_y": null,
            "padding": null,
            "right": null,
            "top": null,
            "visibility": null,
            "width": null
          }
        },
        "ad06555875b34885abc888efd1097c41": {
          "model_module": "@jupyter-widgets/controls",
          "model_name": "DescriptionStyleModel",
          "model_module_version": "1.5.0",
          "state": {
            "_model_module": "@jupyter-widgets/controls",
            "_model_module_version": "1.5.0",
            "_model_name": "DescriptionStyleModel",
            "_view_count": null,
            "_view_module": "@jupyter-widgets/base",
            "_view_module_version": "1.2.0",
            "_view_name": "StyleView",
            "description_width": ""
          }
        },
        "8146098ffaac4cf59e7da68dc2e5611b": {
          "model_module": "@jupyter-widgets/base",
          "model_name": "LayoutModel",
          "model_module_version": "1.2.0",
          "state": {
            "_model_module": "@jupyter-widgets/base",
            "_model_module_version": "1.2.0",
            "_model_name": "LayoutModel",
            "_view_count": null,
            "_view_module": "@jupyter-widgets/base",
            "_view_module_version": "1.2.0",
            "_view_name": "LayoutView",
            "align_content": null,
            "align_items": null,
            "align_self": null,
            "border": null,
            "bottom": null,
            "display": null,
            "flex": null,
            "flex_flow": null,
            "grid_area": null,
            "grid_auto_columns": null,
            "grid_auto_flow": null,
            "grid_auto_rows": null,
            "grid_column": null,
            "grid_gap": null,
            "grid_row": null,
            "grid_template_areas": null,
            "grid_template_columns": null,
            "grid_template_rows": null,
            "height": null,
            "justify_content": null,
            "justify_items": null,
            "left": null,
            "margin": null,
            "max_height": null,
            "max_width": null,
            "min_height": null,
            "min_width": null,
            "object_fit": null,
            "object_position": null,
            "order": null,
            "overflow": null,
            "overflow_x": null,
            "overflow_y": null,
            "padding": null,
            "right": null,
            "top": null,
            "visibility": null,
            "width": null
          }
        },
        "f120cdfd794840ef97c927b88b29fdd2": {
          "model_module": "@jupyter-widgets/controls",
          "model_name": "ProgressStyleModel",
          "model_module_version": "1.5.0",
          "state": {
            "_model_module": "@jupyter-widgets/controls",
            "_model_module_version": "1.5.0",
            "_model_name": "ProgressStyleModel",
            "_view_count": null,
            "_view_module": "@jupyter-widgets/base",
            "_view_module_version": "1.2.0",
            "_view_name": "StyleView",
            "bar_color": null,
            "description_width": ""
          }
        },
        "69d77cc632284ee1a57fc165f3ee3179": {
          "model_module": "@jupyter-widgets/base",
          "model_name": "LayoutModel",
          "model_module_version": "1.2.0",
          "state": {
            "_model_module": "@jupyter-widgets/base",
            "_model_module_version": "1.2.0",
            "_model_name": "LayoutModel",
            "_view_count": null,
            "_view_module": "@jupyter-widgets/base",
            "_view_module_version": "1.2.0",
            "_view_name": "LayoutView",
            "align_content": null,
            "align_items": null,
            "align_self": null,
            "border": null,
            "bottom": null,
            "display": null,
            "flex": null,
            "flex_flow": null,
            "grid_area": null,
            "grid_auto_columns": null,
            "grid_auto_flow": null,
            "grid_auto_rows": null,
            "grid_column": null,
            "grid_gap": null,
            "grid_row": null,
            "grid_template_areas": null,
            "grid_template_columns": null,
            "grid_template_rows": null,
            "height": null,
            "justify_content": null,
            "justify_items": null,
            "left": null,
            "margin": null,
            "max_height": null,
            "max_width": null,
            "min_height": null,
            "min_width": null,
            "object_fit": null,
            "object_position": null,
            "order": null,
            "overflow": null,
            "overflow_x": null,
            "overflow_y": null,
            "padding": null,
            "right": null,
            "top": null,
            "visibility": null,
            "width": null
          }
        },
        "d01a99703abd4bf2bbdd8bc0b12d9f67": {
          "model_module": "@jupyter-widgets/controls",
          "model_name": "DescriptionStyleModel",
          "model_module_version": "1.5.0",
          "state": {
            "_model_module": "@jupyter-widgets/controls",
            "_model_module_version": "1.5.0",
            "_model_name": "DescriptionStyleModel",
            "_view_count": null,
            "_view_module": "@jupyter-widgets/base",
            "_view_module_version": "1.2.0",
            "_view_name": "StyleView",
            "description_width": ""
          }
        },
        "9c6266e6a5a246faa96fbcf70bdb97d0": {
          "model_module": "@jupyter-widgets/controls",
          "model_name": "HBoxModel",
          "model_module_version": "1.5.0",
          "state": {
            "_dom_classes": [],
            "_model_module": "@jupyter-widgets/controls",
            "_model_module_version": "1.5.0",
            "_model_name": "HBoxModel",
            "_view_count": null,
            "_view_module": "@jupyter-widgets/controls",
            "_view_module_version": "1.5.0",
            "_view_name": "HBoxView",
            "box_style": "",
            "children": [
              "IPY_MODEL_2f239cca1bce491eb391c2152e9949e0",
              "IPY_MODEL_bf95c9d5725a47dc8850ddc66fc85b44",
              "IPY_MODEL_50657963fa3f4b96b67c4d09ad7a4676"
            ],
            "layout": "IPY_MODEL_31baee29814f4a03a8f2639c4a9de559"
          }
        },
        "2f239cca1bce491eb391c2152e9949e0": {
          "model_module": "@jupyter-widgets/controls",
          "model_name": "HTMLModel",
          "model_module_version": "1.5.0",
          "state": {
            "_dom_classes": [],
            "_model_module": "@jupyter-widgets/controls",
            "_model_module_version": "1.5.0",
            "_model_name": "HTMLModel",
            "_view_count": null,
            "_view_module": "@jupyter-widgets/controls",
            "_view_module_version": "1.5.0",
            "_view_name": "HTMLView",
            "description": "",
            "description_tooltip": null,
            "layout": "IPY_MODEL_2c0dd69869c444f3abf30c862fe04c58",
            "placeholder": "​",
            "style": "IPY_MODEL_f911a84b0fa74c8caa85a189329c4fdb",
            "value": "Generating test examples...: 100%"
          }
        },
        "bf95c9d5725a47dc8850ddc66fc85b44": {
          "model_module": "@jupyter-widgets/controls",
          "model_name": "FloatProgressModel",
          "model_module_version": "1.5.0",
          "state": {
            "_dom_classes": [],
            "_model_module": "@jupyter-widgets/controls",
            "_model_module_version": "1.5.0",
            "_model_name": "FloatProgressModel",
            "_view_count": null,
            "_view_module": "@jupyter-widgets/controls",
            "_view_module_version": "1.5.0",
            "_view_name": "ProgressView",
            "bar_style": "",
            "description": "",
            "description_tooltip": null,
            "layout": "IPY_MODEL_26f9694cd273443aa2e0fb32d2c73cb0",
            "max": 10000,
            "min": 0,
            "orientation": "horizontal",
            "style": "IPY_MODEL_7a02f9cb8b394829976c11c51ab6104e",
            "value": 10000
          }
        },
        "50657963fa3f4b96b67c4d09ad7a4676": {
          "model_module": "@jupyter-widgets/controls",
          "model_name": "HTMLModel",
          "model_module_version": "1.5.0",
          "state": {
            "_dom_classes": [],
            "_model_module": "@jupyter-widgets/controls",
            "_model_module_version": "1.5.0",
            "_model_name": "HTMLModel",
            "_view_count": null,
            "_view_module": "@jupyter-widgets/controls",
            "_view_module_version": "1.5.0",
            "_view_name": "HTMLView",
            "description": "",
            "description_tooltip": null,
            "layout": "IPY_MODEL_f97cf91c77a846c890cf921b40b1b87b",
            "placeholder": "​",
            "style": "IPY_MODEL_a0f0b09dded14e43b5b354779ba7ee30",
            "value": " 9954/10000 [00:04&lt;00:00, 1795.96 examples/s]"
          }
        },
        "31baee29814f4a03a8f2639c4a9de559": {
          "model_module": "@jupyter-widgets/base",
          "model_name": "LayoutModel",
          "model_module_version": "1.2.0",
          "state": {
            "_model_module": "@jupyter-widgets/base",
            "_model_module_version": "1.2.0",
            "_model_name": "LayoutModel",
            "_view_count": null,
            "_view_module": "@jupyter-widgets/base",
            "_view_module_version": "1.2.0",
            "_view_name": "LayoutView",
            "align_content": null,
            "align_items": null,
            "align_self": null,
            "border": null,
            "bottom": null,
            "display": null,
            "flex": null,
            "flex_flow": null,
            "grid_area": null,
            "grid_auto_columns": null,
            "grid_auto_flow": null,
            "grid_auto_rows": null,
            "grid_column": null,
            "grid_gap": null,
            "grid_row": null,
            "grid_template_areas": null,
            "grid_template_columns": null,
            "grid_template_rows": null,
            "height": null,
            "justify_content": null,
            "justify_items": null,
            "left": null,
            "margin": null,
            "max_height": null,
            "max_width": null,
            "min_height": null,
            "min_width": null,
            "object_fit": null,
            "object_position": null,
            "order": null,
            "overflow": null,
            "overflow_x": null,
            "overflow_y": null,
            "padding": null,
            "right": null,
            "top": null,
            "visibility": "hidden",
            "width": null
          }
        },
        "2c0dd69869c444f3abf30c862fe04c58": {
          "model_module": "@jupyter-widgets/base",
          "model_name": "LayoutModel",
          "model_module_version": "1.2.0",
          "state": {
            "_model_module": "@jupyter-widgets/base",
            "_model_module_version": "1.2.0",
            "_model_name": "LayoutModel",
            "_view_count": null,
            "_view_module": "@jupyter-widgets/base",
            "_view_module_version": "1.2.0",
            "_view_name": "LayoutView",
            "align_content": null,
            "align_items": null,
            "align_self": null,
            "border": null,
            "bottom": null,
            "display": null,
            "flex": null,
            "flex_flow": null,
            "grid_area": null,
            "grid_auto_columns": null,
            "grid_auto_flow": null,
            "grid_auto_rows": null,
            "grid_column": null,
            "grid_gap": null,
            "grid_row": null,
            "grid_template_areas": null,
            "grid_template_columns": null,
            "grid_template_rows": null,
            "height": null,
            "justify_content": null,
            "justify_items": null,
            "left": null,
            "margin": null,
            "max_height": null,
            "max_width": null,
            "min_height": null,
            "min_width": null,
            "object_fit": null,
            "object_position": null,
            "order": null,
            "overflow": null,
            "overflow_x": null,
            "overflow_y": null,
            "padding": null,
            "right": null,
            "top": null,
            "visibility": null,
            "width": null
          }
        },
        "f911a84b0fa74c8caa85a189329c4fdb": {
          "model_module": "@jupyter-widgets/controls",
          "model_name": "DescriptionStyleModel",
          "model_module_version": "1.5.0",
          "state": {
            "_model_module": "@jupyter-widgets/controls",
            "_model_module_version": "1.5.0",
            "_model_name": "DescriptionStyleModel",
            "_view_count": null,
            "_view_module": "@jupyter-widgets/base",
            "_view_module_version": "1.2.0",
            "_view_name": "StyleView",
            "description_width": ""
          }
        },
        "26f9694cd273443aa2e0fb32d2c73cb0": {
          "model_module": "@jupyter-widgets/base",
          "model_name": "LayoutModel",
          "model_module_version": "1.2.0",
          "state": {
            "_model_module": "@jupyter-widgets/base",
            "_model_module_version": "1.2.0",
            "_model_name": "LayoutModel",
            "_view_count": null,
            "_view_module": "@jupyter-widgets/base",
            "_view_module_version": "1.2.0",
            "_view_name": "LayoutView",
            "align_content": null,
            "align_items": null,
            "align_self": null,
            "border": null,
            "bottom": null,
            "display": null,
            "flex": null,
            "flex_flow": null,
            "grid_area": null,
            "grid_auto_columns": null,
            "grid_auto_flow": null,
            "grid_auto_rows": null,
            "grid_column": null,
            "grid_gap": null,
            "grid_row": null,
            "grid_template_areas": null,
            "grid_template_columns": null,
            "grid_template_rows": null,
            "height": null,
            "justify_content": null,
            "justify_items": null,
            "left": null,
            "margin": null,
            "max_height": null,
            "max_width": null,
            "min_height": null,
            "min_width": null,
            "object_fit": null,
            "object_position": null,
            "order": null,
            "overflow": null,
            "overflow_x": null,
            "overflow_y": null,
            "padding": null,
            "right": null,
            "top": null,
            "visibility": null,
            "width": null
          }
        },
        "7a02f9cb8b394829976c11c51ab6104e": {
          "model_module": "@jupyter-widgets/controls",
          "model_name": "ProgressStyleModel",
          "model_module_version": "1.5.0",
          "state": {
            "_model_module": "@jupyter-widgets/controls",
            "_model_module_version": "1.5.0",
            "_model_name": "ProgressStyleModel",
            "_view_count": null,
            "_view_module": "@jupyter-widgets/base",
            "_view_module_version": "1.2.0",
            "_view_name": "StyleView",
            "bar_color": null,
            "description_width": ""
          }
        },
        "f97cf91c77a846c890cf921b40b1b87b": {
          "model_module": "@jupyter-widgets/base",
          "model_name": "LayoutModel",
          "model_module_version": "1.2.0",
          "state": {
            "_model_module": "@jupyter-widgets/base",
            "_model_module_version": "1.2.0",
            "_model_name": "LayoutModel",
            "_view_count": null,
            "_view_module": "@jupyter-widgets/base",
            "_view_module_version": "1.2.0",
            "_view_name": "LayoutView",
            "align_content": null,
            "align_items": null,
            "align_self": null,
            "border": null,
            "bottom": null,
            "display": null,
            "flex": null,
            "flex_flow": null,
            "grid_area": null,
            "grid_auto_columns": null,
            "grid_auto_flow": null,
            "grid_auto_rows": null,
            "grid_column": null,
            "grid_gap": null,
            "grid_row": null,
            "grid_template_areas": null,
            "grid_template_columns": null,
            "grid_template_rows": null,
            "height": null,
            "justify_content": null,
            "justify_items": null,
            "left": null,
            "margin": null,
            "max_height": null,
            "max_width": null,
            "min_height": null,
            "min_width": null,
            "object_fit": null,
            "object_position": null,
            "order": null,
            "overflow": null,
            "overflow_x": null,
            "overflow_y": null,
            "padding": null,
            "right": null,
            "top": null,
            "visibility": null,
            "width": null
          }
        },
        "a0f0b09dded14e43b5b354779ba7ee30": {
          "model_module": "@jupyter-widgets/controls",
          "model_name": "DescriptionStyleModel",
          "model_module_version": "1.5.0",
          "state": {
            "_model_module": "@jupyter-widgets/controls",
            "_model_module_version": "1.5.0",
            "_model_name": "DescriptionStyleModel",
            "_view_count": null,
            "_view_module": "@jupyter-widgets/base",
            "_view_module_version": "1.2.0",
            "_view_name": "StyleView",
            "description_width": ""
          }
        },
        "ff6cf3edabd64f3b9e375c83ed5d1fed": {
          "model_module": "@jupyter-widgets/controls",
          "model_name": "HBoxModel",
          "model_module_version": "1.5.0",
          "state": {
            "_dom_classes": [],
            "_model_module": "@jupyter-widgets/controls",
            "_model_module_version": "1.5.0",
            "_model_name": "HBoxModel",
            "_view_count": null,
            "_view_module": "@jupyter-widgets/controls",
            "_view_module_version": "1.5.0",
            "_view_name": "HBoxView",
            "box_style": "",
            "children": [
              "IPY_MODEL_d085bfb4070441d1bba0c41b1dbb463c",
              "IPY_MODEL_bfbddaef8453467e88a37a4ab694ac44",
              "IPY_MODEL_36cc823c0269434988d1bdb1ef506d06"
            ],
            "layout": "IPY_MODEL_e580db7f5bd44f23a4e87891e3fcbfea"
          }
        },
        "d085bfb4070441d1bba0c41b1dbb463c": {
          "model_module": "@jupyter-widgets/controls",
          "model_name": "HTMLModel",
          "model_module_version": "1.5.0",
          "state": {
            "_dom_classes": [],
            "_model_module": "@jupyter-widgets/controls",
            "_model_module_version": "1.5.0",
            "_model_name": "HTMLModel",
            "_view_count": null,
            "_view_module": "@jupyter-widgets/controls",
            "_view_module_version": "1.5.0",
            "_view_name": "HTMLView",
            "description": "",
            "description_tooltip": null,
            "layout": "IPY_MODEL_7150ed85db37412cb064e781d7624bed",
            "placeholder": "​",
            "style": "IPY_MODEL_2bd28920fce846f1a76db5ae1ff433a5",
            "value": "Shuffling /root/tensorflow_datasets/fashion_mnist/3.0.1.incompletePVRGRI/fashion_mnist-test.tfrecord*...:   0%"
          }
        },
        "bfbddaef8453467e88a37a4ab694ac44": {
          "model_module": "@jupyter-widgets/controls",
          "model_name": "FloatProgressModel",
          "model_module_version": "1.5.0",
          "state": {
            "_dom_classes": [],
            "_model_module": "@jupyter-widgets/controls",
            "_model_module_version": "1.5.0",
            "_model_name": "FloatProgressModel",
            "_view_count": null,
            "_view_module": "@jupyter-widgets/controls",
            "_view_module_version": "1.5.0",
            "_view_name": "ProgressView",
            "bar_style": "",
            "description": "",
            "description_tooltip": null,
            "layout": "IPY_MODEL_b8f297dcbaab4655b6dc6df7e2a9bf61",
            "max": 10000,
            "min": 0,
            "orientation": "horizontal",
            "style": "IPY_MODEL_702f73f624644dc59ce6efefe1c9ad17",
            "value": 10000
          }
        },
        "36cc823c0269434988d1bdb1ef506d06": {
          "model_module": "@jupyter-widgets/controls",
          "model_name": "HTMLModel",
          "model_module_version": "1.5.0",
          "state": {
            "_dom_classes": [],
            "_model_module": "@jupyter-widgets/controls",
            "_model_module_version": "1.5.0",
            "_model_name": "HTMLModel",
            "_view_count": null,
            "_view_module": "@jupyter-widgets/controls",
            "_view_module_version": "1.5.0",
            "_view_name": "HTMLView",
            "description": "",
            "description_tooltip": null,
            "layout": "IPY_MODEL_f449b12d106f40218ae7ccc159ca9e9c",
            "placeholder": "​",
            "style": "IPY_MODEL_fd5c5b36007b46f7a36eeeaa124438b5",
            "value": " 0/10000 [00:00&lt;?, ? examples/s]"
          }
        },
        "e580db7f5bd44f23a4e87891e3fcbfea": {
          "model_module": "@jupyter-widgets/base",
          "model_name": "LayoutModel",
          "model_module_version": "1.2.0",
          "state": {
            "_model_module": "@jupyter-widgets/base",
            "_model_module_version": "1.2.0",
            "_model_name": "LayoutModel",
            "_view_count": null,
            "_view_module": "@jupyter-widgets/base",
            "_view_module_version": "1.2.0",
            "_view_name": "LayoutView",
            "align_content": null,
            "align_items": null,
            "align_self": null,
            "border": null,
            "bottom": null,
            "display": null,
            "flex": null,
            "flex_flow": null,
            "grid_area": null,
            "grid_auto_columns": null,
            "grid_auto_flow": null,
            "grid_auto_rows": null,
            "grid_column": null,
            "grid_gap": null,
            "grid_row": null,
            "grid_template_areas": null,
            "grid_template_columns": null,
            "grid_template_rows": null,
            "height": null,
            "justify_content": null,
            "justify_items": null,
            "left": null,
            "margin": null,
            "max_height": null,
            "max_width": null,
            "min_height": null,
            "min_width": null,
            "object_fit": null,
            "object_position": null,
            "order": null,
            "overflow": null,
            "overflow_x": null,
            "overflow_y": null,
            "padding": null,
            "right": null,
            "top": null,
            "visibility": "hidden",
            "width": null
          }
        },
        "7150ed85db37412cb064e781d7624bed": {
          "model_module": "@jupyter-widgets/base",
          "model_name": "LayoutModel",
          "model_module_version": "1.2.0",
          "state": {
            "_model_module": "@jupyter-widgets/base",
            "_model_module_version": "1.2.0",
            "_model_name": "LayoutModel",
            "_view_count": null,
            "_view_module": "@jupyter-widgets/base",
            "_view_module_version": "1.2.0",
            "_view_name": "LayoutView",
            "align_content": null,
            "align_items": null,
            "align_self": null,
            "border": null,
            "bottom": null,
            "display": null,
            "flex": null,
            "flex_flow": null,
            "grid_area": null,
            "grid_auto_columns": null,
            "grid_auto_flow": null,
            "grid_auto_rows": null,
            "grid_column": null,
            "grid_gap": null,
            "grid_row": null,
            "grid_template_areas": null,
            "grid_template_columns": null,
            "grid_template_rows": null,
            "height": null,
            "justify_content": null,
            "justify_items": null,
            "left": null,
            "margin": null,
            "max_height": null,
            "max_width": null,
            "min_height": null,
            "min_width": null,
            "object_fit": null,
            "object_position": null,
            "order": null,
            "overflow": null,
            "overflow_x": null,
            "overflow_y": null,
            "padding": null,
            "right": null,
            "top": null,
            "visibility": null,
            "width": null
          }
        },
        "2bd28920fce846f1a76db5ae1ff433a5": {
          "model_module": "@jupyter-widgets/controls",
          "model_name": "DescriptionStyleModel",
          "model_module_version": "1.5.0",
          "state": {
            "_model_module": "@jupyter-widgets/controls",
            "_model_module_version": "1.5.0",
            "_model_name": "DescriptionStyleModel",
            "_view_count": null,
            "_view_module": "@jupyter-widgets/base",
            "_view_module_version": "1.2.0",
            "_view_name": "StyleView",
            "description_width": ""
          }
        },
        "b8f297dcbaab4655b6dc6df7e2a9bf61": {
          "model_module": "@jupyter-widgets/base",
          "model_name": "LayoutModel",
          "model_module_version": "1.2.0",
          "state": {
            "_model_module": "@jupyter-widgets/base",
            "_model_module_version": "1.2.0",
            "_model_name": "LayoutModel",
            "_view_count": null,
            "_view_module": "@jupyter-widgets/base",
            "_view_module_version": "1.2.0",
            "_view_name": "LayoutView",
            "align_content": null,
            "align_items": null,
            "align_self": null,
            "border": null,
            "bottom": null,
            "display": null,
            "flex": null,
            "flex_flow": null,
            "grid_area": null,
            "grid_auto_columns": null,
            "grid_auto_flow": null,
            "grid_auto_rows": null,
            "grid_column": null,
            "grid_gap": null,
            "grid_row": null,
            "grid_template_areas": null,
            "grid_template_columns": null,
            "grid_template_rows": null,
            "height": null,
            "justify_content": null,
            "justify_items": null,
            "left": null,
            "margin": null,
            "max_height": null,
            "max_width": null,
            "min_height": null,
            "min_width": null,
            "object_fit": null,
            "object_position": null,
            "order": null,
            "overflow": null,
            "overflow_x": null,
            "overflow_y": null,
            "padding": null,
            "right": null,
            "top": null,
            "visibility": null,
            "width": null
          }
        },
        "702f73f624644dc59ce6efefe1c9ad17": {
          "model_module": "@jupyter-widgets/controls",
          "model_name": "ProgressStyleModel",
          "model_module_version": "1.5.0",
          "state": {
            "_model_module": "@jupyter-widgets/controls",
            "_model_module_version": "1.5.0",
            "_model_name": "ProgressStyleModel",
            "_view_count": null,
            "_view_module": "@jupyter-widgets/base",
            "_view_module_version": "1.2.0",
            "_view_name": "StyleView",
            "bar_color": null,
            "description_width": ""
          }
        },
        "f449b12d106f40218ae7ccc159ca9e9c": {
          "model_module": "@jupyter-widgets/base",
          "model_name": "LayoutModel",
          "model_module_version": "1.2.0",
          "state": {
            "_model_module": "@jupyter-widgets/base",
            "_model_module_version": "1.2.0",
            "_model_name": "LayoutModel",
            "_view_count": null,
            "_view_module": "@jupyter-widgets/base",
            "_view_module_version": "1.2.0",
            "_view_name": "LayoutView",
            "align_content": null,
            "align_items": null,
            "align_self": null,
            "border": null,
            "bottom": null,
            "display": null,
            "flex": null,
            "flex_flow": null,
            "grid_area": null,
            "grid_auto_columns": null,
            "grid_auto_flow": null,
            "grid_auto_rows": null,
            "grid_column": null,
            "grid_gap": null,
            "grid_row": null,
            "grid_template_areas": null,
            "grid_template_columns": null,
            "grid_template_rows": null,
            "height": null,
            "justify_content": null,
            "justify_items": null,
            "left": null,
            "margin": null,
            "max_height": null,
            "max_width": null,
            "min_height": null,
            "min_width": null,
            "object_fit": null,
            "object_position": null,
            "order": null,
            "overflow": null,
            "overflow_x": null,
            "overflow_y": null,
            "padding": null,
            "right": null,
            "top": null,
            "visibility": null,
            "width": null
          }
        },
        "fd5c5b36007b46f7a36eeeaa124438b5": {
          "model_module": "@jupyter-widgets/controls",
          "model_name": "DescriptionStyleModel",
          "model_module_version": "1.5.0",
          "state": {
            "_model_module": "@jupyter-widgets/controls",
            "_model_module_version": "1.5.0",
            "_model_name": "DescriptionStyleModel",
            "_view_count": null,
            "_view_module": "@jupyter-widgets/base",
            "_view_module_version": "1.2.0",
            "_view_name": "StyleView",
            "description_width": ""
          }
        }
      }
    }
  },
  "cells": [
    {
      "cell_type": "markdown",
      "metadata": {
        "id": "view-in-github",
        "colab_type": "text"
      },
      "source": [
        "<a href=\"https://colab.research.google.com/github/Nautyy9/fashion_mnist/blob/main/Fashion_mnist.ipynb\" target=\"_parent\"><img src=\"https://colab.research.google.com/assets/colab-badge.svg\" alt=\"Open In Colab\"/></a>"
      ]
    },
    {
      "cell_type": "code",
      "execution_count": null,
      "metadata": {
        "id": "mF4G1hyZVsTU"
      },
      "outputs": [],
      "source": [
        "import tensorflow as tf\n",
        "from tensorflow.keras.layers import Input, GlobalAvgPool2D,GlobalAveragePooling2D, Activation, Layer, Conv2D,LayerNormalization,MultiHeadAttention, BatchNormalization,Add, Flatten,Embedding ,MaxPool2D,Dense,InputLayer\n",
        "from tensorflow.keras.optimizers import Adam, SGD\n",
        "from tensorflow.keras import Sequential, Model\n",
        "from tensorflow.keras.losses import CategoricalCrossentropy\n",
        "\n",
        "import tensorflow_datasets as tfds\n",
        "import albumentations as A\n",
        "from PIL import Image\n",
        "import numpy as np\n",
        "import matplotlib.pyplot as plt\n",
        "import cv2\n",
        "from sklearn.preprocessing import LabelEncoder"
      ]
    },
    {
      "cell_type": "markdown",
      "source": [
        "#Config"
      ],
      "metadata": {
        "id": "T0y38bjmOOw-"
      }
    },
    {
      "cell_type": "code",
      "source": [
        "config ={\n",
        "    \"im_size\" : 224,\n",
        "    \"batch_size\" : 32,\n",
        "    \"epochs\" : 20,\n",
        "    \"patch_size\" : 2,\n",
        "}\n",
        "Classes = ['T-shirt/top', 'Trouser', 'Pullover', 'Dress', 'Coat', 'Sandal', 'Shirt', 'Sneaker', 'Bag', 'Ankle boot']"
      ],
      "metadata": {
        "id": "nv7YCt_COQYH"
      },
      "execution_count": null,
      "outputs": []
    },
    {
      "cell_type": "markdown",
      "source": [
        "#TFDS"
      ],
      "metadata": {
        "id": "sO3B5NJyn8nG"
      }
    },
    {
      "cell_type": "markdown",
      "source": [
        "## Downloading/Preparing Dataset"
      ],
      "metadata": {
        "id": "5epMcOVffsAr"
      }
    },
    {
      "cell_type": "code",
      "source": [
        "# By using as_supervised=True, you can get a tuple (features, label) instead for supervised datasets.\n",
        "\n",
        "dataset, dataset_info = tfds.load(\"fashion_mnist\", split=[\"train\"] , with_info=True, as_supervised=True, shuffle_files=True)"
      ],
      "metadata": {
        "id": "S9hGxKUlWORz",
        "colab": {
          "base_uri": "https://localhost:8080/",
          "height": 168,
          "referenced_widgets": [
            "db69f300244f43aeb4127beff10013f3",
            "a8f3ec165a43420f832ad3a3a2d2144d",
            "2baac1fc5a674edb93ef6d6e4ccb5945",
            "4d13e19574e9432f915b729497f18391",
            "8b7687ca45514c0fb3d7f236048ff59b",
            "66af552f270d414ebf3808dac8f516b2",
            "53bfd735e93b4eb0a90b57aec6d0bc50",
            "3b72d8564edd411b98e89bfd9aa428eb",
            "4a47636f8ed344f8b1a039be111df274",
            "0bf6e5ccc3d94740b643c24929544b9e",
            "1fa09fe7399e4c0181c9b4a05a189e05",
            "145a7cce7cfd4f71ab3d1d2c64461695",
            "c46bbaf8a8654184b4dd3a344b18fe46",
            "2ffceaee6c9a4f32bf732124d6976958",
            "ebafed2cca914070b0643a34829e9c20",
            "e2de280ad37743d2836c0dd404490d06",
            "f80984be83fe46969c5c6f3ce1dc5d6f",
            "eecb828423184e8aa3bd1188e2a6bd65",
            "2aa322ad39404570bec7f7d4bf5b82c6",
            "e1058198ea3f421f8b9b8f2ab281d1fc",
            "320c272aff8245e3b6ec87710b0096e6",
            "345ca1de79d64a9ba46ddf4979d1cdad",
            "5b70becdadf14a1f9f0293ad3fe6408a",
            "e59d5a73b3004aa79ebcd7ff31b357b1",
            "4373aa785994454e8d248a6222b0b757",
            "52955a89a2344a538e5f7f7983aff468",
            "c2952e2881ac4ad7af97898b6e4a8fed",
            "bb40549c5905422ba9830ac849d721f3",
            "1e9776edf51844ef8b2b3e9edcd4e47f",
            "7b9377fafe6345cc93506586ad3de3f7",
            "1276f9e29e7449ec81adeecbcc113b4c",
            "293ae1ad09aa4302b4810081f70a4f36",
            "d5894c05af4f49ea8b5f821f3902ea35",
            "98f1ee16c62c419d8d6d1925778c8968",
            "4c52420e594a4735a34c3b7f4bb43204",
            "83e46db4933049eaa7a946dd65269246",
            "4617fd5474b248aca84aeab0476d8e4f",
            "c74be43cdaba47d9a8188b6ce997f3d6",
            "5a662e2853694511afd158f2b8a732e0",
            "475912b6a40c470f854b55557b4cd8a3",
            "b926ec5010684e6c95aa3b2d4e25c33d",
            "91b7a88902b34c938bdccdcc93455c09",
            "e66c068316a44830a1e1a548578f556c",
            "6ea4d9cee80e44ef95f0975a47426095",
            "1aebb917352148dfadb85a0b9ef43bc4",
            "5771bb5000f44a928a4f5f8c2c3b1fbc",
            "d5ff967955504f5389b666befc79076f",
            "eeea190ce31044459aac2904ebcbeee6",
            "97c78f7dcf054a6d86f93ebbcefe6b46",
            "f419e669522643cc8cf5834d10b37f91",
            "a58d611e32e34102a7cfef122d44d8aa",
            "5c25a7541b4a4346ba63d72b31719122",
            "02421c62ac3a4959a3f833181a956a57",
            "1c58976f612b49459e20ca58bfe0b210",
            "dc9c268d1baa4c54880dd0729e56d164",
            "66d13c019a70493283e60ddea1a7fb26",
            "af9233a5d2394035bad79ec00598c27b",
            "c90e608c36344729bfa48be13b748d40",
            "683401848d3b4899932df0b72eb9679a",
            "5c356c2c4691444aaa67bc153230a27a",
            "8c05150275814096ae0afc2f1fee79e6",
            "ad06555875b34885abc888efd1097c41",
            "8146098ffaac4cf59e7da68dc2e5611b",
            "f120cdfd794840ef97c927b88b29fdd2",
            "69d77cc632284ee1a57fc165f3ee3179",
            "d01a99703abd4bf2bbdd8bc0b12d9f67",
            "9c6266e6a5a246faa96fbcf70bdb97d0",
            "2f239cca1bce491eb391c2152e9949e0",
            "bf95c9d5725a47dc8850ddc66fc85b44",
            "50657963fa3f4b96b67c4d09ad7a4676",
            "31baee29814f4a03a8f2639c4a9de559",
            "2c0dd69869c444f3abf30c862fe04c58",
            "f911a84b0fa74c8caa85a189329c4fdb",
            "26f9694cd273443aa2e0fb32d2c73cb0",
            "7a02f9cb8b394829976c11c51ab6104e",
            "f97cf91c77a846c890cf921b40b1b87b",
            "a0f0b09dded14e43b5b354779ba7ee30",
            "ff6cf3edabd64f3b9e375c83ed5d1fed",
            "d085bfb4070441d1bba0c41b1dbb463c",
            "bfbddaef8453467e88a37a4ab694ac44",
            "36cc823c0269434988d1bdb1ef506d06",
            "e580db7f5bd44f23a4e87891e3fcbfea",
            "7150ed85db37412cb064e781d7624bed",
            "2bd28920fce846f1a76db5ae1ff433a5",
            "b8f297dcbaab4655b6dc6df7e2a9bf61",
            "702f73f624644dc59ce6efefe1c9ad17",
            "f449b12d106f40218ae7ccc159ca9e9c",
            "fd5c5b36007b46f7a36eeeaa124438b5"
          ]
        },
        "outputId": "6eca3c5e-f66d-4a28-d470-6bfd919c9bb3"
      },
      "execution_count": null,
      "outputs": [
        {
          "output_type": "stream",
          "name": "stdout",
          "text": [
            "Downloading and preparing dataset 29.45 MiB (download: 29.45 MiB, generated: 36.42 MiB, total: 65.87 MiB) to /root/tensorflow_datasets/fashion_mnist/3.0.1...\n"
          ]
        },
        {
          "output_type": "display_data",
          "data": {
            "text/plain": [
              "Dl Completed...: 0 url [00:00, ? url/s]"
            ],
            "application/vnd.jupyter.widget-view+json": {
              "version_major": 2,
              "version_minor": 0,
              "model_id": "db69f300244f43aeb4127beff10013f3"
            }
          },
          "metadata": {}
        },
        {
          "output_type": "display_data",
          "data": {
            "text/plain": [
              "Dl Size...: 0 MiB [00:00, ? MiB/s]"
            ],
            "application/vnd.jupyter.widget-view+json": {
              "version_major": 2,
              "version_minor": 0,
              "model_id": "145a7cce7cfd4f71ab3d1d2c64461695"
            }
          },
          "metadata": {}
        },
        {
          "output_type": "display_data",
          "data": {
            "text/plain": [
              "Extraction completed...: 0 file [00:00, ? file/s]"
            ],
            "application/vnd.jupyter.widget-view+json": {
              "version_major": 2,
              "version_minor": 0,
              "model_id": "5b70becdadf14a1f9f0293ad3fe6408a"
            }
          },
          "metadata": {}
        },
        {
          "output_type": "display_data",
          "data": {
            "text/plain": [
              "Generating splits...:   0%|          | 0/2 [00:00<?, ? splits/s]"
            ],
            "application/vnd.jupyter.widget-view+json": {
              "version_major": 2,
              "version_minor": 0,
              "model_id": "98f1ee16c62c419d8d6d1925778c8968"
            }
          },
          "metadata": {}
        },
        {
          "output_type": "display_data",
          "data": {
            "text/plain": [
              "Generating train examples...:   0%|          | 0/60000 [00:00<?, ? examples/s]"
            ],
            "application/vnd.jupyter.widget-view+json": {
              "version_major": 2,
              "version_minor": 0,
              "model_id": "1aebb917352148dfadb85a0b9ef43bc4"
            }
          },
          "metadata": {}
        },
        {
          "output_type": "display_data",
          "data": {
            "text/plain": [
              "Shuffling /root/tensorflow_datasets/fashion_mnist/3.0.1.incompletePVRGRI/fashion_mnist-train.tfrecord*...:   0…"
            ],
            "application/vnd.jupyter.widget-view+json": {
              "version_major": 2,
              "version_minor": 0,
              "model_id": "66d13c019a70493283e60ddea1a7fb26"
            }
          },
          "metadata": {}
        },
        {
          "output_type": "display_data",
          "data": {
            "text/plain": [
              "Generating test examples...:   0%|          | 0/10000 [00:00<?, ? examples/s]"
            ],
            "application/vnd.jupyter.widget-view+json": {
              "version_major": 2,
              "version_minor": 0,
              "model_id": "9c6266e6a5a246faa96fbcf70bdb97d0"
            }
          },
          "metadata": {}
        },
        {
          "output_type": "display_data",
          "data": {
            "text/plain": [
              "Shuffling /root/tensorflow_datasets/fashion_mnist/3.0.1.incompletePVRGRI/fashion_mnist-test.tfrecord*...:   0%…"
            ],
            "application/vnd.jupyter.widget-view+json": {
              "version_major": 2,
              "version_minor": 0,
              "model_id": "ff6cf3edabd64f3b9e375c83ed5d1fed"
            }
          },
          "metadata": {}
        },
        {
          "output_type": "stream",
          "name": "stdout",
          "text": [
            "Dataset fashion_mnist downloaded and prepared to /root/tensorflow_datasets/fashion_mnist/3.0.1. Subsequent calls will reuse this data.\n"
          ]
        }
      ]
    },
    {
      "cell_type": "code",
      "source": [
        "dataset"
      ],
      "metadata": {
        "id": "YOuUxgL2Xjsm",
        "colab": {
          "base_uri": "https://localhost:8080/"
        },
        "outputId": "e5241b8e-64da-456f-cf26-59f761b4a806"
      },
      "execution_count": null,
      "outputs": [
        {
          "output_type": "execute_result",
          "data": {
            "text/plain": [
              "[<_PrefetchDataset element_spec=(TensorSpec(shape=(28, 28, 1), dtype=tf.uint8, name=None), TensorSpec(shape=(), dtype=tf.int64, name=None))>]"
            ]
          },
          "metadata": {},
          "execution_count": 5
        }
      ]
    },
    {
      "cell_type": "code",
      "source": [
        "dataset_info"
      ],
      "metadata": {
        "colab": {
          "base_uri": "https://localhost:8080/"
        },
        "id": "MuR-03QCeZOL",
        "outputId": "86916ce4-32cc-4285-efc7-b514dac0fb54"
      },
      "execution_count": null,
      "outputs": [
        {
          "output_type": "execute_result",
          "data": {
            "text/plain": [
              "tfds.core.DatasetInfo(\n",
              "    name='fashion_mnist',\n",
              "    full_name='fashion_mnist/3.0.1',\n",
              "    description=\"\"\"\n",
              "    Fashion-MNIST is a dataset of Zalando's article images consisting of a training set of 60,000 examples and a test set of 10,000 examples. Each example is a 28x28 grayscale image, associated with a label from 10 classes.\n",
              "    \"\"\",\n",
              "    homepage='https://github.com/zalandoresearch/fashion-mnist',\n",
              "    data_path=PosixGPath('/tmp/tmpvhmacn6rtfds'),\n",
              "    file_format=tfrecord,\n",
              "    download_size=29.45 MiB,\n",
              "    dataset_size=36.42 MiB,\n",
              "    features=FeaturesDict({\n",
              "        'image': Image(shape=(28, 28, 1), dtype=uint8),\n",
              "        'label': ClassLabel(shape=(), dtype=int64, num_classes=10),\n",
              "    }),\n",
              "    supervised_keys=('image', 'label'),\n",
              "    disable_shuffling=False,\n",
              "    splits={\n",
              "        'test': <SplitInfo num_examples=10000, num_shards=1>,\n",
              "        'train': <SplitInfo num_examples=60000, num_shards=1>,\n",
              "    },\n",
              "    citation=\"\"\"@article{DBLP:journals/corr/abs-1708-07747,\n",
              "      author    = {Han Xiao and\n",
              "                   Kashif Rasul and\n",
              "                   Roland Vollgraf},\n",
              "      title     = {Fashion-MNIST: a Novel Image Dataset for Benchmarking Machine Learning\n",
              "                   Algorithms},\n",
              "      journal   = {CoRR},\n",
              "      volume    = {abs/1708.07747},\n",
              "      year      = {2017},\n",
              "      url       = {http://arxiv.org/abs/1708.07747},\n",
              "      archivePrefix = {arXiv},\n",
              "      eprint    = {1708.07747},\n",
              "      timestamp = {Mon, 13 Aug 2018 16:47:27 +0200},\n",
              "      biburl    = {https://dblp.org/rec/bib/journals/corr/abs-1708-07747},\n",
              "      bibsource = {dblp computer science bibliography, https://dblp.org}\n",
              "    }\"\"\",\n",
              ")"
            ]
          },
          "metadata": {},
          "execution_count": 6
        }
      ]
    },
    {
      "cell_type": "code",
      "source": [
        "def train_test_split(train_ratio, val_ratio):\n",
        "  dataset_length = len(dataset[0])\n",
        "\n",
        "  train_dataset = dataset[0].take(int(train_ratio*dataset_length))\n",
        "  val_dataset_20_percent = dataset[0].skip(int(train_ratio*dataset_length))\n",
        "  val_dataset = val_dataset_20_percent.take(int(val_ratio*dataset_length))\n",
        "  test_dataset = val_dataset_20_percent.skip(int(val_ratio*dataset_length))\n",
        "\n",
        "  return train_dataset, val_dataset, test_dataset"
      ],
      "metadata": {
        "id": "wCVW72F1ekwN"
      },
      "execution_count": null,
      "outputs": []
    },
    {
      "cell_type": "code",
      "source": [
        "train_ratio =0.8\n",
        "val_ratio =0.1\n",
        "test_ratio =0.1\n",
        "train_dataset, val_dataset, test_dataset = train_test_split(train_ratio, val_ratio)"
      ],
      "metadata": {
        "id": "skmCwvq-eOnL"
      },
      "execution_count": null,
      "outputs": []
    },
    {
      "cell_type": "code",
      "source": [
        "train_dataset"
      ],
      "metadata": {
        "colab": {
          "base_uri": "https://localhost:8080/"
        },
        "id": "RR6XrL0pmLSG",
        "outputId": "82144c03-caa7-4017-a4bd-7932f6227155"
      },
      "execution_count": null,
      "outputs": [
        {
          "output_type": "execute_result",
          "data": {
            "text/plain": [
              "<_TakeDataset element_spec=(TensorSpec(shape=(28, 28, 1), dtype=tf.uint8, name=None), TensorSpec(shape=(), dtype=tf.int64, name=None))>"
            ]
          },
          "metadata": {},
          "execution_count": 9
        }
      ]
    },
    {
      "cell_type": "code",
      "source": [
        "val_dataset"
      ],
      "metadata": {
        "colab": {
          "base_uri": "https://localhost:8080/"
        },
        "id": "3qu4M01wmM0m",
        "outputId": "38c10c65-43e0-4607-f376-eda9d0e56c1d"
      },
      "execution_count": null,
      "outputs": [
        {
          "output_type": "execute_result",
          "data": {
            "text/plain": [
              "<_TakeDataset element_spec=(TensorSpec(shape=(28, 28, 1), dtype=tf.uint8, name=None), TensorSpec(shape=(), dtype=tf.int64, name=None))>"
            ]
          },
          "metadata": {},
          "execution_count": 10
        }
      ]
    },
    {
      "cell_type": "code",
      "source": [
        "test_dataset"
      ],
      "metadata": {
        "colab": {
          "base_uri": "https://localhost:8080/"
        },
        "id": "HFGqZaMlmOBh",
        "outputId": "c7c96820-560d-4aeb-d2e6-87c569adc675"
      },
      "execution_count": null,
      "outputs": [
        {
          "output_type": "execute_result",
          "data": {
            "text/plain": [
              "<_SkipDataset element_spec=(TensorSpec(shape=(28, 28, 1), dtype=tf.uint8, name=None), TensorSpec(shape=(), dtype=tf.int64, name=None))>"
            ]
          },
          "metadata": {},
          "execution_count": 11
        }
      ]
    },
    {
      "cell_type": "code",
      "source": [
        "train_dataset = train_dataset.map(lambda x,y : (x,tf.one_hot(y, depth = 10)))\n",
        "val_dataset = val_dataset.map(lambda x,y : (x, tf.one_hot(y,depth=10)))"
      ],
      "metadata": {
        "id": "n2WRvU2qfitP"
      },
      "execution_count": null,
      "outputs": []
    },
    {
      "cell_type": "markdown",
      "source": [
        "## Plotting\n",
        "\n",
        "---\n",
        "> Plotting tensorflow dataset\n"
      ],
      "metadata": {
        "id": "kjG3M7NvUcxK"
      }
    },
    {
      "cell_type": "code",
      "source": [
        "for i,(image, label) in enumerate(train_dataset.take(16)):\n",
        "  # looping was giving me error about float and int i.e, why i've converted it into integer and also giving me error about scalar array i.e, only integer scalar arrays can be converted to a scalar index i.e, i've converted to .numpy()-->numpy array\n",
        "  for index , index_value in enumerate(tf.cast(label, dtype=tf.int32).numpy()):\n",
        "    if(index_value == 1):\n",
        "      label_name = Classes[index]\n",
        "  plt.subplot(4,4,i+1)\n",
        "  plt.title(label_name)\n",
        "  plt.axis(\"off\")\n",
        "  plt.imshow(image)"
      ],
      "metadata": {
        "colab": {
          "base_uri": "https://localhost:8080/",
          "height": 428
        },
        "id": "K6og8uSVUmhg",
        "outputId": "be96773a-fa3d-45d5-ff91-ed091b4e4bd2"
      },
      "execution_count": null,
      "outputs": [
        {
          "output_type": "display_data",
          "data": {
            "text/plain": [
              "<Figure size 640x480 with 16 Axes>"
            ],
            "image/png": "[encoded data removed]"
          },
          "metadata": {}
        }
      ]
    },
    {
      "cell_type": "code",
      "source": [
        "# for (img, label) in  train_dataset.take(16):\n",
        "#   print(label)"
      ],
      "metadata": {
        "id": "jMTMH6OETd9Y"
      },
      "execution_count": null,
      "outputs": []
    },
    {
      "cell_type": "code",
      "source": [
        "# Method for extracting total number of classes to a list\n",
        "yoho= dataset_info.features[\"label\"].num_classes\n",
        "labels = []\n",
        "for class_index in range(yoho):\n",
        "    class_label = dataset_info.features[\"label\"].int2str(class_index)\n",
        "    labels.append(class_label)\n",
        "\n",
        "print(labels)"
      ],
      "metadata": {
        "id": "jRebyjNiIAZV",
        "colab": {
          "base_uri": "https://localhost:8080/"
        },
        "outputId": "7ffa1400-1716-4544-9670-f2fc0d149be9"
      },
      "execution_count": null,
      "outputs": [
        {
          "output_type": "stream",
          "name": "stdout",
          "text": [
            "['T-shirt/top', 'Trouser', 'Pullover', 'Dress', 'Coat', 'Sandal', 'Shirt', 'Sneaker', 'Bag', 'Ankle boot']\n"
          ]
        }
      ]
    },
    {
      "cell_type": "code",
      "source": [
        "# converting labels to integer just to represent the labels as integer --> this is just for learning as it has no use because , our dataset must be returning a labeled array for the dataset , we just have to make it categorical\n",
        "# label_encoder =LabelEncoder()\n",
        "# labeled_list_int = label_encoder.fit_transform(labels)\n",
        "# print(labeled_list_int)"
      ],
      "metadata": {
        "id": "qoSrTErjPAxu"
      },
      "execution_count": null,
      "outputs": []
    },
    {
      "cell_type": "markdown",
      "source": [
        "## Rescaling\n",
        "\n",
        "---\n",
        ">It is neccessary to convert uint8 to float32 or float64 because uint is not allowed type to model layers\n",
        ">>Value passed to parameter 'input' has DataType uint8 not in list of allowed values: float16, bfloat16, float32, float64, int32\n",
        ">>>Call arguments received by layer 'conv2d_9' (type Conv2D):\n",
        " • inputs=tf.Tensor(shape=(None, 28, 28, 1), dtype=uint8)\n",
        "\n"
      ],
      "metadata": {
        "id": "38MXL7Id-Q0-"
      }
    },
    {
      "cell_type": "code",
      "source": [
        "# tf.config.run_functions_eagerly(True)\n",
        "# print(tf.executing_eagerly())\n",
        "def rescaling(image, label):\n",
        "  print(type(image))\n",
        "  # image_1 = tf.image.resize(image, size=(256,256))/255.\n",
        "  # image_1 = tf.cast(image_1, dtype=tf.float32)\n",
        "  # image_1 = img_to_array(image)\n",
        "\n",
        "  # image_1 = cv2.cvtColor(np.array(image_1), cv2.COLOR_GRAY2RGB)\n",
        "  # print(type(image_1))\n",
        "  return image, label\n",
        "  # image= tf.cast(image, dtype=tf.float32)\n",
        "  # label= tf.cast(label, dtype=tf.float32)\n",
        "  # image_1 =  tf.make_tensor_proto(image_1)\n",
        "  # image_np = tf.make_ndarray()\n",
        "  # image_1 = np.array(image_1, dtype=\"float32\")\n",
        "\n",
        "  # image = image/255.0\n",
        "  # donot do this for labels because labels are 0 or 1 representing the classes of cloth\n"
      ],
      "metadata": {
        "id": "FutSuSe3-3bb"
      },
      "execution_count": null,
      "outputs": []
    },
    {
      "cell_type": "code",
      "source": [
        "yoo =  train_dataset.apply(rescaling)"
      ],
      "metadata": {
        "colab": {
          "base_uri": "https://localhost:8080/",
          "height": 321
        },
        "id": "5tdK0GSPmYRv",
        "outputId": "13961f63-6c44-4c3f-f0dd-fd73102e4e59"
      },
      "execution_count": null,
      "outputs": [
        {
          "output_type": "error",
          "ename": "TypeError",
          "evalue": "ignored",
          "traceback": [
            "\u001b[0;31m---------------------------------------------------------------------------\u001b[0m",
            "\u001b[0;31mTypeError\u001b[0m                                 Traceback (most recent call last)",
            "\u001b[0;32m<ipython-input-89-f81df11194f8>\u001b[0m in \u001b[0;36m<cell line: 1>\u001b[0;34m()\u001b[0m\n\u001b[0;32m----> 1\u001b[0;31m \u001b[0myoo\u001b[0m \u001b[0;34m=\u001b[0m  \u001b[0mtrain_dataset\u001b[0m\u001b[0;34m.\u001b[0m\u001b[0mapply\u001b[0m\u001b[0;34m(\u001b[0m\u001b[0mrescaling\u001b[0m\u001b[0;34m)\u001b[0m\u001b[0;34m\u001b[0m\u001b[0;34m\u001b[0m\u001b[0m\n\u001b[0m",
            "\u001b[0;32m/usr/local/lib/python3.10/dist-packages/tensorflow/python/data/ops/dataset_ops.py\u001b[0m in \u001b[0;36mapply\u001b[0;34m(self, transformation_func)\u001b[0m\n\u001b[1;32m   2479\u001b[0m       \u001b[0mA\u001b[0m \u001b[0mnew\u001b[0m\u001b[0;31m \u001b[0m\u001b[0;31m`\u001b[0m\u001b[0mDataset\u001b[0m\u001b[0;31m`\u001b[0m \u001b[0;32mwith\u001b[0m \u001b[0mthe\u001b[0m \u001b[0mtransformation\u001b[0m \u001b[0mapplied\u001b[0m \u001b[0;32mas\u001b[0m \u001b[0mdescribed\u001b[0m \u001b[0mabove\u001b[0m\u001b[0;34m.\u001b[0m\u001b[0;34m\u001b[0m\u001b[0;34m\u001b[0m\u001b[0m\n\u001b[1;32m   2480\u001b[0m     \"\"\"\n\u001b[0;32m-> 2481\u001b[0;31m     \u001b[0mdataset\u001b[0m \u001b[0;34m=\u001b[0m \u001b[0mtransformation_func\u001b[0m\u001b[0;34m(\u001b[0m\u001b[0mself\u001b[0m\u001b[0;34m)\u001b[0m\u001b[0;34m\u001b[0m\u001b[0;34m\u001b[0m\u001b[0m\n\u001b[0m\u001b[1;32m   2482\u001b[0m     \u001b[0;32mif\u001b[0m \u001b[0;32mnot\u001b[0m \u001b[0misinstance\u001b[0m\u001b[0;34m(\u001b[0m\u001b[0mdataset\u001b[0m\u001b[0;34m,\u001b[0m \u001b[0mDatasetV2\u001b[0m\u001b[0;34m)\u001b[0m\u001b[0;34m:\u001b[0m\u001b[0;34m\u001b[0m\u001b[0;34m\u001b[0m\u001b[0m\n\u001b[1;32m   2483\u001b[0m       raise TypeError(\n",
            "\u001b[0;32m/usr/local/lib/python3.10/dist-packages/tensorflow/python/util/traceback_utils.py\u001b[0m in \u001b[0;36merror_handler\u001b[0;34m(*args, **kwargs)\u001b[0m\n\u001b[1;32m    151\u001b[0m     \u001b[0;32mexcept\u001b[0m \u001b[0mException\u001b[0m \u001b[0;32mas\u001b[0m \u001b[0me\u001b[0m\u001b[0;34m:\u001b[0m\u001b[0;34m\u001b[0m\u001b[0;34m\u001b[0m\u001b[0m\n\u001b[1;32m    152\u001b[0m       \u001b[0mfiltered_tb\u001b[0m \u001b[0;34m=\u001b[0m \u001b[0m_process_traceback_frames\u001b[0m\u001b[0;34m(\u001b[0m\u001b[0me\u001b[0m\u001b[0;34m.\u001b[0m\u001b[0m__traceback__\u001b[0m\u001b[0;34m)\u001b[0m\u001b[0;34m\u001b[0m\u001b[0;34m\u001b[0m\u001b[0m\n\u001b[0;32m--> 153\u001b[0;31m       \u001b[0;32mraise\u001b[0m \u001b[0me\u001b[0m\u001b[0;34m.\u001b[0m\u001b[0mwith_traceback\u001b[0m\u001b[0;34m(\u001b[0m\u001b[0mfiltered_tb\u001b[0m\u001b[0;34m)\u001b[0m \u001b[0;32mfrom\u001b[0m \u001b[0;32mNone\u001b[0m\u001b[0;34m\u001b[0m\u001b[0;34m\u001b[0m\u001b[0m\n\u001b[0m\u001b[1;32m    154\u001b[0m     \u001b[0;32mfinally\u001b[0m\u001b[0;34m:\u001b[0m\u001b[0;34m\u001b[0m\u001b[0;34m\u001b[0m\u001b[0m\n\u001b[1;32m    155\u001b[0m       \u001b[0;32mdel\u001b[0m \u001b[0mfiltered_tb\u001b[0m\u001b[0;34m\u001b[0m\u001b[0;34m\u001b[0m\u001b[0m\n",
            "\u001b[0;32m/usr/local/lib/python3.10/dist-packages/tensorflow/python/eager/polymorphic_function/polymorphic_function.py\u001b[0m in \u001b[0;36m__call__\u001b[0;34m(self, *args, **kwds)\u001b[0m\n\u001b[1;32m    869\u001b[0m     \u001b[0;32mif\u001b[0m \u001b[0mself\u001b[0m\u001b[0;34m.\u001b[0m\u001b[0m_run_functions_eagerly\u001b[0m\u001b[0;34m:\u001b[0m\u001b[0;34m\u001b[0m\u001b[0;34m\u001b[0m\u001b[0m\n\u001b[1;32m    870\u001b[0m       \u001b[0;32mwith\u001b[0m \u001b[0mtrace\u001b[0m\u001b[0;34m.\u001b[0m\u001b[0mTrace\u001b[0m\u001b[0;34m(\u001b[0m\u001b[0mself\u001b[0m\u001b[0;34m.\u001b[0m\u001b[0m_name\u001b[0m\u001b[0;34m,\u001b[0m \u001b[0mtf_function_call\u001b[0m\u001b[0;34m=\u001b[0m\u001b[0;34m\"eager\"\u001b[0m\u001b[0;34m)\u001b[0m\u001b[0;34m:\u001b[0m\u001b[0;34m\u001b[0m\u001b[0;34m\u001b[0m\u001b[0m\n\u001b[0;32m--> 871\u001b[0;31m         \u001b[0;32mreturn\u001b[0m \u001b[0mself\u001b[0m\u001b[0;34m.\u001b[0m\u001b[0m_python_function\u001b[0m\u001b[0;34m(\u001b[0m\u001b[0;34m*\u001b[0m\u001b[0margs\u001b[0m\u001b[0;34m,\u001b[0m \u001b[0;34m**\u001b[0m\u001b[0mkwds\u001b[0m\u001b[0;34m)\u001b[0m\u001b[0;34m\u001b[0m\u001b[0;34m\u001b[0m\u001b[0m\n\u001b[0m\u001b[1;32m    872\u001b[0m \u001b[0;34m\u001b[0m\u001b[0m\n\u001b[1;32m    873\u001b[0m     \u001b[0;31m# Only count the statistics the first time, before initialization took\u001b[0m\u001b[0;34m\u001b[0m\u001b[0;34m\u001b[0m\u001b[0m\n",
            "\u001b[0;31mTypeError\u001b[0m: rescaling() missing 1 required positional argument: 'label'"
          ]
        }
      ]
    },
    {
      "cell_type": "code",
      "source": [
        "train_dataset = train_dataset.map(rescaling)\n",
        "val_dataset =   val_dataset.map(rescaling)\n",
        "test_dataset =  test_dataset.map(rescaling)"
      ],
      "metadata": {
        "id": "A8Oux6QM_Ld2",
        "colab": {
          "base_uri": "https://localhost:8080/"
        },
        "outputId": "f4ef9e2e-3db9-4d7b-b329-6fb6f18bd05c"
      },
      "execution_count": null,
      "outputs": [
        {
          "output_type": "stream",
          "name": "stdout",
          "text": [
            "False\n",
            "<class 'tensorflow.python.framework.ops.Tensor'>\n",
            "False\n",
            "<class 'tensorflow.python.framework.ops.Tensor'>\n",
            "False\n",
            "<class 'tensorflow.python.framework.ops.Tensor'>\n"
          ]
        },
        {
          "output_type": "stream",
          "name": "stderr",
          "text": [
            "/usr/local/lib/python3.10/dist-packages/tensorflow/python/data/ops/structured_function.py:254: UserWarning: Even though the `tf.config.experimental_run_functions_eagerly` option is set, this option does not apply to tf.data functions. To force eager execution of tf.data functions, please use `tf.data.experimental.enable_debug_mode()`.\n",
            "  warnings.warn(\n"
          ]
        }
      ]
    },
    {
      "cell_type": "code",
      "source": [
        "tens = tf.constant([[1, 0.4], [1.5, 1.4]], dtype=tf.float32)\n",
        "print(type(tens))"
      ],
      "metadata": {
        "colab": {
          "base_uri": "https://localhost:8080/"
        },
        "id": "tPLdSVQN_btH",
        "outputId": "c354fdeb-2bab-45bd-bd89-977cf1603bcd"
      },
      "execution_count": null,
      "outputs": [
        {
          "output_type": "stream",
          "name": "stdout",
          "text": [
            "<class 'tensorflow.python.framework.ops.EagerTensor'>\n"
          ]
        }
      ]
    },
    {
      "cell_type": "code",
      "source": [
        "val_dataset"
      ],
      "metadata": {
        "colab": {
          "base_uri": "https://localhost:8080/"
        },
        "id": "Av4750zm_fQc",
        "outputId": "c976dd7f-11b4-491a-eaf4-39fb3e805144"
      },
      "execution_count": null,
      "outputs": [
        {
          "output_type": "execute_result",
          "data": {
            "text/plain": [
              "<_MapDataset element_spec=(TensorSpec(shape=(28, 28, 1), dtype=tf.float32, name=None), TensorSpec(shape=(10,), dtype=tf.float32, name=None))>"
            ]
          },
          "metadata": {},
          "execution_count": 50
        }
      ]
    },
    {
      "cell_type": "markdown",
      "source": [
        "## Expanding Dimension"
      ],
      "metadata": {
        "id": "nMD3iv5t9zcz"
      }
    },
    {
      "cell_type": "code",
      "source": [
        "# this is enough for expanding the dimension\n",
        "\n",
        "train_dataset = train_dataset.shuffle(buffer_size=32).batch(batch_size=32).prefetch(tf.data.AUTOTUNE)\n",
        "val_dataset = val_dataset.shuffle(buffer_size=32).batch(batch_size=32).prefetch(tf.data.AUTOTUNE)"
      ],
      "metadata": {
        "id": "2vzXiJts92FM"
      },
      "execution_count": null,
      "outputs": []
    },
    {
      "cell_type": "markdown",
      "source": [
        "## Augementations"
      ],
      "metadata": {
        "id": "FveyyFgpygoX"
      }
    },
    {
      "cell_type": "markdown",
      "source": [
        "### Resizing and Batching"
      ],
      "metadata": {
        "id": "dkdFSLAYbBno"
      }
    },
    {
      "cell_type": "code",
      "source": [
        "# for image, label in train_dataset.take(1):\n",
        "#   image=  tf.cast(image, dtype=tf.float32)\n",
        "#   image = image/255.0\n",
        "#   image= tf.cast(image, dtype=tf.uint32)\n",
        "#   # print(image)"
      ],
      "metadata": {
        "id": "mXSzLI7BLQns"
      },
      "execution_count": null,
      "outputs": []
    },
    {
      "cell_type": "code",
      "source": [
        "# train_dataset = train_dataset.map(resize_rescale)\n",
        "# val_dataset = val_dataset.map(resize_rescale)\n",
        "# test_dataset = test_dataset.map(resize_rescale)\n"
      ],
      "metadata": {
        "id": "XklK0buRQk8H"
      },
      "execution_count": null,
      "outputs": []
    },
    {
      "cell_type": "code",
      "source": [
        "# train_dataset = train_dataset.shuffle(buffer_size = 32, reshuffle_each_iteration=True).batch(config[\"batch_size\"]).prefetch(tf.data.AUTOTUNE)\n",
        "# val_dataset = val_dataset.shuffle(buffer_size = 32, reshuffle_each_iteration=True).batch(config[\"batch_size\"]).prefetch(tf.data.AUTOTUNE)\n"
      ],
      "metadata": {
        "id": "b0upl_ola_eO"
      },
      "execution_count": null,
      "outputs": []
    },
    {
      "cell_type": "markdown",
      "source": [
        "### Albumentations"
      ],
      "metadata": {
        "id": "w4lvABlhbITv"
      }
    },
    {
      "cell_type": "code",
      "source": [
        "# transforms = A.Compose([\n",
        "#     A.HorizontalFlip(p=0.5),\n",
        "#     A.RandomBrightnessContrast(p=0.2),\n",
        "# ])"
      ],
      "metadata": {
        "id": "BxklyFcf_yY1"
      },
      "execution_count": null,
      "outputs": []
    },
    {
      "cell_type": "code",
      "source": [
        "# def aug_albument(dataset):\n",
        "#   images,labels = train_dataset.take(2)\n",
        "\n",
        "#   dataset =  {\"image\": images}\n",
        "#   print(images)\n",
        "#   images = transforms(**dataset)\n",
        "#   print(images)\n",
        "\n",
        "#   image = images[\"image\"]\n",
        "#   print(image, 'after getting image index')\n",
        "#   # casting img to float\n",
        "#   image = tf.cast(image/255., tf.float32)\n",
        "#   return image"
      ],
      "metadata": {
        "id": "tzcR9mACLUHf"
      },
      "execution_count": null,
      "outputs": []
    },
    {
      "cell_type": "code",
      "source": [
        "# def preprocess_images(images, labels):\n",
        "#   images = tf.numpy_function(func = aug_albument, inp = [image], Tout = tf.float32)\n",
        "#   return images, labels"
      ],
      "metadata": {
        "id": "MHeMuK5xKuMg"
      },
      "execution_count": null,
      "outputs": []
    },
    {
      "cell_type": "code",
      "source": [
        "# train_dataset = train_dataset.map(preprocess_images)"
      ],
      "metadata": {
        "id": "S3N8u7Xlf_uL"
      },
      "execution_count": null,
      "outputs": []
    },
    {
      "cell_type": "code",
      "source": [
        "# im, _ = next(iter(train_dataset))\n",
        "# plt.imshow(im[0])"
      ],
      "metadata": {
        "id": "OpUzLpptgxIa"
      },
      "execution_count": null,
      "outputs": []
    },
    {
      "cell_type": "code",
      "source": [
        "# for img, label in train_dataset.take(32):\n",
        "#   print(\"toho\")\n"
      ],
      "metadata": {
        "id": "00JYzY3WkQAm"
      },
      "execution_count": null,
      "outputs": []
    },
    {
      "cell_type": "code",
      "source": [
        "# plt.figure(figsize=(15,15))\n",
        "\n",
        "# for i in range(1,32):\n",
        "#   plt.subplot(8,4,i)\n",
        "#   plt.imshow(img[i])"
      ],
      "metadata": {
        "id": "4mLntWfIkndp"
      },
      "execution_count": null,
      "outputs": []
    },
    {
      "cell_type": "markdown",
      "source": [
        "## Training"
      ],
      "metadata": {
        "id": "9Upc8UHn0S9A"
      }
    },
    {
      "cell_type": "code",
      "source": [
        "class custom_model(tf.keras.Model):\n",
        "  def __init__(self ):\n",
        "    super(custom_model, self).__init__()\n",
        "    self.conv2d = Conv2D(64, 3, padding=\"same\" , kernel_initializer=\"he_uniform\" , activation=\"relu\")\n",
        "    self.max_pool= MaxPool2D(pool_size=(2,2))\n",
        "    self.flat = Flatten()\n",
        "    self.dense1 = Dense(100, activation=\"relu\")\n",
        "    self.output_layer = Dense(10, activation=\"softmax\")\n",
        "# training param is we use in all layers to making default training\n",
        "  def call(self, x, training=False):\n",
        "    x= self.conv2d(x)\n",
        "    x= self.max_pool(x)\n",
        "    x=self.flat(x)\n",
        "    x=self.dense1(x)\n",
        "\n",
        "    return self.output_layer(x)"
      ],
      "metadata": {
        "id": "PxVrzu8C0YBi"
      },
      "execution_count": null,
      "outputs": []
    },
    {
      "cell_type": "code",
      "source": [
        "model =  custom_model()\n",
        "model(tf.zeros([1,28,28,1]), training=False)\n",
        "model.summary()"
      ],
      "metadata": {
        "colab": {
          "base_uri": "https://localhost:8080/"
        },
        "id": "Kuk0M3sL3HLf",
        "outputId": "14c55e08-28b3-456f-8feb-f18e1c90dcd6"
      },
      "execution_count": null,
      "outputs": [
        {
          "output_type": "stream",
          "name": "stdout",
          "text": [
            "Model: \"custom_model\"\n",
            "_________________________________________________________________\n",
            " Layer (type)                Output Shape              Param #   \n",
            "=================================================================\n",
            " conv2d (Conv2D)             multiple                  640       \n",
            "                                                                 \n",
            " max_pooling2d (MaxPooling2D  multiple                 0         \n",
            " )                                                               \n",
            "                                                                 \n",
            " flatten (Flatten)           multiple                  0         \n",
            "                                                                 \n",
            " dense_24 (Dense)            multiple                  1254500   \n",
            "                                                                 \n",
            " dense_25 (Dense)            multiple                  1010      \n",
            "                                                                 \n",
            "=================================================================\n",
            "Total params: 1,256,150\n",
            "Trainable params: 1,256,150\n",
            "Non-trainable params: 0\n",
            "_________________________________________________________________\n"
          ]
        }
      ]
    },
    {
      "cell_type": "code",
      "source": [
        "model.compile(\n",
        "    metrics=[\"accuracy\"],\n",
        "    loss=CategoricalCrossentropy(),\n",
        "    optimizer=SGD(),\n",
        ")"
      ],
      "metadata": {
        "id": "CKYPkq7f61jF"
      },
      "execution_count": null,
      "outputs": []
    },
    {
      "cell_type": "code",
      "source": [
        "# def batching(image, label):\n",
        "#   image = tf.expand_dims(image, axis=0)\n",
        "#   label= tf.expand_dims(label, axis=0)\n",
        "#   return image, label"
      ],
      "metadata": {
        "id": "WQONdofj8XaY"
      },
      "execution_count": null,
      "outputs": []
    },
    {
      "cell_type": "code",
      "source": [
        "# train_dataset = train_dataset.map(batching)\n",
        "# val_dataset = val_dataset.map(batching)"
      ],
      "metadata": {
        "id": "A2g5V9yt8oew"
      },
      "execution_count": null,
      "outputs": []
    },
    {
      "cell_type": "code",
      "source": [
        "model.fit(train_dataset, validation_data= val_dataset, epochs=config[\"epochs\"], verbose=1)"
      ],
      "metadata": {
        "colab": {
          "base_uri": "https://localhost:8080/",
          "height": 428
        },
        "id": "grbo0ZB67eQK",
        "outputId": "ce7c498c-8146-4d85-9e91-c7a66b194f13"
      },
      "execution_count": null,
      "outputs": [
        {
          "output_type": "stream",
          "name": "stdout",
          "text": [
            "Epoch 1/20\n",
            "1500/1500 [==============================] - ETA: 0s - loss: 0.5399 - accuracy: 0.8052"
          ]
        },
        {
          "output_type": "error",
          "ename": "KeyboardInterrupt",
          "evalue": "ignored",
          "traceback": [
            "\u001b[0;31m---------------------------------------------------------------------------\u001b[0m",
            "\u001b[0;31mKeyboardInterrupt\u001b[0m                         Traceback (most recent call last)",
            "\u001b[0;32m<ipython-input-67-e7a55e8961b0>\u001b[0m in \u001b[0;36m<cell line: 1>\u001b[0;34m()\u001b[0m\n\u001b[0;32m----> 1\u001b[0;31m \u001b[0mmodel\u001b[0m\u001b[0;34m.\u001b[0m\u001b[0mfit\u001b[0m\u001b[0;34m(\u001b[0m\u001b[0mtrain_dataset\u001b[0m\u001b[0;34m,\u001b[0m \u001b[0mvalidation_data\u001b[0m\u001b[0;34m=\u001b[0m \u001b[0mval_dataset\u001b[0m\u001b[0;34m,\u001b[0m \u001b[0mepochs\u001b[0m\u001b[0;34m=\u001b[0m\u001b[0mconfig\u001b[0m\u001b[0;34m[\u001b[0m\u001b[0;34m\"epochs\"\u001b[0m\u001b[0;34m]\u001b[0m\u001b[0;34m,\u001b[0m \u001b[0mverbose\u001b[0m\u001b[0;34m=\u001b[0m\u001b[0;36m1\u001b[0m\u001b[0;34m)\u001b[0m\u001b[0;34m\u001b[0m\u001b[0;34m\u001b[0m\u001b[0m\n\u001b[0m",
            "\u001b[0;32m/usr/local/lib/python3.10/dist-packages/keras/utils/traceback_utils.py\u001b[0m in \u001b[0;36merror_handler\u001b[0;34m(*args, **kwargs)\u001b[0m\n\u001b[1;32m     63\u001b[0m         \u001b[0mfiltered_tb\u001b[0m \u001b[0;34m=\u001b[0m \u001b[0;32mNone\u001b[0m\u001b[0;34m\u001b[0m\u001b[0;34m\u001b[0m\u001b[0m\n\u001b[1;32m     64\u001b[0m         \u001b[0;32mtry\u001b[0m\u001b[0;34m:\u001b[0m\u001b[0;34m\u001b[0m\u001b[0;34m\u001b[0m\u001b[0m\n\u001b[0;32m---> 65\u001b[0;31m             \u001b[0;32mreturn\u001b[0m \u001b[0mfn\u001b[0m\u001b[0;34m(\u001b[0m\u001b[0;34m*\u001b[0m\u001b[0margs\u001b[0m\u001b[0;34m,\u001b[0m \u001b[0;34m**\u001b[0m\u001b[0mkwargs\u001b[0m\u001b[0;34m)\u001b[0m\u001b[0;34m\u001b[0m\u001b[0;34m\u001b[0m\u001b[0m\n\u001b[0m\u001b[1;32m     66\u001b[0m         \u001b[0;32mexcept\u001b[0m \u001b[0mException\u001b[0m \u001b[0;32mas\u001b[0m \u001b[0me\u001b[0m\u001b[0;34m:\u001b[0m\u001b[0;34m\u001b[0m\u001b[0;34m\u001b[0m\u001b[0m\n\u001b[1;32m     67\u001b[0m             \u001b[0mfiltered_tb\u001b[0m \u001b[0;34m=\u001b[0m \u001b[0m_process_traceback_frames\u001b[0m\u001b[0;34m(\u001b[0m\u001b[0me\u001b[0m\u001b[0;34m.\u001b[0m\u001b[0m__traceback__\u001b[0m\u001b[0;34m)\u001b[0m\u001b[0;34m\u001b[0m\u001b[0;34m\u001b[0m\u001b[0m\n",
            "\u001b[0;32m/usr/local/lib/python3.10/dist-packages/keras/engine/training.py\u001b[0m in \u001b[0;36mfit\u001b[0;34m(self, x, y, batch_size, epochs, verbose, callbacks, validation_split, validation_data, shuffle, class_weight, sample_weight, initial_epoch, steps_per_epoch, validation_steps, validation_batch_size, validation_freq, max_queue_size, workers, use_multiprocessing)\u001b[0m\n\u001b[1;32m   1727\u001b[0m                             \u001b[0msteps_per_execution\u001b[0m\u001b[0;34m=\u001b[0m\u001b[0mself\u001b[0m\u001b[0;34m.\u001b[0m\u001b[0m_steps_per_execution\u001b[0m\u001b[0;34m,\u001b[0m\u001b[0;34m\u001b[0m\u001b[0;34m\u001b[0m\u001b[0m\n\u001b[1;32m   1728\u001b[0m                         )\n\u001b[0;32m-> 1729\u001b[0;31m                     val_logs = self.evaluate(\n\u001b[0m\u001b[1;32m   1730\u001b[0m                         \u001b[0mx\u001b[0m\u001b[0;34m=\u001b[0m\u001b[0mval_x\u001b[0m\u001b[0;34m,\u001b[0m\u001b[0;34m\u001b[0m\u001b[0;34m\u001b[0m\u001b[0m\n\u001b[1;32m   1731\u001b[0m                         \u001b[0my\u001b[0m\u001b[0;34m=\u001b[0m\u001b[0mval_y\u001b[0m\u001b[0;34m,\u001b[0m\u001b[0;34m\u001b[0m\u001b[0;34m\u001b[0m\u001b[0m\n",
            "\u001b[0;32m/usr/local/lib/python3.10/dist-packages/keras/utils/traceback_utils.py\u001b[0m in \u001b[0;36merror_handler\u001b[0;34m(*args, **kwargs)\u001b[0m\n\u001b[1;32m     63\u001b[0m         \u001b[0mfiltered_tb\u001b[0m \u001b[0;34m=\u001b[0m \u001b[0;32mNone\u001b[0m\u001b[0;34m\u001b[0m\u001b[0;34m\u001b[0m\u001b[0m\n\u001b[1;32m     64\u001b[0m         \u001b[0;32mtry\u001b[0m\u001b[0;34m:\u001b[0m\u001b[0;34m\u001b[0m\u001b[0;34m\u001b[0m\u001b[0m\n\u001b[0;32m---> 65\u001b[0;31m             \u001b[0;32mreturn\u001b[0m \u001b[0mfn\u001b[0m\u001b[0;34m(\u001b[0m\u001b[0;34m*\u001b[0m\u001b[0margs\u001b[0m\u001b[0;34m,\u001b[0m \u001b[0;34m**\u001b[0m\u001b[0mkwargs\u001b[0m\u001b[0;34m)\u001b[0m\u001b[0;34m\u001b[0m\u001b[0;34m\u001b[0m\u001b[0m\n\u001b[0m\u001b[1;32m     66\u001b[0m         \u001b[0;32mexcept\u001b[0m \u001b[0mException\u001b[0m \u001b[0;32mas\u001b[0m \u001b[0me\u001b[0m\u001b[0;34m:\u001b[0m\u001b[0;34m\u001b[0m\u001b[0;34m\u001b[0m\u001b[0m\n\u001b[1;32m     67\u001b[0m             \u001b[0mfiltered_tb\u001b[0m \u001b[0;34m=\u001b[0m \u001b[0m_process_traceback_frames\u001b[0m\u001b[0;34m(\u001b[0m\u001b[0me\u001b[0m\u001b[0;34m.\u001b[0m\u001b[0m__traceback__\u001b[0m\u001b[0;34m)\u001b[0m\u001b[0;34m\u001b[0m\u001b[0;34m\u001b[0m\u001b[0m\n",
            "\u001b[0;32m/usr/local/lib/python3.10/dist-packages/keras/engine/training.py\u001b[0m in \u001b[0;36mevaluate\u001b[0;34m(self, x, y, batch_size, verbose, sample_weight, steps, callbacks, max_queue_size, workers, use_multiprocessing, return_dict, **kwargs)\u001b[0m\n\u001b[1;32m   2070\u001b[0m                         ):\n\u001b[1;32m   2071\u001b[0m                             \u001b[0mcallbacks\u001b[0m\u001b[0;34m.\u001b[0m\u001b[0mon_test_batch_begin\u001b[0m\u001b[0;34m(\u001b[0m\u001b[0mstep\u001b[0m\u001b[0;34m)\u001b[0m\u001b[0;34m\u001b[0m\u001b[0;34m\u001b[0m\u001b[0m\n\u001b[0;32m-> 2072\u001b[0;31m                             \u001b[0mtmp_logs\u001b[0m \u001b[0;34m=\u001b[0m \u001b[0mself\u001b[0m\u001b[0;34m.\u001b[0m\u001b[0mtest_function\u001b[0m\u001b[0;34m(\u001b[0m\u001b[0miterator\u001b[0m\u001b[0;34m)\u001b[0m\u001b[0;34m\u001b[0m\u001b[0;34m\u001b[0m\u001b[0m\n\u001b[0m\u001b[1;32m   2073\u001b[0m                             \u001b[0;32mif\u001b[0m \u001b[0mdata_handler\u001b[0m\u001b[0;34m.\u001b[0m\u001b[0mshould_sync\u001b[0m\u001b[0;34m:\u001b[0m\u001b[0;34m\u001b[0m\u001b[0;34m\u001b[0m\u001b[0m\n\u001b[1;32m   2074\u001b[0m                                 \u001b[0mcontext\u001b[0m\u001b[0;34m.\u001b[0m\u001b[0masync_wait\u001b[0m\u001b[0;34m(\u001b[0m\u001b[0;34m)\u001b[0m\u001b[0;34m\u001b[0m\u001b[0;34m\u001b[0m\u001b[0m\n",
            "\u001b[0;32m/usr/local/lib/python3.10/dist-packages/tensorflow/python/util/traceback_utils.py\u001b[0m in \u001b[0;36merror_handler\u001b[0;34m(*args, **kwargs)\u001b[0m\n\u001b[1;32m    148\u001b[0m     \u001b[0mfiltered_tb\u001b[0m \u001b[0;34m=\u001b[0m \u001b[0;32mNone\u001b[0m\u001b[0;34m\u001b[0m\u001b[0;34m\u001b[0m\u001b[0m\n\u001b[1;32m    149\u001b[0m     \u001b[0;32mtry\u001b[0m\u001b[0;34m:\u001b[0m\u001b[0;34m\u001b[0m\u001b[0;34m\u001b[0m\u001b[0m\n\u001b[0;32m--> 150\u001b[0;31m       \u001b[0;32mreturn\u001b[0m \u001b[0mfn\u001b[0m\u001b[0;34m(\u001b[0m\u001b[0;34m*\u001b[0m\u001b[0margs\u001b[0m\u001b[0;34m,\u001b[0m \u001b[0;34m**\u001b[0m\u001b[0mkwargs\u001b[0m\u001b[0;34m)\u001b[0m\u001b[0;34m\u001b[0m\u001b[0;34m\u001b[0m\u001b[0m\n\u001b[0m\u001b[1;32m    151\u001b[0m     \u001b[0;32mexcept\u001b[0m \u001b[0mException\u001b[0m \u001b[0;32mas\u001b[0m \u001b[0me\u001b[0m\u001b[0;34m:\u001b[0m\u001b[0;34m\u001b[0m\u001b[0;34m\u001b[0m\u001b[0m\n\u001b[1;32m    152\u001b[0m       \u001b[0mfiltered_tb\u001b[0m \u001b[0;34m=\u001b[0m \u001b[0m_process_traceback_frames\u001b[0m\u001b[0;34m(\u001b[0m\u001b[0me\u001b[0m\u001b[0;34m.\u001b[0m\u001b[0m__traceback__\u001b[0m\u001b[0;34m)\u001b[0m\u001b[0;34m\u001b[0m\u001b[0;34m\u001b[0m\u001b[0m\n",
            "\u001b[0;32m/usr/local/lib/python3.10/dist-packages/tensorflow/python/eager/polymorphic_function/polymorphic_function.py\u001b[0m in \u001b[0;36m__call__\u001b[0;34m(self, *args, **kwds)\u001b[0m\n\u001b[1;32m    892\u001b[0m \u001b[0;34m\u001b[0m\u001b[0m\n\u001b[1;32m    893\u001b[0m       \u001b[0;32mwith\u001b[0m \u001b[0mOptionalXlaContext\u001b[0m\u001b[0;34m(\u001b[0m\u001b[0mself\u001b[0m\u001b[0;34m.\u001b[0m\u001b[0m_jit_compile\u001b[0m\u001b[0;34m)\u001b[0m\u001b[0;34m:\u001b[0m\u001b[0;34m\u001b[0m\u001b[0;34m\u001b[0m\u001b[0m\n\u001b[0;32m--> 894\u001b[0;31m         \u001b[0mresult\u001b[0m \u001b[0;34m=\u001b[0m \u001b[0mself\u001b[0m\u001b[0;34m.\u001b[0m\u001b[0m_call\u001b[0m\u001b[0;34m(\u001b[0m\u001b[0;34m*\u001b[0m\u001b[0margs\u001b[0m\u001b[0;34m,\u001b[0m \u001b[0;34m**\u001b[0m\u001b[0mkwds\u001b[0m\u001b[0;34m)\u001b[0m\u001b[0;34m\u001b[0m\u001b[0;34m\u001b[0m\u001b[0m\n\u001b[0m\u001b[1;32m    895\u001b[0m \u001b[0;34m\u001b[0m\u001b[0m\n\u001b[1;32m    896\u001b[0m       \u001b[0mnew_tracing_count\u001b[0m \u001b[0;34m=\u001b[0m \u001b[0mself\u001b[0m\u001b[0;34m.\u001b[0m\u001b[0mexperimental_get_tracing_count\u001b[0m\u001b[0;34m(\u001b[0m\u001b[0;34m)\u001b[0m\u001b[0;34m\u001b[0m\u001b[0;34m\u001b[0m\u001b[0m\n",
            "\u001b[0;32m/usr/local/lib/python3.10/dist-packages/tensorflow/python/eager/polymorphic_function/polymorphic_function.py\u001b[0m in \u001b[0;36m_call\u001b[0;34m(self, *args, **kwds)\u001b[0m\n\u001b[1;32m    931\u001b[0m       \u001b[0;31m# In this case we have not created variables on the first call. So we can\u001b[0m\u001b[0;34m\u001b[0m\u001b[0;34m\u001b[0m\u001b[0m\n\u001b[1;32m    932\u001b[0m       \u001b[0;31m# run the first trace but we should fail if variables are created.\u001b[0m\u001b[0;34m\u001b[0m\u001b[0;34m\u001b[0m\u001b[0m\n\u001b[0;32m--> 933\u001b[0;31m       \u001b[0mresults\u001b[0m \u001b[0;34m=\u001b[0m \u001b[0mself\u001b[0m\u001b[0;34m.\u001b[0m\u001b[0m_variable_creation_fn\u001b[0m\u001b[0;34m(\u001b[0m\u001b[0;34m*\u001b[0m\u001b[0margs\u001b[0m\u001b[0;34m,\u001b[0m \u001b[0;34m**\u001b[0m\u001b[0mkwds\u001b[0m\u001b[0;34m)\u001b[0m\u001b[0;34m\u001b[0m\u001b[0;34m\u001b[0m\u001b[0m\n\u001b[0m\u001b[1;32m    934\u001b[0m       \u001b[0;32mif\u001b[0m \u001b[0mself\u001b[0m\u001b[0;34m.\u001b[0m\u001b[0m_created_variables\u001b[0m \u001b[0;32mand\u001b[0m \u001b[0;32mnot\u001b[0m \u001b[0mALLOW_DYNAMIC_VARIABLE_CREATION\u001b[0m\u001b[0;34m:\u001b[0m\u001b[0;34m\u001b[0m\u001b[0;34m\u001b[0m\u001b[0m\n\u001b[1;32m    935\u001b[0m         raise ValueError(\"Creating variables on a non-first call to a function\"\n",
            "\u001b[0;32m/usr/local/lib/python3.10/dist-packages/tensorflow/python/eager/polymorphic_function/tracing_compiler.py\u001b[0m in \u001b[0;36m__call__\u001b[0;34m(self, *args, **kwargs)\u001b[0m\n\u001b[1;32m    141\u001b[0m       (concrete_function,\n\u001b[1;32m    142\u001b[0m        filtered_flat_args) = self._maybe_define_function(args, kwargs)\n\u001b[0;32m--> 143\u001b[0;31m     return concrete_function._call_flat(\n\u001b[0m\u001b[1;32m    144\u001b[0m         filtered_flat_args, captured_inputs=concrete_function.captured_inputs)  # pylint: disable=protected-access\n\u001b[1;32m    145\u001b[0m \u001b[0;34m\u001b[0m\u001b[0m\n",
            "\u001b[0;32m/usr/local/lib/python3.10/dist-packages/tensorflow/python/eager/polymorphic_function/monomorphic_function.py\u001b[0m in \u001b[0;36m_call_flat\u001b[0;34m(self, args, captured_inputs, cancellation_manager)\u001b[0m\n\u001b[1;32m   1755\u001b[0m         and executing_eagerly):\n\u001b[1;32m   1756\u001b[0m       \u001b[0;31m# No tape is watching; skip to running the function.\u001b[0m\u001b[0;34m\u001b[0m\u001b[0;34m\u001b[0m\u001b[0m\n\u001b[0;32m-> 1757\u001b[0;31m       return self._build_call_outputs(self._inference_function.call(\n\u001b[0m\u001b[1;32m   1758\u001b[0m           ctx, args, cancellation_manager=cancellation_manager))\n\u001b[1;32m   1759\u001b[0m     forward_backward = self._select_forward_and_backward_functions(\n",
            "\u001b[0;32m/usr/local/lib/python3.10/dist-packages/tensorflow/python/eager/polymorphic_function/monomorphic_function.py\u001b[0m in \u001b[0;36mcall\u001b[0;34m(self, ctx, args, cancellation_manager)\u001b[0m\n\u001b[1;32m    379\u001b[0m       \u001b[0;32mwith\u001b[0m \u001b[0m_InterpolateFunctionError\u001b[0m\u001b[0;34m(\u001b[0m\u001b[0mself\u001b[0m\u001b[0;34m)\u001b[0m\u001b[0;34m:\u001b[0m\u001b[0;34m\u001b[0m\u001b[0;34m\u001b[0m\u001b[0m\n\u001b[1;32m    380\u001b[0m         \u001b[0;32mif\u001b[0m \u001b[0mcancellation_manager\u001b[0m \u001b[0;32mis\u001b[0m \u001b[0;32mNone\u001b[0m\u001b[0;34m:\u001b[0m\u001b[0;34m\u001b[0m\u001b[0;34m\u001b[0m\u001b[0m\n\u001b[0;32m--> 381\u001b[0;31m           outputs = execute.execute(\n\u001b[0m\u001b[1;32m    382\u001b[0m               \u001b[0mstr\u001b[0m\u001b[0;34m(\u001b[0m\u001b[0mself\u001b[0m\u001b[0;34m.\u001b[0m\u001b[0msignature\u001b[0m\u001b[0;34m.\u001b[0m\u001b[0mname\u001b[0m\u001b[0;34m)\u001b[0m\u001b[0;34m,\u001b[0m\u001b[0;34m\u001b[0m\u001b[0;34m\u001b[0m\u001b[0m\n\u001b[1;32m    383\u001b[0m               \u001b[0mnum_outputs\u001b[0m\u001b[0;34m=\u001b[0m\u001b[0mself\u001b[0m\u001b[0;34m.\u001b[0m\u001b[0m_num_outputs\u001b[0m\u001b[0;34m,\u001b[0m\u001b[0;34m\u001b[0m\u001b[0;34m\u001b[0m\u001b[0m\n",
            "\u001b[0;32m/usr/local/lib/python3.10/dist-packages/tensorflow/python/eager/execute.py\u001b[0m in \u001b[0;36mquick_execute\u001b[0;34m(op_name, num_outputs, inputs, attrs, ctx, name)\u001b[0m\n\u001b[1;32m     50\u001b[0m   \u001b[0;32mtry\u001b[0m\u001b[0;34m:\u001b[0m\u001b[0;34m\u001b[0m\u001b[0;34m\u001b[0m\u001b[0m\n\u001b[1;32m     51\u001b[0m     \u001b[0mctx\u001b[0m\u001b[0;34m.\u001b[0m\u001b[0mensure_initialized\u001b[0m\u001b[0;34m(\u001b[0m\u001b[0;34m)\u001b[0m\u001b[0;34m\u001b[0m\u001b[0;34m\u001b[0m\u001b[0m\n\u001b[0;32m---> 52\u001b[0;31m     tensors = pywrap_tfe.TFE_Py_Execute(ctx._handle, device_name, op_name,\n\u001b[0m\u001b[1;32m     53\u001b[0m                                         inputs, attrs, num_outputs)\n\u001b[1;32m     54\u001b[0m   \u001b[0;32mexcept\u001b[0m \u001b[0mcore\u001b[0m\u001b[0;34m.\u001b[0m\u001b[0m_NotOkStatusException\u001b[0m \u001b[0;32mas\u001b[0m \u001b[0me\u001b[0m\u001b[0;34m:\u001b[0m\u001b[0;34m\u001b[0m\u001b[0;34m\u001b[0m\u001b[0m\n",
            "\u001b[0;31mKeyboardInterrupt\u001b[0m: "
          ]
        }
      ]
    },
    {
      "cell_type": "markdown",
      "source": [
        "### Saving Model/Connecting to Drive"
      ],
      "metadata": {
        "id": "d2EMv55RGhsM"
      }
    },
    {
      "cell_type": "code",
      "source": [
        "# ERROR SAVING MODEL\n",
        "# Saving the model to HDF5 format requires the model to be a Functional model or a Sequential model. It does not work for subclassed models, because such models are defined via the body of a Python method, which isn't safely serializable. Consider saving to the Tensorflow SavedModel format (by setting save_format=\"tf\") or using `save_weights`.\n",
        "# model.save(\"tfds_fmnist.h5\")\n",
        "tf.keras.saving.save_model(model, \"/content/tfds_fmnist\")"
      ],
      "metadata": {
        "id": "URCOgrIGFEo3"
      },
      "execution_count": null,
      "outputs": []
    },
    {
      "cell_type": "code",
      "source": [
        "from google.colab import drive\n",
        "drive.mount('/content/drive')"
      ],
      "metadata": {
        "id": "rnqxR-aMGgs3"
      },
      "execution_count": null,
      "outputs": []
    },
    {
      "cell_type": "markdown",
      "source": [
        "# KERAS DATASET"
      ],
      "metadata": {
        "id": "8yoS4zoooCOB"
      }
    },
    {
      "cell_type": "markdown",
      "source": [
        "## Loading Dataset"
      ],
      "metadata": {
        "id": "p3jsJxqZfYOE"
      }
    },
    {
      "cell_type": "code",
      "source": [
        "# from keras.datasets import fashion_mnist\n",
        "(train_dataset, train_labels), (val_dataset, val_labels) = tf.keras.datasets.fashion_mnist.load_data()"
      ],
      "metadata": {
        "colab": {
          "base_uri": "https://localhost:8080/"
        },
        "id": "-Bi8H1-EREls",
        "outputId": "c782f149-3c15-4d92-fcfb-4719f551cacc"
      },
      "execution_count": null,
      "outputs": [
        {
          "output_type": "stream",
          "name": "stdout",
          "text": [
            "Downloading data from https://storage.googleapis.com/tensorflow/tf-keras-datasets/train-labels-idx1-ubyte.gz\n",
            "29515/29515 [==============================] - 0s 0us/step\n",
            "Downloading data from https://storage.googleapis.com/tensorflow/tf-keras-datasets/train-images-idx3-ubyte.gz\n",
            "26421880/26421880 [==============================] - 0s 0us/step\n",
            "Downloading data from https://storage.googleapis.com/tensorflow/tf-keras-datasets/t10k-labels-idx1-ubyte.gz\n",
            "5148/5148 [==============================] - 0s 0us/step\n",
            "Downloading data from https://storage.googleapis.com/tensorflow/tf-keras-datasets/t10k-images-idx3-ubyte.gz\n",
            "4422102/4422102 [==============================] - 0s 0us/step\n"
          ]
        }
      ]
    },
    {
      "cell_type": "code",
      "source": [
        "Classes = ['T-shirt/top', 'Trouser', 'Pullover', 'Dress', 'Coat', 'Sandal', 'Shirt', 'Sneaker', 'Bag', 'Ankle boot']"
      ],
      "metadata": {
        "id": "pi09k9rt0YVM"
      },
      "execution_count": null,
      "outputs": []
    },
    {
      "cell_type": "code",
      "source": [
        "train_dataset"
      ],
      "metadata": {
        "colab": {
          "base_uri": "https://localhost:8080/"
        },
        "id": "FO-RENOfaV6X",
        "outputId": "c4213864-001d-43bd-ca6b-2171ce6a22b3"
      },
      "execution_count": null,
      "outputs": [
        {
          "output_type": "execute_result",
          "data": {
            "text/plain": [
              "array([[[0, 0, 0, ..., 0, 0, 0],\n",
              "        [0, 0, 0, ..., 0, 0, 0],\n",
              "        [0, 0, 0, ..., 0, 0, 0],\n",
              "        ...,\n",
              "        [0, 0, 0, ..., 0, 0, 0],\n",
              "        [0, 0, 0, ..., 0, 0, 0],\n",
              "        [0, 0, 0, ..., 0, 0, 0]],\n",
              "\n",
              "       [[0, 0, 0, ..., 0, 0, 0],\n",
              "        [0, 0, 0, ..., 0, 0, 0],\n",
              "        [0, 0, 0, ..., 0, 0, 0],\n",
              "        ...,\n",
              "        [0, 0, 0, ..., 0, 0, 0],\n",
              "        [0, 0, 0, ..., 0, 0, 0],\n",
              "        [0, 0, 0, ..., 0, 0, 0]],\n",
              "\n",
              "       [[0, 0, 0, ..., 0, 0, 0],\n",
              "        [0, 0, 0, ..., 0, 0, 0],\n",
              "        [0, 0, 0, ..., 0, 0, 0],\n",
              "        ...,\n",
              "        [0, 0, 0, ..., 0, 0, 0],\n",
              "        [0, 0, 0, ..., 0, 0, 0],\n",
              "        [0, 0, 0, ..., 0, 0, 0]],\n",
              "\n",
              "       ...,\n",
              "\n",
              "       [[0, 0, 0, ..., 0, 0, 0],\n",
              "        [0, 0, 0, ..., 0, 0, 0],\n",
              "        [0, 0, 0, ..., 0, 0, 0],\n",
              "        ...,\n",
              "        [0, 0, 0, ..., 0, 0, 0],\n",
              "        [0, 0, 0, ..., 0, 0, 0],\n",
              "        [0, 0, 0, ..., 0, 0, 0]],\n",
              "\n",
              "       [[0, 0, 0, ..., 0, 0, 0],\n",
              "        [0, 0, 0, ..., 0, 0, 0],\n",
              "        [0, 0, 0, ..., 0, 0, 0],\n",
              "        ...,\n",
              "        [0, 0, 0, ..., 0, 0, 0],\n",
              "        [0, 0, 0, ..., 0, 0, 0],\n",
              "        [0, 0, 0, ..., 0, 0, 0]],\n",
              "\n",
              "       [[0, 0, 0, ..., 0, 0, 0],\n",
              "        [0, 0, 0, ..., 0, 0, 0],\n",
              "        [0, 0, 0, ..., 0, 0, 0],\n",
              "        ...,\n",
              "        [0, 0, 0, ..., 0, 0, 0],\n",
              "        [0, 0, 0, ..., 0, 0, 0],\n",
              "        [0, 0, 0, ..., 0, 0, 0]]], dtype=uint8)"
            ]
          },
          "metadata": {},
          "execution_count": 4
        }
      ]
    },
    {
      "cell_type": "code",
      "source": [
        "# train_labels = tf.keras.utils.to_categorical(labeled_list_int)\n",
        "print(train_labels)"
      ],
      "metadata": {
        "colab": {
          "base_uri": "https://localhost:8080/"
        },
        "id": "lLa2iz8lPZVK",
        "outputId": "8823a2ac-2e61-4cf8-8af5-82ed745af54b"
      },
      "execution_count": null,
      "outputs": [
        {
          "output_type": "stream",
          "name": "stdout",
          "text": [
            "[9 0 0 ... 3 0 5]\n"
          ]
        }
      ]
    },
    {
      "cell_type": "code",
      "source": [
        "import numpy as np\n",
        "train_dataset = np.reshape(train_dataset,  (train_dataset.shape[0], 28,28,1))\n",
        "val_dataset = np.reshape(val_dataset ,(val_dataset.shape[0], 28,28,1))"
      ],
      "metadata": {
        "id": "xe_qeDS54GZS"
      },
      "execution_count": null,
      "outputs": []
    },
    {
      "cell_type": "markdown",
      "source": [
        "## Plot\n"
      ],
      "metadata": {
        "id": "_JrGMBciaVjj"
      }
    },
    {
      "cell_type": "markdown",
      "source": [
        "### Converting train_dataset to tensor\n",
        "\n",
        "---\n",
        "\n",
        "\n",
        "> I tried to do it because my previous plot is on tensorflow based which was element_spec datatype having 2 TensorSpec datatype 1-> for Image Tensor which of type(uint8) and other of the corresponding label which is of type(int)\n",
        "\n",
        "> The label int value is mapped with the string list of classes\n",
        "\n"
      ],
      "metadata": {
        "id": "ppYdJhlpy7b6"
      }
    },
    {
      "cell_type": "code",
      "source": [
        "# train_dataset_sample = tf.convert_to_tensor(train_dataset)"
      ],
      "metadata": {
        "id": "4Wm5KsgL2Opc"
      },
      "execution_count": null,
      "outputs": []
    },
    {
      "cell_type": "code",
      "source": [
        "# train_dataset_sample=  tf.expand_dims(train_dataset_sample, axis=-1)"
      ],
      "metadata": {
        "id": "-aHbWLgl2xbw"
      },
      "execution_count": null,
      "outputs": []
    },
    {
      "cell_type": "code",
      "source": [
        "# train_dataset_sample"
      ],
      "metadata": {
        "id": "zMj-cVOp3Jsw"
      },
      "execution_count": null,
      "outputs": []
    },
    {
      "cell_type": "markdown",
      "source": [
        "### Creating plot with numpy nd_array\n",
        "\n",
        "---\n",
        "> The plotting is done before reshaping image size to 224 and before making labels to categorical because it will make the plot mapping difficult\n",
        "\n"
      ],
      "metadata": {
        "id": "0_MyicIkztoA"
      }
    },
    {
      "cell_type": "code",
      "source": [
        "for i , (image, labels) in enumerate(zip(train_dataset[:16], train_labels[:16])):\n",
        "  plt.subplot(4,4,i+1)\n",
        "  plt.imshow(image)\n",
        "  plt.axis('off')\n",
        "  plt.title(Classes[labels])\n",
        "\n",
        "\n",
        "# earlier i was doing the below iterating , now the problem with this is , it is not producing the images --> why ?\n",
        "# because the shape of train_dataset is (6000, 28,28,1 ---> total_images/batch, width, height, dimension) & what i was doing is shape[0][:16] which instead of iterating over 16 images sample was iterating over the 16 points width list  hence i changes to just [:16],\n",
        "# i caught the error because of image.shape  ----> advice ---> always print the shape or tensor\n",
        "\n",
        "# for i , (image, labels) in enumerate(zip(train_dataset[0][:16], train_labels[:16])):\n",
        "#   print(\"image\", \"--->\", image,\"label\" ,\"------>\", labels)\n",
        "#   print(image.shape)\n",
        "#   plt.subplot(4,4,i+1)\n",
        "#   plt.imshow(image)\n",
        "#   plt.axis('off')\n",
        "#   plt.title(Classes[labels])"
      ],
      "metadata": {
        "colab": {
          "base_uri": "https://localhost:8080/"
        },
        "id": "szaucZL2BFOg",
        "outputId": "98f4e1e6-1ee2-4252-fe81-b5ab4f2aca75"
      },
      "execution_count": null,
      "outputs": [
        {
          "output_type": "display_data",
          "data": {
            "text/plain": [
              "<Figure size 640x480 with 16 Axes>"
            ],
            "image/png": "[encoded data removed]"
          },
          "metadata": {}
        }
      ]
    },
    {
      "cell_type": "markdown",
      "source": [
        "### Pixalating/Resizing the Train and Test image\n",
        "\n",
        "---\n",
        "\n",
        "> I can also do that with tf.reshape which would make it much easier but just to keep it simple i have made a function"
      ],
      "metadata": {
        "id": "NRCHVv-A0F9L"
      }
    },
    {
      "cell_type": "code",
      "source": [
        "def prep_pixels(train, test):\n",
        " # convert from integers to floats\n",
        " train_norm = train.astype('float32')\n",
        " test_norm = test.astype('float32')\n",
        " # normalize to range 0-1\n",
        " train_norm = train_norm / 255.0\n",
        " test_norm = test_norm / 255.0\n",
        " # return normalized images\n",
        " return train_norm, test_norm"
      ],
      "metadata": {
        "id": "6ZBIhHiUeBGr"
      },
      "execution_count": null,
      "outputs": []
    },
    {
      "cell_type": "code",
      "source": [
        "train_dataset,val_dataset = prep_pixels(train_dataset,val_dataset)"
      ],
      "metadata": {
        "id": "cjxwXCBD5gzk"
      },
      "execution_count": null,
      "outputs": []
    },
    {
      "cell_type": "code",
      "source": [
        "train_dataset.shape"
      ],
      "metadata": {
        "colab": {
          "base_uri": "https://localhost:8080/"
        },
        "id": "EAmhZbUk_aSz",
        "outputId": "3ae16dbc-1bc3-473d-b84f-86269f5294e1"
      },
      "execution_count": null,
      "outputs": [
        {
          "output_type": "execute_result",
          "data": {
            "text/plain": [
              "(60000, 28, 28, 1)"
            ]
          },
          "metadata": {},
          "execution_count": 13
        }
      ]
    },
    {
      "cell_type": "code",
      "source": [
        "val_dataset.shape"
      ],
      "metadata": {
        "colab": {
          "base_uri": "https://localhost:8080/"
        },
        "id": "Uc0qntnA_c1G",
        "outputId": "cd902eeb-1ac4-466c-e5b4-3c6c0018acb1"
      },
      "execution_count": null,
      "outputs": [
        {
          "output_type": "execute_result",
          "data": {
            "text/plain": [
              "(10000, 28, 28, 1)"
            ]
          },
          "metadata": {},
          "execution_count": 14
        }
      ]
    },
    {
      "cell_type": "code",
      "source": [
        "train_labels.shape"
      ],
      "metadata": {
        "colab": {
          "base_uri": "https://localhost:8080/"
        },
        "id": "JeeEv6yMKAvx",
        "outputId": "f99e5fa7-1c1e-4b03-a565-b684af1a5f99"
      },
      "execution_count": null,
      "outputs": [
        {
          "output_type": "execute_result",
          "data": {
            "text/plain": [
              "(60000,)"
            ]
          },
          "metadata": {},
          "execution_count": 15
        }
      ]
    },
    {
      "cell_type": "code",
      "source": [
        "val_labels.shape"
      ],
      "metadata": {
        "colab": {
          "base_uri": "https://localhost:8080/"
        },
        "id": "CGrU_KexKEWz",
        "outputId": "877356aa-281a-4e8e-8b6c-2fa415b5f813"
      },
      "execution_count": null,
      "outputs": [
        {
          "output_type": "execute_result",
          "data": {
            "text/plain": [
              "(10000,)"
            ]
          },
          "metadata": {},
          "execution_count": 16
        }
      ]
    },
    {
      "cell_type": "code",
      "source": [
        "train_labels = tf.keras.utils.to_categorical(train_labels)\n",
        "val_labels = tf.keras.utils.to_categorical(val_labels)"
      ],
      "metadata": {
        "id": "XsfbDAXNZjRi"
      },
      "execution_count": null,
      "outputs": []
    },
    {
      "cell_type": "code",
      "source": [
        "train_labels.shape"
      ],
      "metadata": {
        "colab": {
          "base_uri": "https://localhost:8080/"
        },
        "id": "E0zGNBZuKak-",
        "outputId": "e3ea1bcf-c1b6-44c5-b2c3-659b98b83d55"
      },
      "execution_count": null,
      "outputs": [
        {
          "output_type": "execute_result",
          "data": {
            "text/plain": [
              "(60000, 10)"
            ]
          },
          "metadata": {},
          "execution_count": 18
        }
      ]
    },
    {
      "cell_type": "code",
      "source": [
        "val_labels.shape"
      ],
      "metadata": {
        "colab": {
          "base_uri": "https://localhost:8080/"
        },
        "id": "SKPGdMXAKb73",
        "outputId": "62e44ac7-5164-48ca-e7b5-0323c34f2e41"
      },
      "execution_count": null,
      "outputs": [
        {
          "output_type": "execute_result",
          "data": {
            "text/plain": [
              "(10000, 10)"
            ]
          },
          "metadata": {},
          "execution_count": 19
        }
      ]
    },
    {
      "cell_type": "markdown",
      "source": [
        "## Training"
      ],
      "metadata": {
        "id": "6_utgvODDgu9"
      }
    },
    {
      "cell_type": "code",
      "source": [
        "# if the error is model is haven't build yet ->that means there's no input layer or being provided to it, make sure to add Input Layer\n",
        "\n",
        "lenet_model = Sequential([\n",
        "    InputLayer(input_shape=(28,28,1)),\n",
        "    Conv2D(32, 3,kernel_initializer=\"he_uniform\", activation=\"relu\"),\n",
        "    MaxPool2D(pool_size=(2,2)),\n",
        "    Flatten(),\n",
        "    Dense(100, activation=\"relu\"),\n",
        "    Dense(10, activation=\"softmax\"),\n",
        "])\n",
        "lenet_model.summary()"
      ],
      "metadata": {
        "id": "SANESOKWgGkc",
        "colab": {
          "base_uri": "https://localhost:8080/"
        },
        "outputId": "ecae0676-e6f8-4d75-a58e-c5276b67ad9f"
      },
      "execution_count": null,
      "outputs": [
        {
          "output_type": "stream",
          "name": "stdout",
          "text": [
            "Model: \"sequential\"\n",
            "_________________________________________________________________\n",
            " Layer (type)                Output Shape              Param #   \n",
            "=================================================================\n",
            " conv2d (Conv2D)             (None, 26, 26, 32)        320       \n",
            "                                                                 \n",
            " max_pooling2d (MaxPooling2D  (None, 13, 13, 32)       0         \n",
            " )                                                               \n",
            "                                                                 \n",
            " flatten (Flatten)           (None, 5408)              0         \n",
            "                                                                 \n",
            " dense (Dense)               (None, 100)               540900    \n",
            "                                                                 \n",
            " dense_1 (Dense)             (None, 10)                1010      \n",
            "                                                                 \n",
            "=================================================================\n",
            "Total params: 542,230\n",
            "Trainable params: 542,230\n",
            "Non-trainable params: 0\n",
            "_________________________________________________________________\n"
          ]
        }
      ]
    },
    {
      "cell_type": "code",
      "source": [
        "#for categorical dataset -->categorical crossentropy for binary dataset ->binary_crossentropy\n",
        "lenet_model.compile(\n",
        "    optimizer=GD(),\n",
        "    loss=CategoricalCrossentropy(),\n",
        "    metrics=[\"accuracy\"]\n",
        ")"
      ],
      "metadata": {
        "id": "ZLpbcK3ltgTR"
      },
      "execution_count": null,
      "outputs": []
    },
    {
      "cell_type": "code",
      "source": [
        "history = lenet_model.fit(train_dataset,train_labels,validation_data=(val_dataset,val_labels),epochs=config[\"epochs\"],verbose=1)"
      ],
      "metadata": {
        "colab": {
          "base_uri": "https://localhost:8080/"
        },
        "id": "T76mKeegul_p",
        "outputId": "c172a8ad-a389-4cc6-8eca-a9949290a27d"
      },
      "execution_count": null,
      "outputs": [
        {
          "output_type": "stream",
          "name": "stdout",
          "text": [
            "Epoch 1/20\n",
            "1875/1875 [==============================] - 18s 4ms/step - loss: 0.5580 - accuracy: 0.8018 - val_loss: 0.4375 - val_accuracy: 0.8440\n",
            "Epoch 2/20\n",
            "1875/1875 [==============================] - 6s 3ms/step - loss: 0.4011 - accuracy: 0.8585 - val_loss: 0.4097 - val_accuracy: 0.8513\n",
            "Epoch 3/20\n",
            "1875/1875 [==============================] - 7s 4ms/step - loss: 0.3554 - accuracy: 0.8746 - val_loss: 0.3659 - val_accuracy: 0.8650\n",
            "Epoch 4/20\n",
            "1875/1875 [==============================] - 7s 4ms/step - loss: 0.3236 - accuracy: 0.8845 - val_loss: 0.3566 - val_accuracy: 0.8717\n",
            "Epoch 5/20\n",
            "1875/1875 [==============================] - 7s 4ms/step - loss: 0.3028 - accuracy: 0.8922 - val_loss: 0.3177 - val_accuracy: 0.8879\n",
            "Epoch 6/20\n",
            "1875/1875 [==============================] - 7s 4ms/step - loss: 0.2853 - accuracy: 0.8975 - val_loss: 0.3096 - val_accuracy: 0.8893\n",
            "Epoch 7/20\n",
            "1875/1875 [==============================] - 7s 4ms/step - loss: 0.2705 - accuracy: 0.9029 - val_loss: 0.2978 - val_accuracy: 0.8907\n",
            "Epoch 8/20\n",
            "1875/1875 [==============================] - 7s 4ms/step - loss: 0.2583 - accuracy: 0.9070 - val_loss: 0.2883 - val_accuracy: 0.8960\n",
            "Epoch 9/20\n",
            "1875/1875 [==============================] - 6s 3ms/step - loss: 0.2480 - accuracy: 0.9108 - val_loss: 0.2940 - val_accuracy: 0.8924\n",
            "Epoch 10/20\n",
            "1875/1875 [==============================] - 7s 4ms/step - loss: 0.2377 - accuracy: 0.9145 - val_loss: 0.2834 - val_accuracy: 0.8966\n",
            "Epoch 11/20\n",
            "1875/1875 [==============================] - 6s 3ms/step - loss: 0.2288 - accuracy: 0.9182 - val_loss: 0.2722 - val_accuracy: 0.9019\n",
            "Epoch 12/20\n",
            "1875/1875 [==============================] - 7s 4ms/step - loss: 0.2204 - accuracy: 0.9209 - val_loss: 0.2749 - val_accuracy: 0.9005\n",
            "Epoch 13/20\n",
            "1875/1875 [==============================] - 7s 4ms/step - loss: 0.2128 - accuracy: 0.9217 - val_loss: 0.2842 - val_accuracy: 0.8981\n",
            "Epoch 14/20\n",
            "1875/1875 [==============================] - 6s 3ms/step - loss: 0.2062 - accuracy: 0.9252 - val_loss: 0.2607 - val_accuracy: 0.9074\n",
            "Epoch 15/20\n",
            "1875/1875 [==============================] - 8s 4ms/step - loss: 0.1982 - accuracy: 0.9281 - val_loss: 0.2705 - val_accuracy: 0.9043\n",
            "Epoch 16/20\n",
            "1875/1875 [==============================] - 6s 3ms/step - loss: 0.1916 - accuracy: 0.9313 - val_loss: 0.2720 - val_accuracy: 0.9050\n",
            "Epoch 17/20\n",
            "1875/1875 [==============================] - 8s 4ms/step - loss: 0.1858 - accuracy: 0.9338 - val_loss: 0.2598 - val_accuracy: 0.9077\n",
            "Epoch 18/20\n",
            "1875/1875 [==============================] - 6s 3ms/step - loss: 0.1802 - accuracy: 0.9349 - val_loss: 0.2525 - val_accuracy: 0.9119\n",
            "Epoch 19/20\n",
            "1875/1875 [==============================] - 8s 4ms/step - loss: 0.1746 - accuracy: 0.9365 - val_loss: 0.2494 - val_accuracy: 0.9134\n",
            "Epoch 20/20\n",
            "1875/1875 [==============================] - 6s 3ms/step - loss: 0.1687 - accuracy: 0.9388 - val_loss: 0.2573 - val_accuracy: 0.9110\n"
          ]
        }
      ]
    },
    {
      "cell_type": "markdown",
      "source": [
        "### Saving the model/Connecting Google Drive\n"
      ],
      "metadata": {
        "id": "apNzIP8QOBQx"
      }
    },
    {
      "cell_type": "code",
      "source": [
        "lenet_model.save(\"GCD.h5\")"
      ],
      "metadata": {
        "id": "QsQZF-RdNZTU"
      },
      "execution_count": null,
      "outputs": []
    },
    {
      "cell_type": "code",
      "source": [
        "from google.colab import drive\n",
        "drive.mount('/content/drive')"
      ],
      "metadata": {
        "id": "ZQLzn5tEN806"
      },
      "execution_count": null,
      "outputs": []
    },
    {
      "cell_type": "code",
      "source": [],
      "metadata": {
        "id": "0xmzppgF6GRk"
      },
      "execution_count": null,
      "outputs": []
    },
    {
      "cell_type": "markdown",
      "source": [
        "# VITS"
      ],
      "metadata": {
        "id": "aW6eaX76whlo"
      }
    },
    {
      "cell_type": "code",
      "source": [
        "import cv2\n",
        "test_image =cv2.imread(\"/content/sample_image.png\")\n",
        "# test_image = test_image.astype(\"float32\")\n",
        "test_image = cv2.resize(test_image, (28,28))\n",
        "print(test_image.shape)"
      ],
      "metadata": {
        "colab": {
          "base_uri": "https://localhost:8080/"
        },
        "id": "bgSbXmOr0ByU",
        "outputId": "22b786d7-4b16-42d4-daaf-dfd294318cf7"
      },
      "execution_count": null,
      "outputs": [
        {
          "output_type": "stream",
          "name": "stdout",
          "text": [
            "(28, 28, 3)\n"
          ]
        }
      ]
    },
    {
      "cell_type": "code",
      "source": [
        "# make sure that image images size must be 256 because only then our patches can be divided into 16x16\n",
        "# ex our img size was 28,28 prev , hence if we want a 16*16 patches for 28,28 size it would just be 1 leaving rest 12,12 remaining from 28,28\n",
        "\n",
        "patches = tf.image.extract_patches(\n",
        "    images = tf.expand_dims(test_image, axis=0),\n",
        "    sizes = [1, 2, 2, 1],\n",
        "    strides = [1, 2, 2, 1],\n",
        "    rates=[1,1,1,1],\n",
        "    padding=\"VALID\",\n",
        ")"
      ],
      "metadata": {
        "id": "QG53Ztspwl0_"
      },
      "execution_count": null,
      "outputs": []
    },
    {
      "cell_type": "code",
      "source": [
        "# here for sample image i've channel of 3 so 2x2 pixels of each patch of 3 channels i would've 12 =2x2x3\n",
        "# but instead in reshape i just used 2x2 = 4 so what reshape does it , multiply the 3 with 196 or say middle indicies = 588, make sure to use correct number of channels based on i/p image channel else they'll be multiplied with other indicies\n",
        "\n",
        "print(patches.shape)\n",
        "patches = tf.reshape(patches, (patches.shape[0], -1, 12))\n",
        "print(patches.shape)"
      ],
      "metadata": {
        "colab": {
          "base_uri": "https://localhost:8080/"
        },
        "id": "9CGRv_zLx6aD",
        "outputId": "fa7dfd6e-ea58-44f7-bde8-099d7aeb84db"
      },
      "execution_count": null,
      "outputs": [
        {
          "output_type": "stream",
          "name": "stdout",
          "text": [
            "(1, 14, 14, 12)\n",
            "(1, 196, 12)\n"
          ]
        }
      ]
    },
    {
      "cell_type": "code",
      "source": [
        "plt.figure(figsize = (8,8))\n",
        "\n",
        "for i in range(patches.shape[1]):\n",
        "\n",
        "    ax = plt.subplot(14,14, i+1)\n",
        "    plt.imshow(tf.reshape(patches[0,i,:], (2,2,3)))\n",
        "    plt.axis(\"off\")\n"
      ],
      "metadata": {
        "colab": {
          "base_uri": "https://localhost:8080/",
          "height": 653
        },
        "id": "3eW8Dib4H6m1",
        "outputId": "81ec057b-4f34-4aef-d6b3-849237eb8ac2"
      },
      "execution_count": null,
      "outputs": [
        {
          "output_type": "display_data",
          "data": {
            "text/plain": [
              "<Figure size 800x800 with 196 Axes>"
            ],
            "image/png": "[encoded data removed]"
          },
          "metadata": {}
        }
      ]
    },
    {
      "cell_type": "code",
      "source": [
        "plt.imshow(test_image)\n",
        "axis=\"off\""
      ],
      "metadata": {
        "colab": {
          "base_uri": "https://localhost:8080/",
          "height": 430
        },
        "id": "wM8Jdf5-JdIn",
        "outputId": "1ef59d0f-94c6-4f4d-d3f3-31a8c6af7de9"
      },
      "execution_count": null,
      "outputs": [
        {
          "output_type": "display_data",
          "data": {
            "text/plain": [
              "<Figure size 640x480 with 1 Axes>"
            ],
            "image/png": "[encoded data removed]"
          },
          "metadata": {}
        }
      ]
    },
    {
      "cell_type": "code",
      "source": [
        "class PatchEncoder(Layer):\n",
        "  def __init__(self, N_PATCHES, HIDDEN_SIZE):\n",
        "    super(PatchEncoder, self ).__init__(name=\"patcher\")\n",
        "    # N_PATHCES =196, HIDDEN_SIZE = 4\n",
        "    self.n_patches = N_PATCHES\n",
        "    self.linear_projections = Dense(HIDDEN_SIZE)\n",
        "    self.positional_embeddings = Embedding(N_PATCHES, HIDDEN_SIZE)\n",
        "\n",
        "  def call(self, x):\n",
        "    patches = tf.image.extract_patches(\n",
        "                      images = x,\n",
        "                      sizes = [1, 2, 2, 1],\n",
        "                      strides = [1, 2, 2, 1],\n",
        "                      rates=[1,1,1,1],\n",
        "                      padding=\"VALID\",\n",
        "                  )\n",
        "    # pathces.shape[-1] would give us more fine control over manually specifying 4 , because our image sample coould be of 3 channels or just 1 channels which leads to different values.\n",
        "    print(patches.shape)\n",
        "    patches_reshape = tf.reshape(x, (tf.shape(patches)[0], 196, patches.shape[-1]))\n",
        "    # embeddings is just count to the total number of patches = 196\n",
        "    embedding_input  = tf.range(start=0, limit=self.n_patches , delta=1)\n",
        "    output = self.linear_projections(patches_reshape) + self.positional_embeddings(embedding_input)\n",
        "\n",
        "    return output"
      ],
      "metadata": {
        "id": "rJVDwqQULc2a"
      },
      "execution_count": null,
      "outputs": []
    },
    {
      "cell_type": "markdown",
      "source": [
        "\n",
        "![asdj.png](data:image/png;base64,iVBORw0KGgoAAAANSUhEUgAAAVQAAALPCAYAAAA92zioAAAAAXNSR0IArs4c6QAAAARnQU1BAACxjwv8YQUAAAAJcEhZcwAADsMAAA7DAcdvqGQAAOURSURBVHhe7J0HnBRF2odLPYEFliggIKIYALMCinyiYMAzYRbPhFn0jJjRM2M6zzOdomdChTsDqKigqCwKIkgWFBZRQQkCklxgMZx+89TM21tb9OSesDP17K+2ajpUV1dX/fut0N2b/RFCORwOhyMp/gj9we+//aY2/9OftO8E1eFwOFJABBUQU9hc/3c4HA5HSoiFCs5CdTgcjhRwFqrD4XAEjLNQHQ6HI02chepwOBwB4yxUh8PhSBNnoTocDkfAOAvV4XA40sRZqA6HwxEwzkJ1OByONHEWqsPhcASMs1AdDocjTZyF6nA4HAHjLFSHw+FIE2ehOhwOR8A4C9XhcDjSxFmoDofDERAios5CdTgcjjRxFqrD4XAEhLNQHQ6HIyCchepwOBwB4SxUh8PhCACxTkVMnYXqcDgcabLFn7asZqE6QXU4HI4UQEixVJ2F6nA4HGmCkG4W+nMWqsPhcKSJZ5U6C9XhcDjSAyGlye8sVIfD4UgThJQmv7NQHQ6HI02chepwOBwBIINR4CxUh8PhSBNTSAUnqA6Hw5EiIqquye9wOBxpImLqmvwOh8ORJs5CdTgcjoBwFqrD4XAEhLNQHQ6HI03c6/scDocjQBBRXt9n4gTV4XA4UgDL1D0p5XA4HAGAkLpn+R0OhyMAnIXqcDgcAeEsVIfD4QgIZ6E6HA5HALi3TTkcDkeGcYLqcDgcAVGQgipPMTgchYwr5/mB2Ye62R8hdKhAkEJGH8f/fvtVh9NBnoQgXuIsVMx8s4m1zpE7KN9eRS6Aa2PWMQnji2DJb8iH8zXzX/pQC05QTThh+9GwZJELKBRCwfVDbj7kl1mwHcEh4iCYZdMuZ/Hg+kiFljjTLev5ipRNyKfyaea/+AUpqFJwyfzVq9foZQ1K66mfKtbrsCDL7HX2cvxiERoKyQ/LlqvNNttMbdiwQZWWlqqtmjYp2MqabUxRtctjMlAmTcRSqunlk/Lnly9SB/MJEVSQa1rwTf4br79BLV+xXC/7qWJD6MLUVfXqN1Dr1/2kl5mwHFgn20LvY09QJ5x4vI67kATVPp+xH45Rzw9+To0Y8Yb+vU2rlmrtTxXq7HPOUxf2u1i1bt1aLy+GG0umIO/WrF6r3nz9dfXtt1+rH1eujlkWBbNM4u/beW911jnnqlatWuk4QSylmnhtpEy9PHSImjp1mldngfPtfczR6uxzz/FELB/OUdIi+Y5fsBYqLA9ZWq1DBQ4oiO3bd1T7dOqiunTurIaELlxZWZleJzz26CPaH/3+GDV18gS1eGn4ol50UT/1r8f/pcOFhuTV7M+/UEcfeZg+Z/Lq6WdeUHvsubs68/TT1OQpU3Ue3DVwoGrcuFG1O7PgBDZxyL9vFyxU4z8epx584B71ZfnXkTVhunTupE7t00dtvfXWqnLjL1p4Fy5cqKZNmeRt27NnT/XEoEFqxx131NdQKjXUZEFdvHixmjV9urr9zjt0uRN69z5ODX99WORXfmDWA7FQFYJaSPwe+YMffvjhj8YN62t3y803/fHbr7/o5XBt//5/bLH55tXcokWL9Dr2//STCX8cesghejnbFiKcp+TJ8ced4OXDtq23/mPVqtV/jHrrLW/Z7h130nkCksfmnyM1nvjXY14eixv22nDfPKU8X3LxJXobyuZXX30VWRO+JjUdKUuUSTtf+p55RrVt8gHSKekVv+CmTcndmTterVq1dZi72+133qXDLOfPj8rKSu1zt+myb2d15x13es1+iLZfTcW7q4bAIhcaNijVfp2Sut75t2i1rWrTdlsdNveLRqHlVZCYeVOnTlX5EurW3lKXY7bDCsJBixYtdCuB8ryuono3QSG0EDgHypZfXynN/nxFmvs6rP8XEFJYuTgbNoQ7t/v1u8QrlHLREqF9x4668Jr9OWBWCLPAg1QCfNnODJvEWhZtn0Qx9zXjEl/STOGd9flsVbFunf4tMAiw5z77qAcffET1v/JKfXORPlSBvOQPzPglDOZvyRfBzDdBtje3tffzQ/YxMeOJtb/fOnsf87e53I9Yx7TjKKlTS/smG34OlymznC5btkzvQ5cL/YktW7WJrKlC4vTLL/t3KvjFyZ/f8YDlpi/by58sM7G7kuSGbho2NsQhx7CRY/FnYi6z97W3jQfXSdJd0BYqFmenzvtpYQT7YtmUlJRon+1wiMoRf/6zat6suV4ucYsvF0JmAPDb3IY/lkuY9eJkG9lPLiLLxJewDdsze0HiEYhD4jMrI2EzXkHyY/26Cu2bcE5UXgYC7v/HP1TXbvvr5cTPOuLhOLhwSqvmDJrHlnUg+wH78VviAPaX7c1tzTCwvX3+5jGB9RIPmOslj/CB7QjLjBBgmSznT37LOsFMO2H5bea5id8yP7g2pB3HrIt/3H+/dw4dOnTQg1I2EreZX6RLMM/ZRtJtYp6T5IEsjwbbyrWRvBfYX/6AbSRMnOYxxHL3s0zZRtIkvzkWy3AC6yXPJF6B37JM6gHbm2lKFPb3jkNfgA4VEGZGfvlludptj12933LyjP4/+NBDepmw8LvvtBUmFxafga1R74xUX34xW5XUDQsulNSpoy665FItuo898oj6aNwEfRdFgPucdnpkq7Blwf5jx47xCkdFxVq1887t9eDYEUcdqZtyckysxTEfvKdWrV6ttxWOOOIo3Q3x5ptvqxFvDleLlyxVpaUNtbVy7PHHa/EjDpNXhg5Vo959V2/bulVLfWPo1Gkf9e2336quXbupHoccrAY9/i89CCcj+8B5nH/ehTp85JFH6e0oaBRaKsvoUe+ol18drtcD2596Sh912J8P9/KXbRlgePH559SqVaur5d3++3VVfz76aDVxwqfq/r8/oPNj7z33VFf076++mluuRo58Z5O8ZkS7pKSuevk/Q3R62Yfz73PyCapXKG9ksOy1V17x0ibX46RTTtG/zQou58PMhleHDVNLl/4QWaNUr8MOVsefeJK+LsA5c9xvvv6mWrp2Cd2oiZsBpn8++E81b165vq79+l2sdt9jN++a+iHrGNU+/cyzIkvDvPLKa3pWiUA+XXh+XzX98y+8a7By5Y+qadOt9HlzDmWh8mVCnh11zHFql13aqxdfeEmNeOttnWeUA2atHHvs0b75AcTPLAQps/Z+grn//Pnz1YuDn1ezZs/Rv9nnkJ49dBqof+CXF+z32sv/VZ9Nma5/79huO3Vm33PU1CmT1fkXnK+XgQxKSTqlrMuMCbN+tWy5tTr5xBNV94O6e2mkXr3z1huqcuNG/Vs46eRTdR5Rr5544l+6THH9+/zldJ23sSAtUt49Uc2XDt6gkPPBN/+k4xgIxxuUkm1BBgMY3JJtGbhhkIbBHHO5OXjz+cxZujOdZQyKlX3w4R//HfKSN9jFfuxvDvYwGPTcM8/qfSROHJ30xGUeC8fve+66U+8ncH4cjzR23beLHuRggIntJF7SAZwX29hxkkbSJtuBnC/x4hMncbM/y0if5CGQDraRYxIvjrwnXvscSTMDLZJ2Wc4+Zr6ZjnXkDce1rwWOeDhvPyQ/2Ic8J62Sx/gy6MN5cO7mdcOXa2efB/tSZhKB45r74sxBKSmrHIOwQFi24VicC+mStHHeD/3jAd8ywzrykzhMR3yUUbmeHJfzk7LPMhncNdMn5VX2IQ7Sw2+Wkw62N48FciwzXfzGkW4zzeQ1mMfm+rAd+3FtpDzKcSkXwPbUD36zTuLknMgH0uy3PB6SFvPclLlQ/goB+1zMC0GYTJQMFGeKgZ0PiKPfxedC2heDC8cxZESWZSKaLCculsk+ZmHBActkPY4CQuGh0HCxzWMSlvhJN+slfrtyUrhZTiUACpq5vcRHXoQsTE8YSLMpaPwG4uYYspx02zcm8tqMn3zjfMz8lH05JulkvbmObclPzpNzMOOTuDiOX/6wXvJHEAFiPfkq+c52sh/xyXIgz/yOi7PPT/InFuQNaZX9xHEOwLFFcDmWpIX9COMLXEe/POMcOCeE0E4711biwiFwkm9cC7n2XF/ZF98sa+Y6cx/WmTcgrpmZZsTQLE/sS7yUHc7fPheuEUgecBz2kfWSJvJB6jbnInkJ7GseE0ccbGcfj/wy89cPOR/T3xxTtRCheWE2MTD9/Zoc8ZCmRUndOqp+adVka+ZrMjDAXMCXXxmum5fAZPhDex2uuxqmTZ2sl9EUGT7sNd2UIh00MdhOmF8+SzfrWBfteuzTeT919733qcOPPko3cY/ufUJkTTgtc+fO1WHOkSavNH9+WlvVL0j8p55+hm4+rV2zSi+jWdOiRUtVWr++/g2M8tP1waTx5i2a63QPGvSEN2+XOZDNWzTTecPx9uu6r3f+dB08FdoWwldgM9WkSWP9W1iy+Ht12533qReHDNXzWwX6BVs0b+Y100x69eqlR7jpyz2pz6mqR89ekTVKz81k/Y03/013JZA/nbp0i6xVatGSpWrGjGmRX+Hm35sjRnh5RLeA5PtWoeO3bhnuMx83fpya/NkUHQZ7AImHHo7t3Vu9MeItdd2110eWKtX9gO5qmzbbeGUnGuQN80xt/vHQQ+qE409Ue4eayv37Xx5ZGkbynPTiC40aN4yEwnA9mHNNnpBnPJjBeIJAns2Z/YUXx48rV6kbB9zgzb0+qHs3r8sDpHyQZwsXfKPDX8//Wl11xSVePu6+W0e9D01h4u22f1edDtY/+OADOi9Zzvp3RrxZbR44XTekc+tQeaPr6M9HHBNZE0aOITz39L+9bqpd2u/gjZPQBUe3FnAub40cpcNAuaJJb0Ld+3DsOPXU04P1/F8gzXvu1UmnNRG85j5h/d+REpdf+le1w4476L7Njz7+VD3976fVkP8O15OtbdZXblS//PJz5JdS9Uqr988sifThyYWx6dq1qxY4LjKFpk3rKkEGEUhYuuT7SEipW28ZoPtSEUWgwJPu/bpWCY4fIgYcb+a0aWrc2Pf1b6BQMiVNCtyfQgXKvEFM+HSi7hsT7H6rVq3b6L448gmRpM/w7Tff1H3SIqZ2/tDvKv3EHE8EXJD1VFbyx16/xuiTpo+6vDzc1wdtt2vnnQsDk6QPmFguNyrYsnb1OIE0c9PB/2D0+/o8rrz6ai1w8Sok5+I3yk8/rBa0VuFpaiD5IeXDjtvvWPTRSz8gQkU/qMmqNWt1GhCEsR9+4E2k54bSPpQGYH3Pg3uqnTuE+0ERne49euryxIMJIsDQsmX1+M3fbIdRAfQ5//fll3UYOB7XQKAMtG4dfiDHhrRyjaXPFcyywr4NG1SJJv3a9OVHo3uPw9T227XVdZgbPHV4+LA3q/UVx0P6UMEJaho0bdZcF2QyE6vzzLPO8DrgGZS49W+3aGsOi5CBCioehYFRWxMsnV9/Dt+B/awz+DkkSuyLi4aIoDmlhoLMoMcpJ58UKiiv64pw0CE9tTUg28dj5szp1Z7mYeDAxqz88+Z+oaZ+NinyK4xpYZA+OU8qPIUXqwQhjJYmcyrRb1FuOiAF23x0k2PLDA7inz5jRrX0IJq0EHA8pbO+osqqZzBSkGskYMmTftKET75yHtz4IF7+Unb8LNRDDjlUXd6/v3r33VG6cts3h2SJVWZIA+k3Bxk5L+Ygk345t8EvvKDGjxuvrXHOD+OApw0F0mjPqd1u27bal/S/O+ot7S9a+F21p6C4gdWrH577LIIZDdI77qNx2rI04aYv13DBdwsjS8NlkWsajZ13bOeVGYSVOsx1jFYP/WB/8kmH9X9HStANIJCpXATTUqB5/v4HH6hXX/2vbiK/9/Y76vLLr1QnnXB8NQspGWJdaLmoWKDSbBVoXp1yyknqvHPP04+ZJgqFe/HiJZFf/sgDFAIi/sMPVaPmjDj7QYXlj3MSJ/lnihow2V3OHQs1Hubz8VToyshDG4wKM+vBhGZ1n1NO0O6ifhfoGxzNSPKQUf1YFRy49pwHaSeNhAUzbMM6PwsVJB8Yqb7ssit0fnAcqfx+2Fa9xC35Fg1eRmIKFOcPpEGO1zJk3WLFmdd66pTqN005np1GuXkRLy2XZcuq5z9daVKX5LxrRykzgGUtaQTEuW/f071reM/dd+lrxzWU1kYszPOUMsi1iXXtTKh3sr8T1AzAhRBrigL09/vuU4f17K5OO+Mvev1T/35Wv1fAxK85aSMXLd5birjD3n//A5uIKtDvdOEF5+qpNlJ440F3hYn9Ox3kJpAo8cQh2jmJhWp2uwhPPD5ILVi0RC1ctNRzn385T/s8YSf5nsg1SgbS6mehmnBspsyBfW40ZWlxJFrxbbhJCaZAgYieeUzynlZEPGQfrFybyg0b455zPGgpmA+iUM5nzJpT7frJNfx00me6Xz0epFmus5Bo2WQ/2bYoBDXVApcqcnFomvBykZtvuVUPjPDU0SOPPOR1CySLXaH84FzZjrmwb498X50ROj53arPZyB2duZfSrxoLKtFWTasPKtUriW49CKaFYfehmtiFOF3iXWvbmgbm5VIhuAni5IYoLh1iXTOOE81CBfKedPHIL319ZlqY33zTjTfopq5gW/XxhItuFD9oYZAnguQpvnlDMwcyzTBEuw601GKdcyJwYzOPh7gyLxckj+QaCtHSI/itT7Rsco1k24IXVMkoM8MSzah4F0Gg0tgVh2Y1o6bSV8SoNJP4pZJEI9oxRaAoJNGsBM6LdNBXynYI9zPPPqtHMJmob1qsdNZLIQTzjm9bK9tvv0MkFMbPQjWfLec40n8mROsHjJYXdvMVYl0PsYaiCZg0+ekPtAdnPiwbGwmFkQqC43pFizMasn28/VgfTfTMc61bt54acNOAyK8wrw97TXddSD8++OVZLEwLVQadhLnl5dVuuPa5cGMyZ1KY5Ye0sz1NcxOa3wyKMqsEpExQdrBchXj1s1XLrb33TQBdCvMjg4fsK8c3xT9aOZNyAeY5EjZ/x4JjSvyby47mnyNxc1+w74afjP+oWsc7U0rEOvIrMGbhThemsrz/7nv6WnIsBqDuue/ekMDf7CtsdULNYdvCAKnUBxzYXQ+uCeZTRUAzmqlQAhVtv/87IPJr0z7UaOJqYltbINfEz8rcWFl9wCgWPXocXC0NDFww8iwVUER00oSJ6t233652bf3yya/e2L8F4jLFMpq1ZpY/bqBMY+NaEi8DL48/9rCebdHEaj34YR7PBAuVdcxIOP/ccyJLw9A1xBNIIOciPtPOSNOF51Xtg6itXlP9mi1fVr3vvW/fvtrfJmRxU56kb5XxBPPxZ45jzsqwoTwzjdDkv6+8rM+FfSXvuCHQtUV6TXEVKAPSFZQOHE/qdNH0oUphAAYm/Kws824lJCKsdoFlH7tAjB49Wi36fpGuUIOffT7pQSlG+cFPjAU5R+7ezGXkWCwjfRQo5sfKXESm5vDoImz0OW/yCNiXqWFHH3mEJ0IMYJh9kRUVFd70GaxT5hRiCUZDKhJp43zs/APT2pLj+lWKVOAGIX3YxE3amUeKUAEVkUdCeSz2h+UrvDy3R/kF0u93DibR1vtZqBxHjsk5y3lTrhCIv93yNz3rgtkWWK9+IPyJNK2Jk+vAVCjzpsk1evLJJ6rdUMiXewfepR8LBW6azGARli4N97tKnZk1+0vvWjPdqvdx4cdpGU2nPAlswzxhOY7ME44Fc4fNmyI3gEcefFB3hZB3jF3cc9ed+oXp0eC4Zp2X4ycLx/N0IjLpv6CRJx54kkGeDLKfjMDxhAVPcLCd/RSEPNJmbs/TNjyxwTbAdnIsnpYyt8Xx5ApPavB0hnl8niRhHekiLp4W4be5L/vIcVhvPiWC4ykizg0kbpaZj0/KUzfmEyQst5+iISxpEYhbnvzCsV7yh3yQ/eQpMYH97LRyfHmyxdxWYJ2d1/LII9hPreFIg6znmvg9aSP5A+ZTQeLYh7RyjQjL0z2Ab54/jvOlXMj6WEi5AMk3zsPOGxzLyAOuHdsQ5tpxfDPN5qOVdp6RNraXdPnlmeQpjjjIEzvfiJP0kH/ki1mm2Id45ekjfFmHL3FxXLneAk/EmefOtlxD8pzt/dJB/eR4QJr9yq3UL+LAcU6yPWmy84DtqU9yTZJB8s30t7gtRFhaCxex0j6b+JkaeNcd6qOPx4WalGtVs62aVHNLly3X8w5nzpiheh56qN5v88230E0/nojasG5Nte2/CTUT582br9q23V61aFHVP8l+behD/N//1BdffK5+/uXX8PI//qeOOaa3+utfL1Nd991PffTRGFWxbr1e3759B3X88SeqX379Vf39/r+r+fO+rHasn3/5RYUuvDowZF2FKpKaErISGoXu0FXrf1Orflyudt19D/XwQw+qY489Vq1cuVoNHz5MvfjCC+qll4aoYa/+V7+p6I677lVHHn2kPrdHQ5YsfYhbqN+9uBqUlqp5879V33z9dcjKKVHbtGkTahrVUZ07d1a7dOgYSnOFGvXOCPXBBx+pV199Tb+sheNdecWV6syzzvIsKqyFp58ctEla69SureaELKzVq35UXfbbT+eXgAX24EMP67yuVWtL1ab11nqf1Wsr1B+/K9WseXP9JNZ3331XLU6uxZZb1tbr77rzLvXdgm+8dbjfQ2dYa8stVdvtttfnsl277dX+Xf8vZGlvVAsWfK2vwYpQfpWXz1V1a2+h+l9zozr+xBNVaYMG2jJ75eVX1NtvvVntmOTTnPJ5avWPK1Tb7duFmuBV/Xo25jli/T/y0D/VkKH/0da+mU4c1/rzWV+oSRMnqE8nfKLGlH2kpkydrL6cNV3nnWx35pnn6POgfA4a9LhavXKFt460rVy5KlQE/6datmodKgPPq89nTPXW48jTNatWqX1D14Cy0GbbbVSnTvupLWvVUj8s+U6XTRx58tsvG9SpfU5VF118sdpuu6p5yMyt3nuvTvpBk1mzPlevh8rb+HEfq38/9ZSqVbuOOufss9X1N9wUahmFn0ISyKsDuh+gNv/jD11HFi1ZHjrPsWrRd9+oQw45LJSmrvo3A6qH//kItd++XVW7HdqpvfbeWzUIXRPSu8uuu6od2u0YsowXqyVLlupruGDBAp3eg0PW9j33/l3tt3+4RfbF7DnqsUcfDW27pNo1RAe++35JqAX4i9p1t+QGi//4/Xe12eabaycWakG+bcoGMeWEl4Wabyt/DD9RZM4hFcyOcSbqm8KwfNmKTfaR7XnMkD4laaZJ5WE/Hu+jc54+0tbbbqe3pTlM84JH8XiMj076nTt20BOmqbwMFhG3eTw5Fumiv89MK9uZ6+k/3btLF90U/zF0zmtWrVRrf1qrj0P/lbylCGgasQ0Tq/2Ox6is+Qgi6eb4DALIKHGTRg3VTh3a66dxyDPymzxgWx7BjQUPQAjsx9u9JK/NPCBMfyFNXLpOzLSCrCcNckx7G/rLWG9eJ67Rt19/o/MIGjVpqh8/pVnKdnIedp7bkO8gZcbGzBOQ+MzzM8M2rJNtxJfrKOXTxN4uWpniN106AmmkDJbPmaOf3qP7gSePKLtmnZA6Jb/NfYDyvmPo5k0+SpkA4jeR/agHchzqCF1K1B3KK+JLv7nUMREv4pVrI+WcMrnTTjt55Zb1bCfHkXJu5iVQduz3/caDuCU94heFoIKcvH1BQS42sF5+S0aZy+z9WW6uB3MbWe8H66RQStg+nhAtjmjEOy7I+nh5YxaYZPLQ3C5WemzMbe1wtDySbTgXMCuxiewvmHFHw06LVFITSZu9XJB9Td/ELx2yDGQ/E9nWXi6wXtJk7m8fw/wNsp2Zl2Afz14v2OVJtjOXSdrkWpjXFew8No9NWLYD87eEZXsgbrDPQzDjSgY5T5BjFM20KTJTMtr8AzNDyST5LZkFZJhkmt++8S4K8co+Ntw9QY7HdubxTMx48PmNE1gm+wuyvWDHbRY084942U7yzizwINsJZpxsJ+v5M3+DnWZBjonPcgnL9mYeEaf8CazHSZzmOsKyP2HiZjuJm9/h2Kr+QI4v5ydxyH6CLI+Heb4gxwEzbOK3PJxC/+0F83xBji3nYqdF8lsw8xLMeFhnnrNsZ9Y1icsvb8xlsg/YaeI36ZI0m+dM/HIssNMPHIf4WY6z47G3Txbik3MpGgs1WchkEZpU4SKbhcQsCH7rpFCYy8Hcz06XHW8i6ZZ4wdw3FvZx/PBLbzz89rGPZW4j6+xtEsXcL15eCubxoxEvPbIenwqYbtkKkkTOLx0kfjCPEcRxJV9NZJlf/H7bp4LELXgi7QTVERRBFdZskc301rS8yQR2HogopZMvucpXSTuIhYrvBNXhcDiSBEE1m/pioRbNxH6Hw+EIElNMJewE1VGQYEHQR2o2zRyOTCDNfR3W/x2OAgDxlD+BSe/M03Q4gkZE1FmojoKHgQq+k/TiSy/pz3s4HEHjiaizUB2FhmmVCjwp9p+hL6iPx0+ILHE4gsdZqI6Ch/5TPiLHG4X4+qxr9juCxrNKTQvV787ucNRkaO7zmZgRb72tf/Nu1U+cleoIGLFKq1mouZgU63AEjV85Hls2Wvu8O3TihPE67AwIR9A4C9VRsCCsNPdHj3rHe7kxTJ85Uzf7nQHhCAoR0WoWKv8QVSesjpqOKZaj3n03EgrDZ06mTw6/ad6Vd0cQeCJqWqj6fwh353bUdLBMcbz3lk9imPCZk08nTdRhCr9UAIcjXTaxUB2OQoBCzVucRr/7XrXmvjBr9hzd7Gc7qQAOR6p4VqmfhepwFAoyum/D50Z4CzytMdcic6SL3JSdheooSCjYWKAyum+jR/snuulTjmBxFqqjYBn1zkjf5r4wt7xcLVlS/XvxDkcqiIg6C9VRkNB/Gq25L0ybMknNmzM38svhSB1PRJ2F6ihEsDynTo7dpKfZP3Pm9MgvhyN9nIXqKEjGjS1TFevWRX5FZ/qMGe7ZfkfaeFaps1AdhYI5QZ/J/LH6TwWa/fZ37B3FhTzcYf4li1ilzkJ1FBx8ihuhTASa/V999ZUOx6pIVVWt5v2lgxlPsn+pYsaRiT8T+Y0QimWZDs5CdRQEZkUpG1OmFi1ZGvkVnw8//ED3uTIfVSqd/QdSUfwqnlTIfHTmeST75xdfos6MJ5k/v7iCcGDPOZZ5yAxi4uR3skj8+GKhbvb7H7/rkpNKhA5HLqEiSrk9+6wz1UtDhupwIrRu2Vx9OHac2nHHHfXjqlQIuw6Y8ddU5ByS9dMl0eOInymIH4I+hsQriLg6C9XAziRHfiMVkuZ+eXm5XtagtK7nTMzlOJ7tnz93rhZT3p1KhSBMfPJXCIiQJOunS6LHET9TED/X1r6eVVe5+l8qOAs1CmSo3GloCqSawY7sIdcLEEbhl19+1pP8z7/gfNWzZ0/1xKBBqmnTrSJrwzQorRcJheGaC3LtzXrhykPNpZroBaB1ohUSp5RDZ6FakEFSsch495e/f8C1kmvWuHEjz23VtIleD+sqflKlpaXV1jdq3DCyNoxUDME8hiDL7D9Zly9+un8ST7J+un8ST9A+f6bwSUskXcw4Jews1CiQ6Y6azb+fekpdetnlqkvnTuq14a+rrVs0j6xxFCOInqlzUsfNm2miOmgLsliom/0RQoeKDDKEzBMfGPX9fNo0teC7hernjRtVZWWlXu7IbypD16qkTp1N/M+mTNfvRWUA6uxzztPL4lFSUuKuewHCdW3YqInq0KGD6rJvZ92isY0mz8qM6EEszCa/6RedoJpCCoQZ1Hjz9df1c+D2i4kdDkfhsEv7HdTxJ56ijjjiKLVft66RpWEdMDUhHrKt4FmoNPkTiaCQMDOORxDvuP0O9eSTg/QyRoA7dd5PlZZW72Nz1DyWLvleTZ4yVVuonbp0iywNX2PgqSrCpu8oTCoq1qplS77TD3UA3UD//OfDqmu3/fVvNEEszWQFtagtVBMs03vuulM9/cxTujL17n2c6n3M0bpZUK9+qSqpW9VErNwQakYavx35z2sv/1fdfMutXuXZqnmzyBpHsUH9XbliuSobO0Y9/9wzetoc5eKpfz+rdt9jt2qCCvFE1d6eMBSloJIZZNjwYa+rq664RGfuRRf1U/36Xay2abONnnLzWyiD6tatp8Pwv//9T22xxRY6XKtWbe2D3/p4sD/72X4imNvGiocwyHIzXAw+/HfIS+rqa6/TFefFIUOrTZuSbcztgetIldhss8309fSLNxpSBvBrMomWYz9SPfdMHlPi5hoC3Xv9+1/uGVHDXx+ml4NYnokIquAs1BB0SJ937rn66RrmKT744EOqeYtmWkgZlKAT+0+Ru495waJdeKlMiZDItrJNvMKSKxI9Vz8ycU5meoifYo2FagoqU6eiIWmS6oCgQirnmYtrFmQ1lnNPhVTTkclj+l3Lxx97VA28+x7d1TNy5Gg9UAUMViUiqqagglioRTcPVTJi8mdTvJdpnHjC8VpMBRFTKoZUTnEIrp+Ltc525rZyDNuB+PmKnc5E/UyQbNx2mqSySeWT6836aM5EfuMTVzYdkO5YrtiRfJJrd2GoNUrfOlbqiy+95M1nTgYRUbFQoWgn9i9c8I1+mQaZ2qF9R90cIKOxTsUypUKBFMhECinL2d/P2fvj/JDKnM/OFJBkfb/40nUSt8QfD6lgZkUDe1/zGLYzb5KCHV+2/GhIWh1VcI2oez0PPlT/njcv/NiyCGSoZmo/lHPaj4YnoiG/aC1UMouMqtz4i747NWxQquqELFKg4GGd2nABEER80/mJJcujEW2dGSculthGQ/bJlrPTnIzzi09ctrAFyUxbLPzSSph9TXHjd7b8WM5Mb6LOL55EHPjFl4gDvzgTcX7xmc6EOs51wq9Xv0FkaRiEMZ6I+lH0FmoomyOhKvwGHLgYXDAbLojpEkW2ta0Gv/jM9YkgcWbL2WlOxvnFJy4I7EoEjPIKkgaxLM20SQU1kYoZbbngV1ayAekW33apIvsm66dLosex/WhImZLuNbDLGY8mp4JnlYbEtGgt1HhgbZoXibDtpPKLM5eZzUDbyTYgFVHusrYzrd98dH5pTtT5xZeu8zuGCVPeZJSX9X4CyXLxZb29TTTM8iFIONM+6ZVwUJh5kYyfLokex/ajkcj1q19a3VJNFLFKi95CTZZ4F4/lXDgqsenbYdMJVATb+Ymxc/6O/BL4zadNvv36GzVn9hdq8eLw56LXV6xRn8+cpcrnzNHrKyoq9I2N64Yzb4Y2cgNMFtJll5tM+WYeBIXEmagfFIkez/ZziWmhFu20qeeffU6/2o1H0Z56erDafod2ukIhgOIL9kUzs4ztWM+yaM+A0y9rimisilCklyMpzGuDQC7+boH6YXlISL/9Ws2aPUd/+ZS5xTZMkWnfvmPItVd777WXar9ze9WoSVPVpu22XpxYsZWVxf3ElJTPRKEcs0+64pbscYVEjku9og6a9evugXfrJySZNvn+Bx94/achk6da2A/Wi2Vq+k5QDUGVgmELKpgXzcwytmP7r+aWq4kTJ6jvF1d9hqNeSR3VLhTvXnvt4z2lYw96mUJrkmrhioech18B88PcRsL46aSPNEQ7frTjAceUCfYI6dQpk9XYsWNU2ZgPNhFQZm8Ag46w9qcK/UVU+/FS5qj26tVL9exxsNqpQ3v9MMfKlT+G/LreOSZSYQsJzlvqQqI+EE6HRI7j5yeCX3kTQaUMfDrps2oimoigmhS9hfry0CHq9DPP2kRQgSxJVlBXrVytPhn/kXr8sYe954V5CuOMM85QO+20k2rStLFeJpgiARK//M4EZiH0O455jvGIl85k4kqUkpK6atH3i9SYD95Tb48cFRLUSZ5AUilatmqjWrbcWu28Y7uQ1dlONWlU9T6GjSGrU6zYhQsXqsVLlqp5c7/whJhy0L3HYeqYI49Qe+yzj3d+XFtBrlmhk2wZNMtVOiR7XCGR41JnMyWozkINEZSgAheKyr5hw3r18IMPqgcfekhbSPff/4DqdcRR2qKiYsoFxTcLj1+BkO0kLbK/XdFlmb1eiBZ3TULO65PxE9RLL72kxpaN1kJKE75Hz16q12EH61ZA+44d9cujBduKkMrBU3LfLlioP4EypqxMjRs/Tr9EBSgPvI3ozL5n60dVaf5zbMlHyV+/fHXkP2bZT1dQRUhBLNSiHJSyK5pJqmIj065K6oab9DQ1GzaospAQBdOHeJWStNAEpZlrCzzxsIwKznp+s70dJ+tFBAQzLWZ6EkH2ibVfsnEKZtycG47whg0b9KOCt/3teu/1irx7YehL/1FPDHpcXXTJJfqtQaaYQiiman8CT8Xwcb7Djz5K3XPfvfrFKXfdcbuuWLQuHn30YXXdtderSZ+M9/IXv6bdiBz+pFo+bUwxlXDRzkNlYr8fQWU2rP1prRZaRM6vMtpCJ7CtpINKzeg0+AkmfYl8Qnnlj6tipl2EVZy5bSLnzDb2diJ6ppNtYsUpcdlOMPMFMUXcEDnEDgvyiccHqbsGDlR/Pvpo1aJFC71drJukDduaFgZifP1NN+k3DyHUWL8I93XX9dffpTIh/+PdCB35i1nOgkKa+zqcTEEsJErq1IqEqpOuFVK5oWqkf8va4fdu2gIm+FVMOT77IFC333mHuvD8vnoaELMIRFTxaea/9up/1fnnnaUHaOh2MMXIDzkm24kDU9j8nB8iLqYT/PLRjstMgzhzP6Y3IaaIGyKH2A0fMVKdctpp2hpNp+yKmIZSpH/j8xo3hHrIiy9o4UbAb71lgBo96h29DdeDNDpqJkFfOxHRTSzUYhVVP6KJRyrUrV31FU2/iynL8MVRaU1O7dNHv3PgxgE3eE/7IDps9/57o7XlxlQg3uFqIuJmC54IselYFrRLFDOdQP7zgT3E9OJ+/bwm/k0DbtRiR1Md8QsdRfuAL+FEYFua/fY+xIlQ9zntdN2vThcAg1bXXXeNZ6nS/HcUJsmUIfBENOR7Fqr+X2RQcaKRjBjEY8PPsT/0Z4uJ+IglYdxJfU7VswUYNLn11lu99dMnT9bWU2n9+ura627Ug2oMisl+IL6JWIm2yxXmTUV8BoywTMvKyvQyxPTK/tdUs0pDqdZ+kBAn8fNHNwB9qyKq5DWDYuSxo+Yh5QsIB1nmN7FQiw0qTjb6UOPhJyaIoGk1Ip7y1nlGt5lFwJNA9O9R0S+++K9qv6776v1Je6o3BBHWeC5obPHHAnxx8PP6XIHBIsRUvqEfSoX2MwXxU0GYCYCo3nP3vbr5T14/8cS/9PQ4s3I6ihfPKjUtVAI4ufMXC5nqQ00U23r0sybFUmWSOdbSNq1a6s+10KdK/94Zp5+mLVgRukynPVPxc46IFGLKINzrw17Rfaac37XXX++JabagO0BeNNzjkINV/2tu1NPgsJjps+aGJ6KaaJ6wve0E4vCLx9zGkR5Sv2LlabIaKFYp+lnNQpUfjuxaqAgIjgoKfqIqlW/b7dqqm26+VQsNYorFevU113tvoffbNxnkOLGcaanGc6lAc/qpZ57zRvOxzOXFv/jZJnQm2j/73HPU0b1P0GH6rGdNn67DQiKiKv3Vposnoule05qM3GTEpYvkaybytJqFyj/5USzEuhMFcfESRfrjbAHit1inJqvXrImEqpBBEkl3qmIGcrxofibRTf3nn/Oa+tw8tg/dRECELVdQXgbcNEDfxLih/eOhh/R0NSop84RxphAmC9caB+S1xBWtLLK+kB3IjVlcUEj8QSC6Wc1CJYDLdaHNJpxrUH2oqV5sLiwVcea0aXqupYlcdPERm3lz5qoBA27QTU9zkIrnzoMoJPHEVPxMQPp5pPTDsrFeU58nzEBufvixboSZpnXr1uqiiy7WT2fR9OeFLMA8Y7+5xpyT6UQ0bcc6gf3NOMyyJetwftZuITkzD4Ik6DLsiWjIr2ahFiNB9KFS4KkQ5j7ypBSY06ZMZHsm7D/y2L902KxYYF58tmPaFPTvf426/+/36TfkMKXoqSee0NtSOYO8k2cb5tHybD2c3fccPaJvT21KpiXFoNLixYvVrM9nq/nz5+tPhqfLsccfrzp13k+H6Zrwg2uL45qY11DCtg+EERLgOkrYLBNcW9M5kseuY0FRzULV/x0eyRRWvwtUUqfq2/11Sup6TXJg4j0Oy5Qm4/1/f0Av55lxs4KZMB+T7bBI/3LaWerU08/Q2990Y7gJyiDVq//9j3dnN8W9psA58tYoRtKxvnnrE4TORvuCFNpEoQvhwgvO1VOwsIDTgbQg8kcfeYS2UrmZMdsC5NqZZUeuhWl12T774QiD7G9arvjiTERYC9Vlgmh1LFU8qzR0vYraQrUrqokU7kTgAlE5qAAIJ1NqaLYCr4srC4kE1qW88JjmPaPYL/9nSMjSvFL3Fx7UvZv3HgATqUD/fPCfuvIiNFf1v0ov44UdHXfbVc8/ZR7qgw8+oCZN/KzGWankn36D1MLvvC/Q8qITmtexrlE8ZF9epciNaH75LLVyxabvR02UUBXXf8TLrAryHEZFnqAyRS+aIMhy01HW2Ef6YckLbi7cbClXIrjiHOkhdSoo5AZf9BZqqDin3YcqFQIo7DxPP2jQE2rZku+0BcO7N5n+87db/qYtzIH33K0dj5Lyij9ePcc0qIMPPXyTyiK/8fkiI8376669ptp35alwzD+lC4AXsfy0dk01a7gmIAV8wcKFemRfvkALyTTvbbi+JtzcgoB4EftOXbrp36NHhwfQuBYigOB3U7aXiZDyVBj94DzeevNNN+mnw9556w3vMWM/Z+O3TU13mcCuZ0FhWqib/f7H7zr1diEsdKK9vk8uJtaeiXkx2AZBFUGgMn0fsrLWrFqpf9PU5/2bwNNS0pdqhtkGdu5Y/ZFRkPjhuwULVb36pap5i2abpIE0YtH8uHyFfoE181VrEpJ/vElq4N33aCuc/mEeL6UPlIIq5TJUzRIuo+wLl19+pX49G0I9ePAQPafUj2TiZtsnH39cXXrZ5frG+dmU6SHLctMv5cr1k3Pk2jH4yE2RGx9dEPQbT54yRU2bOlktWfy97vIA3llAa8SM17zRS5yJkIqIJBN/MqSSliAxz4u0DLxrYCCv76vmR9Y7QpDhZsG1kQtibsOF4TeCvHeXLtrtuc8+2t/v/w5Q/3dAN+3zu+fBPb3lNNlxfpjxE68tpsA2LKOCso1pvdYkuCHwwmfYsd12eqoUhdUUU0hU8MCesypv7U8FqVgmWNGIKdBdIV0tpqOs0IQX+M27GHgnwFVXXKaOPvIw/TgrFZpuCRFTEzs+cclg7peoyxSZjDseHDtoQaeMii8W6uahy6UDxUa0Jn8s7Ati/iYsjj7ORHxcPOJtJ+sTiSvfwFLDui4vL9e/W7du5Y3s8+cnZonyU0X0Z+7teJOtA9wwhZkzp+vzoMLSahDH9aBvXA+4ffhBqCl/iRbR/v0vVy8NGaoF1E9EgU/nCOmKnFk+EnWZJFeiKueVifMTCxWchZoAchFyVRgKmY2Vlbq5i8XHZ0uEdMQUYj2umq4RwWg//d/MmZ03v/pIPzA4Ofrd99T1116jDunRXXctMbCIgLJPPNZXVr1VTPpnU3WmyCfq/OIJykEu6pEcM8hje1apYaHqT6CEsjHtQlbT8PtIH8hFN/tQM33XLlZoEjPr4bQz/qJ/8wZ+XhpNeYRYZZJtKMRYon6zJLiON914g7YG6UP958OP6y4XtsWilMn4QDoQST/suiG/999vX91U5yGEgffcq0X0y9kz1dOhcsXEf24QiYinH/Ql775beHDOD965K/OdJZyMD/HCmfCbNG6s9txzb29aHEg941rEErug6qAcg/jS7UMVxELFd4IaEVS+R0Qlc4KaPWIJaiLl8d6Bd+nn/dMFwf1mwXe+7wuw0yK/Dzv0UC2ciB99v++OekvPVAgCymRQceUb3Gj4Dhgfr9xjz931QCrlQG6KIqx+fjqYcQHhoAQVnIWagKAGdTEd/kQT1ERJRFATsRTTEVQsVNLwwej31Oj3x6ipkyf4fq46Gajg6yvSf7IrH+Fl6eQN14UHLs48+5xqxks0gqyDUqczMcrvBNVHUGVU1QlpZkFQedihb9/TtQg9/cwL6oQTj4+s9ccsq8OHva6/ghoNxE0Gfqg0fGbaDz49/cgjDyUlqNLkZ4oTXxJgoJHz4UGOGTOmqYkTJ+rBtvLyOUmLa/8rr1RX9O+v56kWEkwV4/WHzM/GAvcTVdOIsf10MOMCws5CDRAnqLmHPOYpsquuukKL02OPPqL6XfLXyNpNsQtxrMJOAb/x+hv0J73lGvPC6GSx64bE3W67bbVY8wLsc86/oFq5kQcsEJBPxn+kLdelS76vNtc0FgjqhRdfXG1esSkIyfipwL7xSDXuFs2bqcmfTdEPuzBQZ/dvRyPV49nIuRFfJvpQ9Sh/sYmpI3/goQWxHJcuXar9aFBO+aPg4ijUfn+sAxktB2YTAOuZ+F+1dXWRjgfH//LLci2MWFg7d6iaS4xpQkVFGHDMH77gwgvVM88+o7+oevsdd2uLliffEJJkEEFJ1k+VoOMDxGzZ8hV6APjyS/+qhYx8/PDDD6p9WiZTxw4aKWfmKL/+6mkqBasY0LZ7yDkyR9Otmngj2rNmz1HLli3TYfArk37LRGjlLxaspwKAVIJkyz6j+cAz/TvttJOu8DIBH/gtffE/LFuuxXWbNtvot1XRPXDnHXdqceVbWQxqJSuu2UAEyPbTETf2JR58Hmrp1auXXj5u7Pvqq7nlnmUf7djpIOlOJ/02ZjmSsJuH6kMQF9CRGPQ7Mp0GaBbzYhAB8TPFTsIUXnkAAGxB9OsLNWE//ogHnwoRTVTlGCDbfDx+gvZbtW6jbwgm0W7A9LHiEFcsNMSVb2Xdfvvt6v77H9BdB4grVq9pWecKW4DET6dumHmDeO65Vyd9M6E/ddWatZE10Y+dDkGKsw3lyLNQ9X+HI4cwoZ+KRT/qV199FVkaRgTNFDxT5ATWm3/RYJ00+SUesS6iIdtLGIsK2revmk8piJWKjxCIT0U2K7N0C2C58jJt+mF5Ac4Tjw9SJ594YuhGs+n7AbKJLUDipyNu5AWWuwhrk0YN9U0Jfv25auAu2rHTIQhRthER3cRCZYFfIXU4Mg2iQrNZ3uA04s3h3sugRcRMgbTLKb/9lkVDKgFIvH5xmIgly9+bb76tp/5gSfY+9gRd2ROp8NEqNFarfP4by7XHIYfq5rAIc66Q9Np+uuLGeeG47vICIZtox06HIETZxhNR20KNd4d2ODIJVhrvhUWkysZ8oKceAYUU0ZPCGkv0RPD4k7dNxYLtwBTraMi2wDQtpkG1b9/R+3x3oiAMpkiY1hrIep7/z4QAJIMc3/Yl/UEgb1yziXbsdDDzPWgon9UsVIcjEyAW0ZzNfl27aZFi1Hds2YdaFOkLNQtrokgf6jFHHqEHfi659Aq1Tdtt9TLiwoVSoX+DGfZD1o/9MDxxHy666GLtQ7KVNN72uX4NI+mL5mR9JrGPE8TxghRnwbNKQ+XJC+v/DkcGkOadX/MVUcVCw9H8Yx5w9wO663W8E5W5iiBialqJiYCoHvbnw9Utt96qpy7tsOMOcYUzGhwbgef7Xwg+81oPOLC79zRdqki++OVPpkUrn8mkhRokUjY3sVCTLawOR7JEE1Zz2QknnqTnJtKkZuI3U6gom6mUT8RTCrkgVkQqPPbII94nrrF4gaZ5uvjlSbFjW6ZBiGGQlqlNNQvViakjm9jCKpYqAzNYqaf26aP7UnmK5r9DXtIDVGJZJmNhmkJMgSccbzqViXmsiRM+Vc88/aQWeqY2HXPscbpZjqOiZrKyFiO2ZRpE/gYpzoKI6CYWqsORbWxhBUSVr7oiWnD7Hbfpl6cAApeKhYmIirBCWGY3/TMxj4WVjLUs37xiapM8d+6ENDNk0kIN8pp5ImpaqPq/w5Ej/IS1X79LvKb/Rf0uUB99WFbNCsg0CCxCvGTJEv2SaKxluHHAzWrb7drqsFRMKnuQVo9jU/ELQgQzeY2cherIO0RUKfg0/W/92y3es968jeq1V17ZxJLMJIsXL1YDbrhev6CaLghmC9DUp3KblTParAVH6kj+2n46BCHKNp5V6ixURz6CqFLwmezOhwxNUb3uumvUoMf/5U36B+nnNPs7k8FvP5bRZ3rZpeFvPyGml112hbqw38W6qU9/rxBERXdsim2ZBiGGQYqzIFaps1AdeYsUeBHVe+6+1xPVAQNu0F8MRfBALNZkLVdE009MEetHHnxQv06QZr6I6Zl9z/amSJmWNPh1WTjSwxY/8dMhSHG2cRaqo0aAqO7csYMWVd6MT58qVuOF5/fVb+unWS5EE0k//IT43bffVuede54eCOOdAgxA3R06LmLKc/VBVGpHYmTSQg0SEVFnoTpqDFQmnm2/+prr1T/+fr/3diIm/x9xWE/110v+qi1WCnUylirbMoLPi8ZPOP5EPfiFVSpTowYPHqKOP/EkVVqa+jf9HamRSQs1SDwRdRaqo6ZAZcLxsmamVL38ynBtrQLCyhvX+5xygvrzn49Q1119tXp56BA16/PZvs/z06Tn8dGHH/yHOvusM9VxvY/R38lHSOlSoGuBrwbwSj1EXHBN+uySSQs1CHG2MS1U/QkUHSoyYn0CReYZygCEq1D5gVQsnlBatPA7NXLkO+rll4dqMRTo9+TFz0LDBmELc+1PVU812R/R4w365597jtpltz1Vk6aN3fXOAlzL6ZMnq+uu669vjENefEG/xpA6iOix3vTTxYwPCAf1kT5wFqqjxkElwNEMx4LkQ3Zvj3xfdwXQTOfmCAisOCorzlyG4CKifLtp/Ljx6olBg1T3Hj21FczN1E2Fyjzydn4/RPRsPx2CEGUbU0y95r/+73DUEBA6aTkgftIV8Ohjj6jhI0aqjz7+VFs78gZ8oN8V8aQ5/8Ho99WHY8ep5wcP1oLMO0iln9ScEuXILFii0RDxs/10CEKUo+H6UB01FpmmRCUzHcsQRj5JwkuazzrnXP2OVeCt8HxFlEEmLFtG7SsjH+2TykqFk64e1+TPPLmyUMUPAhFRZ6GmQCbvcI5gMCtNtCa7WKHyiRGxeE3nmvuZJ1cWapD12BNRZ6EmTxAX1eFwhEnUQg2q3mWy/joLNQWchVqzqdywUVcquzkvXQh+zpE5YlmowLUKUgQzUX89q9RZqMmTyTucIzvQlLeb8655nxtiWaiZQOpvkPVYrFJnoaaAs1BrPtGsThHaaM4RLOQpFmq0j/RlArMbIWichZoC+WCh2hU9EZcr/NKSTefIP0wxi2ahUs8yUdcyEaeIqLNQU6CmWqh+YpMNV1PBimX6lOm49s6FXTogarkqG+mm3Q9PREO+s1CTJB8sVDdQkhy169SJhKIj81GB/KXiybVOxi8WFxTxBqWCRtIe5DkIzkJNgUzc4VJBrCaxpBLxTZfpZfI71z7Ohmtor5P5qIJd8aL5Ml9V/GJyQZDtQSmpv0HWY88qDZU5Z6EmiVSkXEM6olXyaL5JppfJ71z7fhU/1jowRSOec6RHrizUIBGr1FmoKZBJC1XilorK72jOxK7kzlU5+HnjRu0L5B/rpJmfqg9muNjwy+tkyZWFmgmchZoCmbjDCRI3zVX7wlPwzMInwopje+f8HZiiV1I33J/KOpr5NPv5rn6yPpjL5Hcxubp16+nzFj8VCqEPVUTUtFDd+1ATfB8qApYJURUB5VirVq7WYQER4AkfR/KsX1ehDuh+gA7zvssXhwzVYQg6T+U6iWgXKpJvnCc3JaknydQLkRv2nTP7C3X5Zf2qvQ+Vz95kAqm/Ut8Ip/s+VBMR181+/+P3P6LtVMjk4gXT5sUEKVzfL/xOTZo4QU2fMUP/Nl9+7EiNioq1qqysTId5fV+nLt30stLShnpZJpD4C9WXc2zdqqVq3qy56trtALXTTjvpN3wlSq4EVciEoIqFiu8ENQsWqnl3lDgIL1+2Qr326n/V68Ne0YXK4ahp8M7ZM844Q/3fAd0Sqh+FZKGaTX3PQg2dYJXUFhHZtFDtiwmI6aBBT+gLCmJF8QmPevUb6GWwft1PanmdPdX2f/pWffvb9gXtgx1uvnGmPv9kfYk30eVB+xzHvHaFFi4vL1dLFn+vv4BAHep/zY3qsMN7xa0rubZQQepjRixUJ6jZ6UM1RZVBJr4vzyeREVDu8r2PPUG16HqEatygllr90y/adzjyEcrnT2vXq3Fjp6mywTd5n93+58OPq54H91QbNqzX2/mJa64E1ax/EKSggrNQc2ihfjJ+gjrllJN0+KKL+ql+/S5WPzXdUf92FAYIToOGVaPgNf23H9z0P5v+rXry2r9oUeVrtDffcqviywnUnXwSVCFIQTUtU8+PrHfEQS5EKoiY4lPQnnjiX3o5F/Kq/lc5MS1AbDGq6b/9wFLdaYfWapdel+nfZWM+UJ/PnKVbYGKUCJT/ZOtQkLZeOvU3GtJ/KmKqw/q/Iy6IYTrI/ozoT50ySYeP7d3bm9tognXgqDkU6/XaTq3UfvfDumnjgP7UmTOm6mWIalAiFkQ8Uv/Srcd+iIUKTlATJJ2LKnda/IULvtHToug77dq1W7W7sFRMsQ7ktxPY/CYRa64QWaCaar9To0q1T6cuOrxw4UK1cuWPuvvMT7zS7T5LFam/QVqqnlXqLNTkSefOJoNa+JUbf4ksVaqO9WKOaM2uYq2w5o0kn8PFDP2oi/7UMvKrCru+ZMIyTIZMHF+sUmehpkC6dza5oCV1qo/ey13esSnmjSSfw8WCNPFN6Ef1w64vidYfs8Um1mwQYhikZWrjLNQUSPeixrqgLSoXad9ZQ458JpWbv5R7s/7kotkvxw9CnAURUWehpkAQdzjiMJv8wrKSbbTvrKHEiHWzSfamFG+baPs5EgMBs+tOkKP3iSJpCKIeC56IOgs1edK9s8n+dpO/2IknWGK9m+xUq+olMvbNJt5NSY4nfrTtBXuZE9jEEfGy604uLdRM4CzUFEj3zib7+1mopmiYFTZauBCQJ8H8RMxErHcTWUYctpPl4tuubZvGel284/rti4u3n2NT7LqTSws1SDyr1FmoyZPJO5wpGmaFjRau6Xz19WL10osfqmUTR6n3JyzQPsuSgRvM3NFvqlfenad94sOxnKd33nlznJr11n+89bIN6+LdnFgv8eHM+CWtOIkHoQXzxuhnWRcScs6JkE8WapD1WKxSZ6HmOfEqfE1n3uxv1LKlP+gnxp67qqe66opL1Ih/XldNVP1GlE1mvv6E3k/2nzFjpo4TJP6HHn7YW//3++/R27AuFiIU7D/3/UFqyN1nqfPPO0sNGnCCmjz8PjXizeE6rbh/33ShGnj7Y1pouWbmjdHPsi4kzNF9bva8cCYa+WShZsJSdRZqniJCKtaoKayFJLJnnHmIOrffyWrb/fvqp2twY8tGq3HvT/AELdqIMusR3g/Lxnr7wvmH76Cuvu50nXdHHdtdx994z1O8bVq2aqNuuvVSfexY1j5CwXr273BYP9WwQal+EKO0fn3V5YTrVY/zb9Ovq2MdjH7mei22L997pXdDKHTr1CZe2cwnCzVIRESdhZqn2BXd/B1LBGoaiBbCyCOLAqK1evYbauH31b9a4AdW5ry5X+g3HEGr1m3UT8320GGTwzuEKy5PpW1str8+ZrR5kzZsu/Nu7VSLVtvq3xyD3/vuvb1+KxjCfMHAp1Sv8+7TaefNYZP/+6DettCt02Qp1D5UT0SdhZpdzALkRvmrWzSIIs+Bw4gRb6hlE0d4VqofCO6SiS+onTvsqh3UL22gWmzVSIdNltWpEtmWLVpoP1bcJggvccqb6m3Ekj3ljOM9YZ82dXK1bgtHmELtQxWchZplzALkN8pfbCBEWpBWfK4tP5rmIkoj3no7qpWKGPIOzmlTJunuApNlP67ZxPpssfHzSKiKZCxU4rQx92cbRFeEnRcuYz0nKtqFQrzWU6H2oXpWqbNQc4ezUMMgOp//3lGH99prT/21AqAvFStVMK1ZhJaBpR3b716tuyAapoWaCWxxpr+1c4t1CYt2oVCsfahilToLNYc4CzUMorPH5nPU+oo1um/yoO7hz7/QHzl27Bivkor1Ixbj6pmv6AEhvya+jWmhNt0Q/gBiopA++xjb/bpQ++agU8nSmd7rGOlvLel4YNFZqPEo1D5UwVmoOcRZqGFMCxUadj5Odeq8nw7rvlSruY3AMQsAuvfYx7c5bmNaqCvr7hUJJY7fMbSwRwad6C99fvBz3usY6YaQ7gxHFYXahyoi6izUHOIs1DCIznYttlT1SsNWIKPnWpAiVioj5mZTEvH6cvSj+u3w8frshG3VvEgoNWwLddWatbrbgcn9U17+l3qw3xFa/On/Pf6yx/VUKyFeM7iQKNY+VE9EnYWaO5yFWsWCZb/qJr9Av2j79mGrddzY9z0LEXFisIdtE+k7Fb5TO0dCqWFaqOXlc9Rtf7teXX/S/vpBgQcffEDfDPjA4u1Dx1cTU0hU9AuBYu1DFZyFmkOchVoFFqqAxcr3ieTN73y47dv3n9Nh4Oua2xxwod4mUfxG+ZPBtFAR+tvuvE/1HzRKC+ig0bPVMx9MVNf9a3BSaSpGCrUP1bNKnYWaO5yFWgUWqjT5hUMOOVR/iRZeH/aKtn4q53yspyQx5xMSHfQJepSfhwcQT5z0ldr9pcXU1E+UQu1DFavUWag5xFmoYRBFGeWX39Ch17F6WhRgpc5793n10ksv6WlVCBmCleigTzJ9qCKE+OmIYjE19YVi7UMVnIWaQ5yFGgZRNEf5TZFkWpRM9H/m6SfV1MkTVO+r7te/E0FerGL2ocabNoUoIKSv/WdkZEni2AKcqAVdKMS7ARVqH6qIqLNQc4izUKsw+1AFhJWXm8jTR1iphMU6TcQClBer+Fmo0cSO5TyF9d2ng5OyMs00ibAkakEXC4Xah+qJqLNQc4ezUMMgYDx6uvanimqPayJKhHmzE1Yq06guvvivep1YkTbrKn6qNoAkE+8nL22gfWAeasP6m2uxk2PhS/gf9w/RA19btvuzt5xR/oqKtXq9ORsB5Bim+CYjxIVEvPMu1D5UwVmoOcRZqGF40TN9o7xaj/eOyvP7UjmxUnnOn8n+PH0ksB6xWzvlDe8JJaY0mU11Jt7LvFVgXivhW255UY17/gEtnuJfc/WD6ra+R6vXH71ED3zxGCyii5O3WsGiJUv1MYWvfgm/+R/8RL6YiHf+hdqH6lmlzkLNHc5CVfpt+q+89Lq2/nr27Kn9Rx96Ti8HsSJ79h2oLVXTAtpi4XQtgu/N/UOLLfvj8+o/XvaMkEr8vIWK9TjCbPPZlOnV/F+/eVfHq+M6+FD9FBZxPDvoVS30dDfIMT4aN8E7hpmmeBZasVOofahilZoW6mahu0X2bxd5wPPPPqfOv+B8PUXnqacHq/YdO6pffvlZ/RbKnD9FMocwBFEA5M446p2R+rg0ZUeOHK3+13ZvvbyYwKKhOe33PL4pTmL52IKFoPntGwR8cwpBj2d1SZoQfrYvdrjR8LLtM04/Td18y62qtLRUL0fIKPumj+RQx+bM/kJdflk/3U8+5MUXVK8jjlIbNqzPiOCaaQDCA+8aqJ58cpB+feSnkz5Tf4T+YLPQnxn2Q9YLzkLNEc5CDYuRzOW0nYnfMoi2bxBOxNFvnekEJ6bxm/yIl0mh9KGKiJoWqhPULOP6UJMj3relHPmPWIVCofSheiIa8p2FmiOchZoc0b4t5cgfTIvdj3yyUDOBs1AdDkdg1KRR/iDxrFJnoeYOmvwMSDkcxUKh9qGKVeos1BxCk595kbCxslL7DkdNJl6Tv1D7UAVnoeYJdUpKIiGHo+ZSk0b5g0RE1FmoOSATF9ThyFdq1aodCRVuH6onos5CzT65KEQOR6bhwQbY/k/fat8GIcsnCzVTlqqzULOMFKK227Xzvps0Y8Y0vcz8iqYjfaSSOzIPDzbw1Nu8eeX6d/NmzfVTUkv/1ECLl5+AFUofqmeVOgs1+8iF3Kp5M7VNq5Y6PPr9MWr7zVZ5X9F0BIN7eim78OUFXlSDodBuh3a6ud90w4qoIlYofahilToLNQfI3bqkpERdcukVetnYstHqheee9Z4GMp8KitfR74iNWKnOWs0sv86doD558lLd4urRs5c6tNfhkTXRm9mF0ocqOAs1B1CIpCBR6HgpC4Xw/r/fp54a9IQW08rINCq6AMypKKa4OqFNDLFSnbUaPHKT4iU1A++5W5WVlWnr9KDu3VTTplvplwxlwiJMh2jing4ioqaF6t42laW3TZnZTPzLl61QF15wrpo8ZapeRjr+fMQxuslUp071if/zNm6jdq5TvZ9148YNejvx/bZxOIKGcsbXZHmVIZ+m4X22iOlll10RanldFtmqSrik3FOHsBJZzrJCfduUE9Qsv77P5Nuvv1FXXXWFJ6oOR00CIS2tX1/16XOauvLqqz3RAltWci2oQiYEVSxUfCeoORJUOu7leOM/GqtefnW4vuM7MkPDBqX6cyuOYCA/jz/xFHVESATbtN3WqzP5Kqhy7CAF1WzqOws1y4IqlJTU1ccxCxYgsBSm7xd+p3/Xqx9+Qa8jPb766itVt/aWqvW220WWxGb9ugov7xMJJ4Jsn6qfKonGH833Q9Y1adpYl12zjpiC6Qfb50pQTSSdzkINkFwJKshdkvilIAoIa2XlBq9QyrH5TdhcLsvADEuBsTGPU+jIDerugXeHKkxndezxx1fL12j45bEdNoUkGSSOZHwgnA6JHMf2gbCNbCN5IL8F+7fAcimXsr97Y78jELiYOLOQiZNKT4EzC5aE8c2wYIaJRyAucVSAQnecOz43R6z9t0cMV2PHjtF5QV6b+eQH+QRsR9jOYxzHkLDpzG0kLBCWuBPx7X1tZy73CwuEEzme+Pa+tpPl5AFlVARK1klcNtGWZwuzTgSFiKhYqOAENcfIhaZgiqOgClJgo/ngt0ywK0OhIxUXUZ00MTwKXV5erhZ9H54BQR7FyxNZLtch0bwzt7P3SVZQ4m0f7ViZPK5ZznCUXRHWeNjpyjZ+dSNdPBEN+Z6Fiulqm6+O3CDiat9NpfD6+X7LZB8JA2EKdTE4YE7v2yNH6TCfh546ZbIOI7SAcPiJh+wP5KejOlKmyBvyzyxjsUhW2INGrmUmrqmzUPMMKZS2L9hCaf6214kvBYew/JZwITsQUZTv9mOlTp4yRferglm55WEKwRRaic9RHcqS5JGUMzBvRjax1mUDuZZBXlPPKjUtVP6F7uv6hyM3UCilYJq+WQj8ltth04+1T6H6Yn1yruM/Hue9yBt4eQfNfrtvmkeBwU9YJT5HGPIYZ96QagpSToJErFJnoeYhInimb4qF33K/sL3M9MFeVki+DJIghEOGDtHLhXlzv9DNfrFSEVU/YZXl4iR+RxgRU8kfkPKWz2TyOm5ioTryAymYfoJorpPl0cLm9sUEYllRUaFWrVytny83odn/5RezdRhREGcTbXmqmOKcrEsHv/gSdfFgG8qYlDcIMs8ygVl/gkJE1FmoeYopiGBefHOdLI8WxveLwwxDtHX5HIZov5nDiKX5yfiP9G+b+d8s0M3+eKIh6yUPHVWImJrku5iCpDnIa+qJqLNQ8w9EwXaynCasOHN5tLD40cKJxpNvYTvd5m/CdevW0xV+2PDX9TIbHu3lySmeVosmquZy4pb4HVVIvkjekGeSbxK2Xa5vTpm8js5CrWGYBTMIgoon29jpNn8TZjL/dwsWeqP7NjT7Z86YGvWJqZqaL474ZELQPavUWaiOQgQrZGzZh9VG921mzZ6jVv64yolnlsmkhZgIcvwg0yFWqbNQHQXJhg0b1GdTpkd++aPf4fndgpw3QYuNXOe3HD8T6XAWqqPgoKJUbtgY9xWI+lHUyAflHNkjXyzUIBERdRaqoyAZ88F7qmLdusiv6PC2eb6Y4Jr92SNfLNQg8UTUWaiOQoLKwhxUhDJW/6mAFbtyxXKvkjlhzTyF2IcqOAvVURAwUi+iyPzS+eWzdDgeerR/5vRqlcuJambJFws1yHR4VqmzUB2Fgogik/kXLVmqw4kwfcYMPdoPNWFiek0nXyzUIBGr1FmojoJArEqa+6PfH5NQc18oG/OBbvYn8i5PR/rki4WaCZyFWkRQkArVYVniaO4vXfK9/gqn7Vq3bK6dvZzBqwULF+onrByZJ18s1CDTISLqLNQiwy5MheJjoWJh8sG4F4cMVR99/Gk1d9211+v+0lat26iRI0dvsv6AA7vreByZhxtgLpHjB5kOT0SdhVo8JCpONd0vLS1VTbdq4jlEVl7JB3yps3mLZp5jG3O9I7PIdcoVmTy+s1AdBQWWKhVGugBiDTKxnWzryB75YqEGiWeVOgvVYYpPoq6Q8Ttf5zZ1qZIvFmqQ6RCrtJqFupn7/ElRglWXrEsGLAKz3yqZcKokklY5hrltrO0TwY6rkF085Dr6uVwix89EOpyF6tCYhT0Rl8w+QirhIBzUrlNH+zZ+28q3pvDNcCK+HV+xOT9sizBfLNQgERGtZqHq/468IJ0mVSpQyJJx5j4SjuanG07Xwc8bN2rfxm9b08dxLZhSZfvg9xsn+2bDCZkOpwL7i9Dafq7IxPE9EQ35zkLNA6iUOOCCY/FEg/XpukSQNMVzpqj4+emG03VgW6hU9ESPEQ17XaxtJc/j+WCGE4FzEeHLZDgRR9rFAT7LwfZzRSbT4SzUPIHmIlAAedoHZxZOPtUhTtan48z4ojk+I4JD3CUcxO9Yy9ONW37jm65Onbo6f6Gkbh19frLO3i+WLy7ebzsvJc/j+XY4n51ZNvEFU6gIyzrbzxWZSIdnlYbKgYQ3C91ho99iC5jnn31OnX/B+WqX9juop54erNp37Kg/oYEFQ0UBwiDCFzRkPceiMvGBua/mlqtlyxJ/Ht0Rm4/HT1BPPjlIX+P+19yoSurUCq8wqNz4i+/ydNiydl31688btJ8Msg9+PMztMh02YTm0arm12n6HdrrsUm9ERBPxpdzPmf2FuvyyfurL8q/VkBdfUL2OOErXg0zVNyANQDoG3jVQl48unTupTyd9pkJtE71us9CfGfZD1oNYqPhOULMoqGbBAgojj02+89Yb6sOysWrZku/08rU/VWjfkR48Xsrz/TxqWlq/fmSpIwgaNihVO7bfXZ1xxhlqv677eoNzYJZxm1wJql33ghRUcBZqjgSVOImPJtPMadN0geItScm82MPhyBd4T8LRvU9QA24aoOuNiBZ+LNgmFxYqSPrSFVTTMnUWahYFlQvYMNS0XBtpWmKZTvpkvLqo3wX6WXPo3fs41efkE9Q+rTPTeb9yy51U01+/0uHVO5eqxvPCVnCy4WIiWh5UdmilSuYuiRoO2k/kumQ6LEiaxn32mXroudFaDGkB/OW0s9RV/a/SjwCbomr74CzUAiTbFqpcSGnmH33kYVpMucPff/8D6s/7NFalLd2z5Y6aQ8XSSnXLwAfUv4Z+pH/fNOBGdcmll3nCKZhiKrCsEPtQ3Sh/llm58kfdZ4qYcmdHTI/9vwOjiunmv62MhFJD9rd9iLYumi+Yv/22tcOJOHP7ZMN+v/2W2b/9nGyTqh/LyTbx/ES2iecH5WLF17DZBnXp+Werv552kN5uwqcT9be6RLTAFFPC2G+5sOHMNAWFWKXmKL8T1CzDG46GDnlBh3v07KVOPqSXqtVovv5NIRVfnP07Wff7n5r6+rHWmZjLxcWLQ/YTZBmYYfDb3o4nWhj89vfbHuzffmHZRuKzfwvmetMHicuMH6LtY/pmOtLxgyJefDvs1Ub1PvwQbRxMnTJJfzmBVpiIJmJqWoWZ7h+Nhoi6+EGAkIJYqOAENUvIhWRqFINQFED6TH8xnuYxK6BdGYVY2/jtE6vCJbIOzDD4rbN9E7/tBb/tIdo+ieyf6PbxwpKf5m97nR+yjRlnotj7mMfxC8dalq5v4rdM2LZNG3XmMV30wOo3X3+jm+2VlZXVRDXXiKhnwlJ1FmoOkMJlzjM9cJfdtXVKXxQVya+y2gXZrHB25bN/O9IjVv5mK6+jHVPCsZal65tlT5bZsHyn3eqqps2b6d/LVyzXYsrglEkmhCwZMiHqIqLOQs0RFRUVeiI5mPMi6T+VwksBFSe/HY5ckEjZ87NcKzdUtbryxUrNlGUqvrNQcwD9p/JUDpPOV7QMT5kCCq9f4XQ48gGzbNqW69oV/k+E0V8qM2Ygl1aqCHqmLFVnoeYAKVwyib/t6rC1Kjhr1JGvmGUzXjnlvQkgApqLUX0bSUuQou5Zpc5CzT7mndqGPlSHo1CgyY8lKC4fyEQ6xCp1FmoOiHVBzTmortnvyGfs8slv5qPaiFVqWoa5FNcgLVMbZ6HmMa7Z78hn7PLJb78+VPpPbRHNpKjFQ9IRpKiLiDoLNQeY/UjMQS0mPhxVrq648nF1x92vej7LolnjX83e4G1rOpaxzpFbEm1FIV65FFETSUeQ6fFE1Fmo2Ye5eTYbNm6j/ULvQz3kiPb6aZpJM2eoF9+arB56ZqR68PkX9HlTOe0KyrzGWwacrPbcYxf1RtkcvQ/zHK+4oK9e58gtibaibAs1l2QyHc5CzQFMmbKpW2eR9qUPNdr0k0Kg5zHd1NDH/qnDzHJ4r2y+Ou3Sq7ybiZ/Vc/aFJ6rdOjRQ27RqqW6+pZ97eUwewnXz60PNF8tUyER6PKvUWajZJdFpI34FsxCg0mHVIIg80CBdHp9OWaIe/vdgHQbbWmWfHVu2Vm1ahZ//TtQycmSPaH2oYDb5c22pyvGDTIdYpc5CzTLRXgixsHGwn97IV2wh5LlvXluIpfrMyx+r558aFlkTRkQVXx5phEK24AsJcx5qroVUEGHPhKXqLNQsE81ClYn9xTIPFWHl0xn0jd56xYnaUuU1hryo+OsZ30e2ik60Jj8DVQxy4cuglWnpCrJMhJnfsg9h07HN74t+9rbjtx2/ua2sM+N2ZFbIkiETwi4i6izULIOFGuu1ZcXUN8j3stq2bKn7R68870i9jBcMX3nnwIRE1RQqBOzZZ8eqx55+Xo1470MdB45lxCWCJ9uWvTVBzxTgpcjy+8SL79KOMDe2EbO+0RYz29z1wggtkKzj96GnX6+3JQ65Cco6lrNe4hYKXVhryvllyjIV31moeYDd5BfrplCRyrdwafiNW4zaH95zRx1mkAphjGWtm+uwSBHPmZ9/qV9y/PBDl6iH/naT7nO98IYnqgk0+conO5hZcMdDr6myqYvUf0a8o0UYEHTWweevj1a3PzxMv4V+1PhvdR+vbHdenwP1qxeJg+UIL+voljjpiL219c1+ch6cr9ndUYjXt6b0a2eiD1VwFmqeYD/LX6iDUjZYqAgOljkiyGdoADEa9tZIHfazfMSSxwK86u7wYBZiykuOAR9hRaQRaERVRPjEY45U++25l+5mQBRXLl+h9x32xM3qlitPUv3PPkvHz2yCs885T++zZPH3aputm6k7brpG/fOxv+l1YlUz9QsxZx3Lcf8c0FfHz1Sv5ct+1NuZxLu+5jnXFMuPdCZabnPZn5qJrgfPKnUWavbxu5BiocayygoJ05oRcUQEESIGqQDrkGZ0NIgDaxOrEoEUMRVrEB9xRNiYRYBAcyzc/+29h94WRIhxiCHTuuQ6tG2wRvtM2UKIJa1AHDJLgThAzosXLe/fuZXuF/7u+/jdFzZm/pjhfIZ0JmJ5I6a57EfNhJiLVeos1Bzgd0HFQjUrbDHCxH9zkOrcGx6L2p+KdTrsvfcjv6oQMYXOnffW07OYRWBuK10NzGsV2E8clhZ+ojRvsZW+drGsyVjrCoF455dLq9Qkk2LuLNQcEMtCLWZEwM49t4duTouoms11m++XhGdN0BwXqNgijIgc1mWQ2EIrr2AUkhHiQiLeeefDq/tAhD1IgRcRrWah2t+XdmSGWBaqUOiDUvG4+azeuskM9IEyYu4HMwVszIpNmMEpG/puk+EXFe5OABFsAeE3+0kL3RJNBbPMI6y5tFbFoAnSUvVE1Fmo2ScRC7XQB6Xiic7m29SuNkjFM/xM/LdhNB0YFEoGafInSi0Vux+UJr+QqIVabMLLdEH7PRaxphBmikyKeTULNdqH/B3B8lvkDmZiW6iFji069m/ExhykolnNp2JMELGencIvlZm/dPEmfa3EgWMdViQDV5qNuyVtodrEEsNEhTJR4a0pcN7xDAH7PRa56AbIRB+qZ5U6CzX7+N2Vi60P9del4eImlqKIkPiIDY4RdwapZOTfhP5RnrQCRvFlNJ04cOxP3yvrGHz6S++j9HpVZ3bSFqqNKYauDzUM5x2rq8pPPHNpoQZpqYpVWs1C1f8dOcHPQi3UflTEbsHKddriXPTDisjS8PmaYiTiypNUx/XsqMMmbMtUJuaOImpMrDcHr4hPT5WqX19deU4vb1qVidkHK8cDM+yHvd6vD1UGzPzEO178NZFEzslu8ufSQs2Epeos1Bxh3x39LNRC7EfFMmVuKSP3QL8ov2mu21PGEExxTJqXQSoT9uEpq7+edpCeRM/glcSHmDJVCgsXURZYJ32uiDpPSrEMMRZR4Jg8gcX+MteU+ESw8eWpKdbzRJR0ObCO+bEi1hyLdcQpmOFCIZFzkia/iFmh9KGKiDoLNUfYd8di6UP9eMYc9cn0z3V/JlOjeIST3whQtAqJyHFzYZCK/WxhYh1PLz1776V6GY+OIthYv+yDmMo+iB0CChxfnnbi+CbMccWylHTiE9+UKdM9seYxU4mDMHEQP9uwLeeG9Szrin3mhjkoJaJWKH2onogaFupmoZPL/tnlAc8/+5w6/4Lz9YjyU08PVu07dlS//PKzHjySL5TKQFKQd9RxY8vUxZf00+Gx5a+r3eqEL3Qid/pCwG4iJnLe7CPbmeFM4pdOe5lgp022y0Y68wFuGrzbgHccnHH6aermW25VpaWlWkBNeTHrEQI3Z/YX6vLL+umn3oa8+ILqdcRRasOG9Rm3YDk2aRt410D15JODVJfOndSnkz5TMoWUgXoz7Ic53VQsVO27eajZIxELtdAtGkTGdPEwBdQMZxozjXJM07fXgb2+GOCaxOqmMi1UoVD6UMUqrdaH6qZNZY9i7UNNBz/ByiXFIpSJQn7EMgIQz0LtQ5Umv1io4PpQs0giFqrDUUiYFmqh9aEK1SxU/d+RFRKxUB2OQsK0UIVcWqhBWqoios5CzRHOQnUUIsXah+qJqLNQc0O8u6OMDjscNYli7UMVnIWaI+LdHd2Ah6PQKOQ+VM8qdRZq7qjcWNXMN/tQnXXqKETEQjWt0kLpQxWr1FmoOUDukA0aNtI+LJm8MRJy1qmjZsM3uqBe/U1f7F2ofaiCs1BzAE9dcXfcaaed9G9e7PHppIk6jJg6C9VRU+ElMXxJFrZq2th7SkqwR/lzQZCWqSAi6izUHLFhwwbVvEUz1aNnL/379WGv6OfAzSeAnLA6ahq8J4HHR3nd4p57ddLLsEJxuWje+5Epy1R8Z6FmGQpW3bp1taV6xhln6GUUQt6UJKLqJ6ZOYB35iJTXZ58d631VoefBh6o99ty92svUc9G89yMTfaiCs1BzCML6fwd00y+RAL5Ff86Nz3ivn0NcmYYizv6dCwfxlpm/EwnHWmeGo63LlG+HE3Xx9jHX51s4ld8jZn2jnn9qmP7sNx9V5CVDvY89QTVtupUu4+JMMmElJkom+lA9q9SwUN3bprL8timBbL974N36bTfA+zV596ffx+UcjnyDPlNaWEAduv/+B9XeXbpoC1BEy7RUwaxHbJOLt01J2khnJt425QQ1R4LKhSX+117+r3p75Cg1dcqkTT6r4XDkM9Sd7j0OU8cceYTa7/8OUJWVG6KKKUg9QnKoY9kUVNJlin2Qggqehfr7H7//EW2nQiYfLFSOU6tWbVU+Z46aO3eu+mHpYrVq1erIFsGzvnKjqldSp5oPfuFY2yW6LBNh04dY4XnzylVZWZkeLDm69wl6uezvSA3J39atW6n2O7dXO3booJv5CGE8zHqEsCGoNw64QU2eMrVGvg/VtEw9C9UJam4E1YQLjLByh2cmgCMYsP552TEV5p//fFht1bxZZE1mYZqQzL0spLAJU6MEqSfxkHpkWqjZElRnoWaYfBFUudASFhDYaJBO1vv5xUC0c7f914e9pi697HJdYZ7697N6yprANo7kIV8pr9JTaNaNWL2HbCdlne3q1q2nJn0yXl13Xf+C6kN1o/w5xBRTICyOgovFavs41uOD+BREc38ww4K5zvRrEuQFyLnbvyWPft5Y1bQvqRtuqnKTxJFf2XSkqRCcX3mhHOPEELERMRUDBbhma39a633UcMva4ZkEmUKENEjEKjVH+Z2g5hC/wsndG0fh8/NNZ66TfcU3tycszlxn+plwnF+Qv2WZOJBtzN/AeUXDbMImG04URMR0hYJfvpp5b5+3nLtsg7CxrKKiQn08foKecoWF2Krl1lpkZfugsctHECCkIBYqOEHNM8yCmIoLIo6gnJ2WdH/LMptoy00qN4StVbalX1BINpyouCI84mL9zqew+HbYdLLchN/c1Mz1fk5AVKd+Nkm9PWK4/t2rVy/Vpu22gYqdjViombBUnYXqKApq1wk384EmP/2mVCiapjhTqBN1DMaY+0s4ljOPaf/Op3C09bGcvV28/bBMPwlZpgPvut17IGD//brqdZkkE2ItImpaqG5QKg9G+R3Bg0X01ptv6EEprvEjjw5SdQxL05F91qxaqcaUlamXXx6qxZTpbDcOuFn1Pu54LcSZtlCJHx8Iu1H+AHGCWrhI81IElafQtmnV0hsAcWSfinXrqj24Qr3rf82N6oijjtS/MymmNiKumRjld4LqBLUgQVSZh3r1tddpQS2tX19Xakfu4Bq0at1GdT+guzryyKNUx912rVbfapqFajb1nYXqBLVgEQtVBJVrfMmlV+hlTKUy+1Yd2aNxo0aq7XbtdF0Du75lw0rNRJPfWaghnKAWNqaFSoV5cchQ/YikI7dQx0DqlpDpOpYJC9VELFQ3yu8oOMRCNWHalExOp1Kbk9WDcBJnJuLON2efa6I+DiHDIaCmyzQc0/SDQERULFRwguooOGJVULFQ8NNxNpmosPmKfa6J+rlErpnftUsVT0QjzX0d5p9tvjocjtiY4mo6R36SSVF3FqqjIKBpj4hJE98UNfrBGzZqosMC66hYpuVEXx4T/mNVOHN78aM5R36SiZudZ5WaFiqdrvw5HDUNRBMRo4lvVpiVP67ST+NMnjJF/15fsSb0+yP9ujgRX57YIcyjpPTxEUZciY91EgaJ2/QTcY78Qa5lkDc9sUpNC9WN8rtR/hqJCBbX6Ku55WrixAnqsynT1fzyWWrRkqV6nTmRnLmoYM6F3GXX3VSnzl30Y6k8UkpcXGsRXcem1NS6QHlBTKXcEM7YKL/rQ3XkIwibn7ixDCty7IcfqJNOOF4d2usw/SLpESPe8L5zBIgojzeKmAKT+3mh8YMPPaRvqEcfeZh66okn1PJlK7S16mdZIiLOhV1NJUjLVBARrWahhgpnUaqps1BrFiUldfX1+fbrb9TYsg/V0CEveOIpT0Lt3GFXtfeee6qu3Q5QO+20k7Y8+XQ3IokAL1r4nZo5c7qaPmOGKi8vV0sWf6+fKRd69z5OXX7pX9XOHTvofcyyQIWkqpi/bfzEuNDIhDBlA64NaZdrRDgTFqoTVCeoeYspUAji5zNnqSee+Jf+ThRgfXbq0k31OfkE/bb3xo0b6eWJQIWYNGGievGll9S4se/rbgK6CBDnyy67Qp108qn6Df/yZn+7bIjAFhuFUBdEXDPxpJQb5XfkLRR6BA2r9MXBz6urrrjE++jeGaefpgYPHqJeffW/qs9pp1cTUwr7/377VftmwQfzd9du+6t/Pf4vNXzESHXdtdfrioWoDrz7HtW//5V6EAshxQmIqlg6Ii74xeJqKnJzNm/S6SJWabVRfv3f4cgTzAJPmC/C3v/3B7TI0Tzv2bOn+ufDj6tnnn1W9TjkYLXFn7bcRDRDVV8vx7fxW7b9dm3VDTfdrB9PveiiflqwEW4+cTzqnZGRraoQy9QUVUd+w00waPxG+Z2gOvIOBIs+UyzTv93yNz3YBP2vvFI9MWiQOuHE4z0hFTGVsP2HgJq/5c9cLnHtuOOO6pFHHlL33/+Atlbpo731lgG+oirdQYhqkFaPIzNk8ho5C9WRtyBUfBETyxQxlf7Sxx59RN1z371a9BA/mvSAMMb6i7aNuVzCIq50IfDZaUQVq/jBB+7RX1DV2xkWqTT/HfmPXKcgr5eIqLNQHXmHWBAI1sqVP+pmPmLKINE//n6/6nfJX3WhRfSkIIsYZoL9unX1RBVL9Z6771LjPxq7yUAUv6WSirVayK6mImkP8hw8EXUWqiNfQJDMPkkc80KlmX/33feqSy+/XIcBEcWKlMKcSbrs21l/z18sVb6DtGrlam+k3/5gH8Ja6K6mksm0OwvVkXdQ4BnRZ7I+3xwC+kwvuPBCLaA08cUKgExYpxInVjBQSXbfYzd17XU36oEqLNUXBz+np3BhScvXUOWmUAyuppIJ69qzSp2F6sgXECax+BZ9v0g9/exz2hrEKryif39vwAiyYZWaUEkQcgbB+vQ5TS/jCSs+gYy4SLo5h2JxNRWxUIO0VKU8OgvVkTeYfVvvvPWGNwh1T6ip37p1ax0GhDVUpSO/UgdxFoGOBsfhzxTwq68Lv/kfEH2QSf+2FVfIrqZilrOgcRaqI2+Q6Uc8S/9h2VgdZi7onvvso8N2Uz8VQlLgzQrwg/V+IKrS3dCiRQvd9GeQDNFngGrDhvV6RoIj/8lEH6qUS2ehOvIKLL2pUyaH3CT9+5gjj6j25JNpKSYKIrl69Ro1f/58tWTxksjSKuvThu2jCSvHZ92xxx6tOnXeTy97+dXh2uezHo78J1OWqfjOQnXkHJqQWHhMkxo7dox+7JMXlOzdpUt4feiPwuongLFgPwr4PXfdqTq0b6/fSDXuo3GRtbEJy2p1YZXjk5YTQ3EBsxC+X/idrqj0peLoY5Sw7cx+SL9l5vJo2+eDq6lkog9VcBaqIy9ALGD+3LlqWsQ6Pah7N9W8RXMdpqCGJEWHk8HehxdMJ4strBLn8SeepEf8gReryOR+fG4Q+LYTWI8As0wqNr95Kgyf2QM8HYaTPstocebKRcNMbzSXS8RCFT8IPKs0JKbOQnXkDT8sX6GnJPHmr/26dvPES+76yRKqvpFQ8NCX2vPgQ3V42tTJ2sJGLLDexKIUzN9UZLahewMfEcUBT4XxeCvzb6+66go1fNhreo6rHZ+NrM+mi4bftrbLJZmwTKV8OgvVkTfod5x+G36v6Y7td1dt2m6rw4hiqBrqcLLIfusrN2o/CEiPWCFdu3bVPu9TZWBKxMK0fvyWmSCib77+urrj9ju0iPIqSaZk8fJrG2lum+Ik8YNtfeXCT8Tlkkwe31mojryAQs7o/sKFC/XvHdttp7aONPdTFVOIZ6Ha6zlWMsfba6999Gg/b/+fNX16tcqKtWqKHRYpjuYyrwN84blnPBHt3/9y/T5OPxGNhdmMxhF3rn0swHgul6LK8U0/CEREnYXqyBvWr6vQb8+Hdju009OUEiWacPqJYx15qin0l6pYS9p4GTlfCGAQrXxeuTcfFWFBTKU5j4CUjSlTTz7+mLrs0svVjQNuULffcZsnouY3r2x4Cov9TRGS32Kx5pOTtMVy5A8+IpxtOK7pB4EnoiHfWaiOvGBjZaVuOkPjRom/cR+iCWM0oU0H81hM6WrYoFSH583/xnsBtcxJnTltmp5hcMbpp+uXYt//9/v0rIB4Imoj1q2f26ppE9/l+ewQXhABziZBWqY2poXqPoHiPoGSM6hU0ydPVhf1u0A3n59+5gX9mGeiLF68WDe5hTqRQR7YWLlB/eOhh/QkfEblL774r6pr1256uQ37HXRIz8iv6phCalq3hx16qI6bhxBuufUWfR5jQr+nz5yp5s39otq3qpKFl2i3btUy8isMQkw3Q02mebPmqlOnfdQBB/XQdSyTImdDWTO7HQin+wkUU0jFQnWC6gQ1Z9AsnvTJeHXaGX/Rv5MV1EGP/0u/Vs8GcQbTGpSpTiZsJ5+VHv/JJ17lMLEFFVgmgsq8WYQOCzQZ6zMWVPDy8jmBxZdPkFft23dUp/bpo47qfaz+fHc2hRVEXDPxTSknqE5Qc4YpqAjbk4P+rf589NGRtdGhMFPQH37wH+rqa6+LLE0dxPabBd+lJKhYqP36Xay++uorNXPGVPX6sFe8r7ECApKsMGKhlpY2jPwqHOaXz/LyhnzhY4gXhvKO+kZdy2Q9y4SFauIsVCeoOYfCzch3376nJ9zkNwv62A/HqJEj39G/bZgyxddMqcBU3h49e+lZBALr65XU0eEmTRqra6+/PiFBlcrWbb/9dJ8ogjrgpgF6PXNHKzdsVCtXLNfpenfUW9XENVGI86r+V+mBKSBeO1wTfRj/8biQiD3hzWy4acCN6pJLL9PhbFiqmWjyOws1hBPU3EPh5qkgphBRwfjMCW/mj4e86ERe7SfWAchIPNtcfvmVusJggfKFVD7qx3IKv1QaWzBt7PWy33bbtNL9pHfdcbs665xz1YYNG7Rw2NDH++mkidpylU9Vx4P3wF548cWqbt3wTAEqv1RTyqIsAwnn2hfiyQnp/27BQv1FBrpJuDZ8w6vHIYdWiydozPQC4UxYqG6U35FT6tUvVS1btdHhpUuXViuodqEFWSbWpCmmLPPbR0bkBfaR7fDlLxayHv/r+V9rixrLd+cOu2oRQUy5ETPSL47f+/3fAdoC41PVQ1/6j7Y+adKzLy4RRAT8EBHKtS8gmH5O4Maz7XZt1XXXXqPzgZvSqHff1Y/dxjrPdImW3iCgPEl5dILqyBkU7iZNG6vdd+uof8+aPUctXxYeHY8lcGJhShiHZcoyWR4P2Vb+4kGlke1otmJp0u+7x56762VAi4a3T9HSwYH4DL7ssc8+ekbAK6++poYPezMkKteHR/RDVpotrgg0AkOc5BPiLMLEMkS8pjgQYSUfYPsd2qlu+4efOCsb84FatPA7Hc4UItZBirZnlYaujRfW/x2OHIEl17JleIoQgxY8ORWNUPXUvgib/VuQ5X6IACcD8bEPPseaPGWKXs7sgKZNt/K6iBAMs8La1hDrWMbjqjt1aK/OOf8C9dKQIbo7ggEaEdeSumFrV8iEGASFCGUsJ5jnwbzU/ffrqrvcsFKXLVuql2WKTFimUo6cherIK7bbtq0WEgZwGC0XQtUxEkpcTMFvWTzYx+/PXEfFoQ+WwS7ofkB3zwIFP8GjIpuVWbZhkEb66HmZ9pX9r1GDX3hBi2vPHgfr5WAKkmALVi6diZ91ajozH8g35v/WK03uYY5UyeTNCDF1FqojL6Bi7dihg+rUpZv+PeLN4frF0KHqqn9DqDpGJC28jN9gbmMi603k0dNUIU66Fd588209uAQHhyxKEQnERcK2iIIsw2F90qSXfcgDugoQnY677aoFVvYXITB/59LFwhRaPwecBzcSrFG/hywyheSf+EEgIuosVEfeQAGnX63XYQfrfkRGfnl00yRUHbWgmULKXzRk3fp1P2l/7U8V+hFXiLevHxyXfbBOn3jiX7r/lJFh+kTBrKSJVFi2EYEB2YdlhOUrAITF2b9z5YKA8zQt+2wgN4N4N4Vk8ETUWaiOfAJrhTc48XkRxIo5nFipIqCQjAjKfv36XaKe/vfT6p8PP64tv3R5/9339GOlcNFFF+vKiVWZC8ymdDZdUGSyv9SPoG4GfjgL1ZE3IEpYK8wDllHfp595SlupctcXEhVVtqN53rXb/ursc8/RDwvwYuhkCUmI9okPgX/qmfAnrhlI6dS5i266mpamI3FyZaEGiWeVOgvVkS+YlsNJJ5+qm9JYqbzq7ofIFCqZyJ9NEFMqiRybV/DRHQGXXHqFKqlbR/eFZqKiFgO5slCDtFTFKq1moVJw5M/hyAUUciyWbdpso5vSjPjz5NRTg57QgmY+/ZStcopVSiXh2DziOnTIC3r5Gaefpg7tdbh+ismROoXQhypUs1ApOPLncOQKEdVjjz/e+2bTwLvv0f2WIqIyeT9bcKxZn89WA++5W0/poqlPvyxzT4PsTyxGCqEPVUTU10J1OHKNFPqrr7leixfwJqr33n4n481+vzrAN/1vvfVW/VYp6H/NjfqbVwg/zX1Jby6a/fTd5sIFRSH0oXoialqo+r/DkScwZajpVk30C2ukPxVRZf6nLapBGQLEIxVCQEx5NJR+U6Zz/ePv96sDDuxeTVSopIhqJqyfQqcQ+lCFahaq/u9w5AFmM5pnvf/5z4c9UT3/vLPUY488opYtWxbZItwkDwLiMftpJ074VF3cr58npjwWeurpZ+j5spJGJ6TpUQh9qJ5V6ixUR76CYEmhR1TvufteT1R5mfTF/S7R/ZqZ6ALgkyr/fuop1eeUE7xPp2Cl8hJkcNOkgqMQ+lDFKnUWqiMvMcVKKhwvEcFSZXQdgcNqPPrIw7S1agpreCQgtS4AhHT4sNfVTTfeoC697HI91xQRv3HAzerMs8/x+kvlhSXOMk2fQuhDFZyF6shbEFUESyocIoalOvCee7XAyduJsFZPP/UEdeP1N+hpTfLav0RAeBFiBJnvUvGJ51NOOUm9NGSobuIj3oh4n7+c7olpJitkMVIIfagioqaFutnvf/yub+tB9UfVFNwb+/MfETFpavObr4u+NXKU93kT4Bru2H53/YmT1q1bqfY7t1ett91OT743+XH5CrVwwTfq22+/Vd8vXqrmzSv3RvARUh59PfGE4/U8U6ZGiaibghpkhSxm5Frefucdes7xkBdfUL2OOMp7j0HQcDz7Ombkm1JOUJ2g5itm4ZcwcF3k0yKjR4/2vk8k0DXAu0rrlzaILFFqXcVPan3Fmk0+Q8K2zHvt0eNg1aFDB10OeF+pa95nFvlAY7YEVciEoIqFiq8FtdjEFJyg1gxMy8IUVpqMXC++STV37lz1w9LF6rMp06t9WdMPBJTPluwcsmLbtG6p9tpzL7X73nvrF10TH8cwZxu4a58ZuI413UI1m/pioeonpRyOfIcKID4OKxKf/lWermLw6Pbbb1ePPDpIvfLKa7qC8v0m4KbJPFKW8wLnO++4U39VlDfm880nxJSKLMdARJ2QZpZC6EM1xVTCblDKkddEqwAInliSWJb85vtUO3fsoP7vgG76K5q777aLXs9b4Y/qfWyoad9Tv7wZEWZOKXGzL04sFxMnqpmDPM8mcn39rnO6SHNfh/V/h6OGYU6wByoKXTX4LJPuGoHv5Yt4QpCWiiN5CmEeqoios1AdNR6xHhFWEVBTXOHnjRu1b2JXLPYT58geubJQg8QTUWehOgoBRFWEFd+sNNGa67INPk4GIB3ZpRD6UAVnoToKkkQqC9uIE0xhdmSHQuhD9axSZ6E6Cg2a/uZ0JzNsItuZ64OsZI7EKIQ+VLFKq1moMt/K4XA4skUh9KEKzkJ1OBw5pRD6UEVEq1mo/MNKdZaqo1jJRHPQEZtC6EP1RNS0UHlSSv4cjkIglkBGG3yK1ufqyAyF0IcqbGKhOhyFhJ8VYr95CsxK5kb5s0sh9KF6VqnrQ3UUA7XrVIkoT0oJzD01559mcsDC4U8h9KGKVeos1DyFiu1cas6eS1pZWanuufuuyC+lP/xnw36CHZ9zsV26FEIfqmBaqJv9UaSdR9l+fR/ZTDziyzLgbUe8PemrueVqY+UGteHnqu8l1a29ZbXfiSL71TQ/Vex4fv15gzr9zLP0Ol7PduvfbtFhE7/j58qvSTRp1FA1bdZcbdNmG11nKioqVElJiV6XaF0phPehimVq+k5Qc/A+VLKcYxD/qpWr1TtvvaGGDnlBv8eTN8c7koeXRpt5Z75EWpD1so7fsl+u/XzGL42l9evrF3OfekoftXeXLnoZImUaDLFA2Arxjf2uyZ8FzHuWFDju6rx1nu8i3XzLrd5LkSm8NuayaOFix67w/LadYP7OFx/keuab75dGvuvFN7iOPvZYdf211+jyLCRioxXqs/zOQs3RG/s/nzZNXdTvAl0wKbD7d26luvc8U3U4qGVkC4cjP/n5uzrq4/ETqn3Xiw8bYhjUrVslvrEoBAvVFFKxUJ2gZrEPVaCZz6eQEVM+ydG//zWq5+l7RtY68oGNv1eoOpuXJuwXE+a533Tmv7wPHd404EZ1yaWX6XA8S7BQvynlmvxZQC4iINavvfpfzzJNREwpuLbvXHJO8i2abztZnqgfy8k2gl84n33byXJEdeCLf1U9e/bUyyZ8OlF/4wvi2WkYL9nErINBI2Kqw/q/I6NwN0RIsXSxel8f9ope3qNnL09M7UJrOllv+o7kiJaP2chP81jRwvnsR4P1iCqf3sY4wFKdNHGCXse0tViiWtDP8juyB1Oj+JQxBbD3MUfrZfEKrsORz2y9Rx3VqfN+Ojxv/jfVplFFI1cWapCWqieizkLNHavWrPVGSrdr21b73OWLrR/OUfORftRWOzRRrVuFB1PXr/tJ+/Fwz/I70oa7IxPOBSbxC85KddQ0pMnvR7yB3ELoQ/WsUmeh5o4ta1dNK9nYaFkkVN1KjeYHSapxsp+fS5eg4gmCWGmRdabLJ/IxTX64Z/kdGUfu+NHu/OayZCvN7Jc+VO8+8F/t3nl8qnrj/n+rJV+v0usSjYvtp7zwht532GNjtf/S/aPUN18t1OuTTZNAvMR14+l/VdNeXxL33IOCY5l5Ij7nNPLpiV7+AGHWy3mbPnkLmUhjMpDGB68drK4+/V79O9fpiUUh9KEKzkLNITT55cmTRj9vr32wxRTfDMs2ghlOhCb7763+V3cn9dqo6erRRx9WDz0zUt139ZPVRCMWpOOFf4xU1wwcrPcljm9W1FK77Lqb7kNLpfKKSJGOOx56Tb1XNl+tWb1aryM+cSby21w+5LpH1e1n3pDwuQj7HN9KbbN1s2p5gr98xXL9gIWclxyrYet99QwN2Q5/4cKFOm/N9JjhbEE+XnHqzWrEiDfU1CmTvLyQtASdpnjxxROuQuhDFRF1FmqesKb2t5FQuIDGE850KgXicNQlndRJR+ytB8VwTKie+9FSvZ64xdmwbMX7k9TUyRO8fXmW++y+56h9jmoT2Sp5kW+3U1t13HUXqL59++oHHKIhabLTxm+swzfK5mgxnv5eVX4mym5nHKIuufQKHea8tmnVUvX/e1+dNjke50X+7f+Xdjr/gG3bt++o84BtTSQf7HSn64MZNvnzNaeq8/ocGPlVhaQFP9q+qZBufIXQh+qJqGmhmjP+HdnFtlBN/AqrvU2yEGetJrt7FjK8OWKEWjU7fF8l/mjHeHH0XFWxbp23b8MGIfGNTI0x05pMJZNjMe2G+PyQNJUNmenbtYB12Kp1G52uvQ+vyk9INC0cH4GEFq22VU1/66jDwLGJR1zzHapEq2WrNqrJbr/rsKRTYFvZV3yTeOtNZH28bbG2gZudH+wbJMSXapyF+iy//gSKIzeYFqpN0IVfqNy4UVthYhFipS4INVtBKq0NQjYt1IzkQQT2hXqljbQvJJreaGLgB3Gy/af/+UY9+OADkaVhpDJjOT78xo3q3Tkv6DDIMWKlKVY6mJQusF28c7PXyz7mvviyTH6baZD1EjZ9wVxu7itUbLG9vjFw44No2wVJqvEXQh+qZ5W6PtT8wLRQswli2KlLN8/aHDJ0SNRKDJ+/Plr7+3YON3dtzH3MsF9l84s/Foj57XfcVk0kosXh14carcInmg7ZLtZxOYZ5HLbjNz5pwtnbCGacsq3fedjHtvfzw+94QWOnK1EKoQ9VrFLXh5on2BaqWQEyXRl6HXaw7gMEHhmUSmlWfHyWT5o5Q3XvcVjMN2HJLILHrx+uR8rNSo6FyTrc4Ds/qHYsG3nCRsTo37fd7zXH33hqrHrtgfE6PmA9jtF6jgt2nNEqvN+x4xFrH47DetlmwrByfb7/uu0/+hyYOTDtne/1OkHSxjmQZ2VPDtHniC95aB9TjsE68pLzfn/oNDXm2S/UqsiAnkmqgpcodvoSpRD6UAVnoeYJtoVqFv5MVoQmpWt1v2GvXr08K5WKLJjHZqBn9tyf1O677RJZsilUKvoyVy5fod+RyUj4mnlVRavtvo20KDOSz9t9gH38zlGa26xf9el0tWPL1vq3HxwDsbr0ssv1cU3iVfRY+Yuo163YToeJRxyQb37IeixqhPSt4Y/oWRWH9Oyhlz/40EPq1lsGVOsHxnEzYHR+yqevqp4Xna6Ou7CHatq8mRp49z1ajO108pupWsyM4Kkktj/stH3U3PJy7x0RJpKuoJF4Y+VjLAqhD1VE1FmoeUKsPtRMsqqiofZ79jjY6xNluo1UdqDCUFlmzZ6jdu6wq+p2YvvIGn8Y6UYQ/GDdyafdUG0wLBEYgTfjRDzOuO4I74UyjXb+Xe23516+8aZa0ddV/KTGfzRWjf94nLYosTRx5I0Ov/5lZEt/uDGNm7lS3friverES3uoI8/vqsO8JpI3jN1y4X2RLcPiO2z463p55/1P1vmEY8SePm5pOYj44rBEmbK1T6cuejYC/ca4S+47QQ+o2aSaD/GQeEVYk6UQ+lA9EXUWan6Qqz5UYZu226p9Ii+1oFktVqpUEirz/PJZ6i+Hd9C/4/HD51VfFkXsTDZurHrMVuA40Sq8LDfjNGFfxGeP46sGykxYn0plLy+fo55+9rmQJf2EenXovdrSfPyxh7UlTPjll4d6XRA2CC43pp13bu+dm5yH5DMvxmE7oZYKdwOURL7QyvbsK7MepP8aEGBmZXC+WKUm7CPWcDaQvI12/eJRCH2ogrNQ84RcWKhUXJr8sKF0gbb6ZMRfrFQRAgSWASwsxUSoU8ffAo1W6UQ8/GB5tHWSvkSQeGwXDfqVzz/3HD039pgTLle9jrxQXXlOLx3GMdczmqW9/OuPtb9g3gfqmWvuVvde8pLnViz5TO/HlKZZs8NWLpblBbddp56692J18Lm76mWkjWuw9qcKvT0PT8i5LvxsjZ6VgSUqMxpM4r3hKUhiXbtEKIQ+VM8qdRZqfpArC1Wa/ICVx4g/YHnRpKWiYJ0yVar7Ad2jVpzNt/8hEopPtL7HWFBpY+0XS1RZZz4eKo7fpoVoU7+0gereo6c6tNfhupuD7oXOZx2nwzgsYj843oxvwpWKboiO+5+oDureTQ/+4SPGd999r7pxwM3aupS0k//ED/JYrzygwPWoV7+Bl/+8Gg94s5N5TQjHyotMkO4xC6EPVaxSZ6HmCbmwUJmHanPW1Ud6VhdNWiqKVOpux/sPRq2vWBMJVWE28/nukEDlMwepYmFaWewXrckPpqiAeUyQx0MZ4BHHwNjo98dEtvBnw4YN2noH8kIcREsPN6CKivCrGZlgL2Js+uJs6xKB59HZj2et1Q8O8ICC/aADx1+61P8GJmnLJhzTzv9kKIQ+VMFZqHlCrvtQgYqBlcSkfWCAhKk4fM6CqVKsSxRTNCs3/hIJhdmkTzUiArHEgHV+FmqiFfm6a6/X7q47bvcc3z3iBpIoiR7LFMlFP6zQabfPzVwm8WI1Dxhwg2rWal/d/YLgRstzBBsWL1m6SdzRSEf0YkG8iabBj0LoQxURdRZqnpCrUX7pQwWpcDRNxUplCtKyJd9VG/hIpPLYopkupC2WhRoP+iXFMdqOz8i7X/+jUFpa1R0CnHciooSFKjDKb0IcZv4xZ5ff7IMVTb9qjx4HVxPSNq3CTzCaL2yWlzgzE8E8XiwSuW6pkGi+RKMQ+lA9EXUWan6QKwv1+yXV399A5cAy4lPWAqPSVHDWJVp5RPwYUBFkP+aUpkIyfa9iFacjImIFgsQTKz557p+86rZ/Vx1muhMT8+Xc8XGIIHNUsWD5zYtp6CKgeW/fjOxrxPYd2oenrjEwFW/6VqYhPenkcyH0oQrOQs0TctKHuqFST92heW6+BAQYOAFG/bGYQMRAMMVSkIqF+LEv3QZjx47xluv5lu+9r8UDK5jRarDjBpnY71dZpV+X+MRCM7sZZGqWX7wSXzwRwPqTflyJRxz71lo/R68DxHfln6p+0/fJfFPA8uTdpDJrAp+pVzzgwDxTkOPwbXs5N7blRTBcIxueVDu85446/O6otzYZXHt75KhIKHxzIy47H4Ii3bgLoQ/Vs0qdhZofZNNCRYCo1OPGj9PChuBN/vZdvU7EgveDIgi7dWigX8vHMsBnX6ZRIZaACDDJnOUCTWmZMUC3wRXH3aNu6/eEfuKH6UeIKcd+5ukntaVGvDjmWoqAfL946SZxItLs9/xzz2iR4r2sIhiTp0zx9p04caJaMjlsJUva40G+EJ+wZPH36q0331Abvq6nf0sacWwrNwaYN/cLPflf0ouVetrpZ3npJQ9OOuhC9eeOZ6lzj75SW51MkxJ4gswUYF6wff4h16vpM2Z4jwUzlY08pK+V+HlAgvjJf/pe+S4+j6CS1yb33H2Xfkw30XxIFikzqVIIfahilZoW6ha3hdChImPG9BlqxFsjVLOtmqhjeh+vtmrWTGf677//rjbfPHyfIQzxvo+TCBLngm+/Ue+887YOH35WV9W4afitTb/9UX0QJ2g+efZNNeLlYaqk9s9qx+2bqA0Vi9X3835VLbZvrEoaV921t2mwqzqoz0Hesj9tVlt9N/8H/Xz5oqVz9b64bbffU327YIFaMm+lat2uhbd9uw7bqI2rtlBbqF/Vjz+u0K/Wu/bqq1W7g+uqrydNUsced5Y667rj1f69D9bxki6stjatSlWTrbZXP6+bo7ZcvV7VbdFK5w350qa0o1r03Tfq559/UfVr/6jOHXC2qt/iT+rj/36pvv5mgapdu1ZIgDqELMZ1amPIwq3fvJYqbRJ7TiaCMG7oXDX97WFqxcqvvfP6U+3moTi/VWtWrfLiYdsZL45SLz3zot7X3PbbeR/q9G63/846r9rs1VAdcMj+Xh5QvhqUlqpzTzlQnXpd+MkmYFvOb+vSHdWKFcvVLz9vVM23qq1O7nOROu3qw9WunXdUsz/9Uu+76+57qpOvOUDv03LnhqrrwZ10/L/9siF0A1ik1q1bp+fN7tKxo47rtNNOVzf9+wK1zwG7ZqxcES/5IvFP/mCO+nzWLLXHHrurAw/qEbomtXX9iVZ3/vjjd/XDkiXqo48/UktCN0Q+Rb3DTjur3377NbJFsGCZ8llrqYeEx308Tk2dOkW1btVKnX/BBXo5mG/gS+RtfJuF4hQLdbNQxEX5QtTnn30ulInnawvhqacHq/ahwkgzhO/m8w19IAxBCKo0NcZ++IG6+JJ+Ojx82JvV3qeZaagANoke129fEzMec9toy+Mh+8k+fumMFV8Q52XHES/9bG9uY5+DYMbLuli/QfaPt5+JHUfQ2MdnZggW+Rmnn6ZuvuVWVRq6EVB/otWdkpK6atIn49Xtd96h+4SHvPiC6nXEUarS+HBlpqAuYjwNvGugfrdEl86d1KeTPlPybmhE1Az7wXqxTKv5kfWOHJDtPlQqgO0SxW9f05n4LQNZJutjOcH+bWJub7tE8dtXnI3fNqaztwERHr/lIL8F+zeY+wl+v02XaTiGLeLJUAh9qNLMFzHVYf3fkRPyYR5qJvGr2Nmo7PlEtPMttnywcc/yOwInV/NQHZklHcutpiCWd6rnWgjzUD2r1Fmo+UGhW6jFSjFZn6meq3uW3xE4zkJ1ZIJsWMgipDXNQs2Epeos1DzBWaiOTJAtC1ma/angnuV3BE4hWKjZsIbyBfNc8+28s52edMQUCqEP1RNRZ6HmBzXZQqVCyUs+igXzCa58O+9sp4fjpSPi7ll+R+DUVAuVioS4XDNwsPe10WikUunSqaiZgPTgeMppyHWP6sdm5V0C6ZBv55kMpD0dUS2EPlTPKnUWan5Qky1UedtR2ZgPtB+tYqViOeWj9YdDSF98a7J+STWkKiayXzqClC+keq0K9Vl+J6g5pCZaqAiAFpdRb+kXgPCyFF5VJ+viwTf1+XSyH1h9dCPgJxKXbBNr20S2MeHYcj6C7Nuw9b76A3m8nARSFRMRUpwZhyyLRqx12UbSnWqaCqEPVXAWap5QEy1UKhKiB/JCar4HH6+CsRyxevDBB9TPGzdW207CvICFtznZyHp7HzmmKUo2iWwDEjdvvvL7vj3wKZM7nrpevTr58Wovg46GX7oF0iNpYr2cj5lOWS5h+xxkXa7wS1OiFEIfqoios1DzhJpmoUoFRvROOmJvdeYxXfRvXp+H5Ql+FYz96HPlm/QV69ap2pFPJgvsg1VIc/oX1cZ7I5Mcj/USFl8GiOS3CcvECRKWvk97P47BjUKa8yDbmMdHSCVsxwEsk+XmIJa5XMLmMjmG/CadLAOWmWkQZH0ukDSlSiH0oXoi6izU/KAmWqhU9Nlzf9Jf/+x50eneO07NlxvbFR9h4eXKvMOTbYcNf11/3RMRlSY27zplHZ9e4f2eL90/qppoUnn5zX4MDBEfA2J8KZQ4zGOyHS9fJg6xpvnN9ryblfhNsQO2Y5ANeIk27xLlWHRPmMfn5c+8k1XExO9ceXcp/a1YuxyT3/bxJD6cHIdlkk7e0Uo6zZdIyzHzAdJin3syFEIfquAs1DyhJvahIki8gBorEmutU+f99HJetow4RKtkfIROughMiKdtgzX6vakC31FaX7mx2tv4EU1ElO/UN23eTG2386H6M9cX3vCE7iqQY7MdQsYLlh986CFtTSNubw1/RJWXl6upoX14ZRtxmUK88KdG1T4Bw/GXVW6lw8SN4LLP7Xfcpl9T5wdWOtvMmj1Hf/mUL5gCL4/GOkeM5XiSTpbLl1gRUC+dkyfodD7+2MPeucm+4ucS0pCOqBZCH6pnlToLNT+oSRYqFYeKjXDy9n3hr7f9RfsMTplvvjdBePmip8A+x113gf5gHvBd+n06hbsPWrTaVl1y3wnqoluPV7sc0cg7LkKFKPf/e1+9L+vPO/8iPUD0r6Ef6e8zAQKN9SyfYZZvM/Gm/Ov/cZG67LIr9D7vlc2v9ikW0tJ5/5P1b/Yl/gE3DdDf2oIm+++tuyOwov3AwqR/mG1uePyM8Dkd30qn98rzjtTWOevF4pR0ysf45pfP0j5v5H/4jRv19/vlzfx8KQFEwPLNUk2FQuhDFavUWah5Qk2zULGosE75dIdYJgiDfMYDUUD8QNaDXenkY37RKuOGL6u+PMo2HJduBoTWZP+/tFM7d9hVh8eVvai35bgIuAhVvdJG+htOLMMddUknfQ7Ap0bMNPC9LRP5XpTs+5fDO/ha2VibWJb0Dx/Ss8cmosfx+RYUN53Bg8PdCmxD3nGTANLLV2b59AzrEHJJ54oln2nfjhdYlgskHakevxD6UAVnoeYJNclCRShfGzVd7brn0VpcBCoUI9/A4JRYU0FA3LhnXv5Yi9XtZ96gLuo9wHN8R4kmPGBxImw29Usb6DgQABxhrEg/SupW/2xK3YrtIqGwgNAt4AddExyfKVV8SM9EhId8g/LyOfo7VDa1S3fTAguS1h1btta/zS+gkn4TiT8XSL6mQiH0oYqIOgs1T6gpFioVh89AM1hTXy3SA0Ejn57oOb7YKYNT9P+JlSrYIpAMxIWY8u16abaL4ztKz779kHrto6e0M4V+VUXYyq2lNhWvaNgW6obSBdpHNDiHEmt2gvDD0sWRUHS6Hb9LJKTUl1/MjoSSJ5cCapKOmEIh9KF6Iuos1PygJlioUnHenrBUCxsf1GOghyb20CEvaMe8TQQPsMDkKSr2TUdMBem3lKY3lhw+zWIJm2JKepuUVn1fX0gmLYmKBdutWrU68ssf+7gMeKVKEPkZBJx3OmkphD5UwVmoeUJNsFCpOAy4/FwxWz1wU19164v3eu7pD+/zHIMoYqXO/yZs2aWKmS8y0o+Ym/2zpEtET/xYJFL5sb5t4sVNvNJVgAUvA1020pyHrZo21n4qgpTIuWYDuQapnAMUQh+qZ5U6CzU/yHcLVSoL37sHRrqB5eIERrRlCtXYstF6ilCqmOLTaOffPaF+f+g0vcwUFUkDYotLVXDY7391d9JhBrIkXvs8TeRYex++vU4jg06LF1c9Viv7sZ3Zv8v2EC2tst/368LCaxItLdlG0u53DpUbqixwPqoszqQQ+lDFKnUWap5QEyxUhIBR5v323Es3q02RMCsTy48+8ggdRvw+GjdBh2ORiDggrjI/9O0Rw6v1z5r7M60KEomztLRqFoHAflts+EqH11dUtzLlPEtKqgat2N48lqRRrHPWyX6EsVwRXbYzbxgC62za1I/dlZAPmHmQDIXQhyo4CzVPyGcLVQRBpizJJHVTJOzKxHQqeXEIE9PN0WxTRGbNDvexIo72yDxPSrGM44h4yvxQLEAmwjOBnm1Yz7xORv8RfDmGmS6/Ef2Kiqr+VXPbWk121z5Ndzm2KeB+kE6O273nmfo3521a55KPo0c+5Q2s2fkG0k8ssI2fhZovyDlIeUiWQuhDFRF1FmqekM8WKhWFR0IfeiY8WX/p0qWeuEglMisT65gJICB+Q4YO0YLHdlRAphXBf4a+oJ68/XXdhJcJ+W1at9RWGhPZeRqLxy9lChZzR3v3Ps5bf/W116krTr1ZuwEDbtBTjpgkL+JFWrgJAALNb5bjEHmWgcxIkPNgypM03e+7+kmdRm4oIt7MWxXhQzRZJhx87q7qpgE36r7e/778sl4v+/GkFlOfLr74r97gGcdkPWmApUu+V1+OWuOlk/0QZxCBl3TmA+mmpRD6UD0RNSzULW4LoUNFxozpM9SIt0aoZls1Ucf0Pl5t1ayZvnv9/vvvavPNw/cZwrDZZuFJ4ukgcS749hv1zjtv63DfEy9WJc3DfUu//fGL9vMFKvv7b36qmm61lWq51c+q7v/Wqs1/31a12T1sNZFeBEzSXbG6Uk0cOUb9qc4vatvt91Tbbx+2vn9au1a1btdCNW7aSG3XbI+QMC9WJbW3VCtXrlK9eh2mup22g45j+72bq602/qxWrP451OReq+qVNlF9LjssdH2aqz9tVlt1PbKDXr/htxLVKCR6dWrXVm2330mdefoZ6sybD9XbiUghguv/V1+noX6oeV9n9VJVt0UrncZ5H7+nVm6opddRqTffUFc1alFflTTeQpU2KVF1NjZTa1evUL/+slHVql1P9Tr3z/o8mBr25Zy5ej/cgq/K1FZ1d/Xyg7xo17mp2qX1furrb77V638qX6AWTJ2lftjQWF182xlq38N209vCd/N/0DeUn9fN0flVv/ZyteHnOqr5No10Ojneho2hfAkdq2no3JbMW+nlYz6UFfPaw+QP5qjPZ81Se+yxu+rW7QBVr349r/4IZj2qU6dELf7+O/XRxx+pJUuWqhNPOF7tsNPO6rfffo1sESzShyv1kN/jPh6npk6dolq3aqXOv+ACvRw2C/0JZjgaYqH+ETrfzUIRV+8tLhKef/a5UCaer5/yeerpwap9x466gv0Wypw/Re48hCEIQZU749gPP1AXX9JPh5lDaVoshQKVzYbzEwsS0aOZLL9NWAd+/Yxsb1qFZhx+cUGs5WCvM49hpyHaPiZyPDkP4BqzTPYHicNvmY3Emc/QouAdB2ecfpq6+prrVfMWzbz6I5j1iPowffJkdfudd6jJU6aqIS++oHodcZSqrPR/tDddOB4Gk9RDwgPvGqjfl9Clcyf16aTP1B+hP0BEzbAfrDeb+mKhuiZ/DqkJ81BTBQEQEcA3RUGEyk8kWOcnpsD2iBPOFFNZ54ffctkPZwqaIGnwWxftOIKslzhw9nHixVEMuGf5HYFTU56UShZTMCScqoiYQiThdOP0S5/gt84+biqwrziTaMtNYq2rqRRCH6pg9qE6Qc0hhWyhBoUpJvGEJ1MUoqBlE5r6dreZe5bfkTFchXUUEiV1q955gJD6DdMUwjxUT0SdhZp/+PXXORw1EfNJKfAb1HXP8jvSQkY8GzZoqOcy4hYsDI8mI6bOSnXUVJjRsHhJeD5xvfoNPAvVtE5tK7UQ+lA9q9RZqNmHwsVdeccOHbyniUa8FZ6P6nDUVDAGeGG4vJd25x3bqaZNt9IGBCIq1qltpRZCH6pYpc5CzQHcGeWufHTv8JvneRLGnFfpcNQ0aFnN+XSYbnExn3O/rt0ia6oo1D5UwVmoOYA7No4XbJx5xhnaSpVn00VUudsn6szt44XT8R01j2xcW4mDx2r5phfwXbA2bbdVGzas1w/HSJPftk6hEPpQRURNC9U9KZWlJ6VAsrqyslJ9MPo9/WVORBVx7dPnNO+t7kynKtQ5qo7CgLdn8enwsrIy/Zt3LVx37TVq2+3aRhVREyzGmv6klImIqxPULAoqSHZzjNeHveaJKvBiDnmBSDHByz/kK6XJhkF+mz74hZ0f3Qe/sO3z7TDz7Vg8btqv3yVq+x3aeaIVzxIsKamrJn0yPmuCKmRCUMVCxXeCmmVBBbKcY3BRJ346SY14c7h+6xCfDzELqsNhw00312WENPAqwk5duql9O++tTupzqiotLfXqTjwxhUKwUM2mvrNQcyioAllft249fdw5s79Qc0OC+vPG6nP46B6g3xUfJGwuCxqJ+/vFS/WorRyvpkB6+c4TnyZp0jh/3ymaLLXr1NGvUeRjgq1bh19onQtIR506ddUBB3bXI/pSb5KpJ7myUEHE1VmoAZIPgipwgbPdSR+PmdOmqbKxY9Qtt94asojWh6ySep5vYy73C8fyIcgw/LhylRr1zkhVUqeWOumUU/QyQbatqbz8nyFazPqee7Zas3rTDxFmE+pLItaoH4VgoZqIhepG+fMALi4FiQLq52KtC9pxrJUrf1QjR76jRo8erb5dsFAv+2HZcj16u2z5Ci1Y+BJmP1lG2F5u+rKN/DaXpRsmjcRbUVGhX2798qvDtYDKcvOY4iRv8W1nb5tLB+Vz5qjBgweHBGiKFlOuB+vwcWaaIV7YdPa5285vm1TFFAphHqqIqFio4AQ1h8jdUuCi+zl7XazfEhY/3jLbkSYeHRw3fpxasvh79fnMWeFlke4FGjRiuQNhcfJbtsHZ8QsSxhfrwSSV5dKS+DEkskw0n18+S98cQNJjO7DjElieK2cfH5Ys/UFbc/PmlatF3y/SLSk5BxsEEBAuCYMZtuOPBcfhusZziWKmIxtQZoLGE9FIc1+H9X9HTkikIPth72f+lrD4pvj4LZOCJj7Lv/rqK11xmX3w4YcfeNaEiKrZBWKG41Uo8xiZ8Dk+4bFlH4Ys0w16VHr8x+N0P7UfdtptUTCXZduJgG3YEG4CY4HOnDFVh5mq9Mn4jxKy8qIJF/kk1yMRyCszv/yIt94kVxaq+EHiLNQiQiqOKZx+lUmWUYEnThgfWaq0NYSVx6CUPTAllT9RMlGYTRBOzmHokBeUfBtq7NgxkbVVFd4UB8kHWSbLwVyWKRcPyfNVK1erCZ+GP+cNfOgQsfSLg3yWvPbz7WVBkUxZyJWFapf7dPCsUmehFh9UHgpTNB+wGmjuvzvqLf0b+KDd1M8mVbPy2F72yTeYLcGH/GRq0bRQ01+ax2ALUNCiEhSkU1oEjIivXLHcm0QP3OiWL1uhrwPbcn5yPUHCfn46cKxYLlFyZaEGiVilzkItIqQCRfOB5iW/sRoWf7dAC5JA+Ms5c3Q427MfUmHixPCXQrFQgWb/1CmTs16Bg4C5nUALYebMqi/KAjc6umY4LwTXBEtRBCSan2sKoQ9VcBZqERGvYpnNNJa9NXKUDosgwazZc3SltkWJQppPokolfXPECB0WC9Vu9pNmP5dvkCZuXHIT49PUJtzo5s39Qp8z/atyPWsKubJQg8wnEVFnoRYRIhb4FCbzt1iaUmnpP317xHAdNp/G4a1Y8+fO1WEEVLbPJzgfmvs8bWbDU2g0++Xc7coVZCULArlJST4vWvidHiS0+WzKdN3sz8frEY9C6EP1RDTkOwu1SDBFwxYUqbgIK8uYIiXvFTBh2YyZM3TYLJASZz5YqVg8zJ31eyyT6V9ms9+uXOY55Rry0kwP10a6MWy40dFFw3nl0zkkQq4s1EzgLNQiwhQNKVRmGOsGxzLeKRCNuSErz5zTmQ+YswyweJg76wc3BCbDm8j5Z7KipQppkpsco/sflo2NrKkO51U+rzzr1l4Q5MpCDRLPKnUWavFgCocUKjMMUoHLxnwQWbIpjJbT7BfLwowDPxdWqhyTQRma+1ii0Zg2dbJu9pN+yRPIREVLBc4FZ94kSNv6dQyqhd+G78dH4yboJ8NqGrmyUM1rny5ilToLtYgwRU8KkywzK+6kiZ/5NvcFBkGk2Y9FK/uaBTTbokq6pf+Q5n6s9Euz3ybICpYunI8IK+fFTU4eUojG2LLRuo+1plEIfaiCs1CLDFtI5bdUWuCJKHNk3w+a/Vh5sj9+JgtqojDKPX3mzMgvfxDbL7+YrSsyN4N8SLcfkja5LjJrIRqILW8py6cbQyIUQh+qiKizUIsMEQ0pVPKbSouo0mQcN/b9mJYQ0OynCSrzHqn8dkHNlpUqFjIVc9b06XpeZjzmf7NAj4qTRkl3PggR6TGFXdL0fcjy9Ju1YDP6/TF6hoaJ5E++Ugh9qJ6IOgu1uLCF1BYRnoTiLezxoNk/d+5cXRn8hDMThTYaHF+snDFlZdUeRogGo+JMhjfTmc00JwI3ONKEP2nihLg3OaDZzwthACFl32zd2FKlEPpQBWehFgkiFuKbwkpYHicd9e67CVVcYJK8PPJoI/FTmcUB22bCIeyJNPcFmv28YITKzP6QiQqWDOQRaTHTQfpoPdiT+aOhm/2hGx375LuQCoXQh+pZpc5CLQ6kH84WUoFCTXOfpnyiSLM/WeS4QfoID4NpiTT3BZ76oh9YMCua6bKJnJNcL941ynSpWLMWbLjRsU+2054qubJQg0SsUmehFgmmhQgUKrPCUagTbe4LerR/xrSkrSE5btA+FmcizX2BZv+Xs6tbtOSL7XIFx6aPeswH76mKdesiS+NjTnnLZfoTpRD6UAVnoRYZUsEoVGYYPh5f9TIRc5Tf/C1h+c2r4+RNSIkixw3KByy5hQsX6rCdRsFeRrP/22+rPtGNhU6/Yywn+K3zc6nCDUr2Z36piX0eEpbliC/TwsifdNKQLXJloZrlJ11ERE0L1X1TKg++KZVJzDszhcm+U4/98AO1es0atWb16pBlFH73JmIp03X26dRFf6gP+DgbHxHceuut1QEH9fDyCWIV1ExZB4ghFrYIZKPGjXX6Fi9e4j011atXL9WyZfVPc2+3bVu1Y4cO1b7UGQ3zvJKpKomWGTNO0sHxWPb+e6PV2jWrImvCef/N19/oVyu2aLWt6rZ/12ofIGR9h/Yd1U4d2nvx5DOUCfdd/gKimATVLkhmmOalNL+wGggz6HTQgfvrZbfecps665zzdDhaM414YmGmISgf7DBwPmVjytQpp5ykLbfhw95Ue+6zj067nJ+N7AtSHeSa89sMJ0Kq5cXvvExLTs6LMvvIo4O88xLk/GpCueU6FeJ3+V2Tvwjwq6iCfGwNx4g5ldIcdMLyAdZRUWVb0yWCHDcoHwhzfNKF2OE4n7q1t9Tr+XZ8nZDVLSITrbISjzhupjj5bYoSYXGZwMxPCZNmSfevP4f9eqWNtC/nJfvwW8L5jnkjyAZcy6ARq9T1oRYZUsmkUKVT6RK10kzkeEH7YIqe+Bt+/lX7frBvIi4eprjaLh2SrfgcT/aRG0sQ6cg0puWdDeSaJnJtE0X6TcVCBSeoRYAtpMlWWptkRVWOF7Qv8NsUFpONxuCZWLHxHPgJK/HHcoIdVzIkW+E5LvsgppDvQirkykI1r1NQOAu1yLCFNFql9auMDPJAEBVVjhuUb8NyzlGa/AJik0z6o4kh8cdykr8cS5wpruk4PwHCyuO4rIcgrlG2yJWFGiQios5CLTJsIZXf+KYzK2779h31EzjTZ8zQy1jPk1XiGFRI1FF5cBIOyjcdy0ijH9InKv2jsRznJmGJEz8RZ6ZDfDPuZJyZ1zhuCjLFrX5pA9W0WXN9XWqimEKuLNQg8UQ05Iu4ulH+IhvlB/lt+2LJUSRefP45dfMtt6rWLZuro3ufoLp07qxK6tRSlRt/0T4kEs4Gcjz87dq2VavWrNWj4aT9yUH/1n2qP61do7eNly6/88BPFzOeRMIgvzdu3KCnTD39zFP6JnfRRf3ULbfeUqPLJzecXIzyg5T5TIzyO0Et8nmoNrLNt6EKfNVVV+jCbk4oZ+RcnuBJJAzJ7pNsWGAZtGrdRqcbuL58+VSw9zGx45TfQftm3NHCfssQUyr/PXffq3bu2EGvq6lQxmr6PFSzqe8s1CKfh2r7gvkbUX3xpZf0h/tivbzZkXm4qZ1/3oXqyCOP0pP3oSaXy1xZqGY9cBZqgDgLNTF4GqlyQ3hgKt8oqVunWtqYPztq1Dtq4N33RJaELdSbbr5V7bLbnpElNRfOV77VT9ms6eXSPSlVQDgLNbZvE215PkDaKMYM3vAAwtl9+6qysjJt1fGk16mnn1Et/YRzhZmGVMNQ0wW1EPpQTcvU8yPrHQVMtErJ71g+UHHlBSIsT8UFjRknYbEJEFNuhqWlDfVvaNioifapwJIe8iBRZ8Ox0nHkJy6VsJy3+CyrqWC8ZBO5ln7XNFWk/1TEVIf1f0fBQuWjQoIUJqmQsWAbHFZQ3bp1N7GGqMyJOhGFoJwZJ+F4sB1iK9vKvrGcnL8N+ZArB2aaZFlNhClm2cTvWgaFWKjgBLUI8KuMxYQtSubvaC4dxLpN10WDdVji9vaZdnJsCadDrizUIPGsUmehFieJFCqz4sTy/UQolssEycQr6YZ455auL9Ztui4afttmw8mxgyBXFmpQ6QexSp2FmgdQ+eyKCGY4SKRSSIHyO7Zgr4vmJ4MtsEE4O17wq6hmuqOdS5B+UC4Wfttny1GG8NOhEPpQBWeh5gHmnRIRkP5GkMcWM+nA9MVJuuL54BdPLn0/eNooWWuI7eM52c7Pj0cQeQyJxhOUL5AGzjVWvscj0bwKCvscgkBE1LRQ3bSpHEyboiDKcfCJHxFlyoj9fXXmWcp8y3T8YuK6a69XI0a8oR89vf2Ou9UBB3bX+WAieVKM+RMEzIdFFKkzqYgVdcDNQy0gsimo5sWUwoeACjOnTVPPD35OLY58LG9dxU/ad6RGefkc77PYXF95IbMjOFq2aqN6HXaw6n3c8Z4xkAzs457lLyCybaGSzcRjiiufGrn11lv1lzjdo52OmgYPTvBWsr59+6o+fzk9KWuV8u+e5S8gsm2hNtz4i1pbp5aOk/ho2l/cr59+ogdonp7X50C1zdbN1PJftlbNa/2glzsc+cbCnxqpKZ++qt4rm69/U3ZvHHCzFtVEBTFXFmqQgio4CzVEtgUVpM+JeM3HI68870h1xQV99TbQsNkGtXZF3UB9MMMmv/+pqdr8t5XVwvF8P8x15rFkeb4vi+bH2kZIZNtkfTOuaOFYy4JcJ+GKpVVfQJgyZbq66u7B6svyr73+6mOPPz4hUaROFGIfqhvlzwJcPJx86G78R2M9MeUNQohpacsSXcGlkgftgxk2kQoDEo7n+2GuM48ly/N9WTQfYq2DRLZN1od44VjLglwHhMk3HOW15zHd1LAnbtZGCV1WY8eOUStX/uiJVixyNcovfhCIiIqFCk5QMwyFC0cTH8sXa/fpkHUM9D/dcfmVunCad36HI58xrdYd9mqj/jkg3LoqG/OBmvrZpISmVNFSyyaSnkTEPlE8EY0093VY/3dkDLkj8jw8Be27BQvV1CmT9LJje/dWtSKfaTYtJgqsYIYdjnzAtlq3bdNGHd5zR22lTp06TbfE4olqrizUTOAs1CzDxaRwcVdesvQHPaWH5n6PnocoVWd2ZKsq7ALrcOQjlE1u+M1bbKV2bNlaL1tfuVFVVlbGtUBzZaEGiWeVOgs1O5gXEVHlNXjybSPo2GR1JORw1GyaNm+m/fXrEptDXQh9qGKVOgs1S5gXj8kUJSUl+lFIrFOHo1Awu6tsolmGhdCHKjgLNUfY068WNs7el0Edjlwg3V02hdCHKiLqLNQcYRestqvT/zxxIcIcUUfNIdb1osz7iVkh9KF6Iuos1PzAWaj+xGpCOvKLeIOm+WahZspS9cTVnvHvyB7FaKEyKixTwZwlWrMxr2U08s1CDdJS9axS00KN9miVIziiPd1bLBbqh6PKPVf21gTtvpodfuLGr0L+vujnavuYjv0c+QHWaSLT+vLJQg0SsUpdH2qWkcEo+6IWi4XKxO+FS5fq575PvvRede4Nj6nHnn5ei6nfE2IVtRtrf8R7H+ptcYSJY4dGwfeFOVInnoUK+WShZoJqFqpr8ueOYrFQd9qtrjr33B7eI4o8UfPiW5PVXXcM0o/d2pUSy/WQI9qrhx+6RDVsUKqXXXr+2erEY45Um2+TXcvGER2uW02zUIO0VEVEq1morsmfPeyCVWx9qJ07761K69fX83B5WuyZlz9Wzz81TK8TUcU3wz07baN269BAPzPuBqvyC3lSKh75ZKEGaal6ImpaqPq/IycU2yg/1ijs37mVFlUs1YeeG62+nvG9Xg5i8SRSUR25p5j7UAXXh5onFOs81BMPP0ydeUwXHeZdmlfeOVD3pZrWqVRUeaQRYoksg1UyayDadlGXL0rMWvp16eZRt+XYrC82Yl0ToVD7UD2r1Fmo+UGxzkNt27KluuOma/QbioA3v98y8AFvgEqakrb1I8s9F5kN8OyzY9V/RryjHv73YHXH3a9qixeBk+0E4pftWY8Is/1VDzyjw2yLL9vgyzJ+X3PfY3pblkv8so70s17iNo9bqHCONc1CDdJSFavUWag5wO+t/8X8pBTN/4f+dpN+OTH8a+hHWhAhmhiZyxFNxO3B51/Qv/9v7z3052MmzZyhDj39eh2XOYMAEUT0mGVAN8Owt0bqmQYPPTNSH1us5HGffabjvPCGJ7RPHy/bDXvvffXZvHV6W+Jgf6Z/ybr5SxerN8rm6P3inUehIDe4eBRqH6rgLNQ8Yc6q8PSgYkVeTsznM4BBKkQqHggfQoaA9T/7LHX2hSfqt8fjI9LMDLjjodc8YcNiFBgMW/tThZr5+Zeq9+GHqAdu6qstZbohoPu++3qvovt+yR9q0Q8r9HZDH/unenfwbeqvpx2k1yHKTOVi3VvDBml36xUn6r7h10ZNr9YvXMjUNAs1SEREnYWaJxTT6/sQNb/KhxCKEDFIxVxVEaNo1g/fMsJSPK5nRz1zAIgbxxStK8/ppZdhfSLQ8rkOxI/jVKxbp8OmCDOti+0Q+T332EXv36bVZuovvY/S27EOx37MVKDvl6lcrBMQ421atVSLlixV330f+xwKhZpmoQaJJ6LOQs0+fk9LFZOFGmvKE2JmD1JFs/CwTrEMgQErRM6G+api9cq2wIMBgOjxsIGACAu26PPyZD8QZr91iDBWcDGAmCZiofpRCH2ogrNQc4BfH2qxvWDaz5qhQrIca88cpGKQyewDFZYv+1GVTV2kw/SZ+oHIMncVYaNvU2AwDGjyC6YgJCoOWLhAWooZuXapUAh9qJ5V6izU/KCYLNRoTX5gOVaiOUhFc52BHz9MQQRbeInP7AeV9WKhytNXyeCX9mjWazER7ZrGoxD6UMUqdRZqnlBMFqpfk9+ujOYgFdblNQMH61F7GxFEBozAbPZjMdlWk1+3QBAUu4UKNc1CzQTOQs0Bxd6Hao60RwOBNQepENVPpyyJrA2DVcjjqLBy+Qpf61SWEYdsG4/PfslchStkapqFGqSlKiLqLNQcUOx9qNEGpWwLhwrKyDuDVCKqJsQjo/D0pTLiD2KZinAzpYrReEblE2HfWsE3CYuBmmahBmmpeiLqLNT8oNjmoYrYSV8mldG2cKSC8iQVz/z7wfQkBrCYEfDJ9M8jS8PQvEdkGThiWpU5rUkw+2DleGKhRhOIVIWjkPG7folSCH2ogrNQ84RisVARUh7RZKK9+UIUv6lRUkERRnOQCmQdA1hM6EdU5Y1VxEVTn3mnPOGEGP/zsb95zX98+lyxeEkDT0TJOoRBLFTiYdI/rKpoqMp+DIs/sL0p4GYc+Mw9nT03/BlltmNZqoJTE+DcUr3RFEIfqmeVmhYq70N170TNPMXch4rFyJNNDDAhgszVZK4pguQHFRWHcDJIxYi9LUy8LxXBPa/PgfrRT+JHsBFTnnp65+WBejuEGZFknRwfxz7MImCdxI3oM12LqVZs06R0rSp7cogWabZje+Jo376jFmyJA+HkHJnzynStLp076e04ZiJ9xzUZ+7okSiH0oYpValqom/3+x+9/FOM7UZ9/9jl1/gXnawvoqacHq/YdO+q75m+hzPlTJHMIg1//Zypwlxz74Qfq4kv66d/fTnzZG4FOtWDWNGyLJpHzRujMyfd+sA2wXbymqKTBbxs/i8vcLlr64+1XqHDe3FC4efC47xmnn6ZuvuVWVVpaNTXNT8SoC9MnT1a333mHmjxlqhry4guq1xFHqcrKzDwUwfFIh1iqhAfeNVA9+eQgfQP8dNJnnmGJHpphP2wj1LNQi01M88kaL7Y+VEBkTJcI8cQU2Ea2ixdvrGPLOtOZRFtnLzfXFTKpnmch9KGKiJoWatF9AiWfbiDF9qSUo/Dws8wToRD6UD0RDflFa6E6HI7gqGkWaqYsVU9c9X+HI0OIBWNaMqlaNUGR6Bv6HfHhWqbyra9CmIfqWaWmhar/O3JCMfShigVjWjK57l90X04NDq5lKjMZCqEPVaxSZ6HmCa4P1VFsyPTBQuhDFZyF6nA4AiOZJj9TEBHVQuhDFRF1FmoOyOQd0uHIJX5N/mjChZgiqoXQh+qJqLNQ84Ppi+tEQo5CoJgHu3jzF9Sr30D70ZCHZAqhD1VwFmoOkAvaokX4rfEwt3xOJOQoBIp1sIv3wsqXEeqV1FElJSWeJWgLWSH1oXpWqbNQswuFCMejrDt1aK+fBeclHW8NfySyhcNRc+GlMLy3ltctttuhnX50O5pFWEh9qGKVOgs1y9jvAujbt6/2KYRPDQm/2Yj5fLmen+lwJAPllXco8EIaDIROnfdTe+21j14nlqgfhdKHKjgLNQdw16Yg4fr85XT9QgYK4YABN6j7H/tEv80IRFj9nN96e5n9uyY5O+3m72TCyfp2ONa6ZMOZcvYx7N9BOolbfAnzFi7eGsZHFbFOTzzheLV9yELFCrSNCJNcWqhBIiJqWqibhU6uuB7mj5CLt02ZzJszVw28525VVlamfyOw+3Tqojpt7x4FduQ3C39qpNYsmKC/isC7ZfkGWP/+16iTT/2LtgBFvMywDesK8W1T7vV9ORJUWPnjKvWPB+5TZWM+0AXT4ahpIEan9unjiSkkYg2WlNRVkz4ZnzVBNRFxDUpQxULFdxZqDgWVC1tRUaGmfjZJTZ06Tc3/ZkHo91q9bl1F+M3vjsSoX9rAy7Py8jnet6ioLCZsB3b+ynJgnbldEOFUkP1T9VMlkXhbt2qp9t5rL7XnnnvrgVapIyJW8WC7mm6hmk19Z6HmgaByL+NY9CetXPmjqtywUa1fV/2b84VEyS91VWWtcIWJFk6FjZWVatWatapVy63176uuukJXUpqit99xt9qubVtVpyT2p6TXrFqpNvz8q6pbe8vIkjAsE1hn/hbM5fY20fapqXA+jZo0VVs1b+a9RBpxoiwnU09yZaEGKaiCs1BD5IOg+kFBMyFNCK74jk2R61a3bj39+7xzz1MjRryhBXXw4CGq42676uWC5KeJXGuQ612kVSMmYgCY5VIEVUikviBsc2Z/oW4ccENB9aEW3Qum8xnElAK6YcN6z3HhKWT4rKspjjRn2smxyBsqsfw22RjaDuhaQTQlHwV+22JKpcMRFmcSbbmJuQ0OIUrFT8VBovFH8/0ckFfkPb7kfay8yhdIp+kHgYioWKjgpk3lERRU84L7FU7Wm4UjX10mMa0MnPwWpB86UUwxIC473liCIctsQTL39UPyKJ6fChw/0fij+X7IuQr2Pva58juayzZyzCCP7YloyPcs1FAW6YAjf7ALrhQCKbg0r1bWbabDrOP3mtKtq4XBDNdk7EpgV3rzt70uFva25JdfXInEaW8bz7fh2IKE/Xxx2byudv7z2yyfgn1usfIg291XdtqCxFmoNQy7MFCYG/60VFcs1slvmmEStrfLFX6VUUgkDMlUBntfoPLyfLkJcZoCJXlkhv3w207CsVw8TIEizHn4+WIBN6r4QW/L8mRcMsj2kv/270SQbU1f8oOBxCWLww+0ZJpkzz0RPKvUtFD1f0eNg0qFE8zf0ZbnArvymb8TCQeB3a+aKLYoihCID2Y4SLg5igiYPnmDL07yys/HEY84WZco9vbJ7m/nGxCmPNK9NW/uF96DAbw0KNXrlAiS9mTPIRZilToL1VF0iGUHiItUclkmNx5x9rJEMLe3XTIglKTXFgF8EVFxspzzkfOyzy+VNCQDx/JzNqRd4EnBN0eM0OGje5+gtmm7rQ5nCjm2mYagcBaqo2ARkYGKdetUnZK6usmPMysTAoNosUz8WI5tRJRlX9v57ZeKA85Dwvj2b/HF2Wnit7k+k848bjTHdkAYMX3ksX95c4UPPKCbntNqXrugyUTcIqKmhermoebZPFRH6lBpuWZn9+2r35HACzuGvvQftfvee0e2YCZFZSTENLXYk/2B7dnO3C+f4eGQkrp1cuLHY+WK5WrmzOnq7ZGjvOtz3bXXqzPPPkfXuUwKKmXDvCkRzsiz/E5QnaAWCn6C2qNnL+3Lm+TXr8vOI708+spxk/ELnaVLvtdWKXDOl112hbqw38X6gQz6VLOFiKt7UipAnKAWHlJR+p51lvcWL0d+gZD27n2c6tHjYHXAgd0z3tQXMmGhmk19Z6E6QS04bEGVyhvvO0fpwCc/1ldu1D5I2FyWr5TULQk11Ss38WOtS8QX7N9NGjdWbdq2U3vsubv3HoBs17EgBVVwFmoIJ6iFhy2oDHg8OejfascOHSJbpIf0pdp+vHWJ4Lc/mOFCgOY9j1SbdYz6JdcuU/jF757lzxC8rQgxzeQFdeQGRvnr1q2rLaJojvXxtsEhAuKzPUIg+0nY9M194zkzbnz2N5cF7YgfB6afqvM7hukExJTtqWtisIjVmEk4HsfBfsQRlhZEqq86FBEVCxXco6ch5NVuRWqsFzTychQqVDQn+K2L5kzs3wLLEY1UHGXRb3kyzkyv7QTEzfRTxe8YphMQVxE2kOOa22QCsVBF4M3j8Z7XVPBENOR7Fqr+X2RglZfUqaXDa3+q0Baqo/igkiXjUgHBiOeCJJl4/c4xHRcL0iOWKmImaYy3X1BwTI4lNxvCy1dU/0pGKEWRUHJUs1D1/yKDjGvYoKHuY+PRt2XLws++O4qDZCsxldG0aKTZaEKcfi4RRFzEJYK9j7hkkPNK14lISb74OYHtk82foODYiDr5RHjalEl6ectWbbSfLJ5ValioRTcoFbq8WlBXr17jvYiYkeD7/36f7q+KhrxM14YLY5PtguIIQ6Wmspij/Ezs3+//DlAyz9Es7mIxOXKHCGymIH6uudxs5FivD3tNXXrZ5bqMDB/2pup+UHe1xZ+qf60hFuiIIBaq9v/32696pblBocO5Nm7cSPU67GCdoYjqay//V6+zXytm/7aJVhhEaJ2fPZ9Kw/UoLW2ol5XWr699uRGyTvrQxErBiYUlv02XLH5xxHOZxO94+eQynUa55vhSV/lSwD1336XDnTrvp3occrAWxFQ10LRQt7j9jjtuw2Ljr1iQc23ZqrVavGiR+nzWLDWmbKwqqV1Lbfb776E7VS1Vu05t9XsoLE2Z30I3Hn77OWB6CxcOXy6crHN+dnzJ+1dCN8cFCxaEbpb11DFH91YtW7dWm2++ua5gXEvZPhHYNhmXCn7xpOPWr1+v84FwsSN5wnUv/3KOmjJ5irrlbzeobxYs0l1+d991t9px553D22Jhbp64tcz2m4XKlViof4SOU5RNfiATMPHnz5+vnyfGSgXmpe4Tumu1bdtW/3bUPJ5/7hndN07r4y+nnaXatG6pKjfGf9bcUbjwkMH0mTO9J+gQ0/vvf0D1Oe10/RtdSMaotK1ZsVCLcmK/n6g+9cQTatz4cd6zxg6Ho/BASDt16abOOOMMdfyJxyUloiamoIqFil+0n5EGyRQ5/1mfz1ZjPnhPzZv/TdZeouEInrIxH3gWKn1kfEPe4WjerLnq2u0A1XX//VTLUJkQgyoV0A4RUiAMRS2oIBkDkrkM1P1Usd53VN+Rv8hMjIv7XbLJZ6RlgCJTyLFT9VMl0fjj+YUO50mfOnWcOo/miZ8KYoyBCCt+0QsqmJlT7HlRCJxw/ImeoL498n21+x67RdZUXWvTuhDctS9czOueqlVqYmoGiFHm3tgfgookf46aC4Wc1kU8/MQ0HThuOn+O7ED9DkJMBRFRszw5QXUUNOvXVURCYaRSyQ3U/MsVyYhrots5wmQyrzwRjTT3dVj/dzgKgFyKYipUSXnVXzwS3S4dRLQL4U8gz+xlQeEsVEfBEq0pT0WSpwLxzScEo/0liohcsn+5wjxHv79CJsh896xSZ6E6ihEp+Kbo2hVMxM5eXkiY51gMf4IZDgIpR85CdRQtXsEP+VLBpOLJb4cjGShLzkJ1FBW2aIrviI7ZDVBT/zKJiKizUB0as+Al+5cOZjzJ/gWBE9PEkBuQ+ZcOZjzZ+sskZmvHs1AzfVCHw1E4OL3YFGehOhyOlHGiGsazSk0LNahmlMORD1CwKyrWRn45MkW4QV3cwipWaTUL1d1tHIWGvLEf6tUPf9YmkUdSHcnj9MOyUPV/h6MAoLUlloIgj57ayx3BUayiKiJazULV/x1FSbjRltpfOpjxJPsXC9lmfvmsyBKltt0u/OWFePs60qMY89cTUcNCLco39uca6bemEEp4zeq1qnzOHLVk6Q/q15/DX+jcsnZdLyywzBGb8887S/1UscH7zIWdjy4Pk6Nu7S3Vjh06qO1DNyfzfaJ+xBqTKSTRNc9TLFR8J6g5Qvr0li1foZ584nH9HaSKdeu0EPCmeRtzOWHgtyxPx0+VROO3/XSJFa99DH6DvV6WOxKHrx+cf+456qRTTtECUsxWP4JqNvWdhZpjENRxH41Tffuerj/XIZgCECschA+JbluTfBOWgSw3tzH3c0THzqPevY9Tzzz7jP4Ue7HiLNQ8gw8Dnnn6afqjgBTY9u07qu4HdFftdmin6tQJV/iSOrVU5cZfdDge9rbJ/k6FXBwTEo2X5eC3buPGDV4+m2HHppA/EydO9L7VBf2vvFLdc9+91V7YHKsroNCwuzachZpl5AKQ8Xyv6sg/9/LElM9YX3lGX1WrTh29TTUqN6IMm4Zt7HXxfoMsS9cXEv0dlG8SWfbLxo2qViirf7Hqtc5btoFYcdrbuHDYD7Fs6VJ11jX9vU8x33XH7eqGm27WYenCkiawUKgCazb5nYWaRUwhJdMZfHrz9dfV+Rec74npdedfpIUAqPgSjgaCsQlmJYDIb4RFBEb2M5elSqw47WVmGD8doh0jVvzmcm/bRAUWoq0rIp88W716tVpfv666uF8/LaoM+n02dYZq0aKFLueIp2m5FbK1ap4nUL/BCWqG8cv4P//5CF0ge/bsqd4b8p/ImhCRgmsLBL7DkUvkJsTNfsbiRerII3vp5bfecpu6ov/VOgxS3gu96W/Wa9NCdfNQs8iGPzZTX35ZrqZOmaSt09NPOz2ypjpOTB35hlj0+Hu13kb16NlLD1S9PXJUZIuwyIiQ2oZEISJWqYipDuv/joxBAZNCVnezP9TKFcu9EdNOnbtoXzfxaV5FEBF1YurIGyLlU7qjdt+to/bXVfzkiWehW6U2CCmIhQpOULOIFDisU8HuL3Ui6kgVWjRCtHAQaGvV4eEs1ByAmMZqBgVd6B3Fh3kzjhZOF4mrxBDVYrNMBRFRZ6HmkI2V1SeRy93eWaaOVEj2Rpz2jbsk/iyUYsETUWehOhw1GxFGuRHL73iCmfaN2+jrd4RxFmqOMR/jy/XdngpoOkd+54ekCWGUML4IpS2wkI/nUQh4VqmzUPMQJlCHyFbh5zh+x8qHyhctbblA0iLpMdNlL5PtTJcJosVtLjct0bStUgO/4xbDFCk/xCo1LVQ3sT+LUPDee/sddfSxx+qR/o8+/lTt1DD8dvmohV6eWAmQWQtWqenfTNvkeXYTlsuyn0NWdO06ddR227ZVe26zrWrRsmVGmn7L1qxWMxd9p8aUlan1ofhvvvAi1aJRY12JyR/xMwXHh/KVP6pXhw1T9UJ5f9WZfVXjxo31cjMNpg/l365Sn345Xj/zfsSf/6xOPqSXziNZn066JQ6eVCJtI0e+o3+TNrkWkp5MI2l56KXB6uZbblVdOndSEyZNqjYwVQzTqOybiLNQ841oFmoGhKt5o820WD7+2MP6EVjcgAE3qGHDX/fckKFD1FvDH1GDBw9WDz74gF7/j4ceCkeQgTQh8v9+caC6qN8F6sHQcebNK4+sCSP5Es9PmVD+L9ywXt344N/1G8CefHKQmv/Ngk3EFGwfcTnzkpPVpZddrkaMeEOtXrNGLzfTZO+TCLItx0ZMJW3kD2kzMdPnyA4ioqaF6gQ1X4iIVDasDKyaC088RZ13/kXenNi/nHaWfgzWdG89/YH6ZMQ7qvyTz/Qr2zLJ7ts1UTfd95Lq0+e0yJIwtkiIcEg+mX66grLvDjuqQXfeXS0NCBnEipt3MTzy6CD9bDuI1e83X9NMZzxfzg2w1J/9+4Pq4ov/GllSHfYxt88U2ThGTcETUdeHmodksw8V8Q65ho2aqNL69fUimrcMkInzrNCQjzCcekof1X3Ppmr5mlCNiqRVCCLNxLHZyjWqpG5JtQcfbORY+LbzKjvnEvoN0Xz7HLzzDdGkSdgqjYYplBKuU1KiGjYIfxBQ2GTAMXJMe6pctN9mGiXdJaHjxMI7vwyR6fhrIs5CzUciFXoTC8Cu+EERilfeFxoNs/LQd9q+U2/dXVCNUDxaAEI+24vT6TaWaVhm+LLcWx+BWRA80mjCMbSz8yeCKaYgaTK35zj81scTAbXSJBapQJPfE7gQ0cICabf7ozchcmz7vDWkI7TeSyO/JY2OvMKzSp2FmodEKs0mlUwqftAkEK+IEe/BhJO7HaibnmZFN61aLXghhyjNmrPEW6aJnB8DP8SHzzpfUTEw49PpCMUjx7HF0jsG8UecpFPwOx5pkfj1II/Byj9VryJidXL8z76e751nyS9hqxrr2n5ZNdsKHOvjr7/yBsDM9BD24ufcQunmN8cgD/5oWrxvyM9HxCp1Fmo+EhE4UyQyiiEyfujKHRGp96ZNVR9/OStcwSPLEZ/Rkyepe55+UvX72wA9ys2y2x97WL+EuN/1F+jlH8+epQWFdfeHtmXdCRedr/56++3qhXfeDh8sBo8OecGLj32Ig7gQGp2+CCJwHP+up57U27LfDfff66VBbxfKX0+sQvsTH4M9wz98Vf3zxcF6++8Xh28g0PS33yOhMMTDeV92+21q+LDX9H7kwZC3XlBrfwp/stoP8oe0caxHHvuXTtstjzykJs7/Sq+Xc5HrL2m7+r579TEGDXtF/f2++9TixUvCGxiY+ZBpslY+axDOQs1HIgK3SeWII3wpY1mo9F0iFqbbsvXWWrjGjh2jfvjhh8iW4UqFwP73lZfVo48+rEe2qfSIReWGSrXzzu3V+oo16qUhQ7V4vPrhaL1u1arVau8991QtW7XR+zz4wD1q7KyZkVirkD5U9vnvyy/r5v+Sxd/rfe7/+316ORYbaQTSg8gNGvS4ahJqoh94QDfV5+QTVGlpQz0iPvCeu8OiGtpO528oTxFlBP+zKdNV165dVc8eB6uu3Q7Q8Y0b+772bTgeN4Hb77xD9zkf3LOn2n+/rmr77XfQo+58ZNFG51Xo2Lc/fIdOG1OqSFvrVi112m4ccINOu5yLCD1C+uaIEWrnHdvptHEceHfUW9qPhneOGSLVuAtxrqqIqLNQc0TMeXnRLNQEmuYpYQn1hE8nautMnLamrr9BHXPeOVrIBKmwB+6yu+p97AneU18LFy7UA1fMjfxHaL+bbr5V7dJ+B73v088+p3qERIF1d1x+pbr80r/q+YuLlizVc049MQmBIAOfh2nerLm69W+3qOFPPq0GDx6iv2PE8Yhz8Dsj9HbsS/MZkevQvr266MRT9BxQ3K1X3KLTwMu8mVfKOev0h24SiDLfSLowdH4XHtlbHbjb7uq4Aw4Iz+1sta2O24TjIIzcBLghcB49dt9T9dptT3XWwYeqXocdHNmy+pxe0oagt2y5dbW03dP/Wp0HnOdbI0d5TX3A4v3P0Bf0uV92winqwB120sfpe1Rv37SZcG02KUOOjOCJqLNQ8xBL4LKBzJeEZUu+U8tXLNfu5+XTtUDisxyY2G9CX+qRnTt71uTee+2lenXZz+uDRHCl8mOVHr5PJ29d1x130h8kRBynz9zUQmU5Qoi4EScDQwgev/nKAes/LBur+xYBccWC7dHzkGri3H77Jqp7j8N0eNrUyeHtQ/n85icfazHtGRJCBtu0VRgRNI5Fev14fvBz6svyr7UIC9piC+3foX1Hb8aEQFpeGfO+fqE4DymYaeM45AFgEdP0F9Hmk+J8shnBFjgO+3TbP2ypRiPTFqpjU5yFmo9ELNFNKkMGhbZxo6pBDoQHqwl3w9UPeT7zK6ncPC1VjVC6zBFxpmDpfk1jO5rcwDQkxEDWsV+0qUkybapeaThtsg8+cRx95BH697y5X6i5S2brMOLK1zgvPL+v2qvn/3lu3yMOUW+PGK63oQtCth/17rt6e24CxOnlfegYpI002CB000LCyFxTLcIhEEDTGpRpU+aglLzR/vDTTtokbS+/PFSvw1Jftizcb4tokzaEk7RIedDHCjm6DWLB9pm0UJ31W4VnlToLNTfQj1SnpPoIsM0mBTZTTX4rXvoEERcc1qd2IYsSy/Avh3fwLFRP8H3SZVpg8ag0hNcUYZBuBBvib79zey24iA4Wth6dD1nRWLSI/3tDX9Puxcdf1f7Et99T30+drsM0tek7XRwSMNh66609iy6eUEycOEELnz3XNNYNj2ORNixXSY/pJG1fjP1EHft/B+p9ysvDT4ghnL83a6rDySDnkykyGXdNQ6xSZ6HmCPpQ7feh5owYQkCl0S4idJ26XKCO7RZqnoZENNcWCjckaVqbVjMj7I23aKpvAtwUaO5Xu0FEuht4Ft6e4xoPpiuZNwCB/LFvBn4wWMX83U1uWCEny7hZIMB+JCNibJvra1RsOAvVkbDli2CIOIHMn8wVPJEEWKlYmJW1wjcobbH+b6W/wIVuHjLVCtEVmLkgYhVPtBgsw3KONTUqGuz36ddfR36FjyVOsNO9yfSoBK9Xpi1URxUios5CzWOyVhksC5W3O5lQMc0mvLagQmLK6DifEU4HEedUWLNqpRbP9u076oGvtnXref2tZWPHVJtOZYJlymAU1C9toP3pM2ZoX2A/O21M7OeRWPp8pauBl6jYiNAjnuYov6RtxJvhvlwbjkl+jpwyRf/20jZzptp8xUod1sRoUZhQfjJpoTrrtwpPRJ2FmhsS7kNNsPJkFNIQaeJT6bGgmFxO/yMiRsUV8aEJjoiIlSWCVlGxVvuCKXTmN4kShfjLI2+hYoScZjyuffv2ehlzYpkfy3YcSxwT/nnlXeXGX9TuHVvpOaCII9OvZHQ9GiJqzCDYJrQf3P/3BzYRbnlSyoS07dOpi3csEXRJF44+4Bdfekn9+vMGvT0zDNiemQGmVStUVoanlUWD65XJm7KzfjfFWag5ImYfqimiCTbvUiZ0LPoFGdQxJ6NTwZnMj9OEtqMC0Vx+/p0RejoPk/b9YGTbFBjEVkb5mdAPZrPW7pNkX/PRSkblQYQHx9NGjJozdYopVMSHYz4sg1JYh9ddd41+nR6T5RmZZyL+3275m7bATz3kUB0n82URR7ZnjijbAueJ6DEnF5Yu+V4LNMv5Fr1MwZJ5sDJti/U82MCgFcya/aU+NstPPvFE71hm2nD6IYGHww8JyKDUkUce5W1/29+u1+lZ9OvP+jzZhxkNML98lnpzwjh9DJNMW6iOKjyr1LBQt7gthA45Mg4W6uLvF6sXXnxR1a69pTrnnPNV04gIbfFr+IJoENfIBcoEy35coUaNLVNDhv5HlZeHH338Ycl36usflqmPx45VEyZ8oj76bJJ6NxR+O+Se/s9Q9dKLg9WPoabvOWefpQ7at6uaunCBeu6V/6gPPiwLiXKoCbzZ5mrr7dqqeiF/fUikXxj5lvrw/ZFqxcrVau3qFaq0ZWvVOiSyGxGGaZNDxx6qloQECMusVqOGartmzVX9LbZU3634US1dulh9u+BbtWjVKvXLFpupL7/9Wn0yfap67a1XQindQv3t5ptV+23bqv9F8mjXdu3UT6Fw+dwvdZN8TEh0PvpojCob8756991Rav9u3fU8UN7UxD47t91ObV5aqhZ8M09NnjJNb/tF6Hivj/5AffHlHLVq5QqdtkYhS1FtXku12G47tU2TpmrfXXdVK9ZXqAULvlaj3ntfTf9yipr1zbdq1Edl6ss5c0MCvFj9/MuvqkGDUtWwQX216/Y7qF327aS2CJ0Xx/pmwSKdtrdDYjx69HtqbNmHqlPnLur6c89TDUN5g2i2a9Va1W3WQs2f94We8/rBB++pr776Vr0fEtbZX3wRsvrXhY6/IHScn1W9evVVm9ANjrTBFhGHqOJngv9FLNSJn8/U59K6VSt13gUXaGPBxl4W88GWGshmm4ftUbFQ//j9d/fG/mzz7ttvJ/fG/gzw9cIyNXLqCj3wIX2nWElM6hfaNftFfbOilvaXVW6lWpT8qNapbdTpx5ylB6l4ZPTTSRO9J5uARzGZo0kf46SJE6oNrOyy625q73b76NFu3g3w5RfhOaHQunUr1WOfQ3W8QDOc/lAeLqhXv4FOG7DdKQcfppvGprUrYM19PH5CSJDDj8nu2G47fVwsUyxccx9+Y/HxpJY8XID1fUhoW0R+6tRpqlOnfcIPKESOxz5YhFinc8vLdfcHVvhB3bup/bp20wIJe+25l56U713TUPp5/JY45cXQPDn1/+2dC5BVxZ3GWwjrqhiSYHzgKq4xUSktXVDXolwrWQ1IfJBCwY1iiIpgbS1KEFFJBE00DzQq4AuCZpOoQbIPE91oIAFcRS2FBFSEQYOiWYIgREQBRXTP95/zHf635947d+Y+5s7M96u60336dPfp03f6u//T3af7+OOOy154YNlwDTyhzH0RgtWCsqWP+t6tFsi/pSv2I6wjCSrvkdBClaDWEHwJjycW3akDvtxUUNOGZEBAqv3Y70ADAaU0QsYFcSMG6FvE436WV3ovjIeBrZzzKU3KkKSDUOAxn1OOrI4SvDASS5cKLx7FkQbTkhgWp2F8hKPMgOViWZnWvgv43ffjH7UhajnfHSjw/XGWRHY/rm6y64L0eoiPNWjxY4P4Jp5pPWRp/f9OQk4+FQZ5Awnqx5llmuOm50UNwD9UwT5U3wC9v0qwYXjyhRWD8X06CEUO0b2YyCUgDT8QjSYCkKSDUGAQCYJl55MwE5TEz/j0WxnSa0F8TOQSTEiRVxrPx6c4IS6vgXC4BvLDx4spSPxMY/cTncs5juD8U7tGGo/X4/WN9ByuYWKKc7gX4K7BfJgup/yiqmQDUa4PtUtsuorqgbpubpTfoJVTZUxU2ICLwHilxCUQScanYDIP+GkVwk8R9nEMCkcqHoBiwXxiP+JmFltaj8wvdkGOSCVYPkjnvwN3/SyPJF2Wttj3FZ3LubYrD/2sA2DhEP00zN+vkeTt09H16UX1oYUKZKHWkKIWaoEGXC3Q8NgIiW+MxYjT5YNWGPKjVeqv6c/TjWFYvnPMB3i/xWX9JS7O8bx3c8Li+sYxPnmEMl8eTdKn+LLwHrI0CXFexeIQxjWSvP35OH2cthJUI8/2SmaVegu1I/Vr1DtFLVQ2ymLWThVAA+GHxzE+jo/nj4E/R7y/GIgHQSgWn4JB4mNQ6vVAs3ELCGWp+PwLXYv34O+dYTj2/uYoJU655KvzzgqtUlmobURRC5WU2YgrjW/whUBDZmMutVHH+eEYaZtzGRcwHNDN8D9MNf6RakKRsvCe6IJCflGfqA+1jai3PtRSyNfgKwHyi8UydvPhz3l/Fp9153+YnB9p8PHEx81SRCDzUqAson1DEc2xUPXIXzvqqQ+1XDDQxA8EKXYzCggO4sRi6F3mEYfxOPZn+LpLr43z/DCNL3tJFPp+SvmufNoC9dFeYP2JXY/83kLVPNQaAgu14DxU/y2g0dW5qPLlgFWvrLZJ/3gJgJPwMQEfC05jm+oen+wRDuh+0K65pMl9Utiac0GxsJb64WIhkjWvrbZFprFgNNYlbTL/tBa0g+84H6gjoHmou/5RaKGam4aJGlDUQvXUYUNjQwLwd+9xrC32vGpVQ/jObf9hG/JhdXy8eYVVnO5/4P5w4w3Xh/OGf812LMXCKpgqxXx8fiQWNe/3QpfvfOZPhCr2A7i4/tKlfwi3TZ1q5eW795hm5fMqCETQu6Xi49PfDsVU5EKrNKcP1f6KmlC0DzVfo6sjYrHBhHPs93TF2LF2DIu73/H9w7Rpt4V7b7ol/Pb+X5j1N2bM5aGhYUW48Xvft62dOf+UeMHzopZP4BDmH9Nx3vut3pxQcQ4nQZkvGTUqjBgxwrYyAXgLCfi8CsK86Zb6PUk8OyR85KeFCiSoNaSoheobXR02wFhsOKmdPxBYHYlw0jsepSf/2+XhrLO+auF+t1JPPuFsInCJeOE1VOy5b6KcillO2qTesjQFxA5rm+alBHFsknf0PcV1lFFC3u2F+LsSslDbjKIWqqcOG6BvSPDbY3Iqqs2Bfe9pEXL5uRyS+2WeJBYnvDuPpe6we6l/vdXHo5/5tKjxJ+Jo6VzdM78mQkkhRVwXn9drkg7xGS8S4fZGk7roxFBEZaG2EUUtVNcw20WjSwWIK9XHbOrWuIAcRHff/XqZH3BbakDhw9qhDy1ZbC4arBdWgLBbf/5Ts3ABLFQIrMWNhT754JytOfrisiy/QuLa5TON5URXAtKwDPw+eA0LA0k4/C+8tik89OSTliaOT5fXRFzk++zaPzfGS/MQ7ZtMRGWhtg1FLVRv9XQAPrNjp7kQszfWrLaFrNHPetjhR1s4mPmfc8J5Y8faavrr31xrWyh/adjZttQdgfBc8cMfhFn3zLRj7L+Pvtivjx9ni15n9ZW4EK6LJk1s3KZl2dIw857G/KbMmmH5xBY1dhrY56OPrBxDRo8Moy+9JFw25tJw5sUXmlBS2CmOOEbZLr12Yrj13pvDfffdFyZMGGfxkQfLwrgozznfHGuLT2ObaCxpOPD8r4Ux11+X5Q0kru0bWahtREmj/O38kTDuo4SIYZV99LHic+7QIRaOtUsnTrza/Fh9H7uqDjrtNFupHyvbo7+UonPB8OFh5MWjzI9tnEclAvatayZaGuQPQYIFeMG/DrW99r8x4sIw4vSzLB4EeMpNPwyTpt1m6QH3zYfIQ3znzpsf/uXcc8O4ceMtfMGCBSbGsHQz4UvEEmI6696fWDm/edH4MOHK8eHikaMt/p23T7UV+BGf4j3+hiss6ZBThtqK/FjLFeuaPrFwnoVbvFSseVzvsKxCo/xtTnvuQy0VbmMCYcGjOaxL7I8ERo++NNvqA8IEgcVCy/sedaT1i2LffFiwWHX/6ZeezCxKbD+CTfIANr3D4s0nH9W4uDKA+F6TiHPf4/7RROvEwz5v5xDvjLOG2HWwUDPK47dZQXjv3r3D5MsnhdFnD7PPt7492c4tee4p2/4E4F6wxiqmgZ3xlUF2D1hW8ITPHWZpsCULVtf/9cOPWJkRHz8Yq1YuD0cn98a1TFEm7BzgrXQQCymP68X15AvrrNAqlYXaRnSoPtQ8YJ+ja6662h6J8Wg78Lxzwi8e+JntkfSjm6aYmJB/OqandQEcfVQfs2ohOABhYPWfVptLsH0JwU6kZpkmH+x/hUfq5xYvsb2ibJI+8krrENYtBO+UL33RzuFa3JUU1xo06PRM8PA5otdRtj8VrNdXX33V4oH7H/6ZzVs95ph/MGHGtWHBwo+N9QDuHzsZ+P265s6da4LP8oIBX/7nzE/yCRWtQbg4749r5UpAm0cWahtRUh8qacdWKsCjLR6H77rzbpuPCkvOj85PuOzmsHzhovCN5NGc4oTdSbGtCIFwNsf6F1eYaGEWwafSvZV8XZ7Q6+/Cb2f9JIwdPiINyYW7lVLg8EYXt34mOIetS2DRoo8VPxQnDDrFXHwee/Rhuz7SrVu/wUT72GP72lbXEHq82ACLFeKLOsA9x1DEPBQzL6Y+rBZupUQVxkRHgyIqC7WNKKkPlbRDKxWPsj+YcHW4+7vfCz9KLNUxQ4aFof1PzhFSQHFAOERm9u9/Z/NLuScTydmXvgDL/vy69buib5VAALwINCcItI7zAWsTr6tiB1SI5s/v/GVYumBR9nn20d/bp2HRs2HRr/8n21kV3RTol0UaiOr5F3zdBtNgreKeY3wZWT8UMy+m9JM4DqlUOMgXJhotU7qyUNuAkt+UAu3BQs0j+v5RFg0UnxiGQUgxWr9w4XzrDrjyqqtsz3zAzQPz0fPDj8yFEG59f0fY/M6W7DXSGC8SdDkoBThtytN970+mvl1AtNG3C3CP/AAKMo/p4gflmonfti4EgGlfGDjDJoX5RJyiBuj6sLby0xX5kYXaRhS1UGMBqXML1RpZHtEvZu15sLjGuHGXWdcAXlVl/2ZL2XP3bmad4nF8bbrbqQfCQDDXNOajTY3Tu8CG0CjUAPkRdAuwG2Dl2sbdWv19UkCBtz5RR6POHmZWLQbkYK1i8GrypIk2h9XnQQHz5SWx0AEft9p+uiKXzCqVhdo2lDzKD+rcQrVG1krRh+hgpSLMAz3zK4PS0JZBMcK21RQ7zAtF3jmintQjxAGDRQ0b37JHeA5KeZCmx/YPwltduoR3t7yThjaCflVarQ/+8r/yPrIjPa4xZ/68zI/He4AZAdMnXxemTLnZrFVYunfddYed86BOUdbYHwsdKBS3Gn66IhdapbJQ24iSR/lBHVuoaGD8cFCnGGicHvR7EjyyA4gQLD1vGb7Xfc9ccUzxgoYpV337HW9+PFJjVSvOH2WeM5Iw7HF/eM99mljBEEuC+Jjoj8d7sC1Ji/iY7oSRfMwKiK+BWQZw8SLA7DkPhv33399Eu2FVQ1j4h99ZPIByYFrYlCm32HEs2iQWNbo+LD6P42r66Yr8yEJtIzrKKD8aGAXrL+++kYaGsGXLZnN5zvxJXDROgmOsjwpgqcGqhBhh0jy6ATD1CGBZwFdWrrQJ++Cg3oeai4n6v3rqCZsRgDQY5cfUKKzLCaZPn2qDP9ffPtXekMIULrxYcGL/k0wYIXbvJ+KGKU2Aq035x3b0yYI9kntAfDDk7HNs1B7gGnghAPnfPm1auOjKceH6737H5rRijipFe/aDD9qPB/JmffD7HzBggLke1lM+AfNh8fn4nM+nEn66IheKqLdQu16XYD5RdWChrnxpeXhg9uyw++7dwoUXjgw904bWZGgk/bLqCTQslvN/G1aEf58zO0yfdkvYsLHRYty0cX1Y+fqa8PqGN8Oe3T4ben1qD/th2OnuZWeSxz6f3iNsTERmyZLFoaFhZXj88flh09vvhn79jgs9enw6LF/+fBL+cnj5lZfDSf37hy/0PiTseO8T4Y8vLQ4rV70Sli1dEl597Y1w4IEHhCMO6h0OP7h36Jm4b721wdIhzyeeeDKxShcm9fw34fKx48JXTzrJhO2/H/tNmHXPPUn618P7H+wI695+M2xPynTAFw4LTyflmTprZlj01DNW1nVr3wh77dUj7L/33k2u8fwLL1j+c+fNCx9+sDUMHTosjBw8xObLdk0a17KXG8Kjv3nEFuBen/zQrP3rprDoj0vCjB//OAwceFoYd8GI0D3Jt+uOD7M6pevruaUgLcUQeeBDP+qexy2JAxfAT555fpnd/4G9eoWLL7nE/rdj8oV1JHbr0miPwqW4asX+GgILteCK/RBWb6XCQq3jx34M8MD6wrxLrMwPtm3/wNxDEksNj9cYaMrXGAEe29HfCME5KBHGE0/sb284IRwWKCb29+vX1yw+1A3E8JlEYBcsnG/p+xx5ZDi5z9HZlCxcB4uPrEys2peWv2izBPDSAOaD4o0mWqDo18TAEsuKsu+3X3L95No496eNq8OO97faeX8OoBx4Ywpvcf0leZTftnVbOPRzh4YjEsuVcQDKwvpBlwYGzja/szmsW7fOdjIY2LefbaMdixX9lYD5xW6xc825TAtaumJ/R4P3CGihwpWg1pjHHnkknDF4cFNBbSffgm9cRqGuiTw/BmyMBAKFPkYT3lQ06UJY+Wopw5En82BD936Lk5AvPWGcDJQzuQfGaXI+Jed8Wg5/DZBzHdQR6yatC4isxY/uo9JYXaT50l+uS3AMJKgf5zzq00K1XU+92orqgXpu76P8vnEBiIgJCUQjFY4YNkKQ0ziTdF5MjTQPCg+whh2Jlc8za/QQqiQe8jMLMPHH6YAPQ1qmIXE67zeS7wZ5oYxxXMJ87R7S75JlYnqWp9L4fOFn/bTU9SBM5OLFlH4NStUQ/GJj/VC+r/7eu1sKWkSFxKkeYOOiy0ZooNxR2dk448ZKFyIDvz9PkaLr0/g8QBN/en34eQ4u0vl86Qfx9Yz0XnLywPkkzO7XXYfpfFz6GQ9YmDuuJlbGPFh5Wc9RXXqKxcEMCNKRLdFS4OO++e2vqAmwUPfq3viKJKYHYffNgtSphQrYuODGDQ7+UvDpfFr6Y9fjz+U7H5Mvrzidj8MP76VYuRiPx7Hfu7UmXxkLlcWfz+f6OGDNmjXmcn5uZ3zSpYg2sVA7+y9MLeA/W58+h2fTbzBJ3IN/WANiWiMrphKwkQHvj/ENEsRx/XFWFxUkFgcQl8dfl+eaKxfTxfHypW8L8pWlVJcwD7gYvMN8XDxpYRUvQoHpLGQi6i1UiWltQIWz0rFoBsCam5iDaaQWKf5hTUxbYKFamjzUKryQC3wYGySPi7lxgy4X5Mvr+7z9df05H+7dQvfgwz0Ii+PXivh6vhz8FDsmmT/5n8RA3Mw5M+0JC2+6nX5m4waMgAJDOovF6i1UjfLXiJ0f7ghdP9HN3DfXbwinnfpFe68b73fjlUROASrYpyo6NvwRLdf1eVUYzMjAqmAzZtxtx1if4I477zDhzCy0VFgoMh3VYOM9+/sFEtQaEP9So/Kfe3ZxGDVyhIkqHp2w1TJ2Bz3k4N5pLCHqB+zRhR1rsd0LGH7+eeHWqdMTIyB37Vj8r3eGp17fpimscCWoNYCVjwqHlcp/umeeejpcO+la2yLEv8POWQBCtDX+/xLgiQrbytxw440mpnzy6ixCSrygAlmobQz+EfGrtvb/1oaHf/WQbRSHRYy5MAfgO+VCtCVYHnG/XgfbUounnHJqGDz4DAunkJLOJqjeMpWFWifwH/Ltv24ODStWhO3bttmxEPUC5k7vs+9nw98f0jtHRDuTgMbIQm1ndNZfflF/xOKh/8fcOpGFWqegGwDQCsAXtL1rNwsTnY+/3bnDvn+6zRHHL9fdc7ePw9aPd7NjCIans4sq2yfrRRZqnYIviv+ssWUgRD0gC1UWaocgFlv5O66/GKWmwblyia/DPEspZ0cmrltZqEII0UogqN4ylYUqhBCtpJCFqtWmhBCiDGihAgmqEEK0gswqTR/3zW9/hRBCtAhapd5CVR+qEEK0EPWhCiFEBaGIykIVQogykIUqhBBVwFuoElQhhGgFmVWqUX4hhCgPjfILIUQFUB+qEEJUEIqoLFQhhCgDWahCCFEFvIUqQRVCiFaQWaUa5RdCiPLQKL8QQlQA9aEKIUQFoYjKQhVCiDKQhSqEEFXAW6gSVCGEaAWZVapRfiGEKA+N8gshRAVQH6oQQlQQiqgsVCGEKANZqEIIUQW8hSpBFUKIVpBZpRrlF0KI8tAovxBCVAD1oQohRAWhiMpCFUKIMpCFKoQQVcBbqBJUIYRoBZlVqlF+IYQoD43yCyFEBVAfqhBCVBCKqCxUIYQoA1moQghRBbyFKkEVQohWkFmlGuUXQojy0Ci/EEJUAPWhCiFEBaGIykIVQogykIUqhBBVwFuoElQhhGgFmVWqUX4hhCgPjfILIUQFUB+qEEJUEIqoLFQhhCgDWahCCFEFvIUqQRVCiFaQWaUa5RdCiPLQKL8QQlQA9aEKIUQFoYjKQhVCiDKQhSqEEBWEIrqLEP4f3h8CSr0AV+8AAAAASUVORK5CYII=)"
      ],
      "metadata": {
        "id": "CZbKCPiQ2byH"
      }
    },
    {
      "cell_type": "code",
      "source": [
        "class TransEncoder(Layer):\n",
        "  def __init__(self, N_HEADS, HIDDEN_SIZE):\n",
        "    super(TransEncoder,self).__init__(name=\"transformer\")\n",
        "\n",
        "    self.norm1 = LayerNormalization()\n",
        "    self.norm2 = LayerNormalization()\n",
        "    self.multi_head = MultiHeadAttention(N_HEADS, HIDDEN_SIZE)\n",
        "    self.dense1 = Dense(HIDDEN_SIZE , activation=tf.nn.gelu)\n",
        "    self.dense2 = Dense(HIDDEN_SIZE, activation=tf.nn.gelu)\n",
        "\n",
        "  def call(self, input):\n",
        "    x = self.norm1(input)\n",
        "    x = self.multi_head(x, x)\n",
        "    # Add layer takes\n",
        "    x_1 = Add()([input, x])\n",
        "    x = self.norm2(x_1)\n",
        "    x= self.dense1(x)\n",
        "    output= self.dense2(x)\n",
        "    x= Add()([output,x_1])\n",
        "\n",
        "    # return output"
      ],
      "metadata": {
        "id": "j3WB9VnbQjle"
      },
      "execution_count": null,
      "outputs": []
    },
    {
      "cell_type": "code",
      "source": [
        "# the vit model comprise of 3 dense layers -> 2 dense taking in dense_params and 1 dense for output , with that it also has patch and trans Encoder , transEncoder repeats number of layer times\n",
        "\n",
        "class ViT(Model):\n",
        "  def __init__(self, N_HEADS, N_LAYERS, HIDDEN_SIZE, N_PATCHES, N_DENSE_UNITS):\n",
        "    super(ViT, self).__init__()\n",
        "    self.n_layers = N_LAYERS\n",
        "    self.patch_encoder = PatchEncoder(N_PATCHES, HIDDEN_SIZE)\n",
        "    self.trans_encoder = [TransEncoder(N_HEADS, HIDDEN_SIZE) for _ in range(N_LAYERS)]\n",
        "    self.dense1 = Dense(N_DENSE_UNITS, activation=tf.nn.gelu)\n",
        "    self.dense2 = Dense(N_DENSE_UNITS, activation=tf.nn.gelu)\n",
        "    self.dense3 = Dense(len(Classes), activation=\"softmax\")\n",
        "\n",
        "  def call(self, input):\n",
        "    x= self.patch_encoder(input)\n",
        "    print(x)\n",
        "    print(x.shape)\n",
        "\n",
        "    # iterating over no. of layers to make each transformer have the value generated by patch_encoder\n",
        "    for i in range(self.n_layers):\n",
        "      x= self.trans_encoder[i](x)\n",
        "    x=Flatten()(x)\n",
        "    x = self.dense1(x)\n",
        "    x = self.dense2(x)\n",
        "    return self.dense3(x)\n"
      ],
      "metadata": {
        "id": "olVyP7dsLc4m"
      },
      "execution_count": null,
      "outputs": []
    },
    {
      "cell_type": "code",
      "source": [
        "vit = ViT(\n",
        "    N_HEADS = 4, HIDDEN_SIZE = 4, N_PATCHES = 196,\n",
        "    N_LAYERS = 2, N_DENSE_UNITS = 128)\n",
        "vit(tf.zeros([1,28,28,1]))"
      ],
      "metadata": {
        "colab": {
          "base_uri": "https://localhost:8080/",
          "height": 1000
        },
        "id": "XhsnWJTW_x_o",
        "outputId": "8f20ed0d-6574-4863-c0dc-42d851ac2c51"
      },
      "execution_count": null,
      "outputs": [
        {
          "output_type": "stream",
          "name": "stdout",
          "text": [
            "(1, 14, 14, 4)\n",
            "tf.Tensor(\n",
            "[[[ 2.46722363e-02 -4.78543900e-02  2.65546702e-02 -3.70242000e-02]\n",
            "  [ 8.10752064e-03 -2.35399604e-02  6.08699396e-03 -5.78790903e-03]\n",
            "  [-1.95753332e-02 -3.72129194e-02 -4.44980152e-02 -2.19360236e-02]\n",
            "  [ 2.82802694e-02 -3.41343433e-02 -4.30704132e-02  4.80217375e-02]\n",
            "  [-3.78372781e-02  1.29825212e-02 -4.53786738e-02  4.97669317e-02]\n",
            "  [ 1.93108954e-02 -3.36994529e-02  3.58836092e-02 -4.62893248e-02]\n",
            "  [-3.12280655e-03 -9.61087644e-04 -4.64068651e-02  4.74816561e-03]\n",
            "  [-5.26065752e-03 -1.81562901e-02  4.82123755e-02 -6.25163317e-03]\n",
            "  [ 2.00706236e-02 -3.32737565e-02  1.48665346e-02  2.58289687e-02]\n",
            "  [ 3.29027511e-02  4.72829454e-02 -1.09474435e-02 -2.22409852e-02]\n",
            "  [-1.66872516e-02 -1.36917830e-02  4.82322834e-02  3.49358805e-02]\n",
            "  [-3.81535776e-02 -5.65290451e-03 -4.26989906e-02  1.15913041e-02]\n",
            "  [-1.63942091e-02 -4.72208150e-02  3.88819836e-02  1.54578127e-02]\n",
            "  [-4.65101115e-02 -4.11122330e-02  1.28479116e-02 -8.65650177e-03]\n",
            "  [-7.18054920e-03 -3.03320643e-02 -3.92115489e-02  6.95126131e-03]\n",
            "  [-4.34972048e-02 -1.74025297e-02  2.29815394e-03  2.20836438e-02]\n",
            "  [-3.76335494e-02 -1.26706362e-02 -4.53442112e-02 -4.50112820e-02]\n",
            "  [-4.53105085e-02 -2.99160369e-02  3.16739418e-02  1.47789381e-02]\n",
            "  [-4.62688580e-02  4.06226180e-02 -2.25515123e-02 -3.79769914e-02]\n",
            "  [ 5.64020872e-03  4.60539125e-02  1.73068754e-02  4.57425229e-02]\n",
            "  [ 2.10273750e-02 -4.44647186e-02 -1.38055906e-02  3.22238319e-02]\n",
            "  [ 2.94220708e-02  4.34555300e-02 -4.40560281e-04 -4.41532135e-02]\n",
            "  [-4.03132550e-02 -4.83733416e-02 -3.17916647e-02 -8.48554447e-03]\n",
            "  [-4.26130891e-02  1.77869312e-02 -4.83447909e-02 -1.11590251e-02]\n",
            "  [ 1.76343359e-02  2.06260420e-02 -1.84384473e-02  3.52174304e-02]\n",
            "  [ 4.82923724e-02  6.49400800e-03 -3.95015590e-02 -2.77988072e-02]\n",
            "  [ 2.84651779e-02 -4.11232933e-02  4.57827710e-02 -1.26057267e-02]\n",
            "  [-4.66877706e-02 -3.35907713e-02  3.59534957e-02 -2.65573394e-02]\n",
            "  [-2.00391170e-02 -1.12737343e-03  1.17660277e-02 -4.39960621e-02]\n",
            "  [-1.04435682e-02  3.30389403e-02 -3.52673605e-03  4.32114266e-02]\n",
            "  [-3.81780267e-02  5.18666580e-03  4.71439995e-02  1.46728866e-02]\n",
            "  [ 3.47465314e-02  1.65060498e-02 -2.63440143e-02 -4.77905646e-02]\n",
            "  [-2.73993257e-02  9.84817743e-03  3.79636027e-02  1.29673593e-02]\n",
            "  [ 3.57884206e-02  4.45576422e-02  3.99111025e-02 -1.73193440e-02]\n",
            "  [ 2.00734474e-02  6.67165965e-04  4.11902741e-03 -4.88708131e-02]\n",
            "  [-1.07180588e-02  3.70693207e-03 -2.18355656e-02 -1.13570690e-02]\n",
            "  [ 1.77564509e-02  4.62249853e-02  4.57035787e-02 -1.31500140e-02]\n",
            "  [ 3.02952640e-02 -1.70452818e-02  4.92035262e-02 -1.71125904e-02]\n",
            "  [-3.94973755e-02  4.46320437e-02 -1.22549385e-03  2.24160813e-02]\n",
            "  [ 3.51205207e-02 -1.30208954e-02 -5.23216650e-03  7.64943659e-04]\n",
            "  [ 3.49595658e-02  9.67942178e-04  6.22378662e-03  4.88959067e-02]\n",
            "  [ 2.54417993e-02  4.84727137e-02  2.02585347e-02  7.01392815e-03]\n",
            "  [-2.46970784e-02  1.36889555e-02 -5.75681776e-03  4.36115600e-02]\n",
            "  [ 2.57007740e-02 -4.94296327e-02 -2.58664973e-02 -2.32666265e-02]\n",
            "  [ 2.63084807e-02 -1.60255432e-02  8.23714584e-03  2.17721201e-02]\n",
            "  [-1.42110810e-02  1.89591087e-02  2.93199755e-02  2.54450180e-02]\n",
            "  [-1.69073455e-02  3.30155157e-02  2.16285922e-02 -3.58206257e-02]\n",
            "  [ 2.14877017e-02  3.45002897e-02 -1.21841915e-02 -4.73884605e-02]\n",
            "  [-1.14809982e-02 -2.14986093e-02 -4.96544726e-02  2.95147039e-02]\n",
            "  [-1.07085221e-02  4.90900911e-02  3.84264849e-02 -3.26923281e-03]\n",
            "  [ 5.63644245e-03  4.80081923e-02 -2.34506279e-03  3.10425647e-02]\n",
            "  [-2.95761824e-02  3.12958620e-02 -4.97441664e-02 -4.30983305e-03]\n",
            "  [-1.93210002e-02 -3.16681489e-02 -2.09505446e-02 -3.96591537e-02]\n",
            "  [-4.54648398e-02 -1.89431198e-02  4.18441333e-02 -3.52284089e-02]\n",
            "  [ 4.25282009e-02  3.27545069e-02 -1.34368911e-02  2.85702236e-02]\n",
            "  [ 4.67518717e-03 -1.92070138e-02  1.18992701e-02  1.50338076e-02]\n",
            "  [ 8.85999203e-03 -1.41461864e-02 -4.04751189e-02 -6.29465654e-03]\n",
            "  [ 3.11507024e-02  4.81601991e-02  4.51951362e-02  1.93211474e-02]\n",
            "  [-3.70935425e-02 -1.89519282e-02 -4.07871008e-02  4.08745445e-02]\n",
            "  [-1.01521611e-02 -2.54869461e-02 -2.60101631e-03  1.81980245e-02]\n",
            "  [ 2.89166011e-02 -2.99700499e-02 -1.18699074e-02  4.08693589e-02]\n",
            "  [ 1.15712062e-02  1.28801130e-02 -1.64236426e-02 -4.82673310e-02]\n",
            "  [ 2.89863236e-02 -1.58502236e-02 -1.90337747e-03  1.30404159e-03]\n",
            "  [ 4.36377637e-02  4.16389443e-02  8.55952501e-03  4.19583954e-02]\n",
            "  [ 3.38575989e-03  3.42363231e-02  1.69986226e-02  4.00377624e-02]\n",
            "  [ 9.52088833e-03 -3.37445624e-02  3.68611924e-02  2.60722637e-03]\n",
            "  [ 3.13986428e-02 -7.96953589e-03  1.60984136e-02  3.70893143e-02]\n",
            "  [-1.99314244e-02  3.78737561e-02 -4.29737456e-02 -3.37458849e-02]\n",
            "  [ 7.09235668e-04  1.71728246e-02  1.49859451e-02  1.91199817e-02]\n",
            "  [ 6.38798624e-03 -6.83406740e-03 -1.43794529e-02  4.20107134e-02]\n",
            "  [-4.14495952e-02 -7.27738068e-03 -2.19701175e-02  1.35065354e-02]\n",
            "  [ 3.28242779e-04 -3.48090529e-02  4.76403125e-02  2.14076042e-03]\n",
            "  [ 3.43021266e-02  4.21713479e-02  8.21976736e-03 -6.12759590e-03]\n",
            "  [ 9.12954658e-03  7.60756433e-04  3.48707177e-02  6.88723475e-03]\n",
            "  [-3.06728017e-02  3.38353403e-02  2.68017985e-02  4.80149128e-02]\n",
            "  [-4.69272621e-02  3.20701040e-02  3.17473747e-02 -3.68175022e-02]\n",
            "  [-1.88259482e-02 -2.48619318e-02  6.14743307e-03 -7.13758543e-03]\n",
            "  [ 2.57830881e-02  1.62585117e-02 -1.36981495e-02  1.28025748e-02]\n",
            "  [ 2.57117264e-02  6.68583065e-03 -2.55215056e-02  1.72200240e-02]\n",
            "  [-4.74699400e-02  9.29533318e-03 -2.88274419e-02  4.50166576e-02]\n",
            "  [ 8.88789818e-03 -4.98454347e-02 -1.24936700e-02  1.75296552e-02]\n",
            "  [-4.85934317e-04 -2.20936667e-02  2.84428857e-02 -3.62929814e-02]\n",
            "  [ 1.83490776e-02 -2.42531653e-02 -4.03230786e-02  1.24224201e-02]\n",
            "  [ 2.96982639e-02  4.20459174e-02  1.42287463e-04 -2.83137690e-02]\n",
            "  [ 4.48412187e-02  2.14569606e-02  2.28848346e-02 -9.36361402e-03]\n",
            "  [ 2.91595198e-02  2.17668153e-02  2.28715576e-02 -4.48279269e-02]\n",
            "  [ 1.94310434e-02  3.35063003e-02 -1.67367458e-02  1.70094855e-02]\n",
            "  [ 1.09135620e-02 -2.93172244e-02 -4.20782343e-02 -3.64849344e-02]\n",
            "  [-1.55221932e-02 -3.89824063e-03  9.41621140e-03 -6.46128505e-03]\n",
            "  [ 1.43572204e-02  4.86350544e-02 -4.38376553e-02 -1.70189030e-02]\n",
            "  [ 1.95344724e-02 -4.13262472e-02  4.19163443e-02 -1.85465589e-02]\n",
            "  [-8.23565573e-03 -1.50855668e-02 -3.85836251e-02 -4.94332202e-02]\n",
            "  [-1.66001171e-03 -4.51539271e-02  1.21897459e-03  3.28315981e-02]\n",
            "  [-4.90096211e-02 -1.46414042e-02 -2.43225228e-02  6.18209690e-03]\n",
            "  [ 4.59895767e-02 -4.09086794e-03 -1.19309314e-02  3.29973958e-02]\n",
            "  [ 1.19276270e-02  6.21885061e-03 -2.95862909e-02  1.25063770e-02]\n",
            "  [ 1.65736787e-02  5.36998361e-03  4.58167084e-02 -4.77315299e-02]\n",
            "  [ 4.77157943e-02 -3.25023010e-03 -2.84056310e-02  3.10286544e-02]\n",
            "  [-4.37567495e-02 -2.47599967e-02 -3.79700065e-02  2.90567763e-02]\n",
            "  [ 1.00890547e-03 -2.36298926e-02  3.60940769e-03  2.40474455e-02]\n",
            "  [-1.63499266e-03 -4.08996940e-02  2.57282294e-02 -2.00344920e-02]\n",
            "  [ 1.43973120e-02  4.80297320e-02 -2.78534647e-02  4.65240814e-02]\n",
            "  [-1.72464848e-02  4.35038693e-02 -3.10788304e-03  2.92319544e-02]\n",
            "  [-5.73033094e-03 -1.92502271e-02 -7.52141327e-03 -1.26333944e-02]\n",
            "  [ 1.64281242e-02 -3.53510603e-02  3.69608738e-02  3.39576490e-02]\n",
            "  [ 1.10694394e-02 -3.91074419e-02  2.77882330e-02  2.25236528e-02]\n",
            "  [-4.20978777e-02 -1.27947107e-02  2.63543241e-02  1.12866536e-02]\n",
            "  [-4.15166616e-02 -3.43895443e-02  1.37607716e-02  1.95417888e-02]\n",
            "  [-5.05442545e-03 -4.11010608e-02  1.07506029e-02 -2.45468020e-02]\n",
            "  [-4.28444035e-02  2.97285579e-02 -4.75091338e-02 -1.67203061e-02]\n",
            "  [ 2.80305408e-02 -2.56651174e-02 -4.05975431e-03 -3.96294817e-02]\n",
            "  [-1.85257681e-02  1.09303370e-02 -3.74460705e-02  4.74352501e-02]\n",
            "  [-7.25244358e-03  3.24437506e-02 -2.43386626e-02  3.11323442e-02]\n",
            "  [-3.32688242e-02  1.52258761e-02 -3.29185277e-04  2.27831341e-02]\n",
            "  [ 1.03860274e-02 -3.36072668e-02  2.39776261e-02  2.85992771e-03]\n",
            "  [-4.25850265e-02 -3.21730264e-02 -5.59725612e-03  3.81174572e-02]\n",
            "  [-4.88369353e-02  1.42592229e-02  4.35160883e-02 -1.64310709e-02]\n",
            "  [-3.38513404e-02  3.07785980e-02  4.97125052e-02  9.86455753e-03]\n",
            "  [-9.70357656e-03  2.30911635e-02 -2.83356197e-02  3.58780734e-02]\n",
            "  [-4.58490849e-03  3.07104103e-02  7.58484751e-03  1.81282684e-03]\n",
            "  [ 1.96103938e-02 -2.12776195e-02  2.54386105e-02  4.64134850e-02]\n",
            "  [ 7.66921043e-03  4.73372974e-02 -4.15356532e-02  1.89992525e-02]\n",
            "  [ 2.27269195e-02  1.26742013e-02 -4.88241091e-02  1.22709647e-02]\n",
            "  [ 4.26828526e-02 -2.87013892e-02  1.19924173e-02  4.53929193e-02]\n",
            "  [-1.59204490e-02  1.32650398e-02  1.87456608e-04 -4.67336774e-02]\n",
            "  [ 8.84663314e-04 -3.57470661e-03  2.76721232e-02  3.71018089e-02]\n",
            "  [-1.08837262e-02  7.67851993e-03 -2.68411878e-02  4.33392040e-02]\n",
            "  [-2.71149278e-02  8.82568210e-03 -4.85657826e-02  4.94801663e-02]\n",
            "  [-2.94206291e-03  3.50132324e-02 -2.04857476e-02 -2.58886106e-02]\n",
            "  [-4.72792238e-03 -9.86498594e-03  3.71145941e-02  1.93280689e-02]\n",
            "  [-3.73988636e-02 -3.68380174e-02 -2.40041148e-02 -2.73043271e-02]\n",
            "  [ 4.42396514e-02  2.76209749e-02 -2.85947323e-02 -4.31616195e-02]\n",
            "  [ 1.47082321e-02  7.06620142e-03 -4.52014320e-02 -2.36039646e-02]\n",
            "  [ 4.46904451e-04 -3.85154374e-02 -2.48569008e-02  3.22411992e-02]\n",
            "  [ 9.55667347e-03 -2.63625514e-02 -2.18944792e-02 -1.98730715e-02]\n",
            "  [-1.34028308e-02 -4.78169918e-02 -2.92119514e-02 -4.18888405e-03]\n",
            "  [ 3.88054363e-02 -3.80002856e-02 -1.57877430e-02 -4.38125618e-02]\n",
            "  [ 8.33798200e-04 -4.65437286e-02 -8.53359699e-03 -5.24580479e-04]\n",
            "  [-2.71056425e-02  3.99284251e-02 -3.70465517e-02 -1.12175457e-02]\n",
            "  [ 3.32516767e-02  3.08528431e-02  7.89757818e-03  1.77724250e-02]\n",
            "  [ 1.07100494e-02  1.31327547e-02 -6.29805401e-03 -8.54706764e-03]\n",
            "  [-4.69651334e-02  2.28452422e-02 -1.45833492e-02 -1.23541951e-02]\n",
            "  [ 3.30097936e-02 -2.43152305e-03 -1.59261115e-02  1.46042183e-03]\n",
            "  [-2.92950869e-03  3.18439044e-02 -3.88355963e-02 -8.61943886e-03]\n",
            "  [-1.19768754e-02 -2.02649832e-03 -2.20055934e-02  1.81035139e-02]\n",
            "  [ 4.48336862e-02  5.80879301e-03 -1.90430172e-02  1.84442848e-03]\n",
            "  [-2.80811079e-02 -2.58319508e-02  4.69717495e-02 -9.78339836e-03]\n",
            "  [ 2.48316415e-02 -1.24828443e-02 -2.38461383e-02 -4.74572778e-02]\n",
            "  [-9.16637108e-03 -3.19954157e-02 -2.05419194e-02 -2.21147537e-02]\n",
            "  [-3.16456184e-02 -2.82464977e-02  2.14793570e-02 -1.31739005e-02]\n",
            "  [ 1.27889253e-02 -2.51595266e-02 -6.12699986e-03  1.44252293e-02]\n",
            "  [ 3.66021879e-02 -1.86191685e-02 -1.65741332e-02  5.51832840e-03]\n",
            "  [ 2.02360861e-02  2.24912427e-02  8.79007578e-03  2.89572962e-02]\n",
            "  [ 2.53364556e-02  4.07585539e-02 -3.11238170e-02  1.26023218e-03]\n",
            "  [-4.83756550e-02 -2.75738239e-02  3.89329232e-02  1.30023472e-02]\n",
            "  [ 4.34832014e-02 -2.77706739e-02 -2.59146821e-02 -1.39201768e-02]\n",
            "  [-2.41935495e-02 -4.04248238e-02  3.66349556e-02 -1.01250894e-02]\n",
            "  [-5.50296158e-03 -3.04970033e-02 -3.55369560e-02  3.22588421e-02]\n",
            "  [-2.52459645e-02 -1.61381140e-02  4.02693413e-02  2.68149041e-02]\n",
            "  [-3.50953564e-02 -1.01851299e-03  8.88824463e-04  1.45712830e-02]\n",
            "  [ 4.92653586e-02 -2.42699143e-02 -3.14535871e-02  9.81937721e-03]\n",
            "  [ 1.66836046e-02  1.37843750e-02 -4.52260487e-02  1.70854069e-02]\n",
            "  [ 3.63673605e-02 -4.31155041e-03  3.13676521e-03 -1.99540388e-02]\n",
            "  [-2.81504039e-02  2.54464857e-02  5.27741760e-03 -3.76152024e-02]\n",
            "  [-1.39833316e-02  2.74404921e-02 -5.84781170e-04  2.24702992e-02]\n",
            "  [ 3.78819220e-02 -3.59113105e-02  4.03456949e-02 -2.58423816e-02]\n",
            "  [-1.97283514e-02 -4.25957143e-04 -8.68177414e-03 -1.48858875e-03]\n",
            "  [ 4.04959433e-02 -1.90388039e-03 -4.15886752e-02 -4.20815870e-03]\n",
            "  [-2.27730274e-02 -9.06441361e-03 -2.10762378e-02  3.84248793e-04]\n",
            "  [ 7.24816322e-03 -1.91653017e-02  4.57510091e-02  2.91478373e-02]\n",
            "  [-1.15330108e-02 -4.49798219e-02 -2.48890761e-02 -3.19190174e-02]\n",
            "  [ 2.42435820e-02  7.70457834e-03  1.99902058e-03  6.36036322e-03]\n",
            "  [ 7.85714388e-03  8.85410234e-03  3.88937630e-02 -6.24758005e-03]\n",
            "  [ 3.36722396e-02  4.58471216e-02  2.38076933e-02 -6.84775412e-04]\n",
            "  [-2.15932019e-02  4.49690707e-02 -4.05634046e-02 -1.72876120e-02]\n",
            "  [-1.22532248e-02 -2.86459811e-02  4.16491181e-03 -4.03558239e-02]\n",
            "  [-2.37755068e-02 -3.27174738e-03 -3.77891660e-02 -1.14376321e-02]\n",
            "  [ 1.91128366e-02 -2.53677368e-03  3.30633633e-02 -2.94661280e-02]\n",
            "  [-2.41270065e-02  1.52660273e-02 -4.83625904e-02 -1.13648064e-02]\n",
            "  [ 2.69939639e-02  2.21871473e-02 -4.82695960e-02 -4.87910397e-02]\n",
            "  [-1.64620578e-05 -3.27078328e-02  3.04397978e-02 -3.99602875e-02]\n",
            "  [ 2.82144211e-02  3.50329168e-02  1.75156929e-02  3.70254405e-02]\n",
            "  [-1.37871988e-02 -3.24066877e-02 -3.90211940e-02  2.53011324e-02]\n",
            "  [ 3.69630717e-02 -3.09724696e-02 -2.76102778e-02 -4.31162827e-02]\n",
            "  [ 1.86719187e-02 -3.36426720e-02  1.40785314e-02 -1.00794919e-02]\n",
            "  [ 3.96450199e-02  4.52978350e-02 -1.20075569e-02 -2.01625954e-02]\n",
            "  [-1.04703903e-02 -4.21607867e-02 -4.83759530e-02 -3.79009247e-02]\n",
            "  [ 1.05693825e-02  2.93004774e-02  1.62164234e-02  1.86231174e-02]\n",
            "  [ 3.34136747e-02  9.19730589e-03  3.75580229e-02 -2.42954027e-02]\n",
            "  [-4.94635962e-02  1.53514631e-02 -2.93278582e-02  4.10189070e-02]\n",
            "  [ 3.53236832e-02 -2.61107441e-02 -1.05673447e-02 -4.12416346e-02]\n",
            "  [ 4.07603644e-02  2.08641328e-02 -3.25594321e-02 -2.31206305e-02]\n",
            "  [ 1.92313306e-02 -2.82361154e-02  1.65837444e-02  4.31496538e-02]\n",
            "  [-3.87081504e-02  1.36968233e-02  2.77504213e-02  7.91532919e-03]\n",
            "  [ 2.18975879e-02 -2.33437419e-02  3.94146517e-03 -1.56832114e-02]\n",
            "  [-3.58535424e-02 -3.84383276e-03  3.35768946e-02 -2.71100402e-02]]], shape=(1, 196, 4), dtype=float32)\n",
            "(1, 196, 4)\n"
          ]
        },
        {
          "output_type": "error",
          "ename": "ValueError",
          "evalue": "ignored",
          "traceback": [
            "\u001b[0;31m---------------------------------------------------------------------------\u001b[0m",
            "\u001b[0;31mValueError\u001b[0m                                Traceback (most recent call last)",
            "\u001b[0;32m<ipython-input-6-f05354e65666>\u001b[0m in \u001b[0;36m<cell line: 4>\u001b[0;34m()\u001b[0m\n\u001b[1;32m      2\u001b[0m     \u001b[0mN_HEADS\u001b[0m \u001b[0;34m=\u001b[0m \u001b[0;36m4\u001b[0m\u001b[0;34m,\u001b[0m \u001b[0mHIDDEN_SIZE\u001b[0m \u001b[0;34m=\u001b[0m \u001b[0;36m4\u001b[0m\u001b[0;34m,\u001b[0m \u001b[0mN_PATCHES\u001b[0m \u001b[0;34m=\u001b[0m \u001b[0;36m196\u001b[0m\u001b[0;34m,\u001b[0m\u001b[0;34m\u001b[0m\u001b[0;34m\u001b[0m\u001b[0m\n\u001b[1;32m      3\u001b[0m     N_LAYERS = 2, N_DENSE_UNITS = 128)\n\u001b[0;32m----> 4\u001b[0;31m \u001b[0mvit\u001b[0m\u001b[0;34m(\u001b[0m\u001b[0mtf\u001b[0m\u001b[0;34m.\u001b[0m\u001b[0mzeros\u001b[0m\u001b[0;34m(\u001b[0m\u001b[0;34m[\u001b[0m\u001b[0;36m1\u001b[0m\u001b[0;34m,\u001b[0m\u001b[0;36m28\u001b[0m\u001b[0;34m,\u001b[0m\u001b[0;36m28\u001b[0m\u001b[0;34m,\u001b[0m\u001b[0;36m1\u001b[0m\u001b[0;34m]\u001b[0m\u001b[0;34m)\u001b[0m\u001b[0;34m)\u001b[0m\u001b[0;34m\u001b[0m\u001b[0;34m\u001b[0m\u001b[0m\n\u001b[0m",
            "\u001b[0;32m/usr/local/lib/python3.10/dist-packages/keras/utils/traceback_utils.py\u001b[0m in \u001b[0;36merror_handler\u001b[0;34m(*args, **kwargs)\u001b[0m\n\u001b[1;32m     68\u001b[0m             \u001b[0;31m# To get the full stack trace, call:\u001b[0m\u001b[0;34m\u001b[0m\u001b[0;34m\u001b[0m\u001b[0m\n\u001b[1;32m     69\u001b[0m             \u001b[0;31m# `tf.debugging.disable_traceback_filtering()`\u001b[0m\u001b[0;34m\u001b[0m\u001b[0;34m\u001b[0m\u001b[0m\n\u001b[0;32m---> 70\u001b[0;31m             \u001b[0;32mraise\u001b[0m \u001b[0me\u001b[0m\u001b[0;34m.\u001b[0m\u001b[0mwith_traceback\u001b[0m\u001b[0;34m(\u001b[0m\u001b[0mfiltered_tb\u001b[0m\u001b[0;34m)\u001b[0m \u001b[0;32mfrom\u001b[0m \u001b[0;32mNone\u001b[0m\u001b[0;34m\u001b[0m\u001b[0;34m\u001b[0m\u001b[0m\n\u001b[0m\u001b[1;32m     71\u001b[0m         \u001b[0;32mfinally\u001b[0m\u001b[0;34m:\u001b[0m\u001b[0;34m\u001b[0m\u001b[0;34m\u001b[0m\u001b[0m\n\u001b[1;32m     72\u001b[0m             \u001b[0;32mdel\u001b[0m \u001b[0mfiltered_tb\u001b[0m\u001b[0;34m\u001b[0m\u001b[0;34m\u001b[0m\u001b[0m\n",
            "\u001b[0;32m<ipython-input-5-b14b84c0736e>\u001b[0m in \u001b[0;36mcall\u001b[0;34m(self, input)\u001b[0m\n\u001b[1;32m     18\u001b[0m     \u001b[0;31m# iterating over no. of layers to make each transformer have the value generated by patch_encoder\u001b[0m\u001b[0;34m\u001b[0m\u001b[0;34m\u001b[0m\u001b[0m\n\u001b[1;32m     19\u001b[0m     \u001b[0;32mfor\u001b[0m \u001b[0mi\u001b[0m \u001b[0;32min\u001b[0m \u001b[0mrange\u001b[0m\u001b[0;34m(\u001b[0m\u001b[0mself\u001b[0m\u001b[0;34m.\u001b[0m\u001b[0mn_layers\u001b[0m\u001b[0;34m)\u001b[0m\u001b[0;34m:\u001b[0m\u001b[0;34m\u001b[0m\u001b[0;34m\u001b[0m\u001b[0m\n\u001b[0;32m---> 20\u001b[0;31m       \u001b[0mx\u001b[0m\u001b[0;34m=\u001b[0m \u001b[0mself\u001b[0m\u001b[0;34m.\u001b[0m\u001b[0mtrans_encoder\u001b[0m\u001b[0;34m[\u001b[0m\u001b[0mi\u001b[0m\u001b[0;34m]\u001b[0m\u001b[0;34m(\u001b[0m\u001b[0mx\u001b[0m\u001b[0;34m)\u001b[0m\u001b[0;34m\u001b[0m\u001b[0;34m\u001b[0m\u001b[0m\n\u001b[0m\u001b[1;32m     21\u001b[0m     \u001b[0mx\u001b[0m\u001b[0;34m=\u001b[0m\u001b[0mFlatten\u001b[0m\u001b[0;34m(\u001b[0m\u001b[0;34m)\u001b[0m\u001b[0;34m(\u001b[0m\u001b[0mx\u001b[0m\u001b[0;34m)\u001b[0m\u001b[0;34m\u001b[0m\u001b[0;34m\u001b[0m\u001b[0m\n\u001b[1;32m     22\u001b[0m     \u001b[0mx\u001b[0m \u001b[0;34m=\u001b[0m \u001b[0mself\u001b[0m\u001b[0;34m.\u001b[0m\u001b[0mdense1\u001b[0m\u001b[0;34m(\u001b[0m\u001b[0mx\u001b[0m\u001b[0;34m)\u001b[0m\u001b[0;34m\u001b[0m\u001b[0;34m\u001b[0m\u001b[0m\n",
            "\u001b[0;32m<ipython-input-4-36a8371fd049>\u001b[0m in \u001b[0;36mcall\u001b[0;34m(self, input)\u001b[0m\n\u001b[1;32m     10\u001b[0m \u001b[0;34m\u001b[0m\u001b[0m\n\u001b[1;32m     11\u001b[0m   \u001b[0;32mdef\u001b[0m \u001b[0mcall\u001b[0m\u001b[0;34m(\u001b[0m\u001b[0mself\u001b[0m\u001b[0;34m,\u001b[0m \u001b[0minput\u001b[0m\u001b[0;34m)\u001b[0m\u001b[0;34m:\u001b[0m\u001b[0;34m\u001b[0m\u001b[0;34m\u001b[0m\u001b[0m\n\u001b[0;32m---> 12\u001b[0;31m     \u001b[0mx\u001b[0m \u001b[0;34m=\u001b[0m \u001b[0mself\u001b[0m\u001b[0;34m.\u001b[0m\u001b[0mnorm1\u001b[0m\u001b[0;34m(\u001b[0m\u001b[0minput\u001b[0m\u001b[0;34m)\u001b[0m\u001b[0;34m\u001b[0m\u001b[0;34m\u001b[0m\u001b[0m\n\u001b[0m\u001b[1;32m     13\u001b[0m     \u001b[0mx\u001b[0m \u001b[0;34m=\u001b[0m \u001b[0mself\u001b[0m\u001b[0;34m.\u001b[0m\u001b[0mmulti_head\u001b[0m\u001b[0;34m(\u001b[0m\u001b[0mx\u001b[0m\u001b[0;34m,\u001b[0m \u001b[0mx\u001b[0m\u001b[0;34m)\u001b[0m\u001b[0;34m\u001b[0m\u001b[0;34m\u001b[0m\u001b[0m\n\u001b[1;32m     14\u001b[0m     \u001b[0;31m# Add layer takes\u001b[0m\u001b[0;34m\u001b[0m\u001b[0;34m\u001b[0m\u001b[0m\n",
            "\u001b[0;31mValueError\u001b[0m: Exception encountered when calling layer 'transformer' (type TransEncoder).\n\nInput has undefined rank. Received: input_shape=<unknown>\n\nCall arguments received by layer 'transformer' (type TransEncoder):\n  • input=None"
          ]
        }
      ]
    },
    {
      "cell_type": "markdown",
      "source": [
        "# RESNET\n",
        "\n",
        "---\n",
        "> We use the batching, pixalating and mapping to resize or rescale from prev models\n",
        "> We've made a residual block class having 2 conv_layer 1 having 1 stride and 1 having 2 strides as we've in our model(from daigram) which we use in combination with class of ResNet having 1,3,4,6,3 conv architecture\n",
        ">> In the below diagram we see that at starting we've , 1 conv_1 with 2 strides and 7 kernel_size then a MaxPool of pool_size (3,3) and strides =2 then  6 conv_2 then 8 conv_3 then 12 conv_4 and finally 6 conv_4 ending with MaxAvgPool, and finally a FC layer\n"
      ],
      "metadata": {
        "id": "IH10fC1T2yeL"
      }
    },
    {
      "cell_type": "markdown",
      "source": [
        "![image_2023-08-28_225100071.png](data:image/png;base64,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)\n",
        "![Screenshot 2023-07-24 193007.png](data:image/png;base64,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)"
      ],
      "metadata": {
        "id": "nM98auSmKbAU"
      }
    },
    {
      "cell_type": "code",
      "source": [
        "# here will make custom layer just to make the mean and variance learned during the each dataset rather then using one which is learned during the training\n",
        "\n",
        "class CustomConv2D(Layer):\n",
        "  def __init__(self, n_filters,kernel_size, n_strides, activation,padding ):\n",
        "    super(CustomConv2D, self).__init__()\n",
        "    self.conv2D = Conv2D(\n",
        "        filters = n_filters,\n",
        "        kernel_size = kernel_size,\n",
        "        strides = n_strides,\n",
        "        activation = activation,\n",
        "        padding = padding\n",
        "    )\n",
        "    self.batch_norm = BatchNormalization()\n",
        "\n",
        "  def call(self, input, training=True):\n",
        "    x=self.conv2D(input)\n",
        "    x=self.batch_norm(x, training)\n",
        "    output = x\n",
        "    return output\n"
      ],
      "metadata": {
        "id": "KMg1azdBzCEH"
      },
      "execution_count": null,
      "outputs": []
    },
    {
      "cell_type": "code",
      "source": [
        "class ResidualBlock(Model):\n",
        "  def __init__(self, n_filters, n_strides =1):\n",
        "    super(ResidualBlock, self).__init__()\n",
        "    self.strides_grtr_1 =  (n_strides != 1)\n",
        "    # this we create for the first layer of the channel having strides == 2\n",
        "    self.conv1 = CustomConv2D(n_filters, 3, n_strides, \"relu\", \"same\")\n",
        "    # this we create for the rest layers of a block having same number of channels as the first layers\n",
        "    self.conv2 =  CustomConv2D(n_filters, 3, 1, \"relu\", \"same\")\n",
        "    # importing activation from Activation\n",
        "    self.activation = Activation(\"relu\")\n",
        "\n",
        "    if(self.strides_grtr_1):\n",
        "      # this is turn is required in case of extracting more features with less computation (in ex of copy we've seen that 5x5 filters gives 25 cost and 3x3 18 )\n",
        "      self.conv_1x1 = CustomConv2D(n_filters, 1, n_strides, \"relu\", \"same\")\n",
        "\n",
        "\n",
        "\n",
        "  def call(self, input , training):\n",
        "    x=  self.conv1(input, training)\n",
        "    x=  self.conv2(x, training)\n",
        "\n",
        "    if self.strides_grtr_1 :\n",
        "      x_add = self.conv_1x1(input, training)\n",
        "\n",
        "      x_add = Add()([x, x_add])\n",
        "    else:\n",
        "      x_add = Add()([x, input])\n",
        "\n",
        "    return self.activation(x_add)"
      ],
      "metadata": {
        "id": "N5E5lrzi4YHE"
      },
      "execution_count": null,
      "outputs": []
    },
    {
      "cell_type": "code",
      "source": [
        "class ResNet(Model):\n",
        "  def __init__(self):\n",
        "    super(ResNet , self).__init__()\n",
        "    self.conv_1 = CustomConv2D(64, 7, 2 , padding=\"same\", activation=\"relu\")\n",
        "    self.max_pool = MaxPool2D(pool_size =(3,3), strides = 2)\n",
        "\n",
        "    self.conv2_1 = ResidualBlock(64)\n",
        "    self.conv2_2 = ResidualBlock(64)\n",
        "    self.conv2_3 = ResidualBlock(64)\n",
        "\n",
        "\n",
        "    self.conv3_1 = ResidualBlock(128, 2)\n",
        "    self.conv3_2 = ResidualBlock(128)\n",
        "    self.conv3_3 = ResidualBlock(128)\n",
        "    self.conv3_4 = ResidualBlock(128)\n",
        "\n",
        "    self.conv4_1 = ResidualBlock(256, 2)\n",
        "    self.conv4_2 = ResidualBlock(256)\n",
        "    self.conv4_3 = ResidualBlock(256)\n",
        "    self.conv4_4 = ResidualBlock(256)\n",
        "    self.conv4_5 = ResidualBlock(256)\n",
        "    self.conv4_6 = ResidualBlock(256)\n",
        "\n",
        "\n",
        "    self.conv5_1 = ResidualBlock(512, 2)\n",
        "    self.conv5_2 = ResidualBlock(512)\n",
        "    self.conv5_3 = ResidualBlock(512)\n",
        "\n",
        "    self.global_pool = GlobalAvgPool2D()\n",
        "    self.fully_connected = Dense(10, activation=\"softmax\")\n",
        "\n",
        "  def call(self, x, training=True):\n",
        "    x=self.conv_1(x)\n",
        "    x=self.max_pool(x)\n",
        "\n",
        "    x=self.conv2_1(x, training)\n",
        "    x=self.conv2_2(x, training)\n",
        "    x=self.conv2_3(x, training)\n",
        "\n",
        "    x=self.conv3_1(x, training)\n",
        "    x=self.conv3_2(x, training)\n",
        "    x=self.conv3_3(x, training)\n",
        "    x=self.conv3_4(x, training)\n",
        "\n",
        "    x=self.conv4_1(x, training)\n",
        "    x=self.conv4_2(x, training)\n",
        "    x=self.conv4_3(x, training)\n",
        "    x=self.conv4_4(x, training)\n",
        "    x=self.conv4_5(x, training)\n",
        "    x=self.conv4_6(x, training)\n",
        "\n",
        "    x=self.conv5_1(x, training)\n",
        "    x=self.conv5_2(x, training)\n",
        "    x=self.conv5_3(x, training)\n",
        "\n",
        "    x=self.global_pool(x)\n",
        "    return self.fully_connected(x)\n"
      ],
      "metadata": {
        "id": "UyAt5wwvIX6F"
      },
      "execution_count": null,
      "outputs": []
    },
    {
      "cell_type": "code",
      "source": [
        "resnet = ResNet()\n",
        "resnet(tf.zeros([1, 28,28,1]), training=False)\n",
        "resnet.summary()"
      ],
      "metadata": {
        "colab": {
          "base_uri": "https://localhost:8080/"
        },
        "id": "8PfS4GOH4X3n",
        "outputId": "cc9825dc-9968-4126-f491-62affa519556"
      },
      "execution_count": null,
      "outputs": [
        {
          "output_type": "stream",
          "name": "stdout",
          "text": [
            "Model: \"res_net_10\"\n",
            "_________________________________________________________________\n",
            " Layer (type)                Output Shape              Param #   \n",
            "=================================================================\n",
            " custom_conv2d_211 (CustomCo  multiple                 3456      \n",
            " nv2D)                                                           \n",
            "                                                                 \n",
            " max_pooling2d_9 (MaxPooling  multiple                 0         \n",
            " 2D)                                                             \n",
            "                                                                 \n",
            " residual_block_20 (Residual  multiple                 74368     \n",
            " Block)                                                          \n",
            "                                                                 \n",
            " residual_block_21 (Residual  multiple                 74368     \n",
            " Block)                                                          \n",
            "                                                                 \n",
            " residual_block_22 (Residual  multiple                 74368     \n",
            " Block)                                                          \n",
            "                                                                 \n",
            " residual_block_23 (Residual  multiple                 231296    \n",
            " Block)                                                          \n",
            "                                                                 \n",
            " residual_block_24 (Residual  multiple                 296192    \n",
            " Block)                                                          \n",
            "                                                                 \n",
            " residual_block_25 (Residual  multiple                 296192    \n",
            " Block)                                                          \n",
            "                                                                 \n",
            " residual_block_26 (Residual  multiple                 296192    \n",
            " Block)                                                          \n",
            "                                                                 \n",
            " residual_block_27 (Residual  multiple                 921344    \n",
            " Block)                                                          \n",
            "                                                                 \n",
            " residual_block_28 (Residual  multiple                 1182208   \n",
            " Block)                                                          \n",
            "                                                                 \n",
            " residual_block_29 (Residual  multiple                 1182208   \n",
            " Block)                                                          \n",
            "                                                                 \n",
            " residual_block_30 (Residual  multiple                 1182208   \n",
            " Block)                                                          \n",
            "                                                                 \n",
            " residual_block_31 (Residual  multiple                 1182208   \n",
            " Block)                                                          \n",
            "                                                                 \n",
            " residual_block_32 (Residual  multiple                 1182208   \n",
            " Block)                                                          \n",
            "                                                                 \n",
            " residual_block_33 (Residual  multiple                 3677696   \n",
            " Block)                                                          \n",
            "                                                                 \n",
            " residual_block_34 (Residual  multiple                 4723712   \n",
            " Block)                                                          \n",
            "                                                                 \n",
            " residual_block_35 (Residual  multiple                 4723712   \n",
            " Block)                                                          \n",
            "                                                                 \n",
            " global_average_pooling2d_6   multiple                 0         \n",
            " (GlobalAveragePooling2D)                                        \n",
            "                                                                 \n",
            " dense_6 (Dense)             multiple                  5130      \n",
            "                                                                 \n",
            "=================================================================\n",
            "Total params: 21,309,066\n",
            "Trainable params: 21,292,042\n",
            "Non-trainable params: 17,024\n",
            "_________________________________________________________________\n"
          ]
        }
      ]
    },
    {
      "cell_type": "markdown",
      "source": [
        "# Transfer Learning\n",
        "\n",
        "---\n",
        "> The concept of using a pretrained_model to learn the new dataset defined by our model based on the previous results of the highly parameterized model\n",
        ">> Although we are using previously defined model but we are not training our dataset on that model , for that we do fine_tuning  where we set our backbone.trainable = True"
      ],
      "metadata": {
        "id": "8pljdBWndX8P"
      }
    },
    {
      "cell_type": "markdown",
      "source": [
        "## EfficientNet\n",
        "\n",
        "---\n",
        "> In backbone we have to have the size of image having 3 channels plus the resolution must be greater than (32,32)\n",
        ">>In our case the image size is (28,28,1), hence we've changed the resolution"
      ],
      "metadata": {
        "id": "tA9IxQuEZxNE"
      }
    },
    {
      "cell_type": "code",
      "source": [
        "backbone = tf.keras.applications.efficientnet.EfficientNetB4(\n",
        "    include_top = False,\n",
        "    weights=\"imagenet\",\n",
        "    input_shape= (256,256,3)\n",
        ")"
      ],
      "metadata": {
        "id": "KByOFl9jZ3tr"
      },
      "execution_count": null,
      "outputs": []
    },
    {
      "cell_type": "code",
      "source": [
        "backbone.trainable =False"
      ],
      "metadata": {
        "id": "4bx5E2HyadpD"
      },
      "execution_count": null,
      "outputs": []
    },
    {
      "cell_type": "code",
      "source": [
        "efficientnet_model = tf.keras.Sequential([\n",
        "    Input(shape=(256,256,3)),\n",
        "    backbone,\n",
        "    GlobalAveragePooling2D(),\n",
        "    Dense(64, activation=\"relu\"),\n",
        "    BatchNormalization(),\n",
        "    Dense(128, activation=\"relu\"),\n",
        "    Dense(10, activation=\"softmax\"),\n",
        "])"
      ],
      "metadata": {
        "id": "ek4OeIJ9adiP"
      },
      "execution_count": null,
      "outputs": []
    },
    {
      "cell_type": "code",
      "source": [
        "efficientnet_model.summary()"
      ],
      "metadata": {
        "colab": {
          "base_uri": "https://localhost:8080/"
        },
        "id": "fYIL7ZaBcwiJ",
        "outputId": "50b13caa-720e-47e5-f4b2-b0221a5aefe7"
      },
      "execution_count": null,
      "outputs": [
        {
          "output_type": "stream",
          "name": "stdout",
          "text": [
            "Model: \"sequential_4\"\n",
            "_________________________________________________________________\n",
            " Layer (type)                Output Shape              Param #   \n",
            "=================================================================\n",
            " efficientnetb4 (Functional)  (None, 8, 8, 1792)       17673823  \n",
            "                                                                 \n",
            " global_average_pooling2d_4   (None, 1792)             0         \n",
            " (GlobalAveragePooling2D)                                        \n",
            "                                                                 \n",
            " dense_12 (Dense)            (None, 64)                114752    \n",
            "                                                                 \n",
            " batch_normalization_4 (Batc  (None, 64)               256       \n",
            " hNormalization)                                                 \n",
            "                                                                 \n",
            " dense_13 (Dense)            (None, 128)               8320      \n",
            "                                                                 \n",
            " dense_14 (Dense)            (None, 10)                1290      \n",
            "                                                                 \n",
            "=================================================================\n",
            "Total params: 17,798,441\n",
            "Trainable params: 124,490\n",
            "Non-trainable params: 17,673,951\n",
            "_________________________________________________________________\n"
          ]
        }
      ]
    },
    {
      "cell_type": "markdown",
      "source": [
        "## MobileNet\n",
        "\n",
        "---\n",
        "\n"
      ],
      "metadata": {
        "id": "iSoyZI48d1Ci"
      }
    },
    {
      "cell_type": "code",
      "source": [
        "backbone = tf.keras.applications.mobilenet_v2.MobileNetV2(\n",
        "    include_top = False,\n",
        "    weights = \"imagenet\",\n",
        "    input_shape = (224, 224, 3),\n",
        ")"
      ],
      "metadata": {
        "id": "SHW2JHgMc2Yc"
      },
      "execution_count": null,
      "outputs": []
    },
    {
      "cell_type": "code",
      "source": [
        "pretrained_model = tf.keras.Sequential([\n",
        "    Input(shape = (256, 256,3)),\n",
        "    backbone,\n",
        "    GlobalAveragePooling2D(),\n",
        "    Dense( 64, activation = \"relu\"),\n",
        "    BatchNormalization(),\n",
        "    Dense( 128, activation = \"relu\"),\n",
        "    Dense( 10, activation = \"softmax\"),\n",
        "\n",
        "    ])\n",
        "pretrained_model.summary()"
      ],
      "metadata": {
        "colab": {
          "base_uri": "https://localhost:8080/"
        },
        "id": "IhsZVZp-c4Bo",
        "outputId": "9322bc31-7fca-4a0f-fc6a-734bdd692cf9"
      },
      "execution_count": null,
      "outputs": [
        {
          "output_type": "stream",
          "name": "stdout",
          "text": [
            "Model: \"sequential_5\"\n",
            "_________________________________________________________________\n",
            " Layer (type)                Output Shape              Param #   \n",
            "=================================================================\n",
            " mobilenetv2_1.00_224 (Funct  (None, 7, 7, 1280)       2257984   \n",
            " ional)                                                          \n",
            "                                                                 \n",
            " global_average_pooling2d_5   (None, 1280)             0         \n",
            " (GlobalAveragePooling2D)                                        \n",
            "                                                                 \n",
            " dense_15 (Dense)            (None, 64)                81984     \n",
            "                                                                 \n",
            " batch_normalization_5 (Batc  (None, 64)               256       \n",
            " hNormalization)                                                 \n",
            "                                                                 \n",
            " dense_16 (Dense)            (None, 128)               8320      \n",
            "                                                                 \n",
            " dense_17 (Dense)            (None, 10)                1290      \n",
            "                                                                 \n",
            "=================================================================\n",
            "Total params: 2,349,834\n",
            "Trainable params: 2,315,594\n",
            "Non-trainable params: 34,240\n",
            "_________________________________________________________________\n"
          ]
        }
      ]
    },
    {
      "cell_type": "markdown",
      "source": [
        "## Fine Tuning EfficientNet\n",
        "\n",
        "---\n",
        "\n"
      ],
      "metadata": {
        "id": "oKWdwhwVeobF"
      }
    },
    {
      "cell_type": "code",
      "source": [
        "backbone.trainable = True"
      ],
      "metadata": {
        "id": "tR0Rjolver-9"
      },
      "execution_count": null,
      "outputs": []
    },
    {
      "cell_type": "code",
      "source": [
        "input = Input(shape = (256, 256,3) )\n",
        "\n",
        "x = backbone(input, training = False)\n",
        "x = GlobalAveragePooling2D()(x)\n",
        "x = Dense(64, activation = \"relu\")(x)\n",
        "x = BatchNormalization()(x)\n",
        "x = Dense(128, activation = \"relu\")(x)\n",
        "output = Dense(1, activation = \"softmax\")(x)\n",
        "finetuned_model = Model(input, output)"
      ],
      "metadata": {
        "id": "IAahblpcevZu"
      },
      "execution_count": null,
      "outputs": []
    },
    {
      "cell_type": "code",
      "source": [
        "finetuned_model.summary()"
      ],
      "metadata": {
        "colab": {
          "base_uri": "https://localhost:8080/"
        },
        "id": "T9xVdywmfQNB",
        "outputId": "5a9c2373-628a-4002-d955-c3857218ee06"
      },
      "execution_count": null,
      "outputs": [
        {
          "output_type": "stream",
          "name": "stdout",
          "text": [
            "Model: \"model_1\"\n",
            "_________________________________________________________________\n",
            " Layer (type)                Output Shape              Param #   \n",
            "=================================================================\n",
            " input_14 (InputLayer)       [(None, 256, 256, 3)]     0         \n",
            "                                                                 \n",
            " mobilenetv2_1.00_224 (Funct  (None, 7, 7, 1280)       2257984   \n",
            " ional)                                                          \n",
            "                                                                 \n",
            " global_average_pooling2d_7   (None, 1280)             0         \n",
            " (GlobalAveragePooling2D)                                        \n",
            "                                                                 \n",
            " dense_21 (Dense)            (None, 64)                81984     \n",
            "                                                                 \n",
            " batch_normalization_7 (Batc  (None, 64)               256       \n",
            " hNormalization)                                                 \n",
            "                                                                 \n",
            " dense_22 (Dense)            (None, 128)               8320      \n",
            "                                                                 \n",
            " dense_23 (Dense)            (None, 1)                 129       \n",
            "                                                                 \n",
            "=================================================================\n",
            "Total params: 2,348,673\n",
            "Trainable params: 2,314,433\n",
            "Non-trainable params: 34,240\n",
            "_________________________________________________________________\n"
          ]
        }
      ]
    },
    {
      "cell_type": "code",
      "source": [
        "def pixalating(image, label):\n",
        "  print(type(image))\n"
      ],
      "metadata": {
        "id": "al8pDAS6gJIp"
      },
      "execution_count": null,
      "outputs": []
    },
    {
      "cell_type": "code",
      "source": [],
      "metadata": {
        "id": "7qCGV73KhPOd"
      },
      "execution_count": null,
      "outputs": []
    }
  ]
}